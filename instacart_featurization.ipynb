{
 "cells": [
  {
   "cell_type": "markdown",
   "metadata": {
    "id": "G3eXYSqLZAav"
   },
   "source": [
    "Import Libraries"
   ]
  },
  {
   "cell_type": "code",
   "execution_count": 1,
   "metadata": {
    "id": "0GPo7MtkYeq9"
   },
   "outputs": [],
   "source": [
    "import pandas as pd\n",
    "import numpy as np\n",
    "from scipy.sparse import csr_matrix\n",
    "import seaborn as sns\n",
    "import matplotlib.pyplot as plt\n",
    "import pickle\n",
    "from scipy import stats\n",
    "import gensim\n",
    "from sklearn.decomposition import PCA"
   ]
  },
  {
   "cell_type": "code",
   "execution_count": 2,
   "metadata": {
    "id": "njPOWWzTY-PT"
   },
   "outputs": [],
   "source": [
    "# references URL : https://www.kaggle.com/rinnqd/reduce-memory-usage\n",
    "def reduce_mem_usage(df, verbose=True):\n",
    "    numerics = ['int16', 'int32', 'int64', 'float16', 'float32', 'float64']\n",
    "    start_mem = df.memory_usage().sum() / 1024**2\n",
    "    for col in df.columns:\n",
    "        col_type = df[col].dtypes\n",
    "        if col_type in numerics:\n",
    "            c_min = df[col].min()\n",
    "            c_max = df[col].max()\n",
    "            if str(col_type)[:3] == 'int':\n",
    "                if c_min > np.iinfo(np.int8).min and c_max < np.iinfo(np.int8).max:\n",
    "                    df[col] = df[col].astype(np.int8)\n",
    "                elif c_min > np.iinfo(np.int16).min and c_max < np.iinfo(np.int16).max:\n",
    "                    df[col] = df[col].astype(np.int16)\n",
    "                elif c_min > np.iinfo(np.int32).min and c_max < np.iinfo(np.int32).max:\n",
    "                    df[col] = df[col].astype(np.int32)\n",
    "                elif c_min > np.iinfo(np.int64).min and c_max < np.iinfo(np.int64).max:\n",
    "                    df[col] = df[col].astype(np.int64)\n",
    "            else:\n",
    "                if c_min > np.finfo(np.float16).min and c_max < np.finfo(np.float16).max:\n",
    "                    df[col] = df[col].astype(np.float16)\n",
    "                elif c_min > np.finfo(np.float32).min and c_max < np.finfo(np.float32).max:\n",
    "                    df[col] = df[col].astype(np.float32)\n",
    "                else:\n",
    "                    df[col] = df[col].astype(np.float64)\n",
    "\n",
    "    end_mem = df.memory_usage().sum() / 1024**2\n",
    "    print('Memory usage after optimization is: {:.2f} MB'.format(end_mem))\n",
    "    print('Decreased by {:.1f}%'.format(100 * (start_mem - end_mem) / start_mem))\n",
    "\n",
    "    return df"
   ]
  },
  {
   "cell_type": "code",
   "execution_count": null,
   "metadata": {
    "id": "3DJyfKbM1SOw"
   },
   "outputs": [],
   "source": [
    "#!pip install -U spacy==1.9.0"
   ]
  },
  {
   "cell_type": "code",
   "execution_count": null,
   "metadata": {
    "colab": {
     "base_uri": "https://localhost:8080/"
    },
    "id": "nYk5NuDW1Kep",
    "outputId": "77e182c2-8440-4e91-d6ea-dee58b0deeb7"
   },
   "outputs": [
    {
     "name": "stdout",
     "output_type": "stream",
     "text": [
      "\n",
      "    Downloading en_vectors_glove_md-1.0.0/en_vectors_glove_md-1.0.0.tar.gz\n",
      "\n",
      "Collecting https://github.com/explosion/spacy-models/releases/download/en_vectors_glove_md-1.0.0/en_vectors_glove_md-1.0.0.tar.gz\n",
      "  Downloading https://github.com/explosion/spacy-models/releases/download/en_vectors_glove_md-1.0.0/en_vectors_glove_md-1.0.0.tar.gz (762.3MB)\n",
      "\u001b[K    100% |████████████████████████████████| 762.3MB 84.8MB/s \n",
      "\u001b[?25h  Requirement already satisfied (use --upgrade to upgrade): en-vectors-glove-md==1.0.0 from https://github.com/explosion/spacy-models/releases/download/en_vectors_glove_md-1.0.0/en_vectors_glove_md-1.0.0.tar.gz in /usr/local/lib/python3.6/dist-packages\n",
      "Requirement already satisfied: spacy<2.0.0,>=0.101.0 in /usr/local/lib/python3.6/dist-packages (from en-vectors-glove-md==1.0.0)\n",
      "Requirement already satisfied: requests<3.0.0,>=2.13.0 in /usr/local/lib/python3.6/dist-packages (from spacy<2.0.0,>=0.101.0->en-vectors-glove-md==1.0.0)\n",
      "Requirement already satisfied: regex<2017.12.1,>=2017.4.1 in /usr/local/lib/python3.6/dist-packages (from spacy<2.0.0,>=0.101.0->en-vectors-glove-md==1.0.0)\n",
      "Requirement already satisfied: thinc<6.6.0,>=6.5.0 in /usr/local/lib/python3.6/dist-packages (from spacy<2.0.0,>=0.101.0->en-vectors-glove-md==1.0.0)\n",
      "Requirement already satisfied: six in /usr/local/lib/python3.6/dist-packages (from spacy<2.0.0,>=0.101.0->en-vectors-glove-md==1.0.0)\n",
      "Requirement already satisfied: pip<10.0.0,>=9.0.0 in /usr/local/lib/python3.6/dist-packages (from spacy<2.0.0,>=0.101.0->en-vectors-glove-md==1.0.0)\n",
      "Requirement already satisfied: preshed<2.0.0,>=1.0.0 in /usr/local/lib/python3.6/dist-packages (from spacy<2.0.0,>=0.101.0->en-vectors-glove-md==1.0.0)\n",
      "Requirement already satisfied: numpy>=1.7 in /usr/local/lib/python3.6/dist-packages (from spacy<2.0.0,>=0.101.0->en-vectors-glove-md==1.0.0)\n",
      "Requirement already satisfied: murmurhash<0.27,>=0.26 in /usr/local/lib/python3.6/dist-packages (from spacy<2.0.0,>=0.101.0->en-vectors-glove-md==1.0.0)\n",
      "Requirement already satisfied: cymem<1.32,>=1.30 in /usr/local/lib/python3.6/dist-packages (from spacy<2.0.0,>=0.101.0->en-vectors-glove-md==1.0.0)\n",
      "Requirement already satisfied: pathlib in /usr/local/lib/python3.6/dist-packages (from spacy<2.0.0,>=0.101.0->en-vectors-glove-md==1.0.0)\n",
      "Requirement already satisfied: ftfy<5.0.0,>=4.4.2 in /usr/local/lib/python3.6/dist-packages (from spacy<2.0.0,>=0.101.0->en-vectors-glove-md==1.0.0)\n",
      "Requirement already satisfied: ujson>=1.35 in /usr/local/lib/python3.6/dist-packages (from spacy<2.0.0,>=0.101.0->en-vectors-glove-md==1.0.0)\n",
      "Requirement already satisfied: plac<1.0.0,>=0.9.6 in /usr/local/lib/python3.6/dist-packages (from spacy<2.0.0,>=0.101.0->en-vectors-glove-md==1.0.0)\n",
      "Requirement already satisfied: dill<0.3,>=0.2 in /usr/local/lib/python3.6/dist-packages (from spacy<2.0.0,>=0.101.0->en-vectors-glove-md==1.0.0)\n",
      "Requirement already satisfied: certifi>=2017.4.17 in /usr/local/lib/python3.6/dist-packages (from requests<3.0.0,>=2.13.0->spacy<2.0.0,>=0.101.0->en-vectors-glove-md==1.0.0)\n",
      "Requirement already satisfied: idna<3,>=2.5 in /usr/local/lib/python3.6/dist-packages (from requests<3.0.0,>=2.13.0->spacy<2.0.0,>=0.101.0->en-vectors-glove-md==1.0.0)\n",
      "Requirement already satisfied: chardet<4,>=3.0.2 in /usr/local/lib/python3.6/dist-packages (from requests<3.0.0,>=2.13.0->spacy<2.0.0,>=0.101.0->en-vectors-glove-md==1.0.0)\n",
      "Requirement already satisfied: urllib3!=1.25.0,!=1.25.1,<1.26,>=1.21.1 in /usr/local/lib/python3.6/dist-packages (from requests<3.0.0,>=2.13.0->spacy<2.0.0,>=0.101.0->en-vectors-glove-md==1.0.0)\n",
      "Requirement already satisfied: tqdm<5.0.0,>=4.10.0 in /usr/local/lib/python3.6/dist-packages (from thinc<6.6.0,>=6.5.0->spacy<2.0.0,>=0.101.0->en-vectors-glove-md==1.0.0)\n",
      "Requirement already satisfied: cytoolz<0.9,>=0.8 in /usr/local/lib/python3.6/dist-packages (from thinc<6.6.0,>=6.5.0->spacy<2.0.0,>=0.101.0->en-vectors-glove-md==1.0.0)\n",
      "Requirement already satisfied: wrapt in /usr/local/lib/python3.6/dist-packages (from thinc<6.6.0,>=6.5.0->spacy<2.0.0,>=0.101.0->en-vectors-glove-md==1.0.0)\n",
      "Requirement already satisfied: termcolor in /usr/local/lib/python3.6/dist-packages (from thinc<6.6.0,>=6.5.0->spacy<2.0.0,>=0.101.0->en-vectors-glove-md==1.0.0)\n",
      "Requirement already satisfied: wcwidth in /usr/local/lib/python3.6/dist-packages (from ftfy<5.0.0,>=4.4.2->spacy<2.0.0,>=0.101.0->en-vectors-glove-md==1.0.0)\n",
      "Requirement already satisfied: html5lib in /usr/local/lib/python3.6/dist-packages (from ftfy<5.0.0,>=4.4.2->spacy<2.0.0,>=0.101.0->en-vectors-glove-md==1.0.0)\n",
      "Requirement already satisfied: toolz>=0.8.0 in /usr/local/lib/python3.6/dist-packages (from cytoolz<0.9,>=0.8->thinc<6.6.0,>=6.5.0->spacy<2.0.0,>=0.101.0->en-vectors-glove-md==1.0.0)\n",
      "Requirement already satisfied: webencodings in /usr/local/lib/python3.6/dist-packages (from html5lib->ftfy<5.0.0,>=4.4.2->spacy<2.0.0,>=0.101.0->en-vectors-glove-md==1.0.0)\n",
      "\n",
      "\u001b[93m    Linking successful\u001b[0m\n",
      "\n",
      "    /usr/local/lib/python3.6/dist-packages/en_vectors_glove_md/en_vectors_glove_md-1.0.0\n",
      "    -->\n",
      "    /usr/local/lib/python3.6/dist-packages/spacy/data/en_vectors_glove_md\n",
      "\n",
      "    You can now load the model via spacy.load('en_vectors_glove_md').\n",
      "\n"
     ]
    }
   ],
   "source": [
    "!python -m spacy download en_vectors_glove_md"
   ]
  },
  {
   "cell_type": "markdown",
   "metadata": {
    "id": "VRonCKmGaccE"
   },
   "source": [
    "READING CSV FILE"
   ]
  },
  {
   "cell_type": "code",
   "execution_count": 5,
   "metadata": {
    "id": "ElU_X23aZF9Q"
   },
   "outputs": [],
   "source": [
    "order_products_prior_data = pd.read_csv(\"/content/drive/MyDrive/instcart/six file/order_products__prior.csv\")\n",
    "order_products_train_data = pd.read_csv(\"/content/drive/MyDrive/instcart/six file/order_products__train.csv\")\n",
    "orders_data= pd.read_csv(\"/content/drive/MyDrive/instcart/six file/orders.csv\")"
   ]
  },
  {
   "cell_type": "code",
   "execution_count": null,
   "metadata": {
    "id": "a59n3JutfWs_"
   },
   "outputs": [],
   "source": [
    "product_data = pd.read_csv(\"/content/drive/MyDrive/instcart/six file/products.csv\")\n",
    "aisles_data= pd.read_csv(\"/content/drive/MyDrive/instcart/six file/aisles.csv\")\n",
    "departments_data=pd.read_csv(\"/content/drive/MyDrive/instcart/six file/departments.csv\")"
   ]
  },
  {
   "cell_type": "markdown",
   "metadata": {
    "id": "o_SvAU9-ayZ5"
   },
   "source": [
    "MERGE  DATA"
   ]
  },
  {
   "cell_type": "code",
   "execution_count": null,
   "metadata": {
    "colab": {
     "base_uri": "https://localhost:8080/",
     "height": 361
    },
    "id": "UtRBO-lyaxG_",
    "outputId": "ea3ca1ce-e0c4-4956-eb94-7baffa2520c6"
   },
   "outputs": [
    {
     "data": {
      "text/html": [
       "<div>\n",
       "<style scoped>\n",
       "    .dataframe tbody tr th:only-of-type {\n",
       "        vertical-align: middle;\n",
       "    }\n",
       "\n",
       "    .dataframe tbody tr th {\n",
       "        vertical-align: top;\n",
       "    }\n",
       "\n",
       "    .dataframe thead th {\n",
       "        text-align: right;\n",
       "    }\n",
       "</style>\n",
       "<table border=\"1\" class=\"dataframe\">\n",
       "  <thead>\n",
       "    <tr style=\"text-align: right;\">\n",
       "      <th></th>\n",
       "      <th>order_id</th>\n",
       "      <th>user_id</th>\n",
       "      <th>eval_set</th>\n",
       "      <th>order_number</th>\n",
       "      <th>order_dow</th>\n",
       "      <th>order_hour_of_day</th>\n",
       "      <th>days_since_prior_order</th>\n",
       "      <th>product_id</th>\n",
       "      <th>add_to_cart_order</th>\n",
       "      <th>reordered</th>\n",
       "      <th>product_name</th>\n",
       "      <th>aisle_id</th>\n",
       "      <th>department_id</th>\n",
       "      <th>aisle</th>\n",
       "    </tr>\n",
       "  </thead>\n",
       "  <tbody>\n",
       "    <tr>\n",
       "      <th>0</th>\n",
       "      <td>2539329</td>\n",
       "      <td>1</td>\n",
       "      <td>prior</td>\n",
       "      <td>1</td>\n",
       "      <td>2</td>\n",
       "      <td>8</td>\n",
       "      <td>NaN</td>\n",
       "      <td>196</td>\n",
       "      <td>1</td>\n",
       "      <td>0</td>\n",
       "      <td>Soda</td>\n",
       "      <td>77</td>\n",
       "      <td>7</td>\n",
       "      <td>soft drinks</td>\n",
       "    </tr>\n",
       "    <tr>\n",
       "      <th>1</th>\n",
       "      <td>2539329</td>\n",
       "      <td>1</td>\n",
       "      <td>prior</td>\n",
       "      <td>1</td>\n",
       "      <td>2</td>\n",
       "      <td>8</td>\n",
       "      <td>NaN</td>\n",
       "      <td>14084</td>\n",
       "      <td>2</td>\n",
       "      <td>0</td>\n",
       "      <td>Organic Unsweetened Vanilla Almond Milk</td>\n",
       "      <td>91</td>\n",
       "      <td>16</td>\n",
       "      <td>soy lactosefree</td>\n",
       "    </tr>\n",
       "    <tr>\n",
       "      <th>2</th>\n",
       "      <td>2539329</td>\n",
       "      <td>1</td>\n",
       "      <td>prior</td>\n",
       "      <td>1</td>\n",
       "      <td>2</td>\n",
       "      <td>8</td>\n",
       "      <td>NaN</td>\n",
       "      <td>12427</td>\n",
       "      <td>3</td>\n",
       "      <td>0</td>\n",
       "      <td>Original Beef Jerky</td>\n",
       "      <td>23</td>\n",
       "      <td>19</td>\n",
       "      <td>popcorn jerky</td>\n",
       "    </tr>\n",
       "    <tr>\n",
       "      <th>3</th>\n",
       "      <td>2539329</td>\n",
       "      <td>1</td>\n",
       "      <td>prior</td>\n",
       "      <td>1</td>\n",
       "      <td>2</td>\n",
       "      <td>8</td>\n",
       "      <td>NaN</td>\n",
       "      <td>26088</td>\n",
       "      <td>4</td>\n",
       "      <td>0</td>\n",
       "      <td>Aged White Cheddar Popcorn</td>\n",
       "      <td>23</td>\n",
       "      <td>19</td>\n",
       "      <td>popcorn jerky</td>\n",
       "    </tr>\n",
       "    <tr>\n",
       "      <th>4</th>\n",
       "      <td>2539329</td>\n",
       "      <td>1</td>\n",
       "      <td>prior</td>\n",
       "      <td>1</td>\n",
       "      <td>2</td>\n",
       "      <td>8</td>\n",
       "      <td>NaN</td>\n",
       "      <td>26405</td>\n",
       "      <td>5</td>\n",
       "      <td>0</td>\n",
       "      <td>XL Pick-A-Size Paper Towel Rolls</td>\n",
       "      <td>54</td>\n",
       "      <td>17</td>\n",
       "      <td>paper goods</td>\n",
       "    </tr>\n",
       "  </tbody>\n",
       "</table>\n",
       "</div>"
      ],
      "text/plain": [
       "   order_id  user_id eval_set  ...  aisle_id  department_id            aisle\n",
       "0   2539329        1    prior  ...        77              7      soft drinks\n",
       "1   2539329        1    prior  ...        91             16  soy lactosefree\n",
       "2   2539329        1    prior  ...        23             19    popcorn jerky\n",
       "3   2539329        1    prior  ...        23             19    popcorn jerky\n",
       "4   2539329        1    prior  ...        54             17      paper goods\n",
       "\n",
       "[5 rows x 14 columns]"
      ]
     },
     "execution_count": 7,
     "metadata": {
      "tags": []
     },
     "output_type": "execute_result"
    }
   ],
   "source": [
    "prior_data= orders_data.merge(order_products_prior_data, on='order_id', how='inner').merge(product_data,on='product_id',how='left').merge(aisles_data,on='aisle_id',how='left')\n",
    "prior_data.head()"
   ]
  },
  {
   "cell_type": "code",
   "execution_count": null,
   "metadata": {
    "colab": {
     "base_uri": "https://localhost:8080/"
    },
    "id": "jyw-VZVQgidz",
    "outputId": "ac59f8ec-f3da-4513-9111-21773f5fb63c"
   },
   "outputs": [
    {
     "name": "stdout",
     "output_type": "stream",
     "text": [
      "Memory usage after optimization is: 1701.26 MB\n",
      "Decreased by 54.2%\n"
     ]
    }
   ],
   "source": [
    "prior_data=reduce_mem_usage(prior_data)"
   ]
  },
  {
   "cell_type": "markdown",
   "metadata": {
    "id": "nNyTJCT2bMyD"
   },
   "source": [
    "# CREATE FEATURES FOR USERS"
   ]
  },
  {
   "cell_type": "markdown",
   "metadata": {
    "id": "HaOgOpRibOwj"
   },
   "source": [
    "->TOTAL NUMBER OF ORDER GIVEN BY EACH USER:\n",
    "\n",
    "As we saw in eda user's give orders between 4 to 100 .So , if there is high number of order than user reordered many products."
   ]
  },
  {
   "cell_type": "code",
   "execution_count": null,
   "metadata": {
    "colab": {
     "base_uri": "https://localhost:8080/",
     "height": 219
    },
    "id": "oLyMnILmbEvH",
    "outputId": "62ddb5d4-4529-4331-fe97-fd73eeb9a58c"
   },
   "outputs": [
    {
     "name": "stdout",
     "output_type": "stream",
     "text": [
      "(206209, 2)\n"
     ]
    },
    {
     "data": {
      "text/html": [
       "<div>\n",
       "<style scoped>\n",
       "    .dataframe tbody tr th:only-of-type {\n",
       "        vertical-align: middle;\n",
       "    }\n",
       "\n",
       "    .dataframe tbody tr th {\n",
       "        vertical-align: top;\n",
       "    }\n",
       "\n",
       "    .dataframe thead th {\n",
       "        text-align: right;\n",
       "    }\n",
       "</style>\n",
       "<table border=\"1\" class=\"dataframe\">\n",
       "  <thead>\n",
       "    <tr style=\"text-align: right;\">\n",
       "      <th></th>\n",
       "      <th>user_id</th>\n",
       "      <th>total_no_of_order_by_user</th>\n",
       "    </tr>\n",
       "  </thead>\n",
       "  <tbody>\n",
       "    <tr>\n",
       "      <th>0</th>\n",
       "      <td>1</td>\n",
       "      <td>10</td>\n",
       "    </tr>\n",
       "    <tr>\n",
       "      <th>1</th>\n",
       "      <td>2</td>\n",
       "      <td>14</td>\n",
       "    </tr>\n",
       "    <tr>\n",
       "      <th>2</th>\n",
       "      <td>3</td>\n",
       "      <td>12</td>\n",
       "    </tr>\n",
       "    <tr>\n",
       "      <th>3</th>\n",
       "      <td>4</td>\n",
       "      <td>5</td>\n",
       "    </tr>\n",
       "    <tr>\n",
       "      <th>4</th>\n",
       "      <td>5</td>\n",
       "      <td>4</td>\n",
       "    </tr>\n",
       "  </tbody>\n",
       "</table>\n",
       "</div>"
      ],
      "text/plain": [
       "   user_id  total_no_of_order_by_user\n",
       "0        1                         10\n",
       "1        2                         14\n",
       "2        3                         12\n",
       "3        4                          5\n",
       "4        5                          4"
      ]
     },
     "execution_count": 9,
     "metadata": {
      "tags": []
     },
     "output_type": "execute_result"
    }
   ],
   "source": [
    "total_no_of_order_by_user=prior_data.groupby(by='user_id')['order_number'].max().to_frame('total_no_of_order_by_user').reset_index()\n",
    "print(total_no_of_order_by_user.shape)\n",
    "total_no_of_order_by_user.head()"
   ]
  },
  {
   "cell_type": "markdown",
   "metadata": {
    "id": "a3vxelRabm5x"
   },
   "source": [
    "->TOTAL NUMBER OF PRODUCTS PURCHASED BY EACH USER:\n",
    "\n",
    "If user total number of purchased products are high than there is high probability of reordered of products."
   ]
  },
  {
   "cell_type": "code",
   "execution_count": null,
   "metadata": {
    "colab": {
     "base_uri": "https://localhost:8080/",
     "height": 202
    },
    "id": "UODn1uBhbELf",
    "outputId": "a580e477-9586-49a7-8d30-3edb3130cf62"
   },
   "outputs": [
    {
     "data": {
      "text/html": [
       "<div>\n",
       "<style scoped>\n",
       "    .dataframe tbody tr th:only-of-type {\n",
       "        vertical-align: middle;\n",
       "    }\n",
       "\n",
       "    .dataframe tbody tr th {\n",
       "        vertical-align: top;\n",
       "    }\n",
       "\n",
       "    .dataframe thead th {\n",
       "        text-align: right;\n",
       "    }\n",
       "</style>\n",
       "<table border=\"1\" class=\"dataframe\">\n",
       "  <thead>\n",
       "    <tr style=\"text-align: right;\">\n",
       "      <th></th>\n",
       "      <th>user_id</th>\n",
       "      <th>total_no_of_items</th>\n",
       "    </tr>\n",
       "  </thead>\n",
       "  <tbody>\n",
       "    <tr>\n",
       "      <th>0</th>\n",
       "      <td>1</td>\n",
       "      <td>59</td>\n",
       "    </tr>\n",
       "    <tr>\n",
       "      <th>1</th>\n",
       "      <td>2</td>\n",
       "      <td>195</td>\n",
       "    </tr>\n",
       "    <tr>\n",
       "      <th>2</th>\n",
       "      <td>3</td>\n",
       "      <td>88</td>\n",
       "    </tr>\n",
       "    <tr>\n",
       "      <th>3</th>\n",
       "      <td>4</td>\n",
       "      <td>18</td>\n",
       "    </tr>\n",
       "    <tr>\n",
       "      <th>4</th>\n",
       "      <td>5</td>\n",
       "      <td>37</td>\n",
       "    </tr>\n",
       "  </tbody>\n",
       "</table>\n",
       "</div>"
      ],
      "text/plain": [
       "   user_id  total_no_of_items\n",
       "0        1                 59\n",
       "1        2                195\n",
       "2        3                 88\n",
       "3        4                 18\n",
       "4        5                 37"
      ]
     },
     "execution_count": 11,
     "metadata": {
      "tags": []
     },
     "output_type": "execute_result"
    }
   ],
   "source": [
    "total_no_of_items = prior_data.groupby(by=\"user_id\")[\"product_id\"].count().to_frame(\"total_no_of_items\").reset_index()\n",
    "total_no_of_items.head()"
   ]
  },
  {
   "cell_type": "markdown",
   "metadata": {
    "id": "8Y52bNjpcHW_"
   },
   "source": [
    "TOTAL NUMBER OF UNIQUE ITEM BY EACH USER"
   ]
  },
  {
   "cell_type": "code",
   "execution_count": null,
   "metadata": {
    "colab": {
     "base_uri": "https://localhost:8080/",
     "height": 202
    },
    "id": "sLG6XB_7cEZa",
    "outputId": "24e2e245-1e1d-4fa7-dbd9-841930ed07c4"
   },
   "outputs": [
    {
     "data": {
      "text/html": [
       "<div>\n",
       "<style scoped>\n",
       "    .dataframe tbody tr th:only-of-type {\n",
       "        vertical-align: middle;\n",
       "    }\n",
       "\n",
       "    .dataframe tbody tr th {\n",
       "        vertical-align: top;\n",
       "    }\n",
       "\n",
       "    .dataframe thead th {\n",
       "        text-align: right;\n",
       "    }\n",
       "</style>\n",
       "<table border=\"1\" class=\"dataframe\">\n",
       "  <thead>\n",
       "    <tr style=\"text-align: right;\">\n",
       "      <th></th>\n",
       "      <th>user_id</th>\n",
       "      <th>total_no_of_unique_items</th>\n",
       "    </tr>\n",
       "  </thead>\n",
       "  <tbody>\n",
       "    <tr>\n",
       "      <th>0</th>\n",
       "      <td>1</td>\n",
       "      <td>18</td>\n",
       "    </tr>\n",
       "    <tr>\n",
       "      <th>1</th>\n",
       "      <td>2</td>\n",
       "      <td>102</td>\n",
       "    </tr>\n",
       "    <tr>\n",
       "      <th>2</th>\n",
       "      <td>3</td>\n",
       "      <td>33</td>\n",
       "    </tr>\n",
       "    <tr>\n",
       "      <th>3</th>\n",
       "      <td>4</td>\n",
       "      <td>17</td>\n",
       "    </tr>\n",
       "    <tr>\n",
       "      <th>4</th>\n",
       "      <td>5</td>\n",
       "      <td>23</td>\n",
       "    </tr>\n",
       "  </tbody>\n",
       "</table>\n",
       "</div>"
      ],
      "text/plain": [
       "   user_id  total_no_of_unique_items\n",
       "0        1                        18\n",
       "1        2                       102\n",
       "2        3                        33\n",
       "3        4                        17\n",
       "4        5                        23"
      ]
     },
     "execution_count": 12,
     "metadata": {
      "tags": []
     },
     "output_type": "execute_result"
    }
   ],
   "source": [
    "total_no_of_unique_items = prior_data.groupby(by=\"user_id\")[\"product_id\"].nunique().to_frame(\"total_no_of_unique_items\").reset_index()\n",
    "total_no_of_unique_items.head()"
   ]
  },
  {
   "cell_type": "markdown",
   "metadata": {
    "id": "71IVVs79ccx6"
   },
   "source": [
    "AVERAGE PRODUCT IN ORDER BY USER"
   ]
  },
  {
   "cell_type": "code",
   "execution_count": null,
   "metadata": {
    "colab": {
     "base_uri": "https://localhost:8080/",
     "height": 202
    },
    "id": "rCMd-qNkc5yc",
    "outputId": "1333443f-8f6a-4672-d35a-f27d23330c0f"
   },
   "outputs": [
    {
     "data": {
      "text/html": [
       "<div>\n",
       "<style scoped>\n",
       "    .dataframe tbody tr th:only-of-type {\n",
       "        vertical-align: middle;\n",
       "    }\n",
       "\n",
       "    .dataframe tbody tr th {\n",
       "        vertical-align: top;\n",
       "    }\n",
       "\n",
       "    .dataframe thead th {\n",
       "        text-align: right;\n",
       "    }\n",
       "</style>\n",
       "<table border=\"1\" class=\"dataframe\">\n",
       "  <thead>\n",
       "    <tr style=\"text-align: right;\">\n",
       "      <th></th>\n",
       "      <th>user_id</th>\n",
       "      <th>total_no_of_order_by_user</th>\n",
       "      <th>total_no_of_items</th>\n",
       "      <th>avg_product_in_order_by_user</th>\n",
       "    </tr>\n",
       "  </thead>\n",
       "  <tbody>\n",
       "    <tr>\n",
       "      <th>0</th>\n",
       "      <td>1</td>\n",
       "      <td>10</td>\n",
       "      <td>59</td>\n",
       "      <td>5.900000</td>\n",
       "    </tr>\n",
       "    <tr>\n",
       "      <th>1</th>\n",
       "      <td>2</td>\n",
       "      <td>14</td>\n",
       "      <td>195</td>\n",
       "      <td>13.928571</td>\n",
       "    </tr>\n",
       "    <tr>\n",
       "      <th>2</th>\n",
       "      <td>3</td>\n",
       "      <td>12</td>\n",
       "      <td>88</td>\n",
       "      <td>7.333333</td>\n",
       "    </tr>\n",
       "    <tr>\n",
       "      <th>3</th>\n",
       "      <td>4</td>\n",
       "      <td>5</td>\n",
       "      <td>18</td>\n",
       "      <td>3.600000</td>\n",
       "    </tr>\n",
       "    <tr>\n",
       "      <th>4</th>\n",
       "      <td>5</td>\n",
       "      <td>4</td>\n",
       "      <td>37</td>\n",
       "      <td>9.250000</td>\n",
       "    </tr>\n",
       "  </tbody>\n",
       "</table>\n",
       "</div>"
      ],
      "text/plain": [
       "   user_id  ...  avg_product_in_order_by_user\n",
       "0        1  ...                      5.900000\n",
       "1        2  ...                     13.928571\n",
       "2        3  ...                      7.333333\n",
       "3        4  ...                      3.600000\n",
       "4        5  ...                      9.250000\n",
       "\n",
       "[5 rows x 4 columns]"
      ]
     },
     "execution_count": 13,
     "metadata": {
      "tags": []
     },
     "output_type": "execute_result"
    }
   ],
   "source": [
    "avg_product_in_order_by_user=pd.merge(total_no_of_order_by_user,total_no_of_items,on=\"user_id\" , how=\"left\")\n",
    "avg_product_in_order_by_user['avg_product_in_order_by_user']=avg_product_in_order_by_user['total_no_of_items']/avg_product_in_order_by_user['total_no_of_order_by_user']\n",
    "avg_product_in_order_by_user.head()"
   ]
  },
  {
   "cell_type": "code",
   "execution_count": null,
   "metadata": {
    "colab": {
     "base_uri": "https://localhost:8080/",
     "height": 202
    },
    "id": "suEFv7yWhR5Z",
    "outputId": "7a9ecc3a-2c88-46a2-afbf-3337b53f9923"
   },
   "outputs": [
    {
     "data": {
      "text/html": [
       "<div>\n",
       "<style scoped>\n",
       "    .dataframe tbody tr th:only-of-type {\n",
       "        vertical-align: middle;\n",
       "    }\n",
       "\n",
       "    .dataframe tbody tr th {\n",
       "        vertical-align: top;\n",
       "    }\n",
       "\n",
       "    .dataframe thead th {\n",
       "        text-align: right;\n",
       "    }\n",
       "</style>\n",
       "<table border=\"1\" class=\"dataframe\">\n",
       "  <thead>\n",
       "    <tr style=\"text-align: right;\">\n",
       "      <th></th>\n",
       "      <th>user_id</th>\n",
       "      <th>avg_product_in_order_by_user</th>\n",
       "    </tr>\n",
       "  </thead>\n",
       "  <tbody>\n",
       "    <tr>\n",
       "      <th>0</th>\n",
       "      <td>1</td>\n",
       "      <td>5.900000</td>\n",
       "    </tr>\n",
       "    <tr>\n",
       "      <th>1</th>\n",
       "      <td>2</td>\n",
       "      <td>13.928571</td>\n",
       "    </tr>\n",
       "    <tr>\n",
       "      <th>2</th>\n",
       "      <td>3</td>\n",
       "      <td>7.333333</td>\n",
       "    </tr>\n",
       "    <tr>\n",
       "      <th>3</th>\n",
       "      <td>4</td>\n",
       "      <td>3.600000</td>\n",
       "    </tr>\n",
       "    <tr>\n",
       "      <th>4</th>\n",
       "      <td>5</td>\n",
       "      <td>9.250000</td>\n",
       "    </tr>\n",
       "  </tbody>\n",
       "</table>\n",
       "</div>"
      ],
      "text/plain": [
       "   user_id  avg_product_in_order_by_user\n",
       "0        1                      5.900000\n",
       "1        2                     13.928571\n",
       "2        3                      7.333333\n",
       "3        4                      3.600000\n",
       "4        5                      9.250000"
      ]
     },
     "execution_count": 14,
     "metadata": {
      "tags": []
     },
     "output_type": "execute_result"
    }
   ],
   "source": [
    "avg_product_in_order_by_user.drop(['total_no_of_order_by_user', 'total_no_of_items'], axis=1,inplace=True)\n",
    "avg_product_in_order_by_user.head()"
   ]
  },
  {
   "cell_type": "markdown",
   "metadata": {
    "id": "wPph9-AQhZvr"
   },
   "source": [
    "NUMBER OF REORDERS BY EACH USER"
   ]
  },
  {
   "cell_type": "code",
   "execution_count": null,
   "metadata": {
    "colab": {
     "base_uri": "https://localhost:8080/",
     "height": 202
    },
    "id": "AJpbAcJFhXIt",
    "outputId": "86fb6f59-fb72-4410-a4e9-a6ca231400c1"
   },
   "outputs": [
    {
     "data": {
      "text/html": [
       "<div>\n",
       "<style scoped>\n",
       "    .dataframe tbody tr th:only-of-type {\n",
       "        vertical-align: middle;\n",
       "    }\n",
       "\n",
       "    .dataframe tbody tr th {\n",
       "        vertical-align: top;\n",
       "    }\n",
       "\n",
       "    .dataframe thead th {\n",
       "        text-align: right;\n",
       "    }\n",
       "</style>\n",
       "<table border=\"1\" class=\"dataframe\">\n",
       "  <thead>\n",
       "    <tr style=\"text-align: right;\">\n",
       "      <th></th>\n",
       "      <th>user_id</th>\n",
       "      <th>num_reorders_by_user</th>\n",
       "    </tr>\n",
       "  </thead>\n",
       "  <tbody>\n",
       "    <tr>\n",
       "      <th>0</th>\n",
       "      <td>1</td>\n",
       "      <td>41.0</td>\n",
       "    </tr>\n",
       "    <tr>\n",
       "      <th>1</th>\n",
       "      <td>2</td>\n",
       "      <td>93.0</td>\n",
       "    </tr>\n",
       "    <tr>\n",
       "      <th>2</th>\n",
       "      <td>3</td>\n",
       "      <td>55.0</td>\n",
       "    </tr>\n",
       "    <tr>\n",
       "      <th>3</th>\n",
       "      <td>4</td>\n",
       "      <td>1.0</td>\n",
       "    </tr>\n",
       "    <tr>\n",
       "      <th>4</th>\n",
       "      <td>5</td>\n",
       "      <td>14.0</td>\n",
       "    </tr>\n",
       "  </tbody>\n",
       "</table>\n",
       "</div>"
      ],
      "text/plain": [
       "   user_id  num_reorders_by_user\n",
       "0        1                  41.0\n",
       "1        2                  93.0\n",
       "2        3                  55.0\n",
       "3        4                   1.0\n",
       "4        5                  14.0"
      ]
     },
     "execution_count": 16,
     "metadata": {
      "tags": []
     },
     "output_type": "execute_result"
    }
   ],
   "source": [
    "num_reorders_by_user = prior_data.groupby(by=\"user_id\")[\"reordered\"].sum().to_frame(\"num_reorders_by_user\").reset_index()\n",
    "num_reorders_by_user.head()"
   ]
  },
  {
   "cell_type": "markdown",
   "metadata": {
    "id": "DIazpBYPhnLf"
   },
   "source": [
    "NUMBER OF REORDERED MEAN BY USER"
   ]
  },
  {
   "cell_type": "code",
   "execution_count": null,
   "metadata": {
    "colab": {
     "base_uri": "https://localhost:8080/",
     "height": 202
    },
    "id": "76nMzgWOhcY9",
    "outputId": "d8cde119-2d25-4354-e99c-c8b2be504baf"
   },
   "outputs": [
    {
     "data": {
      "text/html": [
       "<div>\n",
       "<style scoped>\n",
       "    .dataframe tbody tr th:only-of-type {\n",
       "        vertical-align: middle;\n",
       "    }\n",
       "\n",
       "    .dataframe tbody tr th {\n",
       "        vertical-align: top;\n",
       "    }\n",
       "\n",
       "    .dataframe thead th {\n",
       "        text-align: right;\n",
       "    }\n",
       "</style>\n",
       "<table border=\"1\" class=\"dataframe\">\n",
       "  <thead>\n",
       "    <tr style=\"text-align: right;\">\n",
       "      <th></th>\n",
       "      <th>user_id</th>\n",
       "      <th>reordered_mean_user</th>\n",
       "    </tr>\n",
       "  </thead>\n",
       "  <tbody>\n",
       "    <tr>\n",
       "      <th>0</th>\n",
       "      <td>1</td>\n",
       "      <td>0.694915</td>\n",
       "    </tr>\n",
       "    <tr>\n",
       "      <th>1</th>\n",
       "      <td>2</td>\n",
       "      <td>0.476923</td>\n",
       "    </tr>\n",
       "    <tr>\n",
       "      <th>2</th>\n",
       "      <td>3</td>\n",
       "      <td>0.625000</td>\n",
       "    </tr>\n",
       "    <tr>\n",
       "      <th>3</th>\n",
       "      <td>4</td>\n",
       "      <td>0.055556</td>\n",
       "    </tr>\n",
       "    <tr>\n",
       "      <th>4</th>\n",
       "      <td>5</td>\n",
       "      <td>0.378378</td>\n",
       "    </tr>\n",
       "  </tbody>\n",
       "</table>\n",
       "</div>"
      ],
      "text/plain": [
       "   user_id  reordered_mean_user\n",
       "0        1             0.694915\n",
       "1        2             0.476923\n",
       "2        3             0.625000\n",
       "3        4             0.055556\n",
       "4        5             0.378378"
      ]
     },
     "execution_count": 18,
     "metadata": {
      "tags": []
     },
     "output_type": "execute_result"
    }
   ],
   "source": [
    "reordered_mean_user = prior_data.groupby(by=\"user_id\")[\"reordered\"].mean().to_frame(\"reordered_mean_user\").reset_index()\n",
    "reordered_mean_user.head()"
   ]
  },
  {
   "cell_type": "markdown",
   "metadata": {
    "id": "FAGCvy70hyJD"
   },
   "source": [
    "->MEAN OF USER DAY OF WEEK:\n",
    "\n",
    "As we saw in eda there are more orders on day 0 and 1 and also high reordered in these days."
   ]
  },
  {
   "cell_type": "code",
   "execution_count": null,
   "metadata": {
    "colab": {
     "base_uri": "https://localhost:8080/",
     "height": 202
    },
    "id": "7n2_a7X1hp3t",
    "outputId": "bd1e5400-46b1-48bd-95b7-a13e56b2f0b5"
   },
   "outputs": [
    {
     "data": {
      "text/html": [
       "<div>\n",
       "<style scoped>\n",
       "    .dataframe tbody tr th:only-of-type {\n",
       "        vertical-align: middle;\n",
       "    }\n",
       "\n",
       "    .dataframe tbody tr th {\n",
       "        vertical-align: top;\n",
       "    }\n",
       "\n",
       "    .dataframe thead th {\n",
       "        text-align: right;\n",
       "    }\n",
       "</style>\n",
       "<table border=\"1\" class=\"dataframe\">\n",
       "  <thead>\n",
       "    <tr style=\"text-align: right;\">\n",
       "      <th></th>\n",
       "      <th>user_id</th>\n",
       "      <th>user_dow_mean</th>\n",
       "    </tr>\n",
       "  </thead>\n",
       "  <tbody>\n",
       "    <tr>\n",
       "      <th>0</th>\n",
       "      <td>1</td>\n",
       "      <td>2.644068</td>\n",
       "    </tr>\n",
       "    <tr>\n",
       "      <th>1</th>\n",
       "      <td>2</td>\n",
       "      <td>2.005128</td>\n",
       "    </tr>\n",
       "    <tr>\n",
       "      <th>2</th>\n",
       "      <td>3</td>\n",
       "      <td>1.011364</td>\n",
       "    </tr>\n",
       "    <tr>\n",
       "      <th>3</th>\n",
       "      <td>4</td>\n",
       "      <td>4.722222</td>\n",
       "    </tr>\n",
       "    <tr>\n",
       "      <th>4</th>\n",
       "      <td>5</td>\n",
       "      <td>1.621622</td>\n",
       "    </tr>\n",
       "  </tbody>\n",
       "</table>\n",
       "</div>"
      ],
      "text/plain": [
       "   user_id  user_dow_mean\n",
       "0        1       2.644068\n",
       "1        2       2.005128\n",
       "2        3       1.011364\n",
       "3        4       4.722222\n",
       "4        5       1.621622"
      ]
     },
     "execution_count": 19,
     "metadata": {
      "tags": []
     },
     "output_type": "execute_result"
    }
   ],
   "source": [
    "user_dow_mean = prior_data.groupby(by=\"user_id\")[\"order_dow\"].mean().to_frame(\"user_dow_mean\").reset_index()\n",
    "user_dow_mean.head()"
   ]
  },
  {
   "cell_type": "markdown",
   "metadata": {
    "id": "1rp4cEouiAw1"
   },
   "source": [
    "MEAN OF USER HOUR OF DAY:\n",
    "\n",
    "As we saw in EDA user's purchased most orders between 8 to 18 hours and also reordered in these hours."
   ]
  },
  {
   "cell_type": "code",
   "execution_count": null,
   "metadata": {
    "colab": {
     "base_uri": "https://localhost:8080/",
     "height": 202
    },
    "id": "Qo-_PI_rh1NG",
    "outputId": "ab915e0d-2c83-414f-bd3f-17ac6741fa76"
   },
   "outputs": [
    {
     "data": {
      "text/html": [
       "<div>\n",
       "<style scoped>\n",
       "    .dataframe tbody tr th:only-of-type {\n",
       "        vertical-align: middle;\n",
       "    }\n",
       "\n",
       "    .dataframe tbody tr th {\n",
       "        vertical-align: top;\n",
       "    }\n",
       "\n",
       "    .dataframe thead th {\n",
       "        text-align: right;\n",
       "    }\n",
       "</style>\n",
       "<table border=\"1\" class=\"dataframe\">\n",
       "  <thead>\n",
       "    <tr style=\"text-align: right;\">\n",
       "      <th></th>\n",
       "      <th>user_id</th>\n",
       "      <th>user_hod_mean</th>\n",
       "    </tr>\n",
       "  </thead>\n",
       "  <tbody>\n",
       "    <tr>\n",
       "      <th>0</th>\n",
       "      <td>1</td>\n",
       "      <td>10.542373</td>\n",
       "    </tr>\n",
       "    <tr>\n",
       "      <th>1</th>\n",
       "      <td>2</td>\n",
       "      <td>10.441026</td>\n",
       "    </tr>\n",
       "    <tr>\n",
       "      <th>2</th>\n",
       "      <td>3</td>\n",
       "      <td>16.352273</td>\n",
       "    </tr>\n",
       "    <tr>\n",
       "      <th>3</th>\n",
       "      <td>4</td>\n",
       "      <td>13.111111</td>\n",
       "    </tr>\n",
       "    <tr>\n",
       "      <th>4</th>\n",
       "      <td>5</td>\n",
       "      <td>15.729730</td>\n",
       "    </tr>\n",
       "  </tbody>\n",
       "</table>\n",
       "</div>"
      ],
      "text/plain": [
       "   user_id  user_hod_mean\n",
       "0        1      10.542373\n",
       "1        2      10.441026\n",
       "2        3      16.352273\n",
       "3        4      13.111111\n",
       "4        5      15.729730"
      ]
     },
     "execution_count": 20,
     "metadata": {
      "tags": []
     },
     "output_type": "execute_result"
    }
   ],
   "source": [
    "user_hod_mean = prior_data.groupby(by=\"user_id\")[\"order_hour_of_day\"].mean().to_frame(\"user_hod_mean\").reset_index()\n",
    "user_hod_mean.head()"
   ]
  },
  {
   "cell_type": "markdown",
   "metadata": {
    "id": "8iEzst9ZiRsT"
   },
   "source": [
    "MEAN OF USER DAY SINCE PRIOR ORDERS:\n",
    "\n",
    "As we saw in eda user generally prefer shopping weekly and monthly basis after there last order."
   ]
  },
  {
   "cell_type": "code",
   "execution_count": null,
   "metadata": {
    "colab": {
     "base_uri": "https://localhost:8080/",
     "height": 202
    },
    "id": "acjkP7JCiFoM",
    "outputId": "a958e09e-3f49-497d-f64e-5636051e9d20"
   },
   "outputs": [
    {
     "data": {
      "text/html": [
       "<div>\n",
       "<style scoped>\n",
       "    .dataframe tbody tr th:only-of-type {\n",
       "        vertical-align: middle;\n",
       "    }\n",
       "\n",
       "    .dataframe tbody tr th {\n",
       "        vertical-align: top;\n",
       "    }\n",
       "\n",
       "    .dataframe thead th {\n",
       "        text-align: right;\n",
       "    }\n",
       "</style>\n",
       "<table border=\"1\" class=\"dataframe\">\n",
       "  <thead>\n",
       "    <tr style=\"text-align: right;\">\n",
       "      <th></th>\n",
       "      <th>user_id</th>\n",
       "      <th>user_dsp_mean</th>\n",
       "    </tr>\n",
       "  </thead>\n",
       "  <tbody>\n",
       "    <tr>\n",
       "      <th>0</th>\n",
       "      <td>1</td>\n",
       "      <td>20.265625</td>\n",
       "    </tr>\n",
       "    <tr>\n",
       "      <th>1</th>\n",
       "      <td>2</td>\n",
       "      <td>15.968750</td>\n",
       "    </tr>\n",
       "    <tr>\n",
       "      <th>2</th>\n",
       "      <td>3</td>\n",
       "      <td>11.484375</td>\n",
       "    </tr>\n",
       "    <tr>\n",
       "      <th>3</th>\n",
       "      <td>4</td>\n",
       "      <td>15.359375</td>\n",
       "    </tr>\n",
       "    <tr>\n",
       "      <th>4</th>\n",
       "      <td>5</td>\n",
       "      <td>14.500000</td>\n",
       "    </tr>\n",
       "  </tbody>\n",
       "</table>\n",
       "</div>"
      ],
      "text/plain": [
       "   user_id  user_dsp_mean\n",
       "0        1      20.265625\n",
       "1        2      15.968750\n",
       "2        3      11.484375\n",
       "3        4      15.359375\n",
       "4        5      14.500000"
      ]
     },
     "execution_count": 22,
     "metadata": {
      "tags": []
     },
     "output_type": "execute_result"
    }
   ],
   "source": [
    "user_dsp_mean = prior_data.groupby(by=\"user_id\")[\"days_since_prior_order\"].mean().to_frame(\"user_dsp_mean\").reset_index()\n",
    "user_dsp_mean.head()"
   ]
  },
  {
   "cell_type": "markdown",
   "metadata": {
    "id": "fLtFn4SxkrjD"
   },
   "source": [
    "ON WHICH DAY USER PURCHASE MAX PRODUCT"
   ]
  },
  {
   "cell_type": "code",
   "execution_count": null,
   "metadata": {
    "colab": {
     "base_uri": "https://localhost:8080/",
     "height": 202
    },
    "id": "zBK2oYUkiTft",
    "outputId": "ec37e5fd-e2e9-4a09-e3d1-98a5e6717151"
   },
   "outputs": [
    {
     "data": {
      "text/html": [
       "<div>\n",
       "<style scoped>\n",
       "    .dataframe tbody tr th:only-of-type {\n",
       "        vertical-align: middle;\n",
       "    }\n",
       "\n",
       "    .dataframe tbody tr th {\n",
       "        vertical-align: top;\n",
       "    }\n",
       "\n",
       "    .dataframe thead th {\n",
       "        text-align: right;\n",
       "    }\n",
       "</style>\n",
       "<table border=\"1\" class=\"dataframe\">\n",
       "  <thead>\n",
       "    <tr style=\"text-align: right;\">\n",
       "      <th></th>\n",
       "      <th>user_id</th>\n",
       "      <th>user_max_order_day</th>\n",
       "    </tr>\n",
       "  </thead>\n",
       "  <tbody>\n",
       "    <tr>\n",
       "      <th>0</th>\n",
       "      <td>1</td>\n",
       "      <td>4</td>\n",
       "    </tr>\n",
       "    <tr>\n",
       "      <th>1</th>\n",
       "      <td>2</td>\n",
       "      <td>2</td>\n",
       "    </tr>\n",
       "    <tr>\n",
       "      <th>2</th>\n",
       "      <td>3</td>\n",
       "      <td>0</td>\n",
       "    </tr>\n",
       "    <tr>\n",
       "      <th>3</th>\n",
       "      <td>4</td>\n",
       "      <td>4</td>\n",
       "    </tr>\n",
       "    <tr>\n",
       "      <th>4</th>\n",
       "      <td>5</td>\n",
       "      <td>3</td>\n",
       "    </tr>\n",
       "  </tbody>\n",
       "</table>\n",
       "</div>"
      ],
      "text/plain": [
       "   user_id  user_max_order_day\n",
       "0        1                   4\n",
       "1        2                   2\n",
       "2        3                   0\n",
       "3        4                   4\n",
       "4        5                   3"
      ]
     },
     "execution_count": 24,
     "metadata": {
      "tags": []
     },
     "output_type": "execute_result"
    }
   ],
   "source": [
    "user_max_order_day = prior_data.groupby(by=['user_id'])['order_dow'].aggregate(lambda x : stats.mode(x)[0]).to_frame('user_max_order_day').reset_index()\n",
    "user_max_order_day.head()"
   ]
  },
  {
   "cell_type": "markdown",
   "metadata": {
    "id": "zr7aDbv7k1mQ"
   },
   "source": [
    "ON WHICH HOUR USER PURCHASE MAX PRODUCT"
   ]
  },
  {
   "cell_type": "code",
   "execution_count": null,
   "metadata": {
    "colab": {
     "base_uri": "https://localhost:8080/",
     "height": 202
    },
    "id": "B0incoKZkvVR",
    "outputId": "fb27cbf2-01f1-4595-8e1a-4908f939792b"
   },
   "outputs": [
    {
     "data": {
      "text/html": [
       "<div>\n",
       "<style scoped>\n",
       "    .dataframe tbody tr th:only-of-type {\n",
       "        vertical-align: middle;\n",
       "    }\n",
       "\n",
       "    .dataframe tbody tr th {\n",
       "        vertical-align: top;\n",
       "    }\n",
       "\n",
       "    .dataframe thead th {\n",
       "        text-align: right;\n",
       "    }\n",
       "</style>\n",
       "<table border=\"1\" class=\"dataframe\">\n",
       "  <thead>\n",
       "    <tr style=\"text-align: right;\">\n",
       "      <th></th>\n",
       "      <th>user_id</th>\n",
       "      <th>user_max_hod</th>\n",
       "    </tr>\n",
       "  </thead>\n",
       "  <tbody>\n",
       "    <tr>\n",
       "      <th>0</th>\n",
       "      <td>1</td>\n",
       "      <td>7</td>\n",
       "    </tr>\n",
       "    <tr>\n",
       "      <th>1</th>\n",
       "      <td>2</td>\n",
       "      <td>9</td>\n",
       "    </tr>\n",
       "    <tr>\n",
       "      <th>2</th>\n",
       "      <td>3</td>\n",
       "      <td>16</td>\n",
       "    </tr>\n",
       "    <tr>\n",
       "      <th>3</th>\n",
       "      <td>4</td>\n",
       "      <td>15</td>\n",
       "    </tr>\n",
       "    <tr>\n",
       "      <th>4</th>\n",
       "      <td>5</td>\n",
       "      <td>18</td>\n",
       "    </tr>\n",
       "  </tbody>\n",
       "</table>\n",
       "</div>"
      ],
      "text/plain": [
       "   user_id  user_max_hod\n",
       "0        1             7\n",
       "1        2             9\n",
       "2        3            16\n",
       "3        4            15\n",
       "4        5            18"
      ]
     },
     "execution_count": 26,
     "metadata": {
      "tags": []
     },
     "output_type": "execute_result"
    }
   ],
   "source": [
    "user_max_hod= prior_data.groupby(by=['user_id'])['order_hour_of_day'].aggregate(lambda x : stats.mode(x)[0]).to_frame('user_max_hod').reset_index()\n",
    "user_max_hod.head()"
   ]
  },
  {
   "cell_type": "markdown",
   "metadata": {
    "id": "m6didCkqlznE"
   },
   "source": [
    "TOTAL NO OF UNIQUE AISLE BY USER"
   ]
  },
  {
   "cell_type": "code",
   "execution_count": null,
   "metadata": {
    "colab": {
     "base_uri": "https://localhost:8080/",
     "height": 202
    },
    "id": "prkN7tvwlmDG",
    "outputId": "ab014412-0175-4098-cda8-1965bf559d72"
   },
   "outputs": [
    {
     "data": {
      "text/html": [
       "<div>\n",
       "<style scoped>\n",
       "    .dataframe tbody tr th:only-of-type {\n",
       "        vertical-align: middle;\n",
       "    }\n",
       "\n",
       "    .dataframe tbody tr th {\n",
       "        vertical-align: top;\n",
       "    }\n",
       "\n",
       "    .dataframe thead th {\n",
       "        text-align: right;\n",
       "    }\n",
       "</style>\n",
       "<table border=\"1\" class=\"dataframe\">\n",
       "  <thead>\n",
       "    <tr style=\"text-align: right;\">\n",
       "      <th></th>\n",
       "      <th>user_id</th>\n",
       "      <th>total_unique_aisle_by_user</th>\n",
       "    </tr>\n",
       "  </thead>\n",
       "  <tbody>\n",
       "    <tr>\n",
       "      <th>0</th>\n",
       "      <td>1</td>\n",
       "      <td>12</td>\n",
       "    </tr>\n",
       "    <tr>\n",
       "      <th>1</th>\n",
       "      <td>2</td>\n",
       "      <td>33</td>\n",
       "    </tr>\n",
       "    <tr>\n",
       "      <th>2</th>\n",
       "      <td>3</td>\n",
       "      <td>16</td>\n",
       "    </tr>\n",
       "    <tr>\n",
       "      <th>3</th>\n",
       "      <td>4</td>\n",
       "      <td>14</td>\n",
       "    </tr>\n",
       "    <tr>\n",
       "      <th>4</th>\n",
       "      <td>5</td>\n",
       "      <td>16</td>\n",
       "    </tr>\n",
       "  </tbody>\n",
       "</table>\n",
       "</div>"
      ],
      "text/plain": [
       "   user_id  total_unique_aisle_by_user\n",
       "0        1                          12\n",
       "1        2                          33\n",
       "2        3                          16\n",
       "3        4                          14\n",
       "4        5                          16"
      ]
     },
     "execution_count": 27,
     "metadata": {
      "tags": []
     },
     "output_type": "execute_result"
    }
   ],
   "source": [
    "total_unique_aisle_by_user=prior_data.groupby(by=['user_id'])['aisle_id'].nunique().to_frame('total_unique_aisle_by_user').reset_index()\n",
    "total_unique_aisle_by_user.head()"
   ]
  },
  {
   "cell_type": "markdown",
   "metadata": {
    "id": "qpX13wqCW9D_"
   },
   "source": [
    "CONCATINATING ALL USER FEATURES"
   ]
  },
  {
   "cell_type": "code",
   "execution_count": null,
   "metadata": {
    "id": "8MpdkfK9W_IA"
   },
   "outputs": [],
   "source": [
    "user_features=[total_no_of_order_by_user,total_no_of_items,total_no_of_unique_items,\n",
    "                  avg_product_in_order_by_user,num_reorders_by_user,reordered_mean_user,\n",
    "                  user_dow_mean,user_hod_mean ,user_dsp_mean,user_max_order_day,user_max_hod,\n",
    "                  total_unique_aisle_by_user]"
   ]
  },
  {
   "cell_type": "code",
   "execution_count": null,
   "metadata": {
    "colab": {
     "base_uri": "https://localhost:8080/"
    },
    "id": "4xGF96odXWdL",
    "outputId": "3bfe35ff-856c-4f26-c6d9-06e4f31d4093"
   },
   "outputs": [
    {
     "name": "stdout",
     "output_type": "stream",
     "text": [
      "Memory usage after optimization is: 6.29 MB\n",
      "Decreased by 62.4%\n"
     ]
    }
   ],
   "source": [
    "users = pd.DataFrame()\n",
    "users[\"user_id\"] = total_no_of_items.user_id.copy()\n",
    "for f in user_features:\n",
    "    users = pd.merge(users , f , on=\"user_id\" , how=\"left\")\n",
    "users = reduce_mem_usage(users)"
   ]
  },
  {
   "cell_type": "code",
   "execution_count": null,
   "metadata": {
    "id": "wOq7_uEEXedz"
   },
   "outputs": [],
   "source": [
    "pickle.dump(users,open('/content/drive/MyDrive/instcart/DATA2/users_features','wb'))"
   ]
  },
  {
   "cell_type": "code",
   "execution_count": null,
   "metadata": {
    "id": "JkbzYocrYYW4"
   },
   "outputs": [],
   "source": [
    "del total_no_of_order_by_user,total_no_of_items,total_no_of_unique_items,avg_product_in_order_by_user,num_reorders_by_user,reordered_mean_user,user_dow_mean,user_hod_mean ,user_dsp_mean,user_max_order_day,user_max_hod,total_unique_aisle_by_user,user_features"
   ]
  },
  {
   "cell_type": "code",
   "execution_count": null,
   "metadata": {
    "colab": {
     "base_uri": "https://localhost:8080/"
    },
    "id": "VqKxn55lap-f",
    "outputId": "d76712bb-7f62-4e87-f1be-c2127d9537d4"
   },
   "outputs": [
    {
     "name": "stdout",
     "output_type": "stream",
     "text": [
      "<class 'pandas.core.frame.DataFrame'>\n",
      "Int64Index: 206209 entries, 0 to 206208\n",
      "Data columns (total 13 columns):\n",
      " #   Column                        Non-Null Count   Dtype  \n",
      "---  ------                        --------------   -----  \n",
      " 0   user_id                       206209 non-null  int32  \n",
      " 1   total_no_of_order_by_user     206209 non-null  int8   \n",
      " 2   total_no_of_items             206209 non-null  int16  \n",
      " 3   total_no_of_unique_items      206209 non-null  int16  \n",
      " 4   avg_product_in_order_by_user  206209 non-null  float16\n",
      " 5   num_reorders_by_user          206209 non-null  float16\n",
      " 6   reordered_mean_user           206209 non-null  float16\n",
      " 7   user_dow_mean                 206209 non-null  float16\n",
      " 8   user_hod_mean                 206209 non-null  float16\n",
      " 9   user_dsp_mean                 206209 non-null  float16\n",
      " 10  user_max_order_day            206209 non-null  int8   \n",
      " 11  user_max_hod                  206209 non-null  int8   \n",
      " 12  total_unique_aisle_by_user    206209 non-null  int8   \n",
      "dtypes: float16(6), int16(2), int32(1), int8(4)\n",
      "memory usage: 6.3 MB\n",
      "None\n"
     ]
    }
   ],
   "source": [
    "print(users.info())"
   ]
  },
  {
   "cell_type": "markdown",
   "metadata": {
    "id": "kvkjc54hImmT"
   },
   "source": [
    "USER DAY OF WEEK REORDER RATIO"
   ]
  },
  {
   "cell_type": "code",
   "execution_count": null,
   "metadata": {
    "colab": {
     "base_uri": "https://localhost:8080/",
     "height": 202
    },
    "id": "nqqnTDsOIrPH",
    "outputId": "e95bafc5-1915-4e15-d45e-d482e22030e1"
   },
   "outputs": [
    {
     "data": {
      "text/html": [
       "<div>\n",
       "<style scoped>\n",
       "    .dataframe tbody tr th:only-of-type {\n",
       "        vertical-align: middle;\n",
       "    }\n",
       "\n",
       "    .dataframe tbody tr th {\n",
       "        vertical-align: top;\n",
       "    }\n",
       "\n",
       "    .dataframe thead th {\n",
       "        text-align: right;\n",
       "    }\n",
       "</style>\n",
       "<table border=\"1\" class=\"dataframe\">\n",
       "  <thead>\n",
       "    <tr style=\"text-align: right;\">\n",
       "      <th></th>\n",
       "      <th>order_dow</th>\n",
       "      <th>user_id</th>\n",
       "      <th>reordered</th>\n",
       "    </tr>\n",
       "  </thead>\n",
       "  <tbody>\n",
       "    <tr>\n",
       "      <th>0</th>\n",
       "      <td>0</td>\n",
       "      <td>3</td>\n",
       "      <td>37.0</td>\n",
       "    </tr>\n",
       "    <tr>\n",
       "      <th>1</th>\n",
       "      <td>0</td>\n",
       "      <td>5</td>\n",
       "      <td>4.0</td>\n",
       "    </tr>\n",
       "    <tr>\n",
       "      <th>2</th>\n",
       "      <td>0</td>\n",
       "      <td>7</td>\n",
       "      <td>53.0</td>\n",
       "    </tr>\n",
       "    <tr>\n",
       "      <th>3</th>\n",
       "      <td>0</td>\n",
       "      <td>9</td>\n",
       "      <td>4.0</td>\n",
       "    </tr>\n",
       "    <tr>\n",
       "      <th>4</th>\n",
       "      <td>0</td>\n",
       "      <td>11</td>\n",
       "      <td>0.0</td>\n",
       "    </tr>\n",
       "  </tbody>\n",
       "</table>\n",
       "</div>"
      ],
      "text/plain": [
       "   order_dow  user_id  reordered\n",
       "0          0        3       37.0\n",
       "1          0        5        4.0\n",
       "2          0        7       53.0\n",
       "3          0        9        4.0\n",
       "4          0       11        0.0"
      ]
     },
     "execution_count": 78,
     "metadata": {
      "tags": []
     },
     "output_type": "execute_result"
    }
   ],
   "source": [
    "user_dow= prior_data.groupby(['order_dow','user_id'])['reordered'].sum().reset_index()\n",
    "user_dow.head()"
   ]
  },
  {
   "cell_type": "code",
   "execution_count": null,
   "metadata": {
    "colab": {
     "base_uri": "https://localhost:8080/",
     "height": 202
    },
    "id": "4PHp-N7sIrHF",
    "outputId": "b60f9f5e-03d6-47ef-8b31-39f8d6d2bfb5"
   },
   "outputs": [
    {
     "data": {
      "text/html": [
       "<div>\n",
       "<style scoped>\n",
       "    .dataframe tbody tr th:only-of-type {\n",
       "        vertical-align: middle;\n",
       "    }\n",
       "\n",
       "    .dataframe tbody tr th {\n",
       "        vertical-align: top;\n",
       "    }\n",
       "\n",
       "    .dataframe thead th {\n",
       "        text-align: right;\n",
       "    }\n",
       "</style>\n",
       "<table border=\"1\" class=\"dataframe\">\n",
       "  <thead>\n",
       "    <tr style=\"text-align: right;\">\n",
       "      <th></th>\n",
       "      <th>order_dow</th>\n",
       "      <th>user_id</th>\n",
       "      <th>reordered</th>\n",
       "      <th>num_reorders_by_user</th>\n",
       "      <th>user_dow_ratio</th>\n",
       "    </tr>\n",
       "  </thead>\n",
       "  <tbody>\n",
       "    <tr>\n",
       "      <th>0</th>\n",
       "      <td>0</td>\n",
       "      <td>3</td>\n",
       "      <td>37.0</td>\n",
       "      <td>55.0</td>\n",
       "      <td>0.672727</td>\n",
       "    </tr>\n",
       "    <tr>\n",
       "      <th>1</th>\n",
       "      <td>0</td>\n",
       "      <td>5</td>\n",
       "      <td>4.0</td>\n",
       "      <td>14.0</td>\n",
       "      <td>0.285714</td>\n",
       "    </tr>\n",
       "    <tr>\n",
       "      <th>2</th>\n",
       "      <td>0</td>\n",
       "      <td>7</td>\n",
       "      <td>53.0</td>\n",
       "      <td>138.0</td>\n",
       "      <td>0.384058</td>\n",
       "    </tr>\n",
       "    <tr>\n",
       "      <th>3</th>\n",
       "      <td>0</td>\n",
       "      <td>9</td>\n",
       "      <td>4.0</td>\n",
       "      <td>18.0</td>\n",
       "      <td>0.222222</td>\n",
       "    </tr>\n",
       "    <tr>\n",
       "      <th>4</th>\n",
       "      <td>0</td>\n",
       "      <td>11</td>\n",
       "      <td>0.0</td>\n",
       "      <td>33.0</td>\n",
       "      <td>0.000000</td>\n",
       "    </tr>\n",
       "  </tbody>\n",
       "</table>\n",
       "</div>"
      ],
      "text/plain": [
       "   order_dow  user_id  reordered  num_reorders_by_user  user_dow_ratio\n",
       "0          0        3       37.0                  55.0        0.672727\n",
       "1          0        5        4.0                  14.0        0.285714\n",
       "2          0        7       53.0                 138.0        0.384058\n",
       "3          0        9        4.0                  18.0        0.222222\n",
       "4          0       11        0.0                  33.0        0.000000"
      ]
     },
     "execution_count": 82,
     "metadata": {
      "tags": []
     },
     "output_type": "execute_result"
    }
   ],
   "source": [
    "user_dow= user_dow.merge(num_reorders_by_user,on='user_id',how='left')\n",
    "user_dow['user_dow_ratio'] = user_dow.reordered/user_dow.num_reorders_by_user\n",
    "user_dow.head()"
   ]
  },
  {
   "cell_type": "code",
   "execution_count": null,
   "metadata": {
    "colab": {
     "base_uri": "https://localhost:8080/",
     "height": 202
    },
    "id": "OWe0mRHCJodW",
    "outputId": "3683e3d0-aa97-4781-a48c-db00eabe4952"
   },
   "outputs": [
    {
     "data": {
      "text/html": [
       "<div>\n",
       "<style scoped>\n",
       "    .dataframe tbody tr th:only-of-type {\n",
       "        vertical-align: middle;\n",
       "    }\n",
       "\n",
       "    .dataframe tbody tr th {\n",
       "        vertical-align: top;\n",
       "    }\n",
       "\n",
       "    .dataframe thead th {\n",
       "        text-align: right;\n",
       "    }\n",
       "</style>\n",
       "<table border=\"1\" class=\"dataframe\">\n",
       "  <thead>\n",
       "    <tr style=\"text-align: right;\">\n",
       "      <th></th>\n",
       "      <th>order_dow</th>\n",
       "      <th>user_id</th>\n",
       "      <th>user_dow_ratio</th>\n",
       "    </tr>\n",
       "  </thead>\n",
       "  <tbody>\n",
       "    <tr>\n",
       "      <th>0</th>\n",
       "      <td>0</td>\n",
       "      <td>3</td>\n",
       "      <td>0.672727</td>\n",
       "    </tr>\n",
       "    <tr>\n",
       "      <th>1</th>\n",
       "      <td>0</td>\n",
       "      <td>5</td>\n",
       "      <td>0.285714</td>\n",
       "    </tr>\n",
       "    <tr>\n",
       "      <th>2</th>\n",
       "      <td>0</td>\n",
       "      <td>7</td>\n",
       "      <td>0.384058</td>\n",
       "    </tr>\n",
       "    <tr>\n",
       "      <th>3</th>\n",
       "      <td>0</td>\n",
       "      <td>9</td>\n",
       "      <td>0.222222</td>\n",
       "    </tr>\n",
       "    <tr>\n",
       "      <th>4</th>\n",
       "      <td>0</td>\n",
       "      <td>11</td>\n",
       "      <td>0.000000</td>\n",
       "    </tr>\n",
       "  </tbody>\n",
       "</table>\n",
       "</div>"
      ],
      "text/plain": [
       "   order_dow  user_id  user_dow_ratio\n",
       "0          0        3        0.672727\n",
       "1          0        5        0.285714\n",
       "2          0        7        0.384058\n",
       "3          0        9        0.222222\n",
       "4          0       11        0.000000"
      ]
     },
     "execution_count": 83,
     "metadata": {
      "tags": []
     },
     "output_type": "execute_result"
    }
   ],
   "source": [
    "user_dow = user_dow.drop(['reordered','num_reorders_by_user'],axis=1)\n",
    "user_dow.head()"
   ]
  },
  {
   "cell_type": "code",
   "execution_count": null,
   "metadata": {
    "id": "5XS2vkh8XtPA"
   },
   "outputs": [],
   "source": [
    "pickle.dump(user_dow,open('/content/drive/MyDrive/instcart/DATA2/user_dow','wb'))"
   ]
  },
  {
   "cell_type": "markdown",
   "metadata": {
    "id": "3b43dTdSm3HZ"
   },
   "source": [
    "REORDER RATIO BY DOW"
   ]
  },
  {
   "cell_type": "code",
   "execution_count": null,
   "metadata": {
    "colab": {
     "base_uri": "https://localhost:8080/",
     "height": 202
    },
    "id": "mSy8fA11mdYs",
    "outputId": "6ce49151-bdc9-428a-adb6-8aab7ed8103b"
   },
   "outputs": [
    {
     "data": {
      "text/html": [
       "<div>\n",
       "<style scoped>\n",
       "    .dataframe tbody tr th:only-of-type {\n",
       "        vertical-align: middle;\n",
       "    }\n",
       "\n",
       "    .dataframe tbody tr th {\n",
       "        vertical-align: top;\n",
       "    }\n",
       "\n",
       "    .dataframe thead th {\n",
       "        text-align: right;\n",
       "    }\n",
       "</style>\n",
       "<table border=\"1\" class=\"dataframe\">\n",
       "  <thead>\n",
       "    <tr style=\"text-align: right;\">\n",
       "      <th></th>\n",
       "      <th>order_dow</th>\n",
       "      <th>dow_reorder_ratio</th>\n",
       "    </tr>\n",
       "  </thead>\n",
       "  <tbody>\n",
       "    <tr>\n",
       "      <th>0</th>\n",
       "      <td>0</td>\n",
       "      <td>0.585276</td>\n",
       "    </tr>\n",
       "    <tr>\n",
       "      <th>1</th>\n",
       "      <td>1</td>\n",
       "      <td>0.603843</td>\n",
       "    </tr>\n",
       "    <tr>\n",
       "      <th>2</th>\n",
       "      <td>2</td>\n",
       "      <td>0.589771</td>\n",
       "    </tr>\n",
       "    <tr>\n",
       "      <th>3</th>\n",
       "      <td>3</td>\n",
       "      <td>0.586272</td>\n",
       "    </tr>\n",
       "    <tr>\n",
       "      <th>4</th>\n",
       "      <td>4</td>\n",
       "      <td>0.590979</td>\n",
       "    </tr>\n",
       "  </tbody>\n",
       "</table>\n",
       "</div>"
      ],
      "text/plain": [
       "   order_dow  dow_reorder_ratio\n",
       "0          0           0.585276\n",
       "1          1           0.603843\n",
       "2          2           0.589771\n",
       "3          3           0.586272\n",
       "4          4           0.590979"
      ]
     },
     "execution_count": 29,
     "metadata": {
      "tags": []
     },
     "output_type": "execute_result"
    }
   ],
   "source": [
    "dow_reorder_ratio=prior_data.groupby(by=['order_dow'])['reordered'].mean().to_frame('dow_reorder_ratio').reset_index()\n",
    "dow_reorder_ratio.head()"
   ]
  },
  {
   "cell_type": "code",
   "execution_count": null,
   "metadata": {
    "id": "29WB6G0eX12D"
   },
   "outputs": [],
   "source": [
    "pickle.dump(dow_reorder_ratio,open('/content/drive/MyDrive/instcart/DATA2/dow_reorder_ratio','wb'))"
   ]
  },
  {
   "cell_type": "markdown",
   "metadata": {
    "id": "nw9B8wmin8D3"
   },
   "source": [
    "HOD REORDER RATIO"
   ]
  },
  {
   "cell_type": "code",
   "execution_count": null,
   "metadata": {
    "colab": {
     "base_uri": "https://localhost:8080/",
     "height": 202
    },
    "id": "4GGOy90nnktc",
    "outputId": "a5574e8d-b736-4b42-b03b-b0a05a548988"
   },
   "outputs": [
    {
     "data": {
      "text/html": [
       "<div>\n",
       "<style scoped>\n",
       "    .dataframe tbody tr th:only-of-type {\n",
       "        vertical-align: middle;\n",
       "    }\n",
       "\n",
       "    .dataframe tbody tr th {\n",
       "        vertical-align: top;\n",
       "    }\n",
       "\n",
       "    .dataframe thead th {\n",
       "        text-align: right;\n",
       "    }\n",
       "</style>\n",
       "<table border=\"1\" class=\"dataframe\">\n",
       "  <thead>\n",
       "    <tr style=\"text-align: right;\">\n",
       "      <th></th>\n",
       "      <th>order_hour_of_day</th>\n",
       "      <th>hod_reorder_ratio</th>\n",
       "    </tr>\n",
       "  </thead>\n",
       "  <tbody>\n",
       "    <tr>\n",
       "      <th>0</th>\n",
       "      <td>0</td>\n",
       "      <td>0.565500</td>\n",
       "    </tr>\n",
       "    <tr>\n",
       "      <th>1</th>\n",
       "      <td>1</td>\n",
       "      <td>0.557114</td>\n",
       "    </tr>\n",
       "    <tr>\n",
       "      <th>2</th>\n",
       "      <td>2</td>\n",
       "      <td>0.554455</td>\n",
       "    </tr>\n",
       "    <tr>\n",
       "      <th>3</th>\n",
       "      <td>3</td>\n",
       "      <td>0.559498</td>\n",
       "    </tr>\n",
       "    <tr>\n",
       "      <th>4</th>\n",
       "      <td>4</td>\n",
       "      <td>0.571195</td>\n",
       "    </tr>\n",
       "  </tbody>\n",
       "</table>\n",
       "</div>"
      ],
      "text/plain": [
       "   order_hour_of_day  hod_reorder_ratio\n",
       "0                  0           0.565500\n",
       "1                  1           0.557114\n",
       "2                  2           0.554455\n",
       "3                  3           0.559498\n",
       "4                  4           0.571195"
      ]
     },
     "execution_count": 30,
     "metadata": {
      "tags": []
     },
     "output_type": "execute_result"
    }
   ],
   "source": [
    "hod_reorder_ratio=prior_data.groupby(by=['order_hour_of_day'])['reordered'].mean().to_frame('hod_reorder_ratio').reset_index()\n",
    "hod_reorder_ratio.head()"
   ]
  },
  {
   "cell_type": "code",
   "execution_count": null,
   "metadata": {
    "id": "ALiXkig0X9Fm"
   },
   "outputs": [],
   "source": [
    "pickle.dump(hod_reorder_ratio,open('/content/drive/MyDrive/instcart/DATA2/hod_reorder_ratio','wb'))"
   ]
  },
  {
   "cell_type": "markdown",
   "metadata": {
    "id": "ZhyQ5pF6rId0"
   },
   "source": [
    "DSP REORDER RATIO"
   ]
  },
  {
   "cell_type": "code",
   "execution_count": null,
   "metadata": {
    "id": "DK1fWRgGq6D8"
   },
   "outputs": [],
   "source": [
    "prior_data['days_since_prior_order'].fillna(0,inplace=True)"
   ]
  },
  {
   "cell_type": "code",
   "execution_count": null,
   "metadata": {
    "colab": {
     "base_uri": "https://localhost:8080/"
    },
    "id": "qfoNWqOsrP7v",
    "outputId": "1b56941f-ffbf-4952-f762-7c8ba3a282f2"
   },
   "outputs": [
    {
     "data": {
      "text/plain": [
       "order_id                  0\n",
       "user_id                   0\n",
       "eval_set                  0\n",
       "order_number              0\n",
       "order_dow                 0\n",
       "order_hour_of_day         0\n",
       "days_since_prior_order    0\n",
       "product_id                0\n",
       "add_to_cart_order         0\n",
       "reordered                 0\n",
       "product_name              0\n",
       "aisle_id                  0\n",
       "department_id             0\n",
       "aisle                     0\n",
       "dtype: int64"
      ]
     },
     "execution_count": 42,
     "metadata": {
      "tags": []
     },
     "output_type": "execute_result"
    }
   ],
   "source": [
    "prior_data.isnull().sum()"
   ]
  },
  {
   "cell_type": "code",
   "execution_count": null,
   "metadata": {
    "id": "rLUfCsCJryEI"
   },
   "outputs": [],
   "source": [
    "total_reorder=prior_data['reordered'].sum()"
   ]
  },
  {
   "cell_type": "code",
   "execution_count": null,
   "metadata": {
    "colab": {
     "base_uri": "https://localhost:8080/",
     "height": 202
    },
    "id": "fOodX9wqoO3-",
    "outputId": "57b3a2cd-ac5b-4439-f3a3-52a0c70108a9"
   },
   "outputs": [
    {
     "data": {
      "text/html": [
       "<div>\n",
       "<style scoped>\n",
       "    .dataframe tbody tr th:only-of-type {\n",
       "        vertical-align: middle;\n",
       "    }\n",
       "\n",
       "    .dataframe tbody tr th {\n",
       "        vertical-align: top;\n",
       "    }\n",
       "\n",
       "    .dataframe thead th {\n",
       "        text-align: right;\n",
       "    }\n",
       "</style>\n",
       "<table border=\"1\" class=\"dataframe\">\n",
       "  <thead>\n",
       "    <tr style=\"text-align: right;\">\n",
       "      <th></th>\n",
       "      <th>days_since_prior_order</th>\n",
       "      <th>dsp_reorder_ratio</th>\n",
       "    </tr>\n",
       "  </thead>\n",
       "  <tbody>\n",
       "    <tr>\n",
       "      <th>0</th>\n",
       "      <td>0.0</td>\n",
       "      <td>0.017331</td>\n",
       "    </tr>\n",
       "    <tr>\n",
       "      <th>1</th>\n",
       "      <td>1.0</td>\n",
       "      <td>0.030390</td>\n",
       "    </tr>\n",
       "    <tr>\n",
       "      <th>2</th>\n",
       "      <td>2.0</td>\n",
       "      <td>0.049433</td>\n",
       "    </tr>\n",
       "    <tr>\n",
       "      <th>3</th>\n",
       "      <td>3.0</td>\n",
       "      <td>0.065646</td>\n",
       "    </tr>\n",
       "    <tr>\n",
       "      <th>4</th>\n",
       "      <td>4.0</td>\n",
       "      <td>0.073704</td>\n",
       "    </tr>\n",
       "  </tbody>\n",
       "</table>\n",
       "</div>"
      ],
      "text/plain": [
       "   days_since_prior_order  dsp_reorder_ratio\n",
       "0                     0.0           0.017331\n",
       "1                     1.0           0.030390\n",
       "2                     2.0           0.049433\n",
       "3                     3.0           0.065646\n",
       "4                     4.0           0.073704"
      ]
     },
     "execution_count": 51,
     "metadata": {
      "tags": []
     },
     "output_type": "execute_result"
    }
   ],
   "source": [
    "dsp_reorder_ratio=prior_data.groupby(by=['days_since_prior_order'])['reordered'].agg('sum').to_frame('dsp_reorder_ratio').reset_index()\n",
    "dsp_reorder_ratio['dsp_reorder_ratio']=dsp_reorder_ratio['dsp_reorder_ratio']/total_reorder\n",
    "dsp_reorder_ratio.head()"
   ]
  },
  {
   "cell_type": "code",
   "execution_count": null,
   "metadata": {
    "id": "hGDQn8jsYHc8"
   },
   "outputs": [],
   "source": [
    "pickle.dump(dsp_reorder_ratio,open('/content/drive/MyDrive/instcart/DATA2/dsp_reorder_ratio','wb'))"
   ]
  },
  {
   "cell_type": "markdown",
   "metadata": {
    "id": "uL2eVXRruI09"
   },
   "source": [
    "# PRODUCT FEATURES"
   ]
  },
  {
   "cell_type": "markdown",
   "metadata": {
    "id": "n9P7wm3WuR9x"
   },
   "source": [
    "HOW MANY UNIQUE USER PURCHASED PRODUCT:\n",
    "\n",
    "As we saw in eda there are some products which purchased many times while some products purchased only few times."
   ]
  },
  {
   "cell_type": "code",
   "execution_count": null,
   "metadata": {
    "colab": {
     "base_uri": "https://localhost:8080/",
     "height": 202
    },
    "id": "uq6EFHI_rniN",
    "outputId": "16812ecf-ce71-49b4-bed1-97e626bb8557"
   },
   "outputs": [
    {
     "data": {
      "text/html": [
       "<div>\n",
       "<style scoped>\n",
       "    .dataframe tbody tr th:only-of-type {\n",
       "        vertical-align: middle;\n",
       "    }\n",
       "\n",
       "    .dataframe tbody tr th {\n",
       "        vertical-align: top;\n",
       "    }\n",
       "\n",
       "    .dataframe thead th {\n",
       "        text-align: right;\n",
       "    }\n",
       "</style>\n",
       "<table border=\"1\" class=\"dataframe\">\n",
       "  <thead>\n",
       "    <tr style=\"text-align: right;\">\n",
       "      <th></th>\n",
       "      <th>product_id</th>\n",
       "      <th>p_unique_users</th>\n",
       "    </tr>\n",
       "  </thead>\n",
       "  <tbody>\n",
       "    <tr>\n",
       "      <th>0</th>\n",
       "      <td>1</td>\n",
       "      <td>716</td>\n",
       "    </tr>\n",
       "    <tr>\n",
       "      <th>1</th>\n",
       "      <td>2</td>\n",
       "      <td>78</td>\n",
       "    </tr>\n",
       "    <tr>\n",
       "      <th>2</th>\n",
       "      <td>3</td>\n",
       "      <td>74</td>\n",
       "    </tr>\n",
       "    <tr>\n",
       "      <th>3</th>\n",
       "      <td>4</td>\n",
       "      <td>182</td>\n",
       "    </tr>\n",
       "    <tr>\n",
       "      <th>4</th>\n",
       "      <td>5</td>\n",
       "      <td>6</td>\n",
       "    </tr>\n",
       "  </tbody>\n",
       "</table>\n",
       "</div>"
      ],
      "text/plain": [
       "   product_id  p_unique_users\n",
       "0           1             716\n",
       "1           2              78\n",
       "2           3              74\n",
       "3           4             182\n",
       "4           5               6"
      ]
     },
     "execution_count": 54,
     "metadata": {
      "tags": []
     },
     "output_type": "execute_result"
    }
   ],
   "source": [
    "p_unique_users = prior_data.groupby(by=\"product_id\")[\"user_id\"].nunique().to_frame(\"p_unique_users\").reset_index()\n",
    "p_unique_users.head()"
   ]
  },
  {
   "cell_type": "markdown",
   "metadata": {
    "id": "lIq55PPxuWvM"
   },
   "source": [
    "TOTAL TIME PRODUCT PURCHASED:\n",
    "\n",
    "As we saw in eda some products like banana Banana, Bag of Organic Bananas , Organic Strawberries , Organic Baby Spinach , Organic Hass Avocado has purchased many times so if products highly purchased than it may be highly reordered."
   ]
  },
  {
   "cell_type": "code",
   "execution_count": null,
   "metadata": {
    "colab": {
     "base_uri": "https://localhost:8080/",
     "height": 202
    },
    "id": "M-EBgd8NugOh",
    "outputId": "a160ebcc-e429-4bfc-b9a5-0a89140a5ba6"
   },
   "outputs": [
    {
     "data": {
      "text/html": [
       "<div>\n",
       "<style scoped>\n",
       "    .dataframe tbody tr th:only-of-type {\n",
       "        vertical-align: middle;\n",
       "    }\n",
       "\n",
       "    .dataframe tbody tr th {\n",
       "        vertical-align: top;\n",
       "    }\n",
       "\n",
       "    .dataframe thead th {\n",
       "        text-align: right;\n",
       "    }\n",
       "</style>\n",
       "<table border=\"1\" class=\"dataframe\">\n",
       "  <thead>\n",
       "    <tr style=\"text-align: right;\">\n",
       "      <th></th>\n",
       "      <th>product_id</th>\n",
       "      <th>p_total_purchase</th>\n",
       "    </tr>\n",
       "  </thead>\n",
       "  <tbody>\n",
       "    <tr>\n",
       "      <th>0</th>\n",
       "      <td>1</td>\n",
       "      <td>1852</td>\n",
       "    </tr>\n",
       "    <tr>\n",
       "      <th>1</th>\n",
       "      <td>2</td>\n",
       "      <td>90</td>\n",
       "    </tr>\n",
       "    <tr>\n",
       "      <th>2</th>\n",
       "      <td>3</td>\n",
       "      <td>277</td>\n",
       "    </tr>\n",
       "    <tr>\n",
       "      <th>3</th>\n",
       "      <td>4</td>\n",
       "      <td>329</td>\n",
       "    </tr>\n",
       "    <tr>\n",
       "      <th>4</th>\n",
       "      <td>5</td>\n",
       "      <td>15</td>\n",
       "    </tr>\n",
       "  </tbody>\n",
       "</table>\n",
       "</div>"
      ],
      "text/plain": [
       "   product_id  p_total_purchase\n",
       "0           1              1852\n",
       "1           2                90\n",
       "2           3               277\n",
       "3           4               329\n",
       "4           5                15"
      ]
     },
     "execution_count": 55,
     "metadata": {
      "tags": []
     },
     "output_type": "execute_result"
    }
   ],
   "source": [
    "p_total_purchase = prior_data.groupby([\"product_id\"])[\"order_id\"].count().to_frame(\"p_total_purchase\").reset_index()\n",
    "p_total_purchase.head()"
   ]
  },
  {
   "cell_type": "markdown",
   "metadata": {
    "id": "IKPutidhusgA"
   },
   "source": [
    "PRODUCT REORDERD SUM"
   ]
  },
  {
   "cell_type": "code",
   "execution_count": null,
   "metadata": {
    "colab": {
     "base_uri": "https://localhost:8080/",
     "height": 202
    },
    "id": "p5Wr67Eaur0a",
    "outputId": "d364a03d-f3a2-4fd1-ccd8-3cd76ff484a5"
   },
   "outputs": [
    {
     "data": {
      "text/html": [
       "<div>\n",
       "<style scoped>\n",
       "    .dataframe tbody tr th:only-of-type {\n",
       "        vertical-align: middle;\n",
       "    }\n",
       "\n",
       "    .dataframe tbody tr th {\n",
       "        vertical-align: top;\n",
       "    }\n",
       "\n",
       "    .dataframe thead th {\n",
       "        text-align: right;\n",
       "    }\n",
       "</style>\n",
       "<table border=\"1\" class=\"dataframe\">\n",
       "  <thead>\n",
       "    <tr style=\"text-align: right;\">\n",
       "      <th></th>\n",
       "      <th>product_id</th>\n",
       "      <th>p_sum_reordered</th>\n",
       "    </tr>\n",
       "  </thead>\n",
       "  <tbody>\n",
       "    <tr>\n",
       "      <th>0</th>\n",
       "      <td>1</td>\n",
       "      <td>1136.0</td>\n",
       "    </tr>\n",
       "    <tr>\n",
       "      <th>1</th>\n",
       "      <td>2</td>\n",
       "      <td>12.0</td>\n",
       "    </tr>\n",
       "    <tr>\n",
       "      <th>2</th>\n",
       "      <td>3</td>\n",
       "      <td>203.0</td>\n",
       "    </tr>\n",
       "    <tr>\n",
       "      <th>3</th>\n",
       "      <td>4</td>\n",
       "      <td>147.0</td>\n",
       "    </tr>\n",
       "    <tr>\n",
       "      <th>4</th>\n",
       "      <td>5</td>\n",
       "      <td>9.0</td>\n",
       "    </tr>\n",
       "  </tbody>\n",
       "</table>\n",
       "</div>"
      ],
      "text/plain": [
       "   product_id  p_sum_reordered\n",
       "0           1           1136.0\n",
       "1           2             12.0\n",
       "2           3            203.0\n",
       "3           4            147.0\n",
       "4           5              9.0"
      ]
     },
     "execution_count": 57,
     "metadata": {
      "tags": []
     },
     "output_type": "execute_result"
    }
   ],
   "source": [
    "p_sum_reordered = prior_data.groupby([\"product_id\"])[\"reordered\"].sum().to_frame(\"p_sum_reordered\").reset_index()\n",
    "p_sum_reordered.head()"
   ]
  },
  {
   "cell_type": "markdown",
   "metadata": {
    "id": "TPjKk_-Zuod4"
   },
   "source": [
    "PRODUCT REORDERD MEAN"
   ]
  },
  {
   "cell_type": "code",
   "execution_count": null,
   "metadata": {
    "colab": {
     "base_uri": "https://localhost:8080/",
     "height": 415
    },
    "id": "Uif1fAmTuUJl",
    "outputId": "5d8dabe5-c913-4142-8b55-a620f035691c"
   },
   "outputs": [
    {
     "data": {
      "text/html": [
       "<div>\n",
       "<style scoped>\n",
       "    .dataframe tbody tr th:only-of-type {\n",
       "        vertical-align: middle;\n",
       "    }\n",
       "\n",
       "    .dataframe tbody tr th {\n",
       "        vertical-align: top;\n",
       "    }\n",
       "\n",
       "    .dataframe thead th {\n",
       "        text-align: right;\n",
       "    }\n",
       "</style>\n",
       "<table border=\"1\" class=\"dataframe\">\n",
       "  <thead>\n",
       "    <tr style=\"text-align: right;\">\n",
       "      <th></th>\n",
       "      <th>product_id</th>\n",
       "      <th>p_mean_reordered</th>\n",
       "    </tr>\n",
       "  </thead>\n",
       "  <tbody>\n",
       "    <tr>\n",
       "      <th>0</th>\n",
       "      <td>1</td>\n",
       "      <td>0.613391</td>\n",
       "    </tr>\n",
       "    <tr>\n",
       "      <th>1</th>\n",
       "      <td>2</td>\n",
       "      <td>0.133333</td>\n",
       "    </tr>\n",
       "    <tr>\n",
       "      <th>2</th>\n",
       "      <td>3</td>\n",
       "      <td>0.732852</td>\n",
       "    </tr>\n",
       "    <tr>\n",
       "      <th>3</th>\n",
       "      <td>4</td>\n",
       "      <td>0.446809</td>\n",
       "    </tr>\n",
       "    <tr>\n",
       "      <th>4</th>\n",
       "      <td>5</td>\n",
       "      <td>0.600000</td>\n",
       "    </tr>\n",
       "    <tr>\n",
       "      <th>...</th>\n",
       "      <td>...</td>\n",
       "      <td>...</td>\n",
       "    </tr>\n",
       "    <tr>\n",
       "      <th>49672</th>\n",
       "      <td>49684</td>\n",
       "      <td>0.111111</td>\n",
       "    </tr>\n",
       "    <tr>\n",
       "      <th>49673</th>\n",
       "      <td>49685</td>\n",
       "      <td>0.122449</td>\n",
       "    </tr>\n",
       "    <tr>\n",
       "      <th>49674</th>\n",
       "      <td>49686</td>\n",
       "      <td>0.700000</td>\n",
       "    </tr>\n",
       "    <tr>\n",
       "      <th>49675</th>\n",
       "      <td>49687</td>\n",
       "      <td>0.461538</td>\n",
       "    </tr>\n",
       "    <tr>\n",
       "      <th>49676</th>\n",
       "      <td>49688</td>\n",
       "      <td>0.168539</td>\n",
       "    </tr>\n",
       "  </tbody>\n",
       "</table>\n",
       "<p>49677 rows × 2 columns</p>\n",
       "</div>"
      ],
      "text/plain": [
       "       product_id  p_mean_reordered\n",
       "0               1          0.613391\n",
       "1               2          0.133333\n",
       "2               3          0.732852\n",
       "3               4          0.446809\n",
       "4               5          0.600000\n",
       "...           ...               ...\n",
       "49672       49684          0.111111\n",
       "49673       49685          0.122449\n",
       "49674       49686          0.700000\n",
       "49675       49687          0.461538\n",
       "49676       49688          0.168539\n",
       "\n",
       "[49677 rows x 2 columns]"
      ]
     },
     "execution_count": 59,
     "metadata": {
      "tags": []
     },
     "output_type": "execute_result"
    }
   ],
   "source": [
    "p_mean_reordered = prior_data.groupby([\"product_id\"])[\"reordered\"].mean().to_frame(\"p_mean_reordered\").reset_index()\n",
    "p_mean_reordered"
   ]
  },
  {
   "cell_type": "markdown",
   "metadata": {
    "id": "BcDfjFwvu6EJ"
   },
   "source": [
    "PRODUCT DAY OF WEEK MEAN\n",
    "\n",
    "As we saw in EDA many products are highly reordered on day 0 and 1 ."
   ]
  },
  {
   "cell_type": "code",
   "execution_count": null,
   "metadata": {
    "colab": {
     "base_uri": "https://localhost:8080/",
     "height": 202
    },
    "id": "ZqS1C1gtu0gD",
    "outputId": "80a8f9ea-ad26-4dd9-ce4e-676cfd38c39d"
   },
   "outputs": [
    {
     "data": {
      "text/html": [
       "<div>\n",
       "<style scoped>\n",
       "    .dataframe tbody tr th:only-of-type {\n",
       "        vertical-align: middle;\n",
       "    }\n",
       "\n",
       "    .dataframe tbody tr th {\n",
       "        vertical-align: top;\n",
       "    }\n",
       "\n",
       "    .dataframe thead th {\n",
       "        text-align: right;\n",
       "    }\n",
       "</style>\n",
       "<table border=\"1\" class=\"dataframe\">\n",
       "  <thead>\n",
       "    <tr style=\"text-align: right;\">\n",
       "      <th></th>\n",
       "      <th>product_id</th>\n",
       "      <th>p_mean_dow</th>\n",
       "    </tr>\n",
       "  </thead>\n",
       "  <tbody>\n",
       "    <tr>\n",
       "      <th>0</th>\n",
       "      <td>1</td>\n",
       "      <td>2.776458</td>\n",
       "    </tr>\n",
       "    <tr>\n",
       "      <th>1</th>\n",
       "      <td>2</td>\n",
       "      <td>2.922222</td>\n",
       "    </tr>\n",
       "    <tr>\n",
       "      <th>2</th>\n",
       "      <td>3</td>\n",
       "      <td>2.736462</td>\n",
       "    </tr>\n",
       "    <tr>\n",
       "      <th>3</th>\n",
       "      <td>4</td>\n",
       "      <td>2.683891</td>\n",
       "    </tr>\n",
       "    <tr>\n",
       "      <th>4</th>\n",
       "      <td>5</td>\n",
       "      <td>2.733333</td>\n",
       "    </tr>\n",
       "  </tbody>\n",
       "</table>\n",
       "</div>"
      ],
      "text/plain": [
       "   product_id  p_mean_dow\n",
       "0           1    2.776458\n",
       "1           2    2.922222\n",
       "2           3    2.736462\n",
       "3           4    2.683891\n",
       "4           5    2.733333"
      ]
     },
     "execution_count": 60,
     "metadata": {
      "tags": []
     },
     "output_type": "execute_result"
    }
   ],
   "source": [
    "p_mean_dow = prior_data.groupby([\"product_id\"])[\"order_dow\"].mean().to_frame(\"p_mean_dow\").reset_index()\n",
    "p_mean_dow.head()"
   ]
  },
  {
   "cell_type": "markdown",
   "metadata": {
    "id": "4ZffRG85vDdy"
   },
   "source": [
    "PRODUCT HOUR OF DAYS MEAN"
   ]
  },
  {
   "cell_type": "markdown",
   "metadata": {
    "id": "k66S5-2fvFst"
   },
   "source": [
    "As we saw in EDA many products are highly reordered between 8 to 18 hours ."
   ]
  },
  {
   "cell_type": "code",
   "execution_count": null,
   "metadata": {
    "colab": {
     "base_uri": "https://localhost:8080/",
     "height": 202
    },
    "id": "MSyOvlmDu-Ka",
    "outputId": "c32f0b1b-629c-40b5-9f22-6052ac8a630b"
   },
   "outputs": [
    {
     "data": {
      "text/html": [
       "<div>\n",
       "<style scoped>\n",
       "    .dataframe tbody tr th:only-of-type {\n",
       "        vertical-align: middle;\n",
       "    }\n",
       "\n",
       "    .dataframe tbody tr th {\n",
       "        vertical-align: top;\n",
       "    }\n",
       "\n",
       "    .dataframe thead th {\n",
       "        text-align: right;\n",
       "    }\n",
       "</style>\n",
       "<table border=\"1\" class=\"dataframe\">\n",
       "  <thead>\n",
       "    <tr style=\"text-align: right;\">\n",
       "      <th></th>\n",
       "      <th>product_id</th>\n",
       "      <th>p_mean_hod</th>\n",
       "    </tr>\n",
       "  </thead>\n",
       "  <tbody>\n",
       "    <tr>\n",
       "      <th>0</th>\n",
       "      <td>1</td>\n",
       "      <td>13.238121</td>\n",
       "    </tr>\n",
       "    <tr>\n",
       "      <th>1</th>\n",
       "      <td>2</td>\n",
       "      <td>13.277778</td>\n",
       "    </tr>\n",
       "    <tr>\n",
       "      <th>2</th>\n",
       "      <td>3</td>\n",
       "      <td>12.104693</td>\n",
       "    </tr>\n",
       "    <tr>\n",
       "      <th>3</th>\n",
       "      <td>4</td>\n",
       "      <td>13.714286</td>\n",
       "    </tr>\n",
       "    <tr>\n",
       "      <th>4</th>\n",
       "      <td>5</td>\n",
       "      <td>10.666667</td>\n",
       "    </tr>\n",
       "  </tbody>\n",
       "</table>\n",
       "</div>"
      ],
      "text/plain": [
       "   product_id  p_mean_hod\n",
       "0           1   13.238121\n",
       "1           2   13.277778\n",
       "2           3   12.104693\n",
       "3           4   13.714286\n",
       "4           5   10.666667"
      ]
     },
     "execution_count": 64,
     "metadata": {
      "tags": []
     },
     "output_type": "execute_result"
    }
   ],
   "source": [
    "p_mean_hod = prior_data.groupby([\"product_id\"])[\"order_hour_of_day\"].mean().to_frame(\"p_mean_hod\").reset_index()\n",
    "p_mean_hod.head()"
   ]
  },
  {
   "cell_type": "markdown",
   "metadata": {
    "id": "F8OopGCBvZ_j"
   },
   "source": [
    "PRODUCT DAY SINCE PRIOR ORDER MEAN:\n",
    "\n",
    "As we saw in EDA many products are reordered weekly and monthly basis."
   ]
  },
  {
   "cell_type": "code",
   "execution_count": null,
   "metadata": {
    "colab": {
     "base_uri": "https://localhost:8080/",
     "height": 202
    },
    "id": "h5wpdYLzvIHC",
    "outputId": "7cde2a81-1345-47bb-e6ae-f1183c1b161e"
   },
   "outputs": [
    {
     "data": {
      "text/html": [
       "<div>\n",
       "<style scoped>\n",
       "    .dataframe tbody tr th:only-of-type {\n",
       "        vertical-align: middle;\n",
       "    }\n",
       "\n",
       "    .dataframe tbody tr th {\n",
       "        vertical-align: top;\n",
       "    }\n",
       "\n",
       "    .dataframe thead th {\n",
       "        text-align: right;\n",
       "    }\n",
       "</style>\n",
       "<table border=\"1\" class=\"dataframe\">\n",
       "  <thead>\n",
       "    <tr style=\"text-align: right;\">\n",
       "      <th></th>\n",
       "      <th>product_id</th>\n",
       "      <th>p_mean_dsp</th>\n",
       "    </tr>\n",
       "  </thead>\n",
       "  <tbody>\n",
       "    <tr>\n",
       "      <th>0</th>\n",
       "      <td>1</td>\n",
       "      <td>9.882812</td>\n",
       "    </tr>\n",
       "    <tr>\n",
       "      <th>1</th>\n",
       "      <td>2</td>\n",
       "      <td>10.132812</td>\n",
       "    </tr>\n",
       "    <tr>\n",
       "      <th>2</th>\n",
       "      <td>3</td>\n",
       "      <td>9.914062</td>\n",
       "    </tr>\n",
       "    <tr>\n",
       "      <th>3</th>\n",
       "      <td>4</td>\n",
       "      <td>12.945312</td>\n",
       "    </tr>\n",
       "    <tr>\n",
       "      <th>4</th>\n",
       "      <td>5</td>\n",
       "      <td>11.601562</td>\n",
       "    </tr>\n",
       "  </tbody>\n",
       "</table>\n",
       "</div>"
      ],
      "text/plain": [
       "   product_id  p_mean_dsp\n",
       "0           1    9.882812\n",
       "1           2   10.132812\n",
       "2           3    9.914062\n",
       "3           4   12.945312\n",
       "4           5   11.601562"
      ]
     },
     "execution_count": 65,
     "metadata": {
      "tags": []
     },
     "output_type": "execute_result"
    }
   ],
   "source": [
    "p_mean_dsp = prior_data.groupby([\"product_id\"])[\"days_since_prior_order\"].mean().to_frame(\"p_mean_dsp\").reset_index()\n",
    "p_mean_dsp.head()"
   ]
  },
  {
   "cell_type": "markdown",
   "metadata": {
    "id": "jnJF_IIrxsGD"
   },
   "source": [
    "PRODUCT ADD TO CART ORDER MEAN"
   ]
  },
  {
   "cell_type": "code",
   "execution_count": null,
   "metadata": {
    "colab": {
     "base_uri": "https://localhost:8080/",
     "height": 202
    },
    "id": "I5Dy5s8Fvgql",
    "outputId": "2f2d54a0-81f5-4ee4-b6d2-1161ef7b68dd"
   },
   "outputs": [
    {
     "data": {
      "text/html": [
       "<div>\n",
       "<style scoped>\n",
       "    .dataframe tbody tr th:only-of-type {\n",
       "        vertical-align: middle;\n",
       "    }\n",
       "\n",
       "    .dataframe tbody tr th {\n",
       "        vertical-align: top;\n",
       "    }\n",
       "\n",
       "    .dataframe thead th {\n",
       "        text-align: right;\n",
       "    }\n",
       "</style>\n",
       "<table border=\"1\" class=\"dataframe\">\n",
       "  <thead>\n",
       "    <tr style=\"text-align: right;\">\n",
       "      <th></th>\n",
       "      <th>product_id</th>\n",
       "      <th>p_mean_cart</th>\n",
       "    </tr>\n",
       "  </thead>\n",
       "  <tbody>\n",
       "    <tr>\n",
       "      <th>0</th>\n",
       "      <td>1</td>\n",
       "      <td>5.801836</td>\n",
       "    </tr>\n",
       "    <tr>\n",
       "      <th>1</th>\n",
       "      <td>2</td>\n",
       "      <td>9.888889</td>\n",
       "    </tr>\n",
       "    <tr>\n",
       "      <th>2</th>\n",
       "      <td>3</td>\n",
       "      <td>6.415162</td>\n",
       "    </tr>\n",
       "    <tr>\n",
       "      <th>3</th>\n",
       "      <td>4</td>\n",
       "      <td>9.507599</td>\n",
       "    </tr>\n",
       "    <tr>\n",
       "      <th>4</th>\n",
       "      <td>5</td>\n",
       "      <td>6.466667</td>\n",
       "    </tr>\n",
       "  </tbody>\n",
       "</table>\n",
       "</div>"
      ],
      "text/plain": [
       "   product_id  p_mean_cart\n",
       "0           1     5.801836\n",
       "1           2     9.888889\n",
       "2           3     6.415162\n",
       "3           4     9.507599\n",
       "4           5     6.466667"
      ]
     },
     "execution_count": 69,
     "metadata": {
      "tags": []
     },
     "output_type": "execute_result"
    }
   ],
   "source": [
    "p_mean_cart = prior_data.groupby([\"product_id\"])[\"add_to_cart_order\"].mean().to_frame(\"p_mean_cart\").reset_index()\n",
    "p_mean_cart.head()"
   ]
  },
  {
   "cell_type": "markdown",
   "metadata": {
    "id": "AGOcYp5vEWMk"
   },
   "source": [
    "PRODUCT DOW REORDER RATIO"
   ]
  },
  {
   "cell_type": "code",
   "execution_count": null,
   "metadata": {
    "colab": {
     "base_uri": "https://localhost:8080/",
     "height": 202
    },
    "id": "Lyc6eln9Efuf",
    "outputId": "c5237bd8-c206-4f00-dcee-0ea38e864909"
   },
   "outputs": [
    {
     "data": {
      "text/html": [
       "<div>\n",
       "<style scoped>\n",
       "    .dataframe tbody tr th:only-of-type {\n",
       "        vertical-align: middle;\n",
       "    }\n",
       "\n",
       "    .dataframe tbody tr th {\n",
       "        vertical-align: top;\n",
       "    }\n",
       "\n",
       "    .dataframe thead th {\n",
       "        text-align: right;\n",
       "    }\n",
       "</style>\n",
       "<table border=\"1\" class=\"dataframe\">\n",
       "  <thead>\n",
       "    <tr style=\"text-align: right;\">\n",
       "      <th></th>\n",
       "      <th>order_dow</th>\n",
       "      <th>product_id</th>\n",
       "      <th>reordered</th>\n",
       "    </tr>\n",
       "  </thead>\n",
       "  <tbody>\n",
       "    <tr>\n",
       "      <th>0</th>\n",
       "      <td>0</td>\n",
       "      <td>1</td>\n",
       "      <td>134.0</td>\n",
       "    </tr>\n",
       "    <tr>\n",
       "      <th>1</th>\n",
       "      <td>0</td>\n",
       "      <td>2</td>\n",
       "      <td>3.0</td>\n",
       "    </tr>\n",
       "    <tr>\n",
       "      <th>2</th>\n",
       "      <td>0</td>\n",
       "      <td>3</td>\n",
       "      <td>39.0</td>\n",
       "    </tr>\n",
       "    <tr>\n",
       "      <th>3</th>\n",
       "      <td>0</td>\n",
       "      <td>4</td>\n",
       "      <td>38.0</td>\n",
       "    </tr>\n",
       "    <tr>\n",
       "      <th>4</th>\n",
       "      <td>0</td>\n",
       "      <td>5</td>\n",
       "      <td>1.0</td>\n",
       "    </tr>\n",
       "  </tbody>\n",
       "</table>\n",
       "</div>"
      ],
      "text/plain": [
       "   order_dow  product_id  reordered\n",
       "0          0           1      134.0\n",
       "1          0           2        3.0\n",
       "2          0           3       39.0\n",
       "3          0           4       38.0\n",
       "4          0           5        1.0"
      ]
     },
     "execution_count": 73,
     "metadata": {
      "tags": []
     },
     "output_type": "execute_result"
    }
   ],
   "source": [
    "product_dow= prior_data.groupby(['order_dow','product_id'])['reordered'].sum().reset_index()\n",
    "product_dow.head()"
   ]
  },
  {
   "cell_type": "code",
   "execution_count": null,
   "metadata": {
    "colab": {
     "base_uri": "https://localhost:8080/",
     "height": 202
    },
    "id": "wfH9ZIrHxwm9",
    "outputId": "96913db7-5eaa-463b-f08c-2ecfc159780a"
   },
   "outputs": [
    {
     "data": {
      "text/html": [
       "<div>\n",
       "<style scoped>\n",
       "    .dataframe tbody tr th:only-of-type {\n",
       "        vertical-align: middle;\n",
       "    }\n",
       "\n",
       "    .dataframe tbody tr th {\n",
       "        vertical-align: top;\n",
       "    }\n",
       "\n",
       "    .dataframe thead th {\n",
       "        text-align: right;\n",
       "    }\n",
       "</style>\n",
       "<table border=\"1\" class=\"dataframe\">\n",
       "  <thead>\n",
       "    <tr style=\"text-align: right;\">\n",
       "      <th></th>\n",
       "      <th>order_dow</th>\n",
       "      <th>product_id</th>\n",
       "      <th>reordered</th>\n",
       "      <th>p_sum_reordered</th>\n",
       "    </tr>\n",
       "  </thead>\n",
       "  <tbody>\n",
       "    <tr>\n",
       "      <th>0</th>\n",
       "      <td>0</td>\n",
       "      <td>1</td>\n",
       "      <td>134.0</td>\n",
       "      <td>1136.0</td>\n",
       "    </tr>\n",
       "    <tr>\n",
       "      <th>1</th>\n",
       "      <td>0</td>\n",
       "      <td>2</td>\n",
       "      <td>3.0</td>\n",
       "      <td>12.0</td>\n",
       "    </tr>\n",
       "    <tr>\n",
       "      <th>2</th>\n",
       "      <td>0</td>\n",
       "      <td>3</td>\n",
       "      <td>39.0</td>\n",
       "      <td>203.0</td>\n",
       "    </tr>\n",
       "    <tr>\n",
       "      <th>3</th>\n",
       "      <td>0</td>\n",
       "      <td>4</td>\n",
       "      <td>38.0</td>\n",
       "      <td>147.0</td>\n",
       "    </tr>\n",
       "    <tr>\n",
       "      <th>4</th>\n",
       "      <td>0</td>\n",
       "      <td>5</td>\n",
       "      <td>1.0</td>\n",
       "      <td>9.0</td>\n",
       "    </tr>\n",
       "  </tbody>\n",
       "</table>\n",
       "</div>"
      ],
      "text/plain": [
       "   order_dow  product_id  reordered  p_sum_reordered\n",
       "0          0           1      134.0           1136.0\n",
       "1          0           2        3.0             12.0\n",
       "2          0           3       39.0            203.0\n",
       "3          0           4       38.0            147.0\n",
       "4          0           5        1.0              9.0"
      ]
     },
     "execution_count": 74,
     "metadata": {
      "tags": []
     },
     "output_type": "execute_result"
    }
   ],
   "source": [
    "product_dow= product_dow.merge(p_sum_reordered,on='product_id',how='left')\n",
    "product_dow.head()"
   ]
  },
  {
   "cell_type": "code",
   "execution_count": null,
   "metadata": {
    "colab": {
     "base_uri": "https://localhost:8080/",
     "height": 202
    },
    "id": "4xCAgU0nFhNN",
    "outputId": "377b34f5-ac48-4dc4-ef41-d60388f6bf8d"
   },
   "outputs": [
    {
     "data": {
      "text/html": [
       "<div>\n",
       "<style scoped>\n",
       "    .dataframe tbody tr th:only-of-type {\n",
       "        vertical-align: middle;\n",
       "    }\n",
       "\n",
       "    .dataframe tbody tr th {\n",
       "        vertical-align: top;\n",
       "    }\n",
       "\n",
       "    .dataframe thead th {\n",
       "        text-align: right;\n",
       "    }\n",
       "</style>\n",
       "<table border=\"1\" class=\"dataframe\">\n",
       "  <thead>\n",
       "    <tr style=\"text-align: right;\">\n",
       "      <th></th>\n",
       "      <th>order_dow</th>\n",
       "      <th>product_id</th>\n",
       "      <th>product_and_dow_ratio</th>\n",
       "    </tr>\n",
       "  </thead>\n",
       "  <tbody>\n",
       "    <tr>\n",
       "      <th>0</th>\n",
       "      <td>0</td>\n",
       "      <td>1</td>\n",
       "      <td>0.117958</td>\n",
       "    </tr>\n",
       "    <tr>\n",
       "      <th>1</th>\n",
       "      <td>0</td>\n",
       "      <td>2</td>\n",
       "      <td>0.250000</td>\n",
       "    </tr>\n",
       "    <tr>\n",
       "      <th>2</th>\n",
       "      <td>0</td>\n",
       "      <td>3</td>\n",
       "      <td>0.192118</td>\n",
       "    </tr>\n",
       "    <tr>\n",
       "      <th>3</th>\n",
       "      <td>0</td>\n",
       "      <td>4</td>\n",
       "      <td>0.258503</td>\n",
       "    </tr>\n",
       "    <tr>\n",
       "      <th>4</th>\n",
       "      <td>0</td>\n",
       "      <td>5</td>\n",
       "      <td>0.111111</td>\n",
       "    </tr>\n",
       "  </tbody>\n",
       "</table>\n",
       "</div>"
      ],
      "text/plain": [
       "   order_dow  product_id  product_and_dow_ratio\n",
       "0          0           1               0.117958\n",
       "1          0           2               0.250000\n",
       "2          0           3               0.192118\n",
       "3          0           4               0.258503\n",
       "4          0           5               0.111111"
      ]
     },
     "execution_count": 75,
     "metadata": {
      "tags": []
     },
     "output_type": "execute_result"
    }
   ],
   "source": [
    "product_dow['product_and_dow_ratio'] = product_dow.reordered/product_dow.p_sum_reordered\n",
    "product_dow= product_dow.drop(['reordered','p_sum_reordered'],axis=1)\n",
    "product_dow.head()"
   ]
  },
  {
   "cell_type": "code",
   "execution_count": null,
   "metadata": {
    "id": "1v7dtk0ibjqr"
   },
   "outputs": [],
   "source": [
    "pickle.dump(product_dow,open('/content/drive/MyDrive/instcart/DATA2/product_dow','wb'))"
   ]
  },
  {
   "cell_type": "markdown",
   "metadata": {
    "id": "GyiVMSfHagoH"
   },
   "source": [
    "MERGE PRODUCT FEATURES"
   ]
  },
  {
   "cell_type": "code",
   "execution_count": null,
   "metadata": {
    "id": "hr_FkTzXafT9"
   },
   "outputs": [],
   "source": [
    "product_features=[p_unique_users,p_total_purchase,p_sum_reordered ,\n",
    "                  p_mean_reordered ,p_mean_dow, p_mean_hod ,\n",
    "                  p_mean_dsp,p_mean_cart]"
   ]
  },
  {
   "cell_type": "code",
   "execution_count": null,
   "metadata": {
    "colab": {
     "base_uri": "https://localhost:8080/"
    },
    "id": "H2kALLywaxQm",
    "outputId": "6baacbd0-cda1-4759-ccbe-2c61348f8fac"
   },
   "outputs": [
    {
     "data": {
      "text/plain": [
       "8"
      ]
     },
     "execution_count": 121,
     "metadata": {
      "tags": []
     },
     "output_type": "execute_result"
    }
   ],
   "source": [
    "len(product_features)"
   ]
  },
  {
   "cell_type": "code",
   "execution_count": null,
   "metadata": {
    "id": "UTDazP7RbDTZ"
   },
   "outputs": [],
   "source": [
    "products = pd.DataFrame()\n",
    "products[\"product_id\"] = p_unique_users.product_id.copy()\n",
    "for f in product_features:\n",
    "   products=pd.merge(products,f,how='left',on='product_id')   "
   ]
  },
  {
   "cell_type": "code",
   "execution_count": null,
   "metadata": {
    "colab": {
     "base_uri": "https://localhost:8080/"
    },
    "id": "nT42uT5WbIkb",
    "outputId": "d96b032f-c9cb-456b-dfe1-7127c849a67b"
   },
   "outputs": [
    {
     "data": {
      "text/plain": [
       "product_id          0\n",
       "p_unique_users      0\n",
       "p_total_purchase    0\n",
       "p_sum_reordered     0\n",
       "p_mean_reordered    0\n",
       "p_mean_dow          0\n",
       "p_mean_hod          0\n",
       "p_mean_dsp          0\n",
       "p_mean_cart         0\n",
       "dtype: int64"
      ]
     },
     "execution_count": 123,
     "metadata": {
      "tags": []
     },
     "output_type": "execute_result"
    }
   ],
   "source": [
    "products.isnull().sum()"
   ]
  },
  {
   "cell_type": "code",
   "execution_count": null,
   "metadata": {
    "colab": {
     "base_uri": "https://localhost:8080/"
    },
    "id": "WiIMLTPvbK--",
    "outputId": "cf4c9dfb-3823-4527-e98e-18622b1d49f5"
   },
   "outputs": [
    {
     "name": "stdout",
     "output_type": "stream",
     "text": [
      "Memory usage after optimization is: 1.61 MB\n",
      "Decreased by 54.1%\n"
     ]
    }
   ],
   "source": [
    "products=reduce_mem_usage(products)"
   ]
  },
  {
   "cell_type": "code",
   "execution_count": null,
   "metadata": {
    "id": "Vk0Ky8VibTR4"
   },
   "outputs": [],
   "source": [
    "pickle.dump(products,open('/content/drive/MyDrive/instcart/DATA2/products_features','wb'))"
   ]
  },
  {
   "cell_type": "code",
   "execution_count": null,
   "metadata": {
    "id": "khX-jQIbdQD1"
   },
   "outputs": [],
   "source": [
    "del product_features,p_unique_users,p_total_purchase,p_sum_reordered ,p_mean_reordered ,p_mean_dow, p_mean_hod ,p_mean_dsp,p_mean_cart"
   ]
  },
  {
   "cell_type": "markdown",
   "metadata": {
    "id": "Py5YcQTNKdmg"
   },
   "source": [
    "## USER-PRODUCT FEATURES"
   ]
  },
  {
   "cell_type": "code",
   "execution_count": null,
   "metadata": {
    "colab": {
     "base_uri": "https://localhost:8080/"
    },
    "id": "WD0VzQACKkTf",
    "outputId": "8c22c91f-ad72-4348-84ad-1bf37b67165a"
   },
   "outputs": [
    {
     "name": "stdout",
     "output_type": "stream",
     "text": [
      "user_id product_id\n",
      "1         22\n",
      "          233\n",
      "          11\n",
      "          21\n",
      "          212\n"
     ]
    }
   ],
   "source": [
    "#FIRST OF ALL HOW TABLE LOOK LIKE WHEN GROUPBY['USER_ID','PRODUCT_ID']\n",
    "\n",
    "#for example user_id==1 and it purchased unique product of product_id   22,233,11,21,212\n",
    "x=' ';\n",
    "print('user_id'  , 'product_id')\n",
    "print('1' ,7*x       ,  '22')\n",
    "print( 10*x+  '233')\n",
    "print( 10*x+  '11')\n",
    "print( 10*x+  '21')\n",
    "print( 10*x+  '212')"
   ]
  },
  {
   "cell_type": "markdown",
   "metadata": {
    "id": "r42P4txxKoc1"
   },
   "source": [
    "FOR EACH USER NO OF TIME USER PURCHASED UNIQUE PRODUCT"
   ]
  },
  {
   "cell_type": "code",
   "execution_count": null,
   "metadata": {
    "colab": {
     "base_uri": "https://localhost:8080/",
     "height": 237
    },
    "id": "Kmw8TS0rKoE5",
    "outputId": "8c1a9126-96f9-44b0-e08d-b0c0f6012657"
   },
   "outputs": [
    {
     "name": "stdout",
     "output_type": "stream",
     "text": [
      "Memory usage after optimization is: 114.22 MB\n",
      "Decreased by 62.5%\n"
     ]
    },
    {
     "data": {
      "text/html": [
       "<div>\n",
       "<style scoped>\n",
       "    .dataframe tbody tr th:only-of-type {\n",
       "        vertical-align: middle;\n",
       "    }\n",
       "\n",
       "    .dataframe tbody tr th {\n",
       "        vertical-align: top;\n",
       "    }\n",
       "\n",
       "    .dataframe thead th {\n",
       "        text-align: right;\n",
       "    }\n",
       "</style>\n",
       "<table border=\"1\" class=\"dataframe\">\n",
       "  <thead>\n",
       "    <tr style=\"text-align: right;\">\n",
       "      <th></th>\n",
       "      <th>user_id</th>\n",
       "      <th>product_id</th>\n",
       "      <th>up_unique_orders_count</th>\n",
       "    </tr>\n",
       "  </thead>\n",
       "  <tbody>\n",
       "    <tr>\n",
       "      <th>0</th>\n",
       "      <td>1</td>\n",
       "      <td>196</td>\n",
       "      <td>10</td>\n",
       "    </tr>\n",
       "    <tr>\n",
       "      <th>1</th>\n",
       "      <td>1</td>\n",
       "      <td>10258</td>\n",
       "      <td>9</td>\n",
       "    </tr>\n",
       "    <tr>\n",
       "      <th>2</th>\n",
       "      <td>1</td>\n",
       "      <td>10326</td>\n",
       "      <td>1</td>\n",
       "    </tr>\n",
       "    <tr>\n",
       "      <th>3</th>\n",
       "      <td>1</td>\n",
       "      <td>12427</td>\n",
       "      <td>10</td>\n",
       "    </tr>\n",
       "    <tr>\n",
       "      <th>4</th>\n",
       "      <td>1</td>\n",
       "      <td>13032</td>\n",
       "      <td>3</td>\n",
       "    </tr>\n",
       "  </tbody>\n",
       "</table>\n",
       "</div>"
      ],
      "text/plain": [
       "   user_id  product_id  up_unique_orders_count\n",
       "0        1         196                      10\n",
       "1        1       10258                       9\n",
       "2        1       10326                       1\n",
       "3        1       12427                      10\n",
       "4        1       13032                       3"
      ]
     },
     "execution_count": 86,
     "metadata": {
      "tags": []
     },
     "output_type": "execute_result"
    }
   ],
   "source": [
    "up_unique_orders_count = prior_data.groupby([\"user_id\",\"product_id\"])[\"order_id\"].count().to_frame(\"up_unique_orders_count\").reset_index()\n",
    "up_unique_orders_count =reduce_mem_usage(up_unique_orders_count)\n",
    "up_unique_orders_count.head()"
   ]
  },
  {
   "cell_type": "markdown",
   "metadata": {
    "id": "4AnSuirBVeX3"
   },
   "source": [
    "MAX NUMBER OF TIME USER PURCHASED PRODUCT"
   ]
  },
  {
   "cell_type": "code",
   "execution_count": null,
   "metadata": {
    "colab": {
     "base_uri": "https://localhost:8080/",
     "height": 202
    },
    "id": "B5GZsanYUImp",
    "outputId": "e8ca42c5-954e-4b16-ad39-6c4c072c1fe5"
   },
   "outputs": [
    {
     "data": {
      "text/html": [
       "<div>\n",
       "<style scoped>\n",
       "    .dataframe tbody tr th:only-of-type {\n",
       "        vertical-align: middle;\n",
       "    }\n",
       "\n",
       "    .dataframe tbody tr th {\n",
       "        vertical-align: top;\n",
       "    }\n",
       "\n",
       "    .dataframe thead th {\n",
       "        text-align: right;\n",
       "    }\n",
       "</style>\n",
       "<table border=\"1\" class=\"dataframe\">\n",
       "  <thead>\n",
       "    <tr style=\"text-align: right;\">\n",
       "      <th></th>\n",
       "      <th>user_id</th>\n",
       "      <th>product_id</th>\n",
       "      <th>up_unique_orders_count</th>\n",
       "      <th>up_total_buy_max</th>\n",
       "    </tr>\n",
       "  </thead>\n",
       "  <tbody>\n",
       "    <tr>\n",
       "      <th>0</th>\n",
       "      <td>1</td>\n",
       "      <td>196</td>\n",
       "      <td>10</td>\n",
       "      <td>10</td>\n",
       "    </tr>\n",
       "    <tr>\n",
       "      <th>1</th>\n",
       "      <td>1</td>\n",
       "      <td>10258</td>\n",
       "      <td>9</td>\n",
       "      <td>10</td>\n",
       "    </tr>\n",
       "    <tr>\n",
       "      <th>2</th>\n",
       "      <td>1</td>\n",
       "      <td>10326</td>\n",
       "      <td>1</td>\n",
       "      <td>10</td>\n",
       "    </tr>\n",
       "    <tr>\n",
       "      <th>3</th>\n",
       "      <td>1</td>\n",
       "      <td>12427</td>\n",
       "      <td>10</td>\n",
       "      <td>10</td>\n",
       "    </tr>\n",
       "    <tr>\n",
       "      <th>4</th>\n",
       "      <td>1</td>\n",
       "      <td>13032</td>\n",
       "      <td>3</td>\n",
       "      <td>10</td>\n",
       "    </tr>\n",
       "  </tbody>\n",
       "</table>\n",
       "</div>"
      ],
      "text/plain": [
       "   user_id  product_id  up_unique_orders_count  up_total_buy_max\n",
       "0        1         196                      10                10\n",
       "1        1       10258                       9                10\n",
       "2        1       10326                       1                10\n",
       "3        1       12427                      10                10\n",
       "4        1       13032                       3                10"
      ]
     },
     "execution_count": 106,
     "metadata": {
      "tags": []
     },
     "output_type": "execute_result"
    }
   ],
   "source": [
    "up_unique_orders_count['up_total_buy_max']=up_unique_orders_count.groupby(['user_id'])['up_unique_orders_count'].transform('max')\n",
    "up_unique_orders_count.head()"
   ]
  },
  {
   "cell_type": "markdown",
   "metadata": {
    "id": "rHv4EiwIKvFg"
   },
   "source": [
    "->diffrence between (USER MAX ORDER NUMBER) and (USER PRODUCT MAX ORDER NUMBER)\n",
    "\n",
    "up_orders_diff : user max order number - user-product max order number\n",
    "\n",
    "user_max_order_no : max order given by uesr\n",
    "\n",
    "up_max_order_no : for each user and for each unique product for that user max order number for that product"
   ]
  },
  {
   "cell_type": "code",
   "execution_count": null,
   "metadata": {
    "colab": {
     "base_uri": "https://localhost:8080/",
     "height": 237
    },
    "id": "N0SdziL0GH4k",
    "outputId": "76e1739f-1085-4f2a-80c2-7e88344e6716"
   },
   "outputs": [
    {
     "name": "stdout",
     "output_type": "stream",
     "text": [
      "Memory usage after optimization is: 215.75 MB\n",
      "Decreased by 32.0%\n"
     ]
    },
    {
     "data": {
      "text/html": [
       "<div>\n",
       "<style scoped>\n",
       "    .dataframe tbody tr th:only-of-type {\n",
       "        vertical-align: middle;\n",
       "    }\n",
       "\n",
       "    .dataframe tbody tr th {\n",
       "        vertical-align: top;\n",
       "    }\n",
       "\n",
       "    .dataframe thead th {\n",
       "        text-align: right;\n",
       "    }\n",
       "</style>\n",
       "<table border=\"1\" class=\"dataframe\">\n",
       "  <thead>\n",
       "    <tr style=\"text-align: right;\">\n",
       "      <th></th>\n",
       "      <th>user_id</th>\n",
       "      <th>product_id</th>\n",
       "      <th>up_orders_diff</th>\n",
       "    </tr>\n",
       "  </thead>\n",
       "  <tbody>\n",
       "    <tr>\n",
       "      <th>0</th>\n",
       "      <td>1</td>\n",
       "      <td>196</td>\n",
       "      <td>0</td>\n",
       "    </tr>\n",
       "    <tr>\n",
       "      <th>1</th>\n",
       "      <td>1</td>\n",
       "      <td>10258</td>\n",
       "      <td>0</td>\n",
       "    </tr>\n",
       "    <tr>\n",
       "      <th>2</th>\n",
       "      <td>1</td>\n",
       "      <td>10326</td>\n",
       "      <td>5</td>\n",
       "    </tr>\n",
       "    <tr>\n",
       "      <th>3</th>\n",
       "      <td>1</td>\n",
       "      <td>12427</td>\n",
       "      <td>0</td>\n",
       "    </tr>\n",
       "    <tr>\n",
       "      <th>4</th>\n",
       "      <td>1</td>\n",
       "      <td>13032</td>\n",
       "      <td>0</td>\n",
       "    </tr>\n",
       "  </tbody>\n",
       "</table>\n",
       "</div>"
      ],
      "text/plain": [
       "   user_id  product_id  up_orders_diff\n",
       "0        1         196               0\n",
       "1        1       10258               0\n",
       "2        1       10326               5\n",
       "3        1       12427               0\n",
       "4        1       13032               0"
      ]
     },
     "execution_count": 87,
     "metadata": {
      "tags": []
     },
     "output_type": "execute_result"
    }
   ],
   "source": [
    "user_max_order_no = prior_data.groupby(['user_id'])['order_number'].max().to_frame(\"user_max_order_no\").reset_index()\n",
    "up_max_order_no = prior_data.groupby([\"user_id\" , \"product_id\"])[\"order_number\"].max().to_frame(\"up_max_order_no\").reset_index()\n",
    "\n",
    "up_orders_diff= pd.merge(up_max_order_no , user_max_order_no , on=\"user_id\" , how = \"left\")\n",
    "up_orders_diff[\"up_orders_diff\"] = up_orders_diff[\"user_max_order_no\"] - up_orders_diff[\"up_max_order_no\"]\n",
    "\n",
    "up_orders_diff = up_orders_diff[[\"user_id\" , \"product_id\" ,\"up_orders_diff\"]]\n",
    "up_orders_diff=reduce_mem_usage(up_orders_diff)\n",
    "up_orders_diff.head()"
   ]
  },
  {
   "cell_type": "markdown",
   "metadata": {
    "id": "T3ie9tofLKLo"
   },
   "source": [
    "USER - PRODUCT ORDER RATIO"
   ]
  },
  {
   "cell_type": "markdown",
   "metadata": {
    "id": "QaX6qBMNLNtZ"
   },
   "source": [
    "up_unique_orders_count : for each user_id and each product_id  count number of time user purchase that order\n",
    "\n",
    "user_max_order_no      : for each user_id count max number of order\n",
    "\n",
    "up_order_ratio         :user-product order ratio"
   ]
  },
  {
   "cell_type": "code",
   "execution_count": null,
   "metadata": {
    "colab": {
     "base_uri": "https://localhost:8080/",
     "height": 202
    },
    "id": "sVw0015CK3Ej",
    "outputId": "c7f891ae-94a6-4119-f8fe-e49f9329fb7b"
   },
   "outputs": [
    {
     "data": {
      "text/html": [
       "<div>\n",
       "<style scoped>\n",
       "    .dataframe tbody tr th:only-of-type {\n",
       "        vertical-align: middle;\n",
       "    }\n",
       "\n",
       "    .dataframe tbody tr th {\n",
       "        vertical-align: top;\n",
       "    }\n",
       "\n",
       "    .dataframe thead th {\n",
       "        text-align: right;\n",
       "    }\n",
       "</style>\n",
       "<table border=\"1\" class=\"dataframe\">\n",
       "  <thead>\n",
       "    <tr style=\"text-align: right;\">\n",
       "      <th></th>\n",
       "      <th>user_id</th>\n",
       "      <th>product_id</th>\n",
       "      <th>up_order_ratio</th>\n",
       "    </tr>\n",
       "  </thead>\n",
       "  <tbody>\n",
       "    <tr>\n",
       "      <th>0</th>\n",
       "      <td>1</td>\n",
       "      <td>196</td>\n",
       "      <td>1.0</td>\n",
       "    </tr>\n",
       "    <tr>\n",
       "      <th>1</th>\n",
       "      <td>1</td>\n",
       "      <td>10258</td>\n",
       "      <td>0.9</td>\n",
       "    </tr>\n",
       "    <tr>\n",
       "      <th>2</th>\n",
       "      <td>1</td>\n",
       "      <td>10326</td>\n",
       "      <td>0.1</td>\n",
       "    </tr>\n",
       "    <tr>\n",
       "      <th>3</th>\n",
       "      <td>1</td>\n",
       "      <td>12427</td>\n",
       "      <td>1.0</td>\n",
       "    </tr>\n",
       "    <tr>\n",
       "      <th>4</th>\n",
       "      <td>1</td>\n",
       "      <td>13032</td>\n",
       "      <td>0.3</td>\n",
       "    </tr>\n",
       "  </tbody>\n",
       "</table>\n",
       "</div>"
      ],
      "text/plain": [
       "   user_id  product_id  up_order_ratio\n",
       "0        1         196             1.0\n",
       "1        1       10258             0.9\n",
       "2        1       10326             0.1\n",
       "3        1       12427             1.0\n",
       "4        1       13032             0.3"
      ]
     },
     "execution_count": 88,
     "metadata": {
      "tags": []
     },
     "output_type": "execute_result"
    }
   ],
   "source": [
    "up_order_ratio= pd.merge(up_unique_orders_count , user_max_order_no   , on=\"user_id\" , how=\"left\")\n",
    "up_order_ratio[\"up_order_ratio\"] = up_order_ratio[\"up_unique_orders_count\"] / up_order_ratio[\"user_max_order_no\"]\n",
    "up_order_ratio = up_order_ratio[[\"user_id\" , \"product_id\" , \"up_order_ratio\"]]\n",
    "up_order_ratio.head()"
   ]
  },
  {
   "cell_type": "markdown",
   "metadata": {
    "id": "8adIL5RBLm47"
   },
   "source": [
    "USER - PRODUCT DAY OF WEEK MEAN"
   ]
  },
  {
   "cell_type": "code",
   "execution_count": null,
   "metadata": {
    "colab": {
     "base_uri": "https://localhost:8080/",
     "height": 237
    },
    "id": "7TPyit8CLaYi",
    "outputId": "35c205f3-5d94-4bf1-a846-bfbaecd3ff30"
   },
   "outputs": [
    {
     "name": "stdout",
     "output_type": "stream",
     "text": [
      "Memory usage after optimization is: 126.91 MB\n",
      "Decreased by 58.3%\n"
     ]
    },
    {
     "data": {
      "text/html": [
       "<div>\n",
       "<style scoped>\n",
       "    .dataframe tbody tr th:only-of-type {\n",
       "        vertical-align: middle;\n",
       "    }\n",
       "\n",
       "    .dataframe tbody tr th {\n",
       "        vertical-align: top;\n",
       "    }\n",
       "\n",
       "    .dataframe thead th {\n",
       "        text-align: right;\n",
       "    }\n",
       "</style>\n",
       "<table border=\"1\" class=\"dataframe\">\n",
       "  <thead>\n",
       "    <tr style=\"text-align: right;\">\n",
       "      <th></th>\n",
       "      <th>user_id</th>\n",
       "      <th>product_id</th>\n",
       "      <th>up_mean_dow</th>\n",
       "    </tr>\n",
       "  </thead>\n",
       "  <tbody>\n",
       "    <tr>\n",
       "      <th>0</th>\n",
       "      <td>1</td>\n",
       "      <td>196</td>\n",
       "      <td>2.500000</td>\n",
       "    </tr>\n",
       "    <tr>\n",
       "      <th>1</th>\n",
       "      <td>1</td>\n",
       "      <td>10258</td>\n",
       "      <td>2.554688</td>\n",
       "    </tr>\n",
       "    <tr>\n",
       "      <th>2</th>\n",
       "      <td>1</td>\n",
       "      <td>10326</td>\n",
       "      <td>4.000000</td>\n",
       "    </tr>\n",
       "    <tr>\n",
       "      <th>3</th>\n",
       "      <td>1</td>\n",
       "      <td>12427</td>\n",
       "      <td>2.500000</td>\n",
       "    </tr>\n",
       "    <tr>\n",
       "      <th>4</th>\n",
       "      <td>1</td>\n",
       "      <td>13032</td>\n",
       "      <td>2.666016</td>\n",
       "    </tr>\n",
       "  </tbody>\n",
       "</table>\n",
       "</div>"
      ],
      "text/plain": [
       "   user_id  product_id  up_mean_dow\n",
       "0        1         196     2.500000\n",
       "1        1       10258     2.554688\n",
       "2        1       10326     4.000000\n",
       "3        1       12427     2.500000\n",
       "4        1       13032     2.666016"
      ]
     },
     "execution_count": 89,
     "metadata": {
      "tags": []
     },
     "output_type": "execute_result"
    }
   ],
   "source": [
    "up_mean_dow = prior_data.groupby([\"user_id\",\"product_id\"])[\"order_dow\"].mean().to_frame(\"up_mean_dow\").reset_index()\n",
    "up_mean_dow=reduce_mem_usage(up_mean_dow)\n",
    "up_mean_dow.head()"
   ]
  },
  {
   "cell_type": "markdown",
   "metadata": {
    "id": "2KjN5fa1L1xe"
   },
   "source": [
    "USER - PRODUCT HOUR OF DAY MEAN"
   ]
  },
  {
   "cell_type": "code",
   "execution_count": null,
   "metadata": {
    "colab": {
     "base_uri": "https://localhost:8080/",
     "height": 237
    },
    "id": "L0vosUhMLsKB",
    "outputId": "f66e5297-faed-498f-8c50-ecc125fb3bdc"
   },
   "outputs": [
    {
     "name": "stdout",
     "output_type": "stream",
     "text": [
      "Memory usage after optimization is: 126.91 MB\n",
      "Decreased by 58.3%\n"
     ]
    },
    {
     "data": {
      "text/html": [
       "<div>\n",
       "<style scoped>\n",
       "    .dataframe tbody tr th:only-of-type {\n",
       "        vertical-align: middle;\n",
       "    }\n",
       "\n",
       "    .dataframe tbody tr th {\n",
       "        vertical-align: top;\n",
       "    }\n",
       "\n",
       "    .dataframe thead th {\n",
       "        text-align: right;\n",
       "    }\n",
       "</style>\n",
       "<table border=\"1\" class=\"dataframe\">\n",
       "  <thead>\n",
       "    <tr style=\"text-align: right;\">\n",
       "      <th></th>\n",
       "      <th>user_id</th>\n",
       "      <th>product_id</th>\n",
       "      <th>up_mean_hod</th>\n",
       "    </tr>\n",
       "  </thead>\n",
       "  <tbody>\n",
       "    <tr>\n",
       "      <th>0</th>\n",
       "      <td>1</td>\n",
       "      <td>196</td>\n",
       "      <td>10.296875</td>\n",
       "    </tr>\n",
       "    <tr>\n",
       "      <th>1</th>\n",
       "      <td>1</td>\n",
       "      <td>10258</td>\n",
       "      <td>10.554688</td>\n",
       "    </tr>\n",
       "    <tr>\n",
       "      <th>2</th>\n",
       "      <td>1</td>\n",
       "      <td>10326</td>\n",
       "      <td>15.000000</td>\n",
       "    </tr>\n",
       "    <tr>\n",
       "      <th>3</th>\n",
       "      <td>1</td>\n",
       "      <td>12427</td>\n",
       "      <td>10.296875</td>\n",
       "    </tr>\n",
       "    <tr>\n",
       "      <th>4</th>\n",
       "      <td>1</td>\n",
       "      <td>13032</td>\n",
       "      <td>8.000000</td>\n",
       "    </tr>\n",
       "  </tbody>\n",
       "</table>\n",
       "</div>"
      ],
      "text/plain": [
       "   user_id  product_id  up_mean_hod\n",
       "0        1         196    10.296875\n",
       "1        1       10258    10.554688\n",
       "2        1       10326    15.000000\n",
       "3        1       12427    10.296875\n",
       "4        1       13032     8.000000"
      ]
     },
     "execution_count": 91,
     "metadata": {
      "tags": []
     },
     "output_type": "execute_result"
    }
   ],
   "source": [
    "up_mean_hod = prior_data.groupby([\"user_id\",\"product_id\"])[\"order_hour_of_day\"].mean().to_frame(\"up_mean_hod\").reset_index()\n",
    "up_mean_hod=reduce_mem_usage(up_mean_hod)\n",
    "up_mean_hod.head()"
   ]
  },
  {
   "cell_type": "markdown",
   "metadata": {
    "id": "4SdGr_LQOiW0"
   },
   "source": [
    "USER - PRODUCT DAY SINCE PREVIOUS ORDER MEAN"
   ]
  },
  {
   "cell_type": "code",
   "execution_count": null,
   "metadata": {
    "colab": {
     "base_uri": "https://localhost:8080/",
     "height": 237
    },
    "id": "qz5o4qj3Onf-",
    "outputId": "7b3a9938-e4d5-468f-c317-f5b80638d684"
   },
   "outputs": [
    {
     "name": "stdout",
     "output_type": "stream",
     "text": [
      "Memory usage after optimization is: 126.91 MB\n",
      "Decreased by 44.4%\n"
     ]
    },
    {
     "data": {
      "text/html": [
       "<div>\n",
       "<style scoped>\n",
       "    .dataframe tbody tr th:only-of-type {\n",
       "        vertical-align: middle;\n",
       "    }\n",
       "\n",
       "    .dataframe tbody tr th {\n",
       "        vertical-align: top;\n",
       "    }\n",
       "\n",
       "    .dataframe thead th {\n",
       "        text-align: right;\n",
       "    }\n",
       "</style>\n",
       "<table border=\"1\" class=\"dataframe\">\n",
       "  <thead>\n",
       "    <tr style=\"text-align: right;\">\n",
       "      <th></th>\n",
       "      <th>user_id</th>\n",
       "      <th>product_id</th>\n",
       "      <th>up_mean_dsp</th>\n",
       "    </tr>\n",
       "  </thead>\n",
       "  <tbody>\n",
       "    <tr>\n",
       "      <th>0</th>\n",
       "      <td>1</td>\n",
       "      <td>196</td>\n",
       "      <td>17.593750</td>\n",
       "    </tr>\n",
       "    <tr>\n",
       "      <th>1</th>\n",
       "      <td>1</td>\n",
       "      <td>10258</td>\n",
       "      <td>19.562500</td>\n",
       "    </tr>\n",
       "    <tr>\n",
       "      <th>2</th>\n",
       "      <td>1</td>\n",
       "      <td>10326</td>\n",
       "      <td>28.000000</td>\n",
       "    </tr>\n",
       "    <tr>\n",
       "      <th>3</th>\n",
       "      <td>1</td>\n",
       "      <td>12427</td>\n",
       "      <td>17.593750</td>\n",
       "    </tr>\n",
       "    <tr>\n",
       "      <th>4</th>\n",
       "      <td>1</td>\n",
       "      <td>13032</td>\n",
       "      <td>21.671875</td>\n",
       "    </tr>\n",
       "  </tbody>\n",
       "</table>\n",
       "</div>"
      ],
      "text/plain": [
       "   user_id  product_id  up_mean_dsp\n",
       "0        1         196    17.593750\n",
       "1        1       10258    19.562500\n",
       "2        1       10326    28.000000\n",
       "3        1       12427    17.593750\n",
       "4        1       13032    21.671875"
      ]
     },
     "execution_count": 103,
     "metadata": {
      "tags": []
     },
     "output_type": "execute_result"
    }
   ],
   "source": [
    "up_mean_dsp = prior_data.groupby([\"user_id\",\"product_id\"])[\"days_since_prior_order\"].mean().to_frame(\"up_mean_dsp\").reset_index()\n",
    "up_mean_dsp =reduce_mem_usage(up_mean_dsp)\n",
    "up_mean_dsp.head()"
   ]
  },
  {
   "cell_type": "markdown",
   "metadata": {
    "id": "9GBXF3hhL8yn"
   },
   "source": [
    "USER - PRODUCT ORDER NUMBER SUM"
   ]
  },
  {
   "cell_type": "code",
   "execution_count": null,
   "metadata": {
    "colab": {
     "base_uri": "https://localhost:8080/",
     "height": 237
    },
    "id": "nXFvonKXL3vx",
    "outputId": "324ed0e6-f5df-4440-f69b-0bd8e3c2aff6"
   },
   "outputs": [
    {
     "name": "stdout",
     "output_type": "stream",
     "text": [
      "Memory usage after optimization is: 126.91 MB\n",
      "Decreased by 58.3%\n"
     ]
    },
    {
     "data": {
      "text/html": [
       "<div>\n",
       "<style scoped>\n",
       "    .dataframe tbody tr th:only-of-type {\n",
       "        vertical-align: middle;\n",
       "    }\n",
       "\n",
       "    .dataframe tbody tr th {\n",
       "        vertical-align: top;\n",
       "    }\n",
       "\n",
       "    .dataframe thead th {\n",
       "        text-align: right;\n",
       "    }\n",
       "</style>\n",
       "<table border=\"1\" class=\"dataframe\">\n",
       "  <thead>\n",
       "    <tr style=\"text-align: right;\">\n",
       "      <th></th>\n",
       "      <th>user_id</th>\n",
       "      <th>product_id</th>\n",
       "      <th>up_sum_order_no</th>\n",
       "    </tr>\n",
       "  </thead>\n",
       "  <tbody>\n",
       "    <tr>\n",
       "      <th>0</th>\n",
       "      <td>1</td>\n",
       "      <td>196</td>\n",
       "      <td>55.0</td>\n",
       "    </tr>\n",
       "    <tr>\n",
       "      <th>1</th>\n",
       "      <td>1</td>\n",
       "      <td>10258</td>\n",
       "      <td>54.0</td>\n",
       "    </tr>\n",
       "    <tr>\n",
       "      <th>2</th>\n",
       "      <td>1</td>\n",
       "      <td>10326</td>\n",
       "      <td>5.0</td>\n",
       "    </tr>\n",
       "    <tr>\n",
       "      <th>3</th>\n",
       "      <td>1</td>\n",
       "      <td>12427</td>\n",
       "      <td>55.0</td>\n",
       "    </tr>\n",
       "    <tr>\n",
       "      <th>4</th>\n",
       "      <td>1</td>\n",
       "      <td>13032</td>\n",
       "      <td>19.0</td>\n",
       "    </tr>\n",
       "  </tbody>\n",
       "</table>\n",
       "</div>"
      ],
      "text/plain": [
       "   user_id  product_id  up_sum_order_no\n",
       "0        1         196             55.0\n",
       "1        1       10258             54.0\n",
       "2        1       10326              5.0\n",
       "3        1       12427             55.0\n",
       "4        1       13032             19.0"
      ]
     },
     "execution_count": 92,
     "metadata": {
      "tags": []
     },
     "output_type": "execute_result"
    }
   ],
   "source": [
    "up_sum_order_no = prior_data.groupby([\"user_id\",\"product_id\"])[\"order_number\"].sum().to_frame(\"up_sum_order_no\").reset_index()\n",
    "up_sum_order_no=reduce_mem_usage(up_sum_order_no)\n",
    "up_sum_order_no.head()"
   ]
  },
  {
   "cell_type": "markdown",
   "metadata": {
    "id": "8GtZzLZOSiua"
   },
   "source": [
    "USER PRODUCT ADD TO CART MEAN"
   ]
  },
  {
   "cell_type": "code",
   "execution_count": null,
   "metadata": {
    "colab": {
     "base_uri": "https://localhost:8080/",
     "height": 237
    },
    "id": "BB51vxMMSxwR",
    "outputId": "7f0929c2-b927-4368-e2b5-3250f8216ce8"
   },
   "outputs": [
    {
     "name": "stdout",
     "output_type": "stream",
     "text": [
      "Memory usage after optimization is: 126.91 MB\n",
      "Decreased by 58.3%\n"
     ]
    },
    {
     "data": {
      "text/html": [
       "<div>\n",
       "<style scoped>\n",
       "    .dataframe tbody tr th:only-of-type {\n",
       "        vertical-align: middle;\n",
       "    }\n",
       "\n",
       "    .dataframe tbody tr th {\n",
       "        vertical-align: top;\n",
       "    }\n",
       "\n",
       "    .dataframe thead th {\n",
       "        text-align: right;\n",
       "    }\n",
       "</style>\n",
       "<table border=\"1\" class=\"dataframe\">\n",
       "  <thead>\n",
       "    <tr style=\"text-align: right;\">\n",
       "      <th></th>\n",
       "      <th>user_id</th>\n",
       "      <th>product_id</th>\n",
       "      <th>up_mean_cart</th>\n",
       "    </tr>\n",
       "  </thead>\n",
       "  <tbody>\n",
       "    <tr>\n",
       "      <th>0</th>\n",
       "      <td>1</td>\n",
       "      <td>196</td>\n",
       "      <td>1.400391</td>\n",
       "    </tr>\n",
       "    <tr>\n",
       "      <th>1</th>\n",
       "      <td>1</td>\n",
       "      <td>10258</td>\n",
       "      <td>3.333984</td>\n",
       "    </tr>\n",
       "    <tr>\n",
       "      <th>2</th>\n",
       "      <td>1</td>\n",
       "      <td>10326</td>\n",
       "      <td>5.000000</td>\n",
       "    </tr>\n",
       "    <tr>\n",
       "      <th>3</th>\n",
       "      <td>1</td>\n",
       "      <td>12427</td>\n",
       "      <td>3.300781</td>\n",
       "    </tr>\n",
       "    <tr>\n",
       "      <th>4</th>\n",
       "      <td>1</td>\n",
       "      <td>13032</td>\n",
       "      <td>6.332031</td>\n",
       "    </tr>\n",
       "  </tbody>\n",
       "</table>\n",
       "</div>"
      ],
      "text/plain": [
       "   user_id  product_id  up_mean_cart\n",
       "0        1         196      1.400391\n",
       "1        1       10258      3.333984\n",
       "2        1       10326      5.000000\n",
       "3        1       12427      3.300781\n",
       "4        1       13032      6.332031"
      ]
     },
     "execution_count": 105,
     "metadata": {
      "tags": []
     },
     "output_type": "execute_result"
    }
   ],
   "source": [
    "up_mean_cart = prior_data.groupby([\"user_id\",\"product_id\"])[\"add_to_cart_order\"].mean().to_frame(\"up_mean_cart\").reset_index()\n",
    "up_mean_cart=reduce_mem_usage(up_mean_cart)\n",
    "up_mean_cart.head()"
   ]
  },
  {
   "cell_type": "markdown",
   "metadata": {
    "id": "630j3aOnML2w"
   },
   "source": [
    "3 FEATURE BASED ON LAST 5 ORDERS"
   ]
  },
  {
   "cell_type": "code",
   "execution_count": null,
   "metadata": {
    "colab": {
     "base_uri": "https://localhost:8080/",
     "height": 361
    },
    "id": "FvvxraRZMJ83",
    "outputId": "af4612e7-8093-4ac6-f0d9-bd3e5a9f7e77"
   },
   "outputs": [
    {
     "data": {
      "text/html": [
       "<div>\n",
       "<style scoped>\n",
       "    .dataframe tbody tr th:only-of-type {\n",
       "        vertical-align: middle;\n",
       "    }\n",
       "\n",
       "    .dataframe tbody tr th {\n",
       "        vertical-align: top;\n",
       "    }\n",
       "\n",
       "    .dataframe thead th {\n",
       "        text-align: right;\n",
       "    }\n",
       "</style>\n",
       "<table border=\"1\" class=\"dataframe\">\n",
       "  <thead>\n",
       "    <tr style=\"text-align: right;\">\n",
       "      <th></th>\n",
       "      <th>order_id</th>\n",
       "      <th>user_id</th>\n",
       "      <th>eval_set</th>\n",
       "      <th>order_number</th>\n",
       "      <th>order_dow</th>\n",
       "      <th>order_hour_of_day</th>\n",
       "      <th>days_since_prior_order</th>\n",
       "      <th>product_id</th>\n",
       "      <th>add_to_cart_order</th>\n",
       "      <th>reordered</th>\n",
       "      <th>product_name</th>\n",
       "      <th>aisle_id</th>\n",
       "      <th>department_id</th>\n",
       "      <th>aisle</th>\n",
       "      <th>order_number_from_last</th>\n",
       "    </tr>\n",
       "  </thead>\n",
       "  <tbody>\n",
       "    <tr>\n",
       "      <th>0</th>\n",
       "      <td>2539329</td>\n",
       "      <td>1</td>\n",
       "      <td>prior</td>\n",
       "      <td>1</td>\n",
       "      <td>2</td>\n",
       "      <td>8</td>\n",
       "      <td>0.0</td>\n",
       "      <td>196</td>\n",
       "      <td>1</td>\n",
       "      <td>0</td>\n",
       "      <td>Soda</td>\n",
       "      <td>77</td>\n",
       "      <td>7</td>\n",
       "      <td>soft drinks</td>\n",
       "      <td>10</td>\n",
       "    </tr>\n",
       "    <tr>\n",
       "      <th>1</th>\n",
       "      <td>2539329</td>\n",
       "      <td>1</td>\n",
       "      <td>prior</td>\n",
       "      <td>1</td>\n",
       "      <td>2</td>\n",
       "      <td>8</td>\n",
       "      <td>0.0</td>\n",
       "      <td>14084</td>\n",
       "      <td>2</td>\n",
       "      <td>0</td>\n",
       "      <td>Organic Unsweetened Vanilla Almond Milk</td>\n",
       "      <td>91</td>\n",
       "      <td>16</td>\n",
       "      <td>soy lactosefree</td>\n",
       "      <td>10</td>\n",
       "    </tr>\n",
       "    <tr>\n",
       "      <th>2</th>\n",
       "      <td>2539329</td>\n",
       "      <td>1</td>\n",
       "      <td>prior</td>\n",
       "      <td>1</td>\n",
       "      <td>2</td>\n",
       "      <td>8</td>\n",
       "      <td>0.0</td>\n",
       "      <td>12427</td>\n",
       "      <td>3</td>\n",
       "      <td>0</td>\n",
       "      <td>Original Beef Jerky</td>\n",
       "      <td>23</td>\n",
       "      <td>19</td>\n",
       "      <td>popcorn jerky</td>\n",
       "      <td>10</td>\n",
       "    </tr>\n",
       "    <tr>\n",
       "      <th>3</th>\n",
       "      <td>2539329</td>\n",
       "      <td>1</td>\n",
       "      <td>prior</td>\n",
       "      <td>1</td>\n",
       "      <td>2</td>\n",
       "      <td>8</td>\n",
       "      <td>0.0</td>\n",
       "      <td>26088</td>\n",
       "      <td>4</td>\n",
       "      <td>0</td>\n",
       "      <td>Aged White Cheddar Popcorn</td>\n",
       "      <td>23</td>\n",
       "      <td>19</td>\n",
       "      <td>popcorn jerky</td>\n",
       "      <td>10</td>\n",
       "    </tr>\n",
       "    <tr>\n",
       "      <th>4</th>\n",
       "      <td>2539329</td>\n",
       "      <td>1</td>\n",
       "      <td>prior</td>\n",
       "      <td>1</td>\n",
       "      <td>2</td>\n",
       "      <td>8</td>\n",
       "      <td>0.0</td>\n",
       "      <td>26405</td>\n",
       "      <td>5</td>\n",
       "      <td>0</td>\n",
       "      <td>XL Pick-A-Size Paper Towel Rolls</td>\n",
       "      <td>54</td>\n",
       "      <td>17</td>\n",
       "      <td>paper goods</td>\n",
       "      <td>10</td>\n",
       "    </tr>\n",
       "  </tbody>\n",
       "</table>\n",
       "</div>"
      ],
      "text/plain": [
       "   order_id  user_id  ...            aisle  order_number_from_last\n",
       "0   2539329        1  ...      soft drinks                      10\n",
       "1   2539329        1  ...  soy lactosefree                      10\n",
       "2   2539329        1  ...    popcorn jerky                      10\n",
       "3   2539329        1  ...    popcorn jerky                      10\n",
       "4   2539329        1  ...      paper goods                      10\n",
       "\n",
       "[5 rows x 15 columns]"
      ]
     },
     "execution_count": 94,
     "metadata": {
      "tags": []
     },
     "output_type": "execute_result"
    }
   ],
   "source": [
    "#URL : https://www.kaggle.com/errolpereira/xgboost-with-feature-engineering\n",
    "prior_data['order_number_from_last'] = prior_data.groupby(by=['user_id'])['order_number'].transform(max) - prior_data.order_number + 1\n",
    "prior_data.head()"
   ]
  },
  {
   "cell_type": "code",
   "execution_count": null,
   "metadata": {
    "colab": {
     "base_uri": "https://localhost:8080/",
     "height": 343
    },
    "id": "S8kK7u2aMVOJ",
    "outputId": "710ca032-b0f2-4da7-de0c-6ff378648e60"
   },
   "outputs": [
    {
     "name": "stdout",
     "output_type": "stream",
     "text": [
      "(9863821, 15)\n"
     ]
    },
    {
     "data": {
      "text/html": [
       "<div>\n",
       "<style scoped>\n",
       "    .dataframe tbody tr th:only-of-type {\n",
       "        vertical-align: middle;\n",
       "    }\n",
       "\n",
       "    .dataframe tbody tr th {\n",
       "        vertical-align: top;\n",
       "    }\n",
       "\n",
       "    .dataframe thead th {\n",
       "        text-align: right;\n",
       "    }\n",
       "</style>\n",
       "<table border=\"1\" class=\"dataframe\">\n",
       "  <thead>\n",
       "    <tr style=\"text-align: right;\">\n",
       "      <th></th>\n",
       "      <th>order_id</th>\n",
       "      <th>user_id</th>\n",
       "      <th>eval_set</th>\n",
       "      <th>order_number</th>\n",
       "      <th>order_dow</th>\n",
       "      <th>order_hour_of_day</th>\n",
       "      <th>days_since_prior_order</th>\n",
       "      <th>product_id</th>\n",
       "      <th>add_to_cart_order</th>\n",
       "      <th>reordered</th>\n",
       "      <th>product_name</th>\n",
       "      <th>aisle_id</th>\n",
       "      <th>department_id</th>\n",
       "      <th>aisle</th>\n",
       "      <th>order_number_from_last</th>\n",
       "    </tr>\n",
       "  </thead>\n",
       "  <tbody>\n",
       "    <tr>\n",
       "      <th>29</th>\n",
       "      <td>3367565</td>\n",
       "      <td>1</td>\n",
       "      <td>prior</td>\n",
       "      <td>6</td>\n",
       "      <td>2</td>\n",
       "      <td>7</td>\n",
       "      <td>19.0</td>\n",
       "      <td>196</td>\n",
       "      <td>1</td>\n",
       "      <td>1</td>\n",
       "      <td>Soda</td>\n",
       "      <td>77</td>\n",
       "      <td>7</td>\n",
       "      <td>soft drinks</td>\n",
       "      <td>5</td>\n",
       "    </tr>\n",
       "    <tr>\n",
       "      <th>30</th>\n",
       "      <td>3367565</td>\n",
       "      <td>1</td>\n",
       "      <td>prior</td>\n",
       "      <td>6</td>\n",
       "      <td>2</td>\n",
       "      <td>7</td>\n",
       "      <td>19.0</td>\n",
       "      <td>12427</td>\n",
       "      <td>2</td>\n",
       "      <td>1</td>\n",
       "      <td>Original Beef Jerky</td>\n",
       "      <td>23</td>\n",
       "      <td>19</td>\n",
       "      <td>popcorn jerky</td>\n",
       "      <td>5</td>\n",
       "    </tr>\n",
       "    <tr>\n",
       "      <th>31</th>\n",
       "      <td>3367565</td>\n",
       "      <td>1</td>\n",
       "      <td>prior</td>\n",
       "      <td>6</td>\n",
       "      <td>2</td>\n",
       "      <td>7</td>\n",
       "      <td>19.0</td>\n",
       "      <td>10258</td>\n",
       "      <td>3</td>\n",
       "      <td>1</td>\n",
       "      <td>Pistachios</td>\n",
       "      <td>117</td>\n",
       "      <td>19</td>\n",
       "      <td>nuts seeds dried fruit</td>\n",
       "      <td>5</td>\n",
       "    </tr>\n",
       "    <tr>\n",
       "      <th>32</th>\n",
       "      <td>3367565</td>\n",
       "      <td>1</td>\n",
       "      <td>prior</td>\n",
       "      <td>6</td>\n",
       "      <td>2</td>\n",
       "      <td>7</td>\n",
       "      <td>19.0</td>\n",
       "      <td>25133</td>\n",
       "      <td>4</td>\n",
       "      <td>1</td>\n",
       "      <td>Organic String Cheese</td>\n",
       "      <td>21</td>\n",
       "      <td>16</td>\n",
       "      <td>packaged cheese</td>\n",
       "      <td>5</td>\n",
       "    </tr>\n",
       "    <tr>\n",
       "      <th>33</th>\n",
       "      <td>550135</td>\n",
       "      <td>1</td>\n",
       "      <td>prior</td>\n",
       "      <td>7</td>\n",
       "      <td>1</td>\n",
       "      <td>9</td>\n",
       "      <td>20.0</td>\n",
       "      <td>196</td>\n",
       "      <td>1</td>\n",
       "      <td>1</td>\n",
       "      <td>Soda</td>\n",
       "      <td>77</td>\n",
       "      <td>7</td>\n",
       "      <td>soft drinks</td>\n",
       "      <td>4</td>\n",
       "    </tr>\n",
       "  </tbody>\n",
       "</table>\n",
       "</div>"
      ],
      "text/plain": [
       "    order_id  user_id  ...                   aisle  order_number_from_last\n",
       "29   3367565        1  ...             soft drinks                       5\n",
       "30   3367565        1  ...           popcorn jerky                       5\n",
       "31   3367565        1  ...  nuts seeds dried fruit                       5\n",
       "32   3367565        1  ...         packaged cheese                       5\n",
       "33    550135        1  ...             soft drinks                       4\n",
       "\n",
       "[5 rows x 15 columns]"
      ]
     },
     "execution_count": 95,
     "metadata": {
      "tags": []
     },
     "output_type": "execute_result"
    }
   ],
   "source": [
    "last_5 = prior_data.loc[prior_data.order_number_from_last <= 5]\n",
    "print(last_5.shape)\n",
    "last_5.head()"
   ]
  },
  {
   "cell_type": "markdown",
   "metadata": {
    "id": "PldFmRggMpkO"
   },
   "source": [
    "Chance_in_last_5:In last5 if USER A PURCHASE PRODUCT B FOR FIRST TIME\n",
    "\n",
    "IN LAST=(5) THAN Chance_in_last_5=1\n",
    "\n",
    "IN LAST-1 ORDER THAN Chance_in_last_5=2\n",
    "\n",
    "IN LAST-2 ORDER THAN Chance_in_last_5=3\n",
    "\n",
    "IN LAST-3 ORDER THAN Chance_in_last_5=4\n",
    "\n",
    "IN LAST-4 ORDER THAN Chance_in_last_5=5"
   ]
  },
  {
   "cell_type": "code",
   "execution_count": null,
   "metadata": {
    "colab": {
     "base_uri": "https://localhost:8080/",
     "height": 202
    },
    "id": "nK1ExBz8MleZ",
    "outputId": "ef80bff8-9b0b-4a62-8829-4453127f2ed1"
   },
   "outputs": [
    {
     "data": {
      "text/html": [
       "<div>\n",
       "<style scoped>\n",
       "    .dataframe tbody tr th:only-of-type {\n",
       "        vertical-align: middle;\n",
       "    }\n",
       "\n",
       "    .dataframe tbody tr th {\n",
       "        vertical-align: top;\n",
       "    }\n",
       "\n",
       "    .dataframe thead th {\n",
       "        text-align: right;\n",
       "    }\n",
       "</style>\n",
       "<table border=\"1\" class=\"dataframe\">\n",
       "  <thead>\n",
       "    <tr style=\"text-align: right;\">\n",
       "      <th></th>\n",
       "      <th>user_id</th>\n",
       "      <th>product_id</th>\n",
       "      <th>chance_in_last_5</th>\n",
       "    </tr>\n",
       "  </thead>\n",
       "  <tbody>\n",
       "    <tr>\n",
       "      <th>0</th>\n",
       "      <td>1</td>\n",
       "      <td>196</td>\n",
       "      <td>5</td>\n",
       "    </tr>\n",
       "    <tr>\n",
       "      <th>1</th>\n",
       "      <td>1</td>\n",
       "      <td>10258</td>\n",
       "      <td>5</td>\n",
       "    </tr>\n",
       "    <tr>\n",
       "      <th>2</th>\n",
       "      <td>1</td>\n",
       "      <td>12427</td>\n",
       "      <td>5</td>\n",
       "    </tr>\n",
       "    <tr>\n",
       "      <th>3</th>\n",
       "      <td>1</td>\n",
       "      <td>13032</td>\n",
       "      <td>4</td>\n",
       "    </tr>\n",
       "    <tr>\n",
       "      <th>4</th>\n",
       "      <td>1</td>\n",
       "      <td>25133</td>\n",
       "      <td>5</td>\n",
       "    </tr>\n",
       "  </tbody>\n",
       "</table>\n",
       "</div>"
      ],
      "text/plain": [
       "   user_id  product_id  chance_in_last_5\n",
       "0        1         196                 5\n",
       "1        1       10258                 5\n",
       "2        1       12427                 5\n",
       "3        1       13032                 4\n",
       "4        1       25133                 5"
      ]
     },
     "execution_count": 96,
     "metadata": {
      "tags": []
     },
     "output_type": "execute_result"
    }
   ],
   "source": [
    "chance_in_last_5= last_5.groupby(by=['user_id', 'product_id'])['order_number_from_last'].aggregate('max').to_frame('chance_in_last_5').reset_index()\n",
    "chance_in_last_5.head()"
   ]
  },
  {
   "cell_type": "markdown",
   "metadata": {
    "id": "z2f9mgPxMvGQ"
   },
   "source": [
    "Last_5_count:IN LAST 5 ORDERS OF USER’S COUNT OF UNIQUE PRODUCT"
   ]
  },
  {
   "cell_type": "code",
   "execution_count": null,
   "metadata": {
    "colab": {
     "base_uri": "https://localhost:8080/",
     "height": 202
    },
    "id": "1hmX6iCqMrv7",
    "outputId": "9cddcff6-f1f3-4774-bca9-8a5d69f9dab8"
   },
   "outputs": [
    {
     "data": {
      "text/html": [
       "<div>\n",
       "<style scoped>\n",
       "    .dataframe tbody tr th:only-of-type {\n",
       "        vertical-align: middle;\n",
       "    }\n",
       "\n",
       "    .dataframe tbody tr th {\n",
       "        vertical-align: top;\n",
       "    }\n",
       "\n",
       "    .dataframe thead th {\n",
       "        text-align: right;\n",
       "    }\n",
       "</style>\n",
       "<table border=\"1\" class=\"dataframe\">\n",
       "  <thead>\n",
       "    <tr style=\"text-align: right;\">\n",
       "      <th></th>\n",
       "      <th>user_id</th>\n",
       "      <th>product_id</th>\n",
       "      <th>last_5_count</th>\n",
       "    </tr>\n",
       "  </thead>\n",
       "  <tbody>\n",
       "    <tr>\n",
       "      <th>0</th>\n",
       "      <td>1</td>\n",
       "      <td>196</td>\n",
       "      <td>5</td>\n",
       "    </tr>\n",
       "    <tr>\n",
       "      <th>1</th>\n",
       "      <td>1</td>\n",
       "      <td>10258</td>\n",
       "      <td>5</td>\n",
       "    </tr>\n",
       "    <tr>\n",
       "      <th>2</th>\n",
       "      <td>1</td>\n",
       "      <td>12427</td>\n",
       "      <td>5</td>\n",
       "    </tr>\n",
       "    <tr>\n",
       "      <th>3</th>\n",
       "      <td>1</td>\n",
       "      <td>13032</td>\n",
       "      <td>2</td>\n",
       "    </tr>\n",
       "    <tr>\n",
       "      <th>4</th>\n",
       "      <td>1</td>\n",
       "      <td>25133</td>\n",
       "      <td>5</td>\n",
       "    </tr>\n",
       "  </tbody>\n",
       "</table>\n",
       "</div>"
      ],
      "text/plain": [
       "   user_id  product_id  last_5_count\n",
       "0        1         196             5\n",
       "1        1       10258             5\n",
       "2        1       12427             5\n",
       "3        1       13032             2\n",
       "4        1       25133             5"
      ]
     },
     "execution_count": 97,
     "metadata": {
      "tags": []
     },
     "output_type": "execute_result"
    }
   ],
   "source": [
    "last_5 = last_5.groupby(by=['user_id', 'product_id'])['order_id'].count().to_frame('last_5_count').reset_index()\n",
    "last_5.head()"
   ]
  },
  {
   "cell_type": "markdown",
   "metadata": {
    "id": "SqdZ9HTeM0oF"
   },
   "source": [
    "Last_5_ratio: Last_5_count/5"
   ]
  },
  {
   "cell_type": "code",
   "execution_count": null,
   "metadata": {
    "colab": {
     "base_uri": "https://localhost:8080/",
     "height": 202
    },
    "id": "LiUjEl35MynS",
    "outputId": "b901e85c-3a24-4a5b-b719-7ef87e85e536"
   },
   "outputs": [
    {
     "data": {
      "text/html": [
       "<div>\n",
       "<style scoped>\n",
       "    .dataframe tbody tr th:only-of-type {\n",
       "        vertical-align: middle;\n",
       "    }\n",
       "\n",
       "    .dataframe tbody tr th {\n",
       "        vertical-align: top;\n",
       "    }\n",
       "\n",
       "    .dataframe thead th {\n",
       "        text-align: right;\n",
       "    }\n",
       "</style>\n",
       "<table border=\"1\" class=\"dataframe\">\n",
       "  <thead>\n",
       "    <tr style=\"text-align: right;\">\n",
       "      <th></th>\n",
       "      <th>user_id</th>\n",
       "      <th>product_id</th>\n",
       "      <th>last_5_count</th>\n",
       "      <th>last_5_ratio</th>\n",
       "    </tr>\n",
       "  </thead>\n",
       "  <tbody>\n",
       "    <tr>\n",
       "      <th>0</th>\n",
       "      <td>1</td>\n",
       "      <td>196</td>\n",
       "      <td>5</td>\n",
       "      <td>1.0</td>\n",
       "    </tr>\n",
       "    <tr>\n",
       "      <th>1</th>\n",
       "      <td>1</td>\n",
       "      <td>10258</td>\n",
       "      <td>5</td>\n",
       "      <td>1.0</td>\n",
       "    </tr>\n",
       "    <tr>\n",
       "      <th>2</th>\n",
       "      <td>1</td>\n",
       "      <td>12427</td>\n",
       "      <td>5</td>\n",
       "      <td>1.0</td>\n",
       "    </tr>\n",
       "    <tr>\n",
       "      <th>3</th>\n",
       "      <td>1</td>\n",
       "      <td>13032</td>\n",
       "      <td>2</td>\n",
       "      <td>0.4</td>\n",
       "    </tr>\n",
       "    <tr>\n",
       "      <th>4</th>\n",
       "      <td>1</td>\n",
       "      <td>25133</td>\n",
       "      <td>5</td>\n",
       "      <td>1.0</td>\n",
       "    </tr>\n",
       "  </tbody>\n",
       "</table>\n",
       "</div>"
      ],
      "text/plain": [
       "   user_id  product_id  last_5_count  last_5_ratio\n",
       "0        1         196             5           1.0\n",
       "1        1       10258             5           1.0\n",
       "2        1       12427             5           1.0\n",
       "3        1       13032             2           0.4\n",
       "4        1       25133             5           1.0"
      ]
     },
     "execution_count": 98,
     "metadata": {
      "tags": []
     },
     "output_type": "execute_result"
    }
   ],
   "source": [
    "last_5[\"last_5_ratio\"] = last_5[\"last_5_count\"] / 5\n",
    "last_5.head()"
   ]
  },
  {
   "cell_type": "code",
   "execution_count": null,
   "metadata": {
    "colab": {
     "base_uri": "https://localhost:8080/"
    },
    "id": "SJYuBb8sM5D1",
    "outputId": "e09220e2-5614-4062-9a74-e5ed422aa55d"
   },
   "outputs": [
    {
     "data": {
      "text/plain": [
       "(6714245, 4)"
      ]
     },
     "execution_count": 99,
     "metadata": {
      "tags": []
     },
     "output_type": "execute_result"
    }
   ],
   "source": [
    "last_5.shape"
   ]
  },
  {
   "cell_type": "code",
   "execution_count": null,
   "metadata": {
    "colab": {
     "base_uri": "https://localhost:8080/",
     "height": 219
    },
    "id": "Tce7A7UcMykM",
    "outputId": "7a66b9d8-e229-403c-9459-5d4cc45d3403"
   },
   "outputs": [
    {
     "name": "stdout",
     "output_type": "stream",
     "text": [
      "(6714245, 5)\n"
     ]
    },
    {
     "data": {
      "text/html": [
       "<div>\n",
       "<style scoped>\n",
       "    .dataframe tbody tr th:only-of-type {\n",
       "        vertical-align: middle;\n",
       "    }\n",
       "\n",
       "    .dataframe tbody tr th {\n",
       "        vertical-align: top;\n",
       "    }\n",
       "\n",
       "    .dataframe thead th {\n",
       "        text-align: right;\n",
       "    }\n",
       "</style>\n",
       "<table border=\"1\" class=\"dataframe\">\n",
       "  <thead>\n",
       "    <tr style=\"text-align: right;\">\n",
       "      <th></th>\n",
       "      <th>user_id</th>\n",
       "      <th>product_id</th>\n",
       "      <th>last_5_count</th>\n",
       "      <th>last_5_ratio</th>\n",
       "      <th>chance_in_last_5</th>\n",
       "    </tr>\n",
       "  </thead>\n",
       "  <tbody>\n",
       "    <tr>\n",
       "      <th>0</th>\n",
       "      <td>1</td>\n",
       "      <td>196</td>\n",
       "      <td>5</td>\n",
       "      <td>1.0</td>\n",
       "      <td>5</td>\n",
       "    </tr>\n",
       "    <tr>\n",
       "      <th>1</th>\n",
       "      <td>1</td>\n",
       "      <td>10258</td>\n",
       "      <td>5</td>\n",
       "      <td>1.0</td>\n",
       "      <td>5</td>\n",
       "    </tr>\n",
       "    <tr>\n",
       "      <th>2</th>\n",
       "      <td>1</td>\n",
       "      <td>12427</td>\n",
       "      <td>5</td>\n",
       "      <td>1.0</td>\n",
       "      <td>5</td>\n",
       "    </tr>\n",
       "    <tr>\n",
       "      <th>3</th>\n",
       "      <td>1</td>\n",
       "      <td>13032</td>\n",
       "      <td>2</td>\n",
       "      <td>0.4</td>\n",
       "      <td>4</td>\n",
       "    </tr>\n",
       "    <tr>\n",
       "      <th>4</th>\n",
       "      <td>1</td>\n",
       "      <td>25133</td>\n",
       "      <td>5</td>\n",
       "      <td>1.0</td>\n",
       "      <td>5</td>\n",
       "    </tr>\n",
       "  </tbody>\n",
       "</table>\n",
       "</div>"
      ],
      "text/plain": [
       "   user_id  product_id  last_5_count  last_5_ratio  chance_in_last_5\n",
       "0        1         196             5           1.0                 5\n",
       "1        1       10258             5           1.0                 5\n",
       "2        1       12427             5           1.0                 5\n",
       "3        1       13032             2           0.4                 4\n",
       "4        1       25133             5           1.0                 5"
      ]
     },
     "execution_count": 100,
     "metadata": {
      "tags": []
     },
     "output_type": "execute_result"
    }
   ],
   "source": [
    "last_5=pd.merge(last_5,chance_in_last_5,on=['user_id','product_id'],how='left')\n",
    "print(last_5.shape)\n",
    "last_5.head()"
   ]
  },
  {
   "cell_type": "code",
   "execution_count": null,
   "metadata": {
    "colab": {
     "base_uri": "https://localhost:8080/"
    },
    "id": "fok3zbvWMygs",
    "outputId": "8a17b25b-bd95-421c-caeb-4b251daecd96"
   },
   "outputs": [
    {
     "name": "stdout",
     "output_type": "stream",
     "text": [
      "Memory usage after optimization is: 128.06 MB\n",
      "Decreased by 51.2%\n"
     ]
    }
   ],
   "source": [
    "last_5=reduce_mem_usage(last_5)"
   ]
  },
  {
   "cell_type": "markdown",
   "metadata": {
    "id": "yAUpXrW0eme-"
   },
   "source": [
    "MERGE USER-PRODUCT FEATURES"
   ]
  },
  {
   "cell_type": "code",
   "execution_count": null,
   "metadata": {
    "id": "TFywtEJiMyTl"
   },
   "outputs": [],
   "source": [
    "user_product_feature=[up_unique_orders_count,up_orders_diff,up_order_ratio,\n",
    "                  up_mean_dow,up_mean_hod,up_mean_dsp,up_sum_order_no,up_mean_cart,\n",
    "                  last_5]"
   ]
  },
  {
   "cell_type": "code",
   "execution_count": null,
   "metadata": {
    "colab": {
     "base_uri": "https://localhost:8080/"
    },
    "id": "AhzFBjErjYfp",
    "outputId": "72d42b56-49d5-49c7-a5c0-e26d85e0ba32"
   },
   "outputs": [
    {
     "name": "stdout",
     "output_type": "stream",
     "text": [
      "Memory usage after optimization is: 469.58 MB\n",
      "Decreased by 32.7%\n"
     ]
    }
   ],
   "source": [
    "user_product = pd.DataFrame()\n",
    "user_product[\"user_id\"] = up_unique_orders_count.user_id.copy()\n",
    "user_product[\"product_id\"] = up_unique_orders_count.product_id.copy()\n",
    "\n",
    "for f in user_product_feature:\n",
    "    user_product = pd.merge(user_product , f , on = ['user_id', 'product_id'], how='left')\n",
    "user_product=reduce_mem_usage(user_product)    "
   ]
  },
  {
   "cell_type": "code",
   "execution_count": null,
   "metadata": {
    "colab": {
     "base_uri": "https://localhost:8080/"
    },
    "id": "CRM4CUEfjbwZ",
    "outputId": "594129ea-fd51-42a2-adc1-5087525f7450"
   },
   "outputs": [
    {
     "data": {
      "text/plain": [
       "user_id                         0\n",
       "product_id                      0\n",
       "up_unique_orders_count          0\n",
       "up_total_buy_max                0\n",
       "up_orders_diff                  0\n",
       "up_order_ratio                  0\n",
       "up_mean_dow                     0\n",
       "up_mean_hod                     0\n",
       "up_mean_dsp                     0\n",
       "up_sum_order_no                 0\n",
       "up_mean_cart                    0\n",
       "last_5_count              6593708\n",
       "last_5_ratio              6593708\n",
       "chance_in_last_5          6593708\n",
       "dtype: int64"
      ]
     },
     "execution_count": 132,
     "metadata": {
      "tags": []
     },
     "output_type": "execute_result"
    }
   ],
   "source": [
    "user_product.isnull().sum()"
   ]
  },
  {
   "cell_type": "code",
   "execution_count": null,
   "metadata": {
    "id": "rjYyTXS-lNhI"
   },
   "outputs": [],
   "source": [
    "user_product.fillna(0 , inplace = True)"
   ]
  },
  {
   "cell_type": "code",
   "execution_count": null,
   "metadata": {
    "id": "haDCpxzlljSv"
   },
   "outputs": [],
   "source": [
    "pickle.dump(user_product,open('/content/drive/MyDrive/instcart/DATA2/user_product_features','wb'))"
   ]
  },
  {
   "cell_type": "code",
   "execution_count": null,
   "metadata": {
    "id": "OILvv0K8ltMX"
   },
   "outputs": [],
   "source": [
    "del user_product_feature,up_unique_orders_count,up_orders_diff,up_order_ratio\n",
    "del up_mean_dow,up_mean_hod,up_mean_dsp,up_sum_order_no,up_mean_cart, last_5"
   ]
  },
  {
   "cell_type": "markdown",
   "metadata": {
    "id": "ZUNVue9_m-OI"
   },
   "source": [
    "CONSIDER ORDER AS SENTENCES AND PRODUCT_ID  AS WORDS FOR W2V\n",
    "\n",
    "REFERENCES: https://omarito.me/word2vec-product-recommendations/"
   ]
  },
  {
   "cell_type": "code",
   "execution_count": null,
   "metadata": {
    "colab": {
     "base_uri": "https://localhost:8080/"
    },
    "id": "PwunzY8lnu8f",
    "outputId": "99857001-3f00-4127-b36e-3f683c248880"
   },
   "outputs": [
    {
     "data": {
      "text/plain": [
       "Index(['order_id', 'user_id', 'eval_set', 'order_number', 'order_dow',\n",
       "       'order_hour_of_day', 'days_since_prior_order', 'product_id',\n",
       "       'add_to_cart_order', 'reordered', 'product_name', 'aisle_id',\n",
       "       'department_id', 'aisle', 'order_number_from_last'],\n",
       "      dtype='object')"
      ]
     },
     "execution_count": 143,
     "metadata": {
      "tags": []
     },
     "output_type": "execute_result"
    }
   ],
   "source": [
    "prior_data.columns"
   ]
  },
  {
   "cell_type": "code",
   "execution_count": null,
   "metadata": {
    "id": "qv46s6O_l343"
   },
   "outputs": [],
   "source": [
    "prior_data[\"product_id\"] = prior_data[\"product_id\"].astype(str)\n",
    "order_products_train_data['product_id']=order_products_train_data['product_id'].astype(str)"
   ]
  },
  {
   "cell_type": "code",
   "execution_count": null,
   "metadata": {
    "id": "Rg2WpAzboP-3"
   },
   "outputs": [],
   "source": [
    "prior_products_of_order = prior_data.groupby(\"order_id\").apply(lambda order: order['product_id'].tolist())\n",
    "train_products_of_order= order_products_train_data.groupby(\"order_id\").apply(lambda order: order['product_id'].tolist())"
   ]
  },
  {
   "cell_type": "code",
   "execution_count": null,
   "metadata": {
    "colab": {
     "base_uri": "https://localhost:8080/"
    },
    "id": "sgz8r0wToqIe",
    "outputId": "83967ab1-4f77-4251-db85-12a046b137ed"
   },
   "outputs": [
    {
     "data": {
      "text/plain": [
       "order_id\n",
       "2    [33120, 28985, 9327, 45918, 30035, 17794, 4014...\n",
       "3    [33754, 24838, 17704, 21903, 17668, 46667, 174...\n",
       "4    [46842, 26434, 39758, 27761, 10054, 21351, 225...\n",
       "5    [13176, 15005, 47329, 27966, 23909, 48370, 132...\n",
       "6                                [40462, 15873, 41897]\n",
       "dtype: object"
      ]
     },
     "execution_count": 168,
     "metadata": {
      "tags": []
     },
     "output_type": "execute_result"
    }
   ],
   "source": [
    "prior_products_of_order[:5]"
   ]
  },
  {
   "cell_type": "code",
   "execution_count": null,
   "metadata": {
    "id": "HRNVSu7CuP__"
   },
   "outputs": [],
   "source": [
    "corpus= prior_products_of_order.append(train_products_of_order)\n",
    "longest = np.max(corpus.apply(len))\n",
    "corpus = corpus.values"
   ]
  },
  {
   "cell_type": "code",
   "execution_count": null,
   "metadata": {
    "id": "d_p0QKEpp88N"
   },
   "outputs": [],
   "source": [
    "model = gensim.models.Word2Vec(corpus, size=5, window=longest, min_count=1, workers=4)"
   ]
  },
  {
   "cell_type": "code",
   "execution_count": null,
   "metadata": {
    "colab": {
     "base_uri": "https://localhost:8080/"
    },
    "id": "TPi2dOIoqf_l",
    "outputId": "13ef09dc-85f4-4464-aaf7-5d40890bf1f2"
   },
   "outputs": [
    {
     "data": {
      "text/plain": [
       "49685"
      ]
     },
     "execution_count": 171,
     "metadata": {
      "tags": []
     },
     "output_type": "execute_result"
    }
   ],
   "source": [
    "vocab = list(model.wv.vocab.keys())\n",
    "len(vocab)"
   ]
  },
  {
   "cell_type": "code",
   "execution_count": null,
   "metadata": {
    "id": "VmndpS6qxE3I"
   },
   "outputs": [],
   "source": [
    "embedding_matrix = np.zeros((49688, 5))\n",
    "for i in range(1,49689):\n",
    "    word=str(i)\n",
    "    if word in model.wv.vocab:\n",
    "        embedding_matrix[i-1] = model.wv[word]"
   ]
  },
  {
   "cell_type": "code",
   "execution_count": null,
   "metadata": {
    "colab": {
     "base_uri": "https://localhost:8080/"
    },
    "id": "c0lOYL6ExLS8",
    "outputId": "79f715b1-f65c-49f1-cccc-5e3798f2e992"
   },
   "outputs": [
    {
     "data": {
      "text/plain": [
       "array([-3.2707305 , -4.23859882, -7.87262249, -5.09702301,  4.52043629])"
      ]
     },
     "execution_count": 175,
     "metadata": {
      "tags": []
     },
     "output_type": "execute_result"
    }
   ],
   "source": [
    "embedding_matrix[0]"
   ]
  },
  {
   "cell_type": "code",
   "execution_count": null,
   "metadata": {
    "colab": {
     "base_uri": "https://localhost:8080/",
     "height": 202
    },
    "id": "Hw09-HzwxR4C",
    "outputId": "516c3312-d201-40b4-a66a-23c38b8b5f6c"
   },
   "outputs": [
    {
     "data": {
      "text/html": [
       "<div>\n",
       "<style scoped>\n",
       "    .dataframe tbody tr th:only-of-type {\n",
       "        vertical-align: middle;\n",
       "    }\n",
       "\n",
       "    .dataframe tbody tr th {\n",
       "        vertical-align: top;\n",
       "    }\n",
       "\n",
       "    .dataframe thead th {\n",
       "        text-align: right;\n",
       "    }\n",
       "</style>\n",
       "<table border=\"1\" class=\"dataframe\">\n",
       "  <thead>\n",
       "    <tr style=\"text-align: right;\">\n",
       "      <th></th>\n",
       "      <th>orderw2v_0</th>\n",
       "      <th>orderw2v_1</th>\n",
       "      <th>orderw2v_2</th>\n",
       "      <th>orderw2v_3</th>\n",
       "      <th>orderw2v_4</th>\n",
       "      <th>product_id</th>\n",
       "    </tr>\n",
       "  </thead>\n",
       "  <tbody>\n",
       "    <tr>\n",
       "      <th>0</th>\n",
       "      <td>-3.270730</td>\n",
       "      <td>-4.238599</td>\n",
       "      <td>-7.872622</td>\n",
       "      <td>-5.097023</td>\n",
       "      <td>4.520436</td>\n",
       "      <td>1</td>\n",
       "    </tr>\n",
       "    <tr>\n",
       "      <th>1</th>\n",
       "      <td>-0.666321</td>\n",
       "      <td>0.725049</td>\n",
       "      <td>-0.115846</td>\n",
       "      <td>1.051244</td>\n",
       "      <td>0.761189</td>\n",
       "      <td>2</td>\n",
       "    </tr>\n",
       "    <tr>\n",
       "      <th>2</th>\n",
       "      <td>-3.422789</td>\n",
       "      <td>-1.191119</td>\n",
       "      <td>-1.846767</td>\n",
       "      <td>1.291017</td>\n",
       "      <td>-2.449048</td>\n",
       "      <td>3</td>\n",
       "    </tr>\n",
       "    <tr>\n",
       "      <th>3</th>\n",
       "      <td>2.693610</td>\n",
       "      <td>0.544360</td>\n",
       "      <td>-1.204878</td>\n",
       "      <td>-7.898958</td>\n",
       "      <td>-1.671540</td>\n",
       "      <td>4</td>\n",
       "    </tr>\n",
       "    <tr>\n",
       "      <th>4</th>\n",
       "      <td>-0.012311</td>\n",
       "      <td>0.228953</td>\n",
       "      <td>-0.532021</td>\n",
       "      <td>-0.203010</td>\n",
       "      <td>0.320053</td>\n",
       "      <td>5</td>\n",
       "    </tr>\n",
       "  </tbody>\n",
       "</table>\n",
       "</div>"
      ],
      "text/plain": [
       "   orderw2v_0  orderw2v_1  orderw2v_2  orderw2v_3  orderw2v_4  product_id\n",
       "0   -3.270730   -4.238599   -7.872622   -5.097023    4.520436           1\n",
       "1   -0.666321    0.725049   -0.115846    1.051244    0.761189           2\n",
       "2   -3.422789   -1.191119   -1.846767    1.291017   -2.449048           3\n",
       "3    2.693610    0.544360   -1.204878   -7.898958   -1.671540           4\n",
       "4   -0.012311    0.228953   -0.532021   -0.203010    0.320053           5"
      ]
     },
     "execution_count": 177,
     "metadata": {
      "tags": []
     },
     "output_type": "execute_result"
    }
   ],
   "source": [
    "order2vec_features=pd.DataFrame(embedding_matrix)\n",
    "order2vec_features.columns=[\"orderw2v_%s\"%j for j in range(5)]\n",
    "order2vec_features[\"product_id\"]=range(1,49689)\n",
    "order2vec_features.head()"
   ]
  },
  {
   "cell_type": "code",
   "execution_count": null,
   "metadata": {
    "id": "Uk8fbb5ayF2Z"
   },
   "outputs": [],
   "source": [
    "pickle.dump((order2vec_features),open(\"/content/drive/MyDrive/instcart/DATA2/order2vec_features\",'wb'))"
   ]
  },
  {
   "cell_type": "markdown",
   "metadata": {
    "id": "Iod-OHw4p8Cp"
   },
   "source": [
    "## REPRSENTATION OF PRODUCT NAME,AISLES NAME AND DEPARTMENT  NAME IN W2V"
   ]
  },
  {
   "cell_type": "markdown",
   "metadata": {
    "id": "GHC6jOKl16iX"
   },
   "source": [
    " reference:https://www.kaggle.com/c/instacart-market-basket-analysis/discussion/38120"
   ]
  },
  {
   "cell_type": "code",
   "execution_count": null,
   "metadata": {
    "id": "DqDnr3l6q5mE"
   },
   "outputs": [],
   "source": [
    "product_aisle_department=product_data.merge(aisles_data,on='aisle_id',how='left').merge(departments_data,on='department_id',how='left')"
   ]
  },
  {
   "cell_type": "code",
   "execution_count": null,
   "metadata": {
    "colab": {
     "base_uri": "https://localhost:8080/",
     "height": 254
    },
    "id": "NMv6Qy9Ur7Vr",
    "outputId": "5555261e-e5a6-431c-c57c-fc279d7a0d69"
   },
   "outputs": [
    {
     "data": {
      "text/html": [
       "<div>\n",
       "<style scoped>\n",
       "    .dataframe tbody tr th:only-of-type {\n",
       "        vertical-align: middle;\n",
       "    }\n",
       "\n",
       "    .dataframe tbody tr th {\n",
       "        vertical-align: top;\n",
       "    }\n",
       "\n",
       "    .dataframe thead th {\n",
       "        text-align: right;\n",
       "    }\n",
       "</style>\n",
       "<table border=\"1\" class=\"dataframe\">\n",
       "  <thead>\n",
       "    <tr style=\"text-align: right;\">\n",
       "      <th></th>\n",
       "      <th>product_id</th>\n",
       "      <th>product_name</th>\n",
       "      <th>aisle_id</th>\n",
       "      <th>department_id</th>\n",
       "      <th>aisle</th>\n",
       "      <th>department</th>\n",
       "    </tr>\n",
       "  </thead>\n",
       "  <tbody>\n",
       "    <tr>\n",
       "      <th>0</th>\n",
       "      <td>1</td>\n",
       "      <td>Chocolate Sandwich Cookies</td>\n",
       "      <td>61</td>\n",
       "      <td>19</td>\n",
       "      <td>cookies cakes</td>\n",
       "      <td>snacks</td>\n",
       "    </tr>\n",
       "    <tr>\n",
       "      <th>1</th>\n",
       "      <td>2</td>\n",
       "      <td>All-Seasons Salt</td>\n",
       "      <td>104</td>\n",
       "      <td>13</td>\n",
       "      <td>spices seasonings</td>\n",
       "      <td>pantry</td>\n",
       "    </tr>\n",
       "    <tr>\n",
       "      <th>2</th>\n",
       "      <td>3</td>\n",
       "      <td>Robust Golden Unsweetened Oolong Tea</td>\n",
       "      <td>94</td>\n",
       "      <td>7</td>\n",
       "      <td>tea</td>\n",
       "      <td>beverages</td>\n",
       "    </tr>\n",
       "    <tr>\n",
       "      <th>3</th>\n",
       "      <td>4</td>\n",
       "      <td>Smart Ones Classic Favorites Mini Rigatoni Wit...</td>\n",
       "      <td>38</td>\n",
       "      <td>1</td>\n",
       "      <td>frozen meals</td>\n",
       "      <td>frozen</td>\n",
       "    </tr>\n",
       "    <tr>\n",
       "      <th>4</th>\n",
       "      <td>5</td>\n",
       "      <td>Green Chile Anytime Sauce</td>\n",
       "      <td>5</td>\n",
       "      <td>13</td>\n",
       "      <td>marinades meat preparation</td>\n",
       "      <td>pantry</td>\n",
       "    </tr>\n",
       "  </tbody>\n",
       "</table>\n",
       "</div>"
      ],
      "text/plain": [
       "   product_id  ... department\n",
       "0           1  ...     snacks\n",
       "1           2  ...     pantry\n",
       "2           3  ...  beverages\n",
       "3           4  ...     frozen\n",
       "4           5  ...     pantry\n",
       "\n",
       "[5 rows x 6 columns]"
      ]
     },
     "execution_count": 10,
     "metadata": {
      "tags": []
     },
     "output_type": "execute_result"
    }
   ],
   "source": [
    "product_aisle_department.head()"
   ]
  },
  {
   "cell_type": "code",
   "execution_count": null,
   "metadata": {
    "colab": {
     "base_uri": "https://localhost:8080/",
     "height": 479
    },
    "id": "gIcJwgUar-mC",
    "outputId": "2b3cf358-e2cf-4e60-a1e6-98c89dfc1470"
   },
   "outputs": [
    {
     "data": {
      "text/html": [
       "<div>\n",
       "<style scoped>\n",
       "    .dataframe tbody tr th:only-of-type {\n",
       "        vertical-align: middle;\n",
       "    }\n",
       "\n",
       "    .dataframe tbody tr th {\n",
       "        vertical-align: top;\n",
       "    }\n",
       "\n",
       "    .dataframe thead th {\n",
       "        text-align: right;\n",
       "    }\n",
       "</style>\n",
       "<table border=\"1\" class=\"dataframe\">\n",
       "  <thead>\n",
       "    <tr style=\"text-align: right;\">\n",
       "      <th></th>\n",
       "      <th>product_id</th>\n",
       "      <th>product_name</th>\n",
       "      <th>aisle_id</th>\n",
       "      <th>department_id</th>\n",
       "      <th>aisle</th>\n",
       "      <th>department</th>\n",
       "      <th>name</th>\n",
       "    </tr>\n",
       "  </thead>\n",
       "  <tbody>\n",
       "    <tr>\n",
       "      <th>0</th>\n",
       "      <td>1</td>\n",
       "      <td>Chocolate Sandwich Cookies</td>\n",
       "      <td>61</td>\n",
       "      <td>19</td>\n",
       "      <td>cookies cakes</td>\n",
       "      <td>snacks</td>\n",
       "      <td>Chocolate Sandwich Cookies cookies cakes snacks</td>\n",
       "    </tr>\n",
       "    <tr>\n",
       "      <th>1</th>\n",
       "      <td>2</td>\n",
       "      <td>All-Seasons Salt</td>\n",
       "      <td>104</td>\n",
       "      <td>13</td>\n",
       "      <td>spices seasonings</td>\n",
       "      <td>pantry</td>\n",
       "      <td>All-Seasons Salt spices seasonings pantry</td>\n",
       "    </tr>\n",
       "    <tr>\n",
       "      <th>2</th>\n",
       "      <td>3</td>\n",
       "      <td>Robust Golden Unsweetened Oolong Tea</td>\n",
       "      <td>94</td>\n",
       "      <td>7</td>\n",
       "      <td>tea</td>\n",
       "      <td>beverages</td>\n",
       "      <td>Robust Golden Unsweetened Oolong Tea tea bever...</td>\n",
       "    </tr>\n",
       "    <tr>\n",
       "      <th>3</th>\n",
       "      <td>4</td>\n",
       "      <td>Smart Ones Classic Favorites Mini Rigatoni Wit...</td>\n",
       "      <td>38</td>\n",
       "      <td>1</td>\n",
       "      <td>frozen meals</td>\n",
       "      <td>frozen</td>\n",
       "      <td>Smart Ones Classic Favorites Mini Rigatoni Wit...</td>\n",
       "    </tr>\n",
       "    <tr>\n",
       "      <th>4</th>\n",
       "      <td>5</td>\n",
       "      <td>Green Chile Anytime Sauce</td>\n",
       "      <td>5</td>\n",
       "      <td>13</td>\n",
       "      <td>marinades meat preparation</td>\n",
       "      <td>pantry</td>\n",
       "      <td>Green Chile Anytime Sauce marinades meat prepa...</td>\n",
       "    </tr>\n",
       "  </tbody>\n",
       "</table>\n",
       "</div>"
      ],
      "text/plain": [
       "   product_id  ...                                               name\n",
       "0           1  ...    Chocolate Sandwich Cookies cookies cakes snacks\n",
       "1           2  ...          All-Seasons Salt spices seasonings pantry\n",
       "2           3  ...  Robust Golden Unsweetened Oolong Tea tea bever...\n",
       "3           4  ...  Smart Ones Classic Favorites Mini Rigatoni Wit...\n",
       "4           5  ...  Green Chile Anytime Sauce marinades meat prepa...\n",
       "\n",
       "[5 rows x 7 columns]"
      ]
     },
     "execution_count": 11,
     "metadata": {
      "tags": []
     },
     "output_type": "execute_result"
    }
   ],
   "source": [
    "product_aisle_department['name'] = product_aisle_department.product_name+' '+product_aisle_department.aisle+' '+product_aisle_department.department\n",
    "product_aisle_department.head()"
   ]
  },
  {
   "cell_type": "code",
   "execution_count": null,
   "metadata": {
    "id": "toDskY3kysba"
   },
   "outputs": [],
   "source": [
    "import spacy\n",
    "model_for_product = spacy.load('en_vectors_glove_md')"
   ]
  },
  {
   "cell_type": "code",
   "execution_count": null,
   "metadata": {
    "colab": {
     "base_uri": "https://localhost:8080/"
    },
    "id": "CxxiQ_Fg0_b5",
    "outputId": "7dfc3dac-3f73-4ea2-f14c-5254567a179a"
   },
   "outputs": [
    {
     "name": "stderr",
     "output_type": "stream",
     "text": [
      "100%|██████████| 49688/49688 [00:05<00:00, 9076.07it/s]\n"
     ]
    }
   ],
   "source": [
    "from tqdm import tqdm\n",
    "product_name_reprsentation = []\n",
    "for i in tqdm(product_aisle_department['name']):\n",
    "    product_name_reprsentation.append(model_for_product(i).vector.tolist())"
   ]
  },
  {
   "cell_type": "code",
   "execution_count": null,
   "metadata": {
    "colab": {
     "base_uri": "https://localhost:8080/"
    },
    "id": "GaPwG8Hk4Hj5",
    "outputId": "d1292935-c5bd-460b-c581-facde1d29f33"
   },
   "outputs": [
    {
     "data": {
      "text/plain": [
       "300"
      ]
     },
     "execution_count": 14,
     "metadata": {
      "tags": []
     },
     "output_type": "execute_result"
    }
   ],
   "source": [
    "len(product_name_reprsentation[0])"
   ]
  },
  {
   "cell_type": "markdown",
   "metadata": {
    "id": "3C85DTZ8dvaA"
   },
   "source": [
    "apply pca for  dimensionality reduction"
   ]
  },
  {
   "cell_type": "code",
   "execution_count": null,
   "metadata": {
    "colab": {
     "base_uri": "https://localhost:8080/",
     "height": 334
    },
    "id": "_0cDRo-M4VbI",
    "outputId": "aff249a0-7648-499f-a74b-8bff7c1b3942"
   },
   "outputs": [
    {
     "data": {
      "image/png": "[encoded data removed]",
      "text/plain": [
       "<Figure size 936x360 with 1 Axes>"
      ]
     },
     "metadata": {
      "needs_background": "light",
      "tags": []
     },
     "output_type": "display_data"
    }
   ],
   "source": [
    "pca_product = PCA(random_state=14)\n",
    "pca_product.fit_transform(product_name_reprsentation)\n",
    "percentage_var_explained = pca_product.explained_variance_ / np.sum(pca_product.explained_variance_)\n",
    "cum_var_explained = np.cumsum(percentage_var_explained)\n",
    "plt.figure(figsize=(13, 5))\n",
    "plt.plot(cum_var_explained)\n",
    "plt.grid()\n",
    "plt.xlabel('number of components')\n",
    "plt.ylabel('explained variance')\n",
    "plt.xticks([i for i in range(0,300,10)])\n",
    "plt.show()"
   ]
  },
  {
   "cell_type": "markdown",
   "metadata": {
    "id": "l_34tHxieDea"
   },
   "source": [
    "In this plot 35 components explain approximately 80% variance."
   ]
  },
  {
   "cell_type": "code",
   "execution_count": null,
   "metadata": {
    "colab": {
     "base_uri": "https://localhost:8080/"
    },
    "id": "8Uo78BJT4Hg2",
    "outputId": "cc4ed73d-179d-4290-86ba-6f4673f9ab35"
   },
   "outputs": [
    {
     "data": {
      "text/plain": [
       "(49688, 35)"
      ]
     },
     "execution_count": 33,
     "metadata": {
      "tags": []
     },
     "output_type": "execute_result"
    }
   ],
   "source": [
    "pca_product.n_components = 35\n",
    "pca_product_features = pca_product.fit_transform(product_name_reprsentation)\n",
    "pca_product_features .shape"
   ]
  },
  {
   "cell_type": "code",
   "execution_count": null,
   "metadata": {
    "colab": {
     "base_uri": "https://localhost:8080/",
     "height": 222
    },
    "id": "ZAc4TIhD4HcC",
    "outputId": "647c91b6-604b-4cd4-992c-8e4dd6bb64da"
   },
   "outputs": [
    {
     "data": {
      "text/html": [
       "<div>\n",
       "<style scoped>\n",
       "    .dataframe tbody tr th:only-of-type {\n",
       "        vertical-align: middle;\n",
       "    }\n",
       "\n",
       "    .dataframe tbody tr th {\n",
       "        vertical-align: top;\n",
       "    }\n",
       "\n",
       "    .dataframe thead th {\n",
       "        text-align: right;\n",
       "    }\n",
       "</style>\n",
       "<table border=\"1\" class=\"dataframe\">\n",
       "  <thead>\n",
       "    <tr style=\"text-align: right;\">\n",
       "      <th></th>\n",
       "      <th>pca_product0</th>\n",
       "      <th>pca_product1</th>\n",
       "      <th>pca_product2</th>\n",
       "      <th>pca_product3</th>\n",
       "      <th>pca_product4</th>\n",
       "      <th>pca_product5</th>\n",
       "      <th>pca_product6</th>\n",
       "      <th>pca_product7</th>\n",
       "      <th>pca_product8</th>\n",
       "      <th>pca_product9</th>\n",
       "      <th>pca_product10</th>\n",
       "      <th>pca_product11</th>\n",
       "      <th>pca_product12</th>\n",
       "      <th>pca_product13</th>\n",
       "      <th>pca_product14</th>\n",
       "      <th>pca_product15</th>\n",
       "      <th>pca_product16</th>\n",
       "      <th>pca_product17</th>\n",
       "      <th>pca_product18</th>\n",
       "      <th>pca_product19</th>\n",
       "      <th>pca_product20</th>\n",
       "      <th>pca_product21</th>\n",
       "      <th>pca_product22</th>\n",
       "      <th>pca_product23</th>\n",
       "      <th>pca_product24</th>\n",
       "      <th>pca_product25</th>\n",
       "      <th>pca_product26</th>\n",
       "      <th>pca_product27</th>\n",
       "      <th>pca_product28</th>\n",
       "      <th>pca_product29</th>\n",
       "      <th>pca_product30</th>\n",
       "      <th>pca_product31</th>\n",
       "      <th>pca_product32</th>\n",
       "      <th>pca_product33</th>\n",
       "      <th>pca_product34</th>\n",
       "      <th>product_id</th>\n",
       "    </tr>\n",
       "  </thead>\n",
       "  <tbody>\n",
       "    <tr>\n",
       "      <th>0</th>\n",
       "      <td>-1.774349</td>\n",
       "      <td>1.862899</td>\n",
       "      <td>-1.726356</td>\n",
       "      <td>0.370522</td>\n",
       "      <td>-0.519996</td>\n",
       "      <td>-0.380709</td>\n",
       "      <td>0.096624</td>\n",
       "      <td>0.330845</td>\n",
       "      <td>-0.661177</td>\n",
       "      <td>0.241033</td>\n",
       "      <td>0.101181</td>\n",
       "      <td>-0.493973</td>\n",
       "      <td>-0.201572</td>\n",
       "      <td>-0.444850</td>\n",
       "      <td>0.419383</td>\n",
       "      <td>0.389619</td>\n",
       "      <td>-0.506580</td>\n",
       "      <td>0.202802</td>\n",
       "      <td>0.022298</td>\n",
       "      <td>0.002415</td>\n",
       "      <td>-0.327021</td>\n",
       "      <td>-0.023506</td>\n",
       "      <td>-0.280265</td>\n",
       "      <td>0.145873</td>\n",
       "      <td>-0.181585</td>\n",
       "      <td>-0.049066</td>\n",
       "      <td>0.415202</td>\n",
       "      <td>-0.019164</td>\n",
       "      <td>-0.204111</td>\n",
       "      <td>0.119044</td>\n",
       "      <td>0.003939</td>\n",
       "      <td>0.276257</td>\n",
       "      <td>-0.028392</td>\n",
       "      <td>-0.003242</td>\n",
       "      <td>-0.261290</td>\n",
       "      <td>1</td>\n",
       "    </tr>\n",
       "    <tr>\n",
       "      <th>1</th>\n",
       "      <td>-0.047741</td>\n",
       "      <td>-0.890461</td>\n",
       "      <td>0.513497</td>\n",
       "      <td>0.939047</td>\n",
       "      <td>-0.144349</td>\n",
       "      <td>0.227472</td>\n",
       "      <td>-0.158142</td>\n",
       "      <td>0.047917</td>\n",
       "      <td>-0.156420</td>\n",
       "      <td>-0.259751</td>\n",
       "      <td>-0.289473</td>\n",
       "      <td>0.887270</td>\n",
       "      <td>-0.114774</td>\n",
       "      <td>-0.213160</td>\n",
       "      <td>-0.354417</td>\n",
       "      <td>-0.099891</td>\n",
       "      <td>-0.329085</td>\n",
       "      <td>0.225002</td>\n",
       "      <td>0.126124</td>\n",
       "      <td>0.279918</td>\n",
       "      <td>0.041314</td>\n",
       "      <td>0.091101</td>\n",
       "      <td>-0.344999</td>\n",
       "      <td>-0.384182</td>\n",
       "      <td>-0.187571</td>\n",
       "      <td>0.083958</td>\n",
       "      <td>0.097627</td>\n",
       "      <td>-0.315279</td>\n",
       "      <td>0.045782</td>\n",
       "      <td>-0.019478</td>\n",
       "      <td>-0.137610</td>\n",
       "      <td>-0.261693</td>\n",
       "      <td>0.342441</td>\n",
       "      <td>-0.340478</td>\n",
       "      <td>0.108559</td>\n",
       "      <td>2</td>\n",
       "    </tr>\n",
       "    <tr>\n",
       "      <th>2</th>\n",
       "      <td>0.043657</td>\n",
       "      <td>1.457060</td>\n",
       "      <td>1.382342</td>\n",
       "      <td>0.071647</td>\n",
       "      <td>0.521699</td>\n",
       "      <td>-0.341240</td>\n",
       "      <td>-0.066442</td>\n",
       "      <td>0.399262</td>\n",
       "      <td>-0.172917</td>\n",
       "      <td>0.238910</td>\n",
       "      <td>0.056587</td>\n",
       "      <td>0.256850</td>\n",
       "      <td>0.346733</td>\n",
       "      <td>0.315623</td>\n",
       "      <td>0.158165</td>\n",
       "      <td>1.017319</td>\n",
       "      <td>0.347680</td>\n",
       "      <td>0.670804</td>\n",
       "      <td>0.007417</td>\n",
       "      <td>-0.133369</td>\n",
       "      <td>-0.014958</td>\n",
       "      <td>-0.134782</td>\n",
       "      <td>0.167031</td>\n",
       "      <td>0.027383</td>\n",
       "      <td>-0.363632</td>\n",
       "      <td>-0.447576</td>\n",
       "      <td>-0.384372</td>\n",
       "      <td>-0.071760</td>\n",
       "      <td>-0.104525</td>\n",
       "      <td>0.059152</td>\n",
       "      <td>-0.010457</td>\n",
       "      <td>0.062057</td>\n",
       "      <td>-0.232915</td>\n",
       "      <td>-0.030754</td>\n",
       "      <td>0.133745</td>\n",
       "      <td>3</td>\n",
       "    </tr>\n",
       "    <tr>\n",
       "      <th>3</th>\n",
       "      <td>-0.268130</td>\n",
       "      <td>-0.131417</td>\n",
       "      <td>-0.541702</td>\n",
       "      <td>-0.253781</td>\n",
       "      <td>0.678368</td>\n",
       "      <td>0.516824</td>\n",
       "      <td>-0.163390</td>\n",
       "      <td>-0.243593</td>\n",
       "      <td>-0.196065</td>\n",
       "      <td>-0.128423</td>\n",
       "      <td>0.031530</td>\n",
       "      <td>0.001493</td>\n",
       "      <td>0.142277</td>\n",
       "      <td>0.183941</td>\n",
       "      <td>0.257958</td>\n",
       "      <td>0.047451</td>\n",
       "      <td>-0.359922</td>\n",
       "      <td>-0.048906</td>\n",
       "      <td>-0.099979</td>\n",
       "      <td>0.176621</td>\n",
       "      <td>-0.216740</td>\n",
       "      <td>0.077760</td>\n",
       "      <td>0.010033</td>\n",
       "      <td>-0.054386</td>\n",
       "      <td>-0.023175</td>\n",
       "      <td>-0.147930</td>\n",
       "      <td>0.114699</td>\n",
       "      <td>-0.125601</td>\n",
       "      <td>0.014300</td>\n",
       "      <td>0.225421</td>\n",
       "      <td>-0.156754</td>\n",
       "      <td>-0.059309</td>\n",
       "      <td>-0.083742</td>\n",
       "      <td>0.053851</td>\n",
       "      <td>0.185819</td>\n",
       "      <td>4</td>\n",
       "    </tr>\n",
       "    <tr>\n",
       "      <th>4</th>\n",
       "      <td>-0.706677</td>\n",
       "      <td>-1.072866</td>\n",
       "      <td>0.284216</td>\n",
       "      <td>0.475295</td>\n",
       "      <td>0.321492</td>\n",
       "      <td>0.182623</td>\n",
       "      <td>-0.542613</td>\n",
       "      <td>0.310029</td>\n",
       "      <td>-0.340947</td>\n",
       "      <td>-0.090036</td>\n",
       "      <td>-0.179737</td>\n",
       "      <td>0.346138</td>\n",
       "      <td>-0.328105</td>\n",
       "      <td>-0.051831</td>\n",
       "      <td>-0.202492</td>\n",
       "      <td>-0.000895</td>\n",
       "      <td>-0.225905</td>\n",
       "      <td>-0.227601</td>\n",
       "      <td>-0.225100</td>\n",
       "      <td>-0.013339</td>\n",
       "      <td>-0.046565</td>\n",
       "      <td>-0.226341</td>\n",
       "      <td>0.077072</td>\n",
       "      <td>-0.005098</td>\n",
       "      <td>-0.087250</td>\n",
       "      <td>0.070884</td>\n",
       "      <td>0.037476</td>\n",
       "      <td>0.081641</td>\n",
       "      <td>-0.267840</td>\n",
       "      <td>-0.091839</td>\n",
       "      <td>0.029704</td>\n",
       "      <td>0.018115</td>\n",
       "      <td>0.151924</td>\n",
       "      <td>0.231747</td>\n",
       "      <td>-0.088788</td>\n",
       "      <td>5</td>\n",
       "    </tr>\n",
       "  </tbody>\n",
       "</table>\n",
       "</div>"
      ],
      "text/plain": [
       "   pca_product0  pca_product1  ...  pca_product34  product_id\n",
       "0     -1.774349      1.862899  ...      -0.261290           1\n",
       "1     -0.047741     -0.890461  ...       0.108559           2\n",
       "2      0.043657      1.457060  ...       0.133745           3\n",
       "3     -0.268130     -0.131417  ...       0.185819           4\n",
       "4     -0.706677     -1.072866  ...      -0.088788           5\n",
       "\n",
       "[5 rows x 36 columns]"
      ]
     },
     "execution_count": 27,
     "metadata": {
      "tags": []
     },
     "output_type": "execute_result"
    }
   ],
   "source": [
    "pca_product_features= pd.DataFrame(pca_product_features)\n",
    "pca_product_features.columns = [\"pca_product\"+str(i) for i in pca_product_features.columns]\n",
    "pca_product_features['product_id'] = product_aisle_department.product_id\n",
    "pca_product_features.head(5)"
   ]
  },
  {
   "cell_type": "code",
   "execution_count": null,
   "metadata": {
    "id": "k0EDy0d_9DBG"
   },
   "outputs": [],
   "source": [
    "pickle.dump(pca_product_features,open(\"/content/drive/MyDrive/instcart/DATA2/pca_product_features\",'wb'))"
   ]
  },
  {
   "cell_type": "markdown",
   "metadata": {
    "id": "xxxCCFJBHuFr"
   },
   "source": [
    "USER AISLE  FEATURES"
   ]
  },
  {
   "cell_type": "code",
   "execution_count": null,
   "metadata": {
    "colab": {
     "base_uri": "https://localhost:8080/",
     "height": 361
    },
    "id": "d1RO-BUxIFsx",
    "outputId": "af4dc425-4614-4bff-fdd3-dea53f34ab25"
   },
   "outputs": [
    {
     "data": {
      "text/html": [
       "<div>\n",
       "<style scoped>\n",
       "    .dataframe tbody tr th:only-of-type {\n",
       "        vertical-align: middle;\n",
       "    }\n",
       "\n",
       "    .dataframe tbody tr th {\n",
       "        vertical-align: top;\n",
       "    }\n",
       "\n",
       "    .dataframe thead th {\n",
       "        text-align: right;\n",
       "    }\n",
       "</style>\n",
       "<table border=\"1\" class=\"dataframe\">\n",
       "  <thead>\n",
       "    <tr style=\"text-align: right;\">\n",
       "      <th></th>\n",
       "      <th>order_id</th>\n",
       "      <th>user_id</th>\n",
       "      <th>eval_set</th>\n",
       "      <th>order_number</th>\n",
       "      <th>order_dow</th>\n",
       "      <th>order_hour_of_day</th>\n",
       "      <th>days_since_prior_order</th>\n",
       "      <th>product_id</th>\n",
       "      <th>add_to_cart_order</th>\n",
       "      <th>reordered</th>\n",
       "      <th>product_name</th>\n",
       "      <th>aisle_id</th>\n",
       "      <th>department_id</th>\n",
       "      <th>aisle</th>\n",
       "    </tr>\n",
       "  </thead>\n",
       "  <tbody>\n",
       "    <tr>\n",
       "      <th>0</th>\n",
       "      <td>2539329</td>\n",
       "      <td>1</td>\n",
       "      <td>prior</td>\n",
       "      <td>1</td>\n",
       "      <td>2</td>\n",
       "      <td>8</td>\n",
       "      <td>NaN</td>\n",
       "      <td>196</td>\n",
       "      <td>1</td>\n",
       "      <td>0</td>\n",
       "      <td>Soda</td>\n",
       "      <td>77</td>\n",
       "      <td>7</td>\n",
       "      <td>soft drinks</td>\n",
       "    </tr>\n",
       "    <tr>\n",
       "      <th>1</th>\n",
       "      <td>2539329</td>\n",
       "      <td>1</td>\n",
       "      <td>prior</td>\n",
       "      <td>1</td>\n",
       "      <td>2</td>\n",
       "      <td>8</td>\n",
       "      <td>NaN</td>\n",
       "      <td>14084</td>\n",
       "      <td>2</td>\n",
       "      <td>0</td>\n",
       "      <td>Organic Unsweetened Vanilla Almond Milk</td>\n",
       "      <td>91</td>\n",
       "      <td>16</td>\n",
       "      <td>soy lactosefree</td>\n",
       "    </tr>\n",
       "    <tr>\n",
       "      <th>2</th>\n",
       "      <td>2539329</td>\n",
       "      <td>1</td>\n",
       "      <td>prior</td>\n",
       "      <td>1</td>\n",
       "      <td>2</td>\n",
       "      <td>8</td>\n",
       "      <td>NaN</td>\n",
       "      <td>12427</td>\n",
       "      <td>3</td>\n",
       "      <td>0</td>\n",
       "      <td>Original Beef Jerky</td>\n",
       "      <td>23</td>\n",
       "      <td>19</td>\n",
       "      <td>popcorn jerky</td>\n",
       "    </tr>\n",
       "    <tr>\n",
       "      <th>3</th>\n",
       "      <td>2539329</td>\n",
       "      <td>1</td>\n",
       "      <td>prior</td>\n",
       "      <td>1</td>\n",
       "      <td>2</td>\n",
       "      <td>8</td>\n",
       "      <td>NaN</td>\n",
       "      <td>26088</td>\n",
       "      <td>4</td>\n",
       "      <td>0</td>\n",
       "      <td>Aged White Cheddar Popcorn</td>\n",
       "      <td>23</td>\n",
       "      <td>19</td>\n",
       "      <td>popcorn jerky</td>\n",
       "    </tr>\n",
       "    <tr>\n",
       "      <th>4</th>\n",
       "      <td>2539329</td>\n",
       "      <td>1</td>\n",
       "      <td>prior</td>\n",
       "      <td>1</td>\n",
       "      <td>2</td>\n",
       "      <td>8</td>\n",
       "      <td>NaN</td>\n",
       "      <td>26405</td>\n",
       "      <td>5</td>\n",
       "      <td>0</td>\n",
       "      <td>XL Pick-A-Size Paper Towel Rolls</td>\n",
       "      <td>54</td>\n",
       "      <td>17</td>\n",
       "      <td>paper goods</td>\n",
       "    </tr>\n",
       "  </tbody>\n",
       "</table>\n",
       "</div>"
      ],
      "text/plain": [
       "   order_id  user_id eval_set  ...  aisle_id  department_id            aisle\n",
       "0   2539329        1    prior  ...        77              7      soft drinks\n",
       "1   2539329        1    prior  ...        91             16  soy lactosefree\n",
       "2   2539329        1    prior  ...        23             19    popcorn jerky\n",
       "3   2539329        1    prior  ...        23             19    popcorn jerky\n",
       "4   2539329        1    prior  ...        54             17      paper goods\n",
       "\n",
       "[5 rows x 14 columns]"
      ]
     },
     "execution_count": 34,
     "metadata": {
      "tags": []
     },
     "output_type": "execute_result"
    }
   ],
   "source": [
    "prior_data.head()"
   ]
  },
  {
   "cell_type": "code",
   "execution_count": null,
   "metadata": {
    "colab": {
     "base_uri": "https://localhost:8080/",
     "height": 237
    },
    "id": "U-McYBnxMPiJ",
    "outputId": "53d121e5-85ca-49e1-d977-b2be11546e7a"
   },
   "outputs": [
    {
     "name": "stdout",
     "output_type": "stream",
     "text": [
      "Memory usage after optimization is: 43.71 MB\n",
      "Decreased by 66.7%\n"
     ]
    },
    {
     "data": {
      "text/html": [
       "<div>\n",
       "<style scoped>\n",
       "    .dataframe tbody tr th:only-of-type {\n",
       "        vertical-align: middle;\n",
       "    }\n",
       "\n",
       "    .dataframe tbody tr th {\n",
       "        vertical-align: top;\n",
       "    }\n",
       "\n",
       "    .dataframe thead th {\n",
       "        text-align: right;\n",
       "    }\n",
       "</style>\n",
       "<table border=\"1\" class=\"dataframe\">\n",
       "  <thead>\n",
       "    <tr style=\"text-align: right;\">\n",
       "      <th></th>\n",
       "      <th>user_id</th>\n",
       "      <th>aisle_id</th>\n",
       "      <th>uais_unique_count</th>\n",
       "    </tr>\n",
       "  </thead>\n",
       "  <tbody>\n",
       "    <tr>\n",
       "      <th>0</th>\n",
       "      <td>1</td>\n",
       "      <td>21</td>\n",
       "      <td>8</td>\n",
       "    </tr>\n",
       "    <tr>\n",
       "      <th>1</th>\n",
       "      <td>1</td>\n",
       "      <td>23</td>\n",
       "      <td>12</td>\n",
       "    </tr>\n",
       "    <tr>\n",
       "      <th>2</th>\n",
       "      <td>1</td>\n",
       "      <td>24</td>\n",
       "      <td>5</td>\n",
       "    </tr>\n",
       "    <tr>\n",
       "      <th>3</th>\n",
       "      <td>1</td>\n",
       "      <td>45</td>\n",
       "      <td>1</td>\n",
       "    </tr>\n",
       "    <tr>\n",
       "      <th>4</th>\n",
       "      <td>1</td>\n",
       "      <td>53</td>\n",
       "      <td>2</td>\n",
       "    </tr>\n",
       "  </tbody>\n",
       "</table>\n",
       "</div>"
      ],
      "text/plain": [
       "   user_id  aisle_id  uais_unique_count\n",
       "0        1        21                  8\n",
       "1        1        23                 12\n",
       "2        1        24                  5\n",
       "3        1        45                  1\n",
       "4        1        53                  2"
      ]
     },
     "execution_count": 50,
     "metadata": {
      "tags": []
     },
     "output_type": "execute_result"
    }
   ],
   "source": [
    "uais_unique_count = prior_data.groupby([\"user_id\",\"aisle_id\"])[\"product_id\"].count().to_frame(\"uais_unique_count\").reset_index()\n",
    "uais_unique_count =reduce_mem_usage(uais_unique_count)\n",
    "uais_unique_count.head()"
   ]
  },
  {
   "cell_type": "code",
   "execution_count": null,
   "metadata": {
    "colab": {
     "base_uri": "https://localhost:8080/",
     "height": 237
    },
    "id": "U6pWBL3QOWRf",
    "outputId": "7baa9267-6dfc-4326-8184-13d7fce2fcf4"
   },
   "outputs": [
    {
     "name": "stdout",
     "output_type": "stream",
     "text": [
      "Memory usage after optimization is: 43.71 MB\n",
      "Decreased by 66.7%\n"
     ]
    },
    {
     "data": {
      "text/html": [
       "<div>\n",
       "<style scoped>\n",
       "    .dataframe tbody tr th:only-of-type {\n",
       "        vertical-align: middle;\n",
       "    }\n",
       "\n",
       "    .dataframe tbody tr th {\n",
       "        vertical-align: top;\n",
       "    }\n",
       "\n",
       "    .dataframe thead th {\n",
       "        text-align: right;\n",
       "    }\n",
       "</style>\n",
       "<table border=\"1\" class=\"dataframe\">\n",
       "  <thead>\n",
       "    <tr style=\"text-align: right;\">\n",
       "      <th></th>\n",
       "      <th>user_id</th>\n",
       "      <th>aisle_id</th>\n",
       "      <th>uais_reorder</th>\n",
       "    </tr>\n",
       "  </thead>\n",
       "  <tbody>\n",
       "    <tr>\n",
       "      <th>0</th>\n",
       "      <td>1</td>\n",
       "      <td>21</td>\n",
       "      <td>0.875000</td>\n",
       "    </tr>\n",
       "    <tr>\n",
       "      <th>1</th>\n",
       "      <td>1</td>\n",
       "      <td>23</td>\n",
       "      <td>0.833496</td>\n",
       "    </tr>\n",
       "    <tr>\n",
       "      <th>2</th>\n",
       "      <td>1</td>\n",
       "      <td>24</td>\n",
       "      <td>0.199951</td>\n",
       "    </tr>\n",
       "    <tr>\n",
       "      <th>3</th>\n",
       "      <td>1</td>\n",
       "      <td>45</td>\n",
       "      <td>0.000000</td>\n",
       "    </tr>\n",
       "    <tr>\n",
       "      <th>4</th>\n",
       "      <td>1</td>\n",
       "      <td>53</td>\n",
       "      <td>0.500000</td>\n",
       "    </tr>\n",
       "  </tbody>\n",
       "</table>\n",
       "</div>"
      ],
      "text/plain": [
       "   user_id  aisle_id  uais_reorder\n",
       "0        1        21      0.875000\n",
       "1        1        23      0.833496\n",
       "2        1        24      0.199951\n",
       "3        1        45      0.000000\n",
       "4        1        53      0.500000"
      ]
     },
     "execution_count": 51,
     "metadata": {
      "tags": []
     },
     "output_type": "execute_result"
    }
   ],
   "source": [
    "uais_reorder = prior_data.groupby([\"user_id\",\"aisle_id\"])[\"reordered\"].mean().to_frame(\"uais_reorder\").reset_index()\n",
    "uais_reorder=reduce_mem_usage(uais_reorder)\n",
    "uais_reorder.head()"
   ]
  },
  {
   "cell_type": "code",
   "execution_count": null,
   "metadata": {
    "colab": {
     "base_uri": "https://localhost:8080/",
     "height": 202
    },
    "id": "rifVopTmPN6u",
    "outputId": "6f331955-9d71-43a3-e070-57610f09688f"
   },
   "outputs": [
    {
     "data": {
      "text/html": [
       "<div>\n",
       "<style scoped>\n",
       "    .dataframe tbody tr th:only-of-type {\n",
       "        vertical-align: middle;\n",
       "    }\n",
       "\n",
       "    .dataframe tbody tr th {\n",
       "        vertical-align: top;\n",
       "    }\n",
       "\n",
       "    .dataframe thead th {\n",
       "        text-align: right;\n",
       "    }\n",
       "</style>\n",
       "<table border=\"1\" class=\"dataframe\">\n",
       "  <thead>\n",
       "    <tr style=\"text-align: right;\">\n",
       "      <th></th>\n",
       "      <th>user_id</th>\n",
       "      <th>aisle_id</th>\n",
       "      <th>uais_unique_count</th>\n",
       "      <th>uais_reorder</th>\n",
       "    </tr>\n",
       "  </thead>\n",
       "  <tbody>\n",
       "    <tr>\n",
       "      <th>0</th>\n",
       "      <td>1</td>\n",
       "      <td>21</td>\n",
       "      <td>8</td>\n",
       "      <td>0.875000</td>\n",
       "    </tr>\n",
       "    <tr>\n",
       "      <th>1</th>\n",
       "      <td>1</td>\n",
       "      <td>23</td>\n",
       "      <td>12</td>\n",
       "      <td>0.833496</td>\n",
       "    </tr>\n",
       "    <tr>\n",
       "      <th>2</th>\n",
       "      <td>1</td>\n",
       "      <td>24</td>\n",
       "      <td>5</td>\n",
       "      <td>0.199951</td>\n",
       "    </tr>\n",
       "    <tr>\n",
       "      <th>3</th>\n",
       "      <td>1</td>\n",
       "      <td>45</td>\n",
       "      <td>1</td>\n",
       "      <td>0.000000</td>\n",
       "    </tr>\n",
       "    <tr>\n",
       "      <th>4</th>\n",
       "      <td>1</td>\n",
       "      <td>53</td>\n",
       "      <td>2</td>\n",
       "      <td>0.500000</td>\n",
       "    </tr>\n",
       "  </tbody>\n",
       "</table>\n",
       "</div>"
      ],
      "text/plain": [
       "   user_id  aisle_id  uais_unique_count  uais_reorder\n",
       "0        1        21                  8      0.875000\n",
       "1        1        23                 12      0.833496\n",
       "2        1        24                  5      0.199951\n",
       "3        1        45                  1      0.000000\n",
       "4        1        53                  2      0.500000"
      ]
     },
     "execution_count": 52,
     "metadata": {
      "tags": []
     },
     "output_type": "execute_result"
    }
   ],
   "source": [
    "user_aisle_features=pd.merge(uais_unique_count,uais_reorder,on=['user_id','aisle_id'],how='left')\n",
    "user_aisle_features.head()"
   ]
  },
  {
   "cell_type": "code",
   "execution_count": null,
   "metadata": {
    "id": "BqPW0pfXQ5uo"
   },
   "outputs": [],
   "source": [
    "pickle.dump(user_aisle_features,open('/content/drive/MyDrive/instcart/DATA2/user_aisle_features','wb'))"
   ]
  },
  {
   "cell_type": "markdown",
   "metadata": {
    "id": "h5FJuXjgTPPQ"
   },
   "source": [
    "## MERGE ALL FEATURES"
   ]
  },
  {
   "cell_type": "code",
   "execution_count": null,
   "metadata": {
    "colab": {
     "base_uri": "https://localhost:8080/",
     "height": 239
    },
    "id": "ThbXxFMLRSN6",
    "outputId": "7118e329-d353-462d-ba51-126270588f90"
   },
   "outputs": [
    {
     "name": "stdout",
     "output_type": "stream",
     "text": [
      "(206209, 13)\n"
     ]
    },
    {
     "data": {
      "text/html": [
       "<div>\n",
       "<style scoped>\n",
       "    .dataframe tbody tr th:only-of-type {\n",
       "        vertical-align: middle;\n",
       "    }\n",
       "\n",
       "    .dataframe tbody tr th {\n",
       "        vertical-align: top;\n",
       "    }\n",
       "\n",
       "    .dataframe thead th {\n",
       "        text-align: right;\n",
       "    }\n",
       "</style>\n",
       "<table border=\"1\" class=\"dataframe\">\n",
       "  <thead>\n",
       "    <tr style=\"text-align: right;\">\n",
       "      <th></th>\n",
       "      <th>user_id</th>\n",
       "      <th>total_no_of_order_by_user</th>\n",
       "      <th>total_no_of_items</th>\n",
       "      <th>total_no_of_unique_items</th>\n",
       "      <th>avg_product_in_order_by_user</th>\n",
       "      <th>num_reorders_by_user</th>\n",
       "      <th>reordered_mean_user</th>\n",
       "      <th>user_dow_mean</th>\n",
       "      <th>user_hod_mean</th>\n",
       "      <th>user_dsp_mean</th>\n",
       "      <th>user_max_order_day</th>\n",
       "      <th>user_max_hod</th>\n",
       "      <th>total_unique_aisle_by_user</th>\n",
       "    </tr>\n",
       "  </thead>\n",
       "  <tbody>\n",
       "    <tr>\n",
       "      <th>0</th>\n",
       "      <td>1</td>\n",
       "      <td>10</td>\n",
       "      <td>59</td>\n",
       "      <td>18</td>\n",
       "      <td>5.898438</td>\n",
       "      <td>41.0</td>\n",
       "      <td>0.694824</td>\n",
       "      <td>2.644531</td>\n",
       "      <td>10.539062</td>\n",
       "      <td>20.265625</td>\n",
       "      <td>4</td>\n",
       "      <td>7</td>\n",
       "      <td>12</td>\n",
       "    </tr>\n",
       "    <tr>\n",
       "      <th>1</th>\n",
       "      <td>2</td>\n",
       "      <td>14</td>\n",
       "      <td>195</td>\n",
       "      <td>102</td>\n",
       "      <td>13.929688</td>\n",
       "      <td>93.0</td>\n",
       "      <td>0.476807</td>\n",
       "      <td>2.005859</td>\n",
       "      <td>10.437500</td>\n",
       "      <td>15.968750</td>\n",
       "      <td>2</td>\n",
       "      <td>9</td>\n",
       "      <td>33</td>\n",
       "    </tr>\n",
       "    <tr>\n",
       "      <th>2</th>\n",
       "      <td>3</td>\n",
       "      <td>12</td>\n",
       "      <td>88</td>\n",
       "      <td>33</td>\n",
       "      <td>7.332031</td>\n",
       "      <td>55.0</td>\n",
       "      <td>0.625000</td>\n",
       "      <td>1.011719</td>\n",
       "      <td>16.359375</td>\n",
       "      <td>11.484375</td>\n",
       "      <td>0</td>\n",
       "      <td>16</td>\n",
       "      <td>16</td>\n",
       "    </tr>\n",
       "    <tr>\n",
       "      <th>3</th>\n",
       "      <td>4</td>\n",
       "      <td>5</td>\n",
       "      <td>18</td>\n",
       "      <td>17</td>\n",
       "      <td>3.599609</td>\n",
       "      <td>1.0</td>\n",
       "      <td>0.055542</td>\n",
       "      <td>4.722656</td>\n",
       "      <td>13.109375</td>\n",
       "      <td>15.359375</td>\n",
       "      <td>4</td>\n",
       "      <td>15</td>\n",
       "      <td>14</td>\n",
       "    </tr>\n",
       "    <tr>\n",
       "      <th>4</th>\n",
       "      <td>5</td>\n",
       "      <td>4</td>\n",
       "      <td>37</td>\n",
       "      <td>23</td>\n",
       "      <td>9.250000</td>\n",
       "      <td>14.0</td>\n",
       "      <td>0.378418</td>\n",
       "      <td>1.622070</td>\n",
       "      <td>15.726562</td>\n",
       "      <td>14.500000</td>\n",
       "      <td>3</td>\n",
       "      <td>18</td>\n",
       "      <td>16</td>\n",
       "    </tr>\n",
       "  </tbody>\n",
       "</table>\n",
       "</div>"
      ],
      "text/plain": [
       "   user_id  total_no_of_order_by_user  ...  user_max_hod  total_unique_aisle_by_user\n",
       "0        1                         10  ...             7                          12\n",
       "1        2                         14  ...             9                          33\n",
       "2        3                         12  ...            16                          16\n",
       "3        4                          5  ...            15                          14\n",
       "4        5                          4  ...            18                          16\n",
       "\n",
       "[5 rows x 13 columns]"
      ]
     },
     "execution_count": 7,
     "metadata": {
      "tags": []
     },
     "output_type": "execute_result"
    }
   ],
   "source": [
    "users = pickle.load(open('/content/drive/MyDrive/instcart/DATA2/users_features','rb'))\n",
    "print(users.shape)\n",
    "users.head()"
   ]
  },
  {
   "cell_type": "code",
   "execution_count": null,
   "metadata": {
    "colab": {
     "base_uri": "https://localhost:8080/",
     "height": 239
    },
    "id": "2IlUDQmeTmEC",
    "outputId": "3c8e95a0-dab1-4ecb-8458-962e0da0cf4e"
   },
   "outputs": [
    {
     "name": "stdout",
     "output_type": "stream",
     "text": [
      "(49677, 9)\n"
     ]
    },
    {
     "data": {
      "text/html": [
       "<div>\n",
       "<style scoped>\n",
       "    .dataframe tbody tr th:only-of-type {\n",
       "        vertical-align: middle;\n",
       "    }\n",
       "\n",
       "    .dataframe tbody tr th {\n",
       "        vertical-align: top;\n",
       "    }\n",
       "\n",
       "    .dataframe thead th {\n",
       "        text-align: right;\n",
       "    }\n",
       "</style>\n",
       "<table border=\"1\" class=\"dataframe\">\n",
       "  <thead>\n",
       "    <tr style=\"text-align: right;\">\n",
       "      <th></th>\n",
       "      <th>product_id</th>\n",
       "      <th>p_unique_users</th>\n",
       "      <th>p_total_purchase</th>\n",
       "      <th>p_sum_reordered</th>\n",
       "      <th>p_mean_reordered</th>\n",
       "      <th>p_mean_dow</th>\n",
       "      <th>p_mean_hod</th>\n",
       "      <th>p_mean_dsp</th>\n",
       "      <th>p_mean_cart</th>\n",
       "    </tr>\n",
       "  </thead>\n",
       "  <tbody>\n",
       "    <tr>\n",
       "      <th>0</th>\n",
       "      <td>1</td>\n",
       "      <td>716</td>\n",
       "      <td>1852</td>\n",
       "      <td>1136.0</td>\n",
       "      <td>0.613281</td>\n",
       "      <td>2.777344</td>\n",
       "      <td>13.234375</td>\n",
       "      <td>9.882812</td>\n",
       "      <td>5.800781</td>\n",
       "    </tr>\n",
       "    <tr>\n",
       "      <th>1</th>\n",
       "      <td>2</td>\n",
       "      <td>78</td>\n",
       "      <td>90</td>\n",
       "      <td>12.0</td>\n",
       "      <td>0.133301</td>\n",
       "      <td>2.921875</td>\n",
       "      <td>13.281250</td>\n",
       "      <td>10.132812</td>\n",
       "      <td>9.890625</td>\n",
       "    </tr>\n",
       "    <tr>\n",
       "      <th>2</th>\n",
       "      <td>3</td>\n",
       "      <td>74</td>\n",
       "      <td>277</td>\n",
       "      <td>203.0</td>\n",
       "      <td>0.732910</td>\n",
       "      <td>2.736328</td>\n",
       "      <td>12.101562</td>\n",
       "      <td>9.914062</td>\n",
       "      <td>6.414062</td>\n",
       "    </tr>\n",
       "    <tr>\n",
       "      <th>3</th>\n",
       "      <td>4</td>\n",
       "      <td>182</td>\n",
       "      <td>329</td>\n",
       "      <td>147.0</td>\n",
       "      <td>0.446777</td>\n",
       "      <td>2.683594</td>\n",
       "      <td>13.710938</td>\n",
       "      <td>12.945312</td>\n",
       "      <td>9.507812</td>\n",
       "    </tr>\n",
       "    <tr>\n",
       "      <th>4</th>\n",
       "      <td>5</td>\n",
       "      <td>6</td>\n",
       "      <td>15</td>\n",
       "      <td>9.0</td>\n",
       "      <td>0.600098</td>\n",
       "      <td>2.732422</td>\n",
       "      <td>10.664062</td>\n",
       "      <td>11.601562</td>\n",
       "      <td>6.464844</td>\n",
       "    </tr>\n",
       "  </tbody>\n",
       "</table>\n",
       "</div>"
      ],
      "text/plain": [
       "   product_id  p_unique_users  ...  p_mean_dsp  p_mean_cart\n",
       "0           1             716  ...    9.882812     5.800781\n",
       "1           2              78  ...   10.132812     9.890625\n",
       "2           3              74  ...    9.914062     6.414062\n",
       "3           4             182  ...   12.945312     9.507812\n",
       "4           5               6  ...   11.601562     6.464844\n",
       "\n",
       "[5 rows x 9 columns]"
      ]
     },
     "execution_count": 8,
     "metadata": {
      "tags": []
     },
     "output_type": "execute_result"
    }
   ],
   "source": [
    "products = pickle.load(open('/content/drive/MyDrive/instcart/DATA2/products_features','rb'))\n",
    "print(products.shape)\n",
    "products.head()"
   ]
  },
  {
   "cell_type": "code",
   "execution_count": null,
   "metadata": {
    "colab": {
     "base_uri": "https://localhost:8080/",
     "height": 239
    },
    "id": "W1X2SlAxUHcL",
    "outputId": "ddeab705-158a-4b84-c76c-9aef56cc99db"
   },
   "outputs": [
    {
     "name": "stdout",
     "output_type": "stream",
     "text": [
      "(13307953, 14)\n"
     ]
    },
    {
     "data": {
      "text/html": [
       "<div>\n",
       "<style scoped>\n",
       "    .dataframe tbody tr th:only-of-type {\n",
       "        vertical-align: middle;\n",
       "    }\n",
       "\n",
       "    .dataframe tbody tr th {\n",
       "        vertical-align: top;\n",
       "    }\n",
       "\n",
       "    .dataframe thead th {\n",
       "        text-align: right;\n",
       "    }\n",
       "</style>\n",
       "<table border=\"1\" class=\"dataframe\">\n",
       "  <thead>\n",
       "    <tr style=\"text-align: right;\">\n",
       "      <th></th>\n",
       "      <th>user_id</th>\n",
       "      <th>product_id</th>\n",
       "      <th>up_unique_orders_count</th>\n",
       "      <th>up_total_buy_max</th>\n",
       "      <th>up_orders_diff</th>\n",
       "      <th>up_order_ratio</th>\n",
       "      <th>up_mean_dow</th>\n",
       "      <th>up_mean_hod</th>\n",
       "      <th>up_mean_dsp</th>\n",
       "      <th>up_sum_order_no</th>\n",
       "      <th>up_mean_cart</th>\n",
       "      <th>last_5_count</th>\n",
       "      <th>last_5_ratio</th>\n",
       "      <th>chance_in_last_5</th>\n",
       "    </tr>\n",
       "  </thead>\n",
       "  <tbody>\n",
       "    <tr>\n",
       "      <th>0</th>\n",
       "      <td>1</td>\n",
       "      <td>196</td>\n",
       "      <td>10</td>\n",
       "      <td>10</td>\n",
       "      <td>0</td>\n",
       "      <td>1.000000</td>\n",
       "      <td>2.500000</td>\n",
       "      <td>10.296875</td>\n",
       "      <td>17.593750</td>\n",
       "      <td>55.0</td>\n",
       "      <td>1.400391</td>\n",
       "      <td>5.0</td>\n",
       "      <td>1.000000</td>\n",
       "      <td>5.0</td>\n",
       "    </tr>\n",
       "    <tr>\n",
       "      <th>1</th>\n",
       "      <td>1</td>\n",
       "      <td>10258</td>\n",
       "      <td>9</td>\n",
       "      <td>10</td>\n",
       "      <td>0</td>\n",
       "      <td>0.899902</td>\n",
       "      <td>2.554688</td>\n",
       "      <td>10.554688</td>\n",
       "      <td>19.562500</td>\n",
       "      <td>54.0</td>\n",
       "      <td>3.333984</td>\n",
       "      <td>5.0</td>\n",
       "      <td>1.000000</td>\n",
       "      <td>5.0</td>\n",
       "    </tr>\n",
       "    <tr>\n",
       "      <th>2</th>\n",
       "      <td>1</td>\n",
       "      <td>10326</td>\n",
       "      <td>1</td>\n",
       "      <td>10</td>\n",
       "      <td>5</td>\n",
       "      <td>0.099976</td>\n",
       "      <td>4.000000</td>\n",
       "      <td>15.000000</td>\n",
       "      <td>28.000000</td>\n",
       "      <td>5.0</td>\n",
       "      <td>5.000000</td>\n",
       "      <td>0.0</td>\n",
       "      <td>0.000000</td>\n",
       "      <td>0.0</td>\n",
       "    </tr>\n",
       "    <tr>\n",
       "      <th>3</th>\n",
       "      <td>1</td>\n",
       "      <td>12427</td>\n",
       "      <td>10</td>\n",
       "      <td>10</td>\n",
       "      <td>0</td>\n",
       "      <td>1.000000</td>\n",
       "      <td>2.500000</td>\n",
       "      <td>10.296875</td>\n",
       "      <td>17.593750</td>\n",
       "      <td>55.0</td>\n",
       "      <td>3.300781</td>\n",
       "      <td>5.0</td>\n",
       "      <td>1.000000</td>\n",
       "      <td>5.0</td>\n",
       "    </tr>\n",
       "    <tr>\n",
       "      <th>4</th>\n",
       "      <td>1</td>\n",
       "      <td>13032</td>\n",
       "      <td>3</td>\n",
       "      <td>10</td>\n",
       "      <td>0</td>\n",
       "      <td>0.300049</td>\n",
       "      <td>2.666016</td>\n",
       "      <td>8.000000</td>\n",
       "      <td>21.671875</td>\n",
       "      <td>19.0</td>\n",
       "      <td>6.332031</td>\n",
       "      <td>2.0</td>\n",
       "      <td>0.399902</td>\n",
       "      <td>4.0</td>\n",
       "    </tr>\n",
       "  </tbody>\n",
       "</table>\n",
       "</div>"
      ],
      "text/plain": [
       "   user_id  product_id  ...  last_5_ratio  chance_in_last_5\n",
       "0        1         196  ...      1.000000               5.0\n",
       "1        1       10258  ...      1.000000               5.0\n",
       "2        1       10326  ...      0.000000               0.0\n",
       "3        1       12427  ...      1.000000               5.0\n",
       "4        1       13032  ...      0.399902               4.0\n",
       "\n",
       "[5 rows x 14 columns]"
      ]
     },
     "execution_count": 9,
     "metadata": {
      "tags": []
     },
     "output_type": "execute_result"
    }
   ],
   "source": [
    "user_products = pickle.load(open('/content/drive/MyDrive/instcart/DATA2/user_product_features','rb'))\n",
    "print(user_products.shape)\n",
    "user_products.head()"
   ]
  },
  {
   "cell_type": "code",
   "execution_count": null,
   "metadata": {
    "colab": {
     "base_uri": "https://localhost:8080/",
     "height": 239
    },
    "id": "KCrrr67rWdev",
    "outputId": "eb55cccf-e2c1-485a-c770-457fd370abe1"
   },
   "outputs": [
    {
     "name": "stdout",
     "output_type": "stream",
     "text": [
      "(49688, 36)\n"
     ]
    },
    {
     "data": {
      "text/html": [
       "<div>\n",
       "<style scoped>\n",
       "    .dataframe tbody tr th:only-of-type {\n",
       "        vertical-align: middle;\n",
       "    }\n",
       "\n",
       "    .dataframe tbody tr th {\n",
       "        vertical-align: top;\n",
       "    }\n",
       "\n",
       "    .dataframe thead th {\n",
       "        text-align: right;\n",
       "    }\n",
       "</style>\n",
       "<table border=\"1\" class=\"dataframe\">\n",
       "  <thead>\n",
       "    <tr style=\"text-align: right;\">\n",
       "      <th></th>\n",
       "      <th>pca_product0</th>\n",
       "      <th>pca_product1</th>\n",
       "      <th>pca_product2</th>\n",
       "      <th>pca_product3</th>\n",
       "      <th>pca_product4</th>\n",
       "      <th>pca_product5</th>\n",
       "      <th>pca_product6</th>\n",
       "      <th>pca_product7</th>\n",
       "      <th>pca_product8</th>\n",
       "      <th>pca_product9</th>\n",
       "      <th>pca_product10</th>\n",
       "      <th>pca_product11</th>\n",
       "      <th>pca_product12</th>\n",
       "      <th>pca_product13</th>\n",
       "      <th>pca_product14</th>\n",
       "      <th>pca_product15</th>\n",
       "      <th>pca_product16</th>\n",
       "      <th>pca_product17</th>\n",
       "      <th>pca_product18</th>\n",
       "      <th>pca_product19</th>\n",
       "      <th>pca_product20</th>\n",
       "      <th>pca_product21</th>\n",
       "      <th>pca_product22</th>\n",
       "      <th>pca_product23</th>\n",
       "      <th>pca_product24</th>\n",
       "      <th>pca_product25</th>\n",
       "      <th>pca_product26</th>\n",
       "      <th>pca_product27</th>\n",
       "      <th>pca_product28</th>\n",
       "      <th>pca_product29</th>\n",
       "      <th>pca_product30</th>\n",
       "      <th>pca_product31</th>\n",
       "      <th>pca_product32</th>\n",
       "      <th>pca_product33</th>\n",
       "      <th>pca_product34</th>\n",
       "      <th>product_id</th>\n",
       "    </tr>\n",
       "  </thead>\n",
       "  <tbody>\n",
       "    <tr>\n",
       "      <th>0</th>\n",
       "      <td>-1.774349</td>\n",
       "      <td>1.862899</td>\n",
       "      <td>-1.726356</td>\n",
       "      <td>0.370522</td>\n",
       "      <td>-0.519996</td>\n",
       "      <td>-0.380709</td>\n",
       "      <td>0.096624</td>\n",
       "      <td>0.330845</td>\n",
       "      <td>-0.661177</td>\n",
       "      <td>0.241033</td>\n",
       "      <td>0.101181</td>\n",
       "      <td>-0.493973</td>\n",
       "      <td>-0.201572</td>\n",
       "      <td>-0.444850</td>\n",
       "      <td>0.419383</td>\n",
       "      <td>0.389619</td>\n",
       "      <td>-0.506580</td>\n",
       "      <td>0.202802</td>\n",
       "      <td>0.022298</td>\n",
       "      <td>0.002415</td>\n",
       "      <td>-0.327021</td>\n",
       "      <td>-0.023506</td>\n",
       "      <td>-0.280265</td>\n",
       "      <td>0.145873</td>\n",
       "      <td>-0.181585</td>\n",
       "      <td>-0.049066</td>\n",
       "      <td>0.415202</td>\n",
       "      <td>-0.019164</td>\n",
       "      <td>-0.204111</td>\n",
       "      <td>0.119044</td>\n",
       "      <td>0.003939</td>\n",
       "      <td>0.276257</td>\n",
       "      <td>-0.028392</td>\n",
       "      <td>-0.003242</td>\n",
       "      <td>-0.261290</td>\n",
       "      <td>1</td>\n",
       "    </tr>\n",
       "    <tr>\n",
       "      <th>1</th>\n",
       "      <td>-0.047741</td>\n",
       "      <td>-0.890461</td>\n",
       "      <td>0.513497</td>\n",
       "      <td>0.939047</td>\n",
       "      <td>-0.144349</td>\n",
       "      <td>0.227472</td>\n",
       "      <td>-0.158142</td>\n",
       "      <td>0.047917</td>\n",
       "      <td>-0.156420</td>\n",
       "      <td>-0.259751</td>\n",
       "      <td>-0.289473</td>\n",
       "      <td>0.887270</td>\n",
       "      <td>-0.114774</td>\n",
       "      <td>-0.213160</td>\n",
       "      <td>-0.354417</td>\n",
       "      <td>-0.099891</td>\n",
       "      <td>-0.329085</td>\n",
       "      <td>0.225002</td>\n",
       "      <td>0.126124</td>\n",
       "      <td>0.279918</td>\n",
       "      <td>0.041314</td>\n",
       "      <td>0.091101</td>\n",
       "      <td>-0.344999</td>\n",
       "      <td>-0.384182</td>\n",
       "      <td>-0.187571</td>\n",
       "      <td>0.083958</td>\n",
       "      <td>0.097627</td>\n",
       "      <td>-0.315279</td>\n",
       "      <td>0.045782</td>\n",
       "      <td>-0.019478</td>\n",
       "      <td>-0.137610</td>\n",
       "      <td>-0.261693</td>\n",
       "      <td>0.342441</td>\n",
       "      <td>-0.340478</td>\n",
       "      <td>0.108559</td>\n",
       "      <td>2</td>\n",
       "    </tr>\n",
       "    <tr>\n",
       "      <th>2</th>\n",
       "      <td>0.043657</td>\n",
       "      <td>1.457060</td>\n",
       "      <td>1.382342</td>\n",
       "      <td>0.071647</td>\n",
       "      <td>0.521699</td>\n",
       "      <td>-0.341240</td>\n",
       "      <td>-0.066442</td>\n",
       "      <td>0.399262</td>\n",
       "      <td>-0.172917</td>\n",
       "      <td>0.238910</td>\n",
       "      <td>0.056587</td>\n",
       "      <td>0.256850</td>\n",
       "      <td>0.346733</td>\n",
       "      <td>0.315623</td>\n",
       "      <td>0.158165</td>\n",
       "      <td>1.017319</td>\n",
       "      <td>0.347680</td>\n",
       "      <td>0.670804</td>\n",
       "      <td>0.007417</td>\n",
       "      <td>-0.133369</td>\n",
       "      <td>-0.014958</td>\n",
       "      <td>-0.134782</td>\n",
       "      <td>0.167031</td>\n",
       "      <td>0.027383</td>\n",
       "      <td>-0.363632</td>\n",
       "      <td>-0.447576</td>\n",
       "      <td>-0.384372</td>\n",
       "      <td>-0.071760</td>\n",
       "      <td>-0.104525</td>\n",
       "      <td>0.059152</td>\n",
       "      <td>-0.010457</td>\n",
       "      <td>0.062057</td>\n",
       "      <td>-0.232915</td>\n",
       "      <td>-0.030754</td>\n",
       "      <td>0.133745</td>\n",
       "      <td>3</td>\n",
       "    </tr>\n",
       "    <tr>\n",
       "      <th>3</th>\n",
       "      <td>-0.268130</td>\n",
       "      <td>-0.131417</td>\n",
       "      <td>-0.541702</td>\n",
       "      <td>-0.253781</td>\n",
       "      <td>0.678368</td>\n",
       "      <td>0.516824</td>\n",
       "      <td>-0.163390</td>\n",
       "      <td>-0.243593</td>\n",
       "      <td>-0.196065</td>\n",
       "      <td>-0.128423</td>\n",
       "      <td>0.031530</td>\n",
       "      <td>0.001493</td>\n",
       "      <td>0.142277</td>\n",
       "      <td>0.183941</td>\n",
       "      <td>0.257958</td>\n",
       "      <td>0.047451</td>\n",
       "      <td>-0.359922</td>\n",
       "      <td>-0.048906</td>\n",
       "      <td>-0.099979</td>\n",
       "      <td>0.176621</td>\n",
       "      <td>-0.216740</td>\n",
       "      <td>0.077760</td>\n",
       "      <td>0.010033</td>\n",
       "      <td>-0.054386</td>\n",
       "      <td>-0.023175</td>\n",
       "      <td>-0.147930</td>\n",
       "      <td>0.114699</td>\n",
       "      <td>-0.125601</td>\n",
       "      <td>0.014300</td>\n",
       "      <td>0.225421</td>\n",
       "      <td>-0.156754</td>\n",
       "      <td>-0.059309</td>\n",
       "      <td>-0.083742</td>\n",
       "      <td>0.053851</td>\n",
       "      <td>0.185819</td>\n",
       "      <td>4</td>\n",
       "    </tr>\n",
       "    <tr>\n",
       "      <th>4</th>\n",
       "      <td>-0.706677</td>\n",
       "      <td>-1.072866</td>\n",
       "      <td>0.284216</td>\n",
       "      <td>0.475295</td>\n",
       "      <td>0.321492</td>\n",
       "      <td>0.182623</td>\n",
       "      <td>-0.542613</td>\n",
       "      <td>0.310029</td>\n",
       "      <td>-0.340947</td>\n",
       "      <td>-0.090036</td>\n",
       "      <td>-0.179737</td>\n",
       "      <td>0.346138</td>\n",
       "      <td>-0.328105</td>\n",
       "      <td>-0.051831</td>\n",
       "      <td>-0.202492</td>\n",
       "      <td>-0.000895</td>\n",
       "      <td>-0.225905</td>\n",
       "      <td>-0.227601</td>\n",
       "      <td>-0.225100</td>\n",
       "      <td>-0.013339</td>\n",
       "      <td>-0.046565</td>\n",
       "      <td>-0.226341</td>\n",
       "      <td>0.077072</td>\n",
       "      <td>-0.005098</td>\n",
       "      <td>-0.087250</td>\n",
       "      <td>0.070884</td>\n",
       "      <td>0.037476</td>\n",
       "      <td>0.081641</td>\n",
       "      <td>-0.267840</td>\n",
       "      <td>-0.091839</td>\n",
       "      <td>0.029704</td>\n",
       "      <td>0.018115</td>\n",
       "      <td>0.151924</td>\n",
       "      <td>0.231747</td>\n",
       "      <td>-0.088788</td>\n",
       "      <td>5</td>\n",
       "    </tr>\n",
       "  </tbody>\n",
       "</table>\n",
       "</div>"
      ],
      "text/plain": [
       "   pca_product0  pca_product1  ...  pca_product34  product_id\n",
       "0     -1.774349      1.862899  ...      -0.261290           1\n",
       "1     -0.047741     -0.890461  ...       0.108559           2\n",
       "2      0.043657      1.457060  ...       0.133745           3\n",
       "3     -0.268130     -0.131417  ...       0.185819           4\n",
       "4     -0.706677     -1.072866  ...      -0.088788           5\n",
       "\n",
       "[5 rows x 36 columns]"
      ]
     },
     "execution_count": 10,
     "metadata": {
      "tags": []
     },
     "output_type": "execute_result"
    }
   ],
   "source": [
    "pca_product_features= pickle.load(open('/content/drive/MyDrive/instcart/DATA2/pca_product_features','rb'))\n",
    "print(pca_product_features.shape)\n",
    "pca_product_features.head()"
   ]
  },
  {
   "cell_type": "code",
   "execution_count": null,
   "metadata": {
    "colab": {
     "base_uri": "https://localhost:8080/",
     "height": 219
    },
    "id": "Im6ky8PPe15D",
    "outputId": "9134f3bb-863e-4c18-9f75-f55fb077a189"
   },
   "outputs": [
    {
     "name": "stdout",
     "output_type": "stream",
     "text": [
      "(49688, 6)\n"
     ]
    },
    {
     "data": {
      "text/html": [
       "<div>\n",
       "<style scoped>\n",
       "    .dataframe tbody tr th:only-of-type {\n",
       "        vertical-align: middle;\n",
       "    }\n",
       "\n",
       "    .dataframe tbody tr th {\n",
       "        vertical-align: top;\n",
       "    }\n",
       "\n",
       "    .dataframe thead th {\n",
       "        text-align: right;\n",
       "    }\n",
       "</style>\n",
       "<table border=\"1\" class=\"dataframe\">\n",
       "  <thead>\n",
       "    <tr style=\"text-align: right;\">\n",
       "      <th></th>\n",
       "      <th>orderw2v_0</th>\n",
       "      <th>orderw2v_1</th>\n",
       "      <th>orderw2v_2</th>\n",
       "      <th>orderw2v_3</th>\n",
       "      <th>orderw2v_4</th>\n",
       "      <th>product_id</th>\n",
       "    </tr>\n",
       "  </thead>\n",
       "  <tbody>\n",
       "    <tr>\n",
       "      <th>0</th>\n",
       "      <td>-3.270730</td>\n",
       "      <td>-4.238599</td>\n",
       "      <td>-7.872622</td>\n",
       "      <td>-5.097023</td>\n",
       "      <td>4.520436</td>\n",
       "      <td>1</td>\n",
       "    </tr>\n",
       "    <tr>\n",
       "      <th>1</th>\n",
       "      <td>-0.666321</td>\n",
       "      <td>0.725049</td>\n",
       "      <td>-0.115846</td>\n",
       "      <td>1.051244</td>\n",
       "      <td>0.761189</td>\n",
       "      <td>2</td>\n",
       "    </tr>\n",
       "    <tr>\n",
       "      <th>2</th>\n",
       "      <td>-3.422789</td>\n",
       "      <td>-1.191119</td>\n",
       "      <td>-1.846767</td>\n",
       "      <td>1.291017</td>\n",
       "      <td>-2.449048</td>\n",
       "      <td>3</td>\n",
       "    </tr>\n",
       "    <tr>\n",
       "      <th>3</th>\n",
       "      <td>2.693610</td>\n",
       "      <td>0.544360</td>\n",
       "      <td>-1.204878</td>\n",
       "      <td>-7.898958</td>\n",
       "      <td>-1.671540</td>\n",
       "      <td>4</td>\n",
       "    </tr>\n",
       "    <tr>\n",
       "      <th>4</th>\n",
       "      <td>-0.012311</td>\n",
       "      <td>0.228953</td>\n",
       "      <td>-0.532021</td>\n",
       "      <td>-0.203010</td>\n",
       "      <td>0.320053</td>\n",
       "      <td>5</td>\n",
       "    </tr>\n",
       "  </tbody>\n",
       "</table>\n",
       "</div>"
      ],
      "text/plain": [
       "   orderw2v_0  orderw2v_1  orderw2v_2  orderw2v_3  orderw2v_4  product_id\n",
       "0   -3.270730   -4.238599   -7.872622   -5.097023    4.520436           1\n",
       "1   -0.666321    0.725049   -0.115846    1.051244    0.761189           2\n",
       "2   -3.422789   -1.191119   -1.846767    1.291017   -2.449048           3\n",
       "3    2.693610    0.544360   -1.204878   -7.898958   -1.671540           4\n",
       "4   -0.012311    0.228953   -0.532021   -0.203010    0.320053           5"
      ]
     },
     "execution_count": 11,
     "metadata": {
      "tags": []
     },
     "output_type": "execute_result"
    }
   ],
   "source": [
    "order2vec_features= pickle.load(open('/content/drive/MyDrive/instcart/DATA2/order2vec_features','rb'))\n",
    "print(order2vec_features.shape)\n",
    "order2vec_features.head()"
   ]
  },
  {
   "cell_type": "code",
   "execution_count": null,
   "metadata": {
    "colab": {
     "base_uri": "https://localhost:8080/"
    },
    "id": "3npxbZrsW5ah",
    "outputId": "0a388e95-5c66-4afc-bbc5-f6df3032e1e0"
   },
   "outputs": [
    {
     "data": {
      "text/plain": [
       "(13307953, 74)"
      ]
     },
     "execution_count": 12,
     "metadata": {
      "tags": []
     },
     "output_type": "execute_result"
    }
   ],
   "source": [
    "dataframe = pd.merge(user_products , users , on=\"user_id\" , how=\"left\")\n",
    "dataframe = pd.merge(dataframe , products , on=\"product_id\" , how=\"left\")\n",
    "dataframe=pd.merge(dataframe,pca_product_features,on='product_id',how='left')\n",
    "dataframe=pd.merge(dataframe,order2vec_features,on='product_id',how='left')\n",
    "dataframe.shape"
   ]
  },
  {
   "cell_type": "code",
   "execution_count": null,
   "metadata": {
    "colab": {
     "base_uri": "https://localhost:8080/",
     "height": 222
    },
    "id": "H8Mrji2eibxA",
    "outputId": "6cef250c-eeda-4662-d4d0-2359b15185d5"
   },
   "outputs": [
    {
     "data": {
      "text/html": [
       "<div>\n",
       "<style scoped>\n",
       "    .dataframe tbody tr th:only-of-type {\n",
       "        vertical-align: middle;\n",
       "    }\n",
       "\n",
       "    .dataframe tbody tr th {\n",
       "        vertical-align: top;\n",
       "    }\n",
       "\n",
       "    .dataframe thead th {\n",
       "        text-align: right;\n",
       "    }\n",
       "</style>\n",
       "<table border=\"1\" class=\"dataframe\">\n",
       "  <thead>\n",
       "    <tr style=\"text-align: right;\">\n",
       "      <th></th>\n",
       "      <th>user_id</th>\n",
       "      <th>product_id</th>\n",
       "      <th>up_unique_orders_count</th>\n",
       "      <th>up_total_buy_max</th>\n",
       "      <th>up_orders_diff</th>\n",
       "      <th>up_order_ratio</th>\n",
       "      <th>up_mean_dow</th>\n",
       "      <th>up_mean_hod</th>\n",
       "      <th>up_mean_dsp</th>\n",
       "      <th>up_sum_order_no</th>\n",
       "      <th>up_mean_cart</th>\n",
       "      <th>last_5_count</th>\n",
       "      <th>last_5_ratio</th>\n",
       "      <th>chance_in_last_5</th>\n",
       "      <th>total_no_of_order_by_user</th>\n",
       "      <th>total_no_of_items</th>\n",
       "      <th>total_no_of_unique_items</th>\n",
       "      <th>avg_product_in_order_by_user</th>\n",
       "      <th>num_reorders_by_user</th>\n",
       "      <th>reordered_mean_user</th>\n",
       "      <th>user_dow_mean</th>\n",
       "      <th>user_hod_mean</th>\n",
       "      <th>user_dsp_mean</th>\n",
       "      <th>user_max_order_day</th>\n",
       "      <th>user_max_hod</th>\n",
       "      <th>total_unique_aisle_by_user</th>\n",
       "      <th>p_unique_users</th>\n",
       "      <th>p_total_purchase</th>\n",
       "      <th>p_sum_reordered</th>\n",
       "      <th>p_mean_reordered</th>\n",
       "      <th>p_mean_dow</th>\n",
       "      <th>p_mean_hod</th>\n",
       "      <th>p_mean_dsp</th>\n",
       "      <th>p_mean_cart</th>\n",
       "      <th>pca_product0</th>\n",
       "      <th>pca_product1</th>\n",
       "      <th>pca_product2</th>\n",
       "      <th>pca_product3</th>\n",
       "      <th>pca_product4</th>\n",
       "      <th>pca_product5</th>\n",
       "      <th>pca_product6</th>\n",
       "      <th>pca_product7</th>\n",
       "      <th>pca_product8</th>\n",
       "      <th>pca_product9</th>\n",
       "      <th>pca_product10</th>\n",
       "      <th>pca_product11</th>\n",
       "      <th>pca_product12</th>\n",
       "      <th>pca_product13</th>\n",
       "      <th>pca_product14</th>\n",
       "      <th>pca_product15</th>\n",
       "      <th>pca_product16</th>\n",
       "      <th>pca_product17</th>\n",
       "      <th>pca_product18</th>\n",
       "      <th>pca_product19</th>\n",
       "      <th>pca_product20</th>\n",
       "      <th>pca_product21</th>\n",
       "      <th>pca_product22</th>\n",
       "      <th>pca_product23</th>\n",
       "      <th>pca_product24</th>\n",
       "      <th>pca_product25</th>\n",
       "      <th>pca_product26</th>\n",
       "      <th>pca_product27</th>\n",
       "      <th>pca_product28</th>\n",
       "      <th>pca_product29</th>\n",
       "      <th>pca_product30</th>\n",
       "      <th>pca_product31</th>\n",
       "      <th>pca_product32</th>\n",
       "      <th>pca_product33</th>\n",
       "      <th>pca_product34</th>\n",
       "      <th>orderw2v_0</th>\n",
       "      <th>orderw2v_1</th>\n",
       "      <th>orderw2v_2</th>\n",
       "      <th>orderw2v_3</th>\n",
       "      <th>orderw2v_4</th>\n",
       "    </tr>\n",
       "  </thead>\n",
       "  <tbody>\n",
       "    <tr>\n",
       "      <th>0</th>\n",
       "      <td>1</td>\n",
       "      <td>196</td>\n",
       "      <td>10</td>\n",
       "      <td>10</td>\n",
       "      <td>0</td>\n",
       "      <td>1.000000</td>\n",
       "      <td>2.500000</td>\n",
       "      <td>10.296875</td>\n",
       "      <td>17.593750</td>\n",
       "      <td>55.0</td>\n",
       "      <td>1.400391</td>\n",
       "      <td>5.0</td>\n",
       "      <td>1.000000</td>\n",
       "      <td>5.0</td>\n",
       "      <td>10</td>\n",
       "      <td>59</td>\n",
       "      <td>18</td>\n",
       "      <td>5.898438</td>\n",
       "      <td>41.0</td>\n",
       "      <td>0.694824</td>\n",
       "      <td>2.644531</td>\n",
       "      <td>10.539062</td>\n",
       "      <td>20.265625</td>\n",
       "      <td>4</td>\n",
       "      <td>7</td>\n",
       "      <td>12</td>\n",
       "      <td>8000</td>\n",
       "      <td>35791</td>\n",
       "      <td>27791.0</td>\n",
       "      <td>0.776367</td>\n",
       "      <td>2.898438</td>\n",
       "      <td>12.523438</td>\n",
       "      <td>11.195312</td>\n",
       "      <td>3.722656</td>\n",
       "      <td>0.001001</td>\n",
       "      <td>2.072606</td>\n",
       "      <td>0.839006</td>\n",
       "      <td>-0.006866</td>\n",
       "      <td>1.401802</td>\n",
       "      <td>-0.055076</td>\n",
       "      <td>0.370952</td>\n",
       "      <td>1.085690</td>\n",
       "      <td>-0.279370</td>\n",
       "      <td>-0.390362</td>\n",
       "      <td>-0.307527</td>\n",
       "      <td>-0.858284</td>\n",
       "      <td>0.331607</td>\n",
       "      <td>0.107240</td>\n",
       "      <td>-0.103192</td>\n",
       "      <td>-0.444386</td>\n",
       "      <td>-0.400286</td>\n",
       "      <td>0.050189</td>\n",
       "      <td>-0.323047</td>\n",
       "      <td>-0.318208</td>\n",
       "      <td>-0.108303</td>\n",
       "      <td>-0.220535</td>\n",
       "      <td>0.019416</td>\n",
       "      <td>-0.258745</td>\n",
       "      <td>0.294470</td>\n",
       "      <td>-0.085675</td>\n",
       "      <td>0.284580</td>\n",
       "      <td>-0.583273</td>\n",
       "      <td>-0.067617</td>\n",
       "      <td>-0.200336</td>\n",
       "      <td>0.154138</td>\n",
       "      <td>0.339274</td>\n",
       "      <td>0.208461</td>\n",
       "      <td>-0.241170</td>\n",
       "      <td>0.081909</td>\n",
       "      <td>-0.414004</td>\n",
       "      <td>-4.487915</td>\n",
       "      <td>-7.871353</td>\n",
       "      <td>-5.645358</td>\n",
       "      <td>3.388948</td>\n",
       "    </tr>\n",
       "    <tr>\n",
       "      <th>1</th>\n",
       "      <td>1</td>\n",
       "      <td>10258</td>\n",
       "      <td>9</td>\n",
       "      <td>10</td>\n",
       "      <td>0</td>\n",
       "      <td>0.899902</td>\n",
       "      <td>2.554688</td>\n",
       "      <td>10.554688</td>\n",
       "      <td>19.562500</td>\n",
       "      <td>54.0</td>\n",
       "      <td>3.333984</td>\n",
       "      <td>5.0</td>\n",
       "      <td>1.000000</td>\n",
       "      <td>5.0</td>\n",
       "      <td>10</td>\n",
       "      <td>59</td>\n",
       "      <td>18</td>\n",
       "      <td>5.898438</td>\n",
       "      <td>41.0</td>\n",
       "      <td>0.694824</td>\n",
       "      <td>2.644531</td>\n",
       "      <td>10.539062</td>\n",
       "      <td>20.265625</td>\n",
       "      <td>4</td>\n",
       "      <td>7</td>\n",
       "      <td>12</td>\n",
       "      <td>557</td>\n",
       "      <td>1946</td>\n",
       "      <td>1389.0</td>\n",
       "      <td>0.713867</td>\n",
       "      <td>2.718750</td>\n",
       "      <td>12.257812</td>\n",
       "      <td>11.101562</td>\n",
       "      <td>4.277344</td>\n",
       "      <td>-1.460781</td>\n",
       "      <td>0.462533</td>\n",
       "      <td>1.068085</td>\n",
       "      <td>0.026641</td>\n",
       "      <td>-1.029544</td>\n",
       "      <td>-0.739478</td>\n",
       "      <td>0.724624</td>\n",
       "      <td>-0.859867</td>\n",
       "      <td>-0.658844</td>\n",
       "      <td>-0.259963</td>\n",
       "      <td>-0.031954</td>\n",
       "      <td>-0.159214</td>\n",
       "      <td>-0.135032</td>\n",
       "      <td>-0.104902</td>\n",
       "      <td>-0.213035</td>\n",
       "      <td>-0.193713</td>\n",
       "      <td>0.163944</td>\n",
       "      <td>0.329778</td>\n",
       "      <td>0.190813</td>\n",
       "      <td>0.213870</td>\n",
       "      <td>0.648418</td>\n",
       "      <td>-0.411760</td>\n",
       "      <td>-0.145898</td>\n",
       "      <td>0.187644</td>\n",
       "      <td>-0.380436</td>\n",
       "      <td>0.127335</td>\n",
       "      <td>0.245973</td>\n",
       "      <td>-0.209771</td>\n",
       "      <td>-0.532678</td>\n",
       "      <td>-0.122969</td>\n",
       "      <td>-0.111894</td>\n",
       "      <td>-0.484600</td>\n",
       "      <td>-0.063211</td>\n",
       "      <td>-0.214576</td>\n",
       "      <td>0.016434</td>\n",
       "      <td>-8.398999</td>\n",
       "      <td>-0.934777</td>\n",
       "      <td>-5.841552</td>\n",
       "      <td>-6.023494</td>\n",
       "      <td>4.871997</td>\n",
       "    </tr>\n",
       "    <tr>\n",
       "      <th>2</th>\n",
       "      <td>1</td>\n",
       "      <td>10326</td>\n",
       "      <td>1</td>\n",
       "      <td>10</td>\n",
       "      <td>5</td>\n",
       "      <td>0.099976</td>\n",
       "      <td>4.000000</td>\n",
       "      <td>15.000000</td>\n",
       "      <td>28.000000</td>\n",
       "      <td>5.0</td>\n",
       "      <td>5.000000</td>\n",
       "      <td>0.0</td>\n",
       "      <td>0.000000</td>\n",
       "      <td>0.0</td>\n",
       "      <td>10</td>\n",
       "      <td>59</td>\n",
       "      <td>18</td>\n",
       "      <td>5.898438</td>\n",
       "      <td>41.0</td>\n",
       "      <td>0.694824</td>\n",
       "      <td>2.644531</td>\n",
       "      <td>10.539062</td>\n",
       "      <td>20.265625</td>\n",
       "      <td>4</td>\n",
       "      <td>7</td>\n",
       "      <td>12</td>\n",
       "      <td>1923</td>\n",
       "      <td>5526</td>\n",
       "      <td>3603.0</td>\n",
       "      <td>0.651855</td>\n",
       "      <td>2.742188</td>\n",
       "      <td>12.898438</td>\n",
       "      <td>11.179688</td>\n",
       "      <td>4.191406</td>\n",
       "      <td>-0.183487</td>\n",
       "      <td>-0.170745</td>\n",
       "      <td>1.206384</td>\n",
       "      <td>-0.441127</td>\n",
       "      <td>-0.380863</td>\n",
       "      <td>-0.460745</td>\n",
       "      <td>1.048422</td>\n",
       "      <td>-0.966133</td>\n",
       "      <td>-0.005269</td>\n",
       "      <td>0.608900</td>\n",
       "      <td>0.739942</td>\n",
       "      <td>-0.158170</td>\n",
       "      <td>-0.484749</td>\n",
       "      <td>-0.277422</td>\n",
       "      <td>-0.034467</td>\n",
       "      <td>0.160955</td>\n",
       "      <td>0.058986</td>\n",
       "      <td>-0.159517</td>\n",
       "      <td>-0.156091</td>\n",
       "      <td>0.013084</td>\n",
       "      <td>-0.178438</td>\n",
       "      <td>0.265696</td>\n",
       "      <td>0.223778</td>\n",
       "      <td>-0.140017</td>\n",
       "      <td>0.225003</td>\n",
       "      <td>0.505542</td>\n",
       "      <td>0.030664</td>\n",
       "      <td>0.145611</td>\n",
       "      <td>-0.010714</td>\n",
       "      <td>0.158644</td>\n",
       "      <td>-0.064429</td>\n",
       "      <td>0.015202</td>\n",
       "      <td>0.067265</td>\n",
       "      <td>-0.154225</td>\n",
       "      <td>-0.061528</td>\n",
       "      <td>-5.712102</td>\n",
       "      <td>1.143048</td>\n",
       "      <td>-3.588815</td>\n",
       "      <td>-7.035832</td>\n",
       "      <td>9.212797</td>\n",
       "    </tr>\n",
       "    <tr>\n",
       "      <th>3</th>\n",
       "      <td>1</td>\n",
       "      <td>12427</td>\n",
       "      <td>10</td>\n",
       "      <td>10</td>\n",
       "      <td>0</td>\n",
       "      <td>1.000000</td>\n",
       "      <td>2.500000</td>\n",
       "      <td>10.296875</td>\n",
       "      <td>17.593750</td>\n",
       "      <td>55.0</td>\n",
       "      <td>3.300781</td>\n",
       "      <td>5.0</td>\n",
       "      <td>1.000000</td>\n",
       "      <td>5.0</td>\n",
       "      <td>10</td>\n",
       "      <td>59</td>\n",
       "      <td>18</td>\n",
       "      <td>5.898438</td>\n",
       "      <td>41.0</td>\n",
       "      <td>0.694824</td>\n",
       "      <td>2.644531</td>\n",
       "      <td>10.539062</td>\n",
       "      <td>20.265625</td>\n",
       "      <td>4</td>\n",
       "      <td>7</td>\n",
       "      <td>12</td>\n",
       "      <td>1679</td>\n",
       "      <td>6476</td>\n",
       "      <td>4797.0</td>\n",
       "      <td>0.740723</td>\n",
       "      <td>2.669922</td>\n",
       "      <td>12.265625</td>\n",
       "      <td>9.953125</td>\n",
       "      <td>4.761719</td>\n",
       "      <td>-0.923041</td>\n",
       "      <td>-0.178272</td>\n",
       "      <td>-0.743051</td>\n",
       "      <td>0.126818</td>\n",
       "      <td>0.587514</td>\n",
       "      <td>-0.961184</td>\n",
       "      <td>-0.135199</td>\n",
       "      <td>0.142457</td>\n",
       "      <td>-0.303924</td>\n",
       "      <td>-0.650350</td>\n",
       "      <td>-0.482848</td>\n",
       "      <td>-0.397965</td>\n",
       "      <td>-0.078838</td>\n",
       "      <td>-0.466046</td>\n",
       "      <td>-0.170244</td>\n",
       "      <td>-0.047964</td>\n",
       "      <td>0.536363</td>\n",
       "      <td>0.126212</td>\n",
       "      <td>-0.590784</td>\n",
       "      <td>0.340148</td>\n",
       "      <td>-0.010737</td>\n",
       "      <td>0.046231</td>\n",
       "      <td>0.372232</td>\n",
       "      <td>-0.065139</td>\n",
       "      <td>-0.021606</td>\n",
       "      <td>0.187312</td>\n",
       "      <td>0.229576</td>\n",
       "      <td>-0.143791</td>\n",
       "      <td>0.372023</td>\n",
       "      <td>0.344213</td>\n",
       "      <td>0.136282</td>\n",
       "      <td>-0.045816</td>\n",
       "      <td>0.010136</td>\n",
       "      <td>0.380116</td>\n",
       "      <td>0.317647</td>\n",
       "      <td>-4.272051</td>\n",
       "      <td>-3.657652</td>\n",
       "      <td>-5.211017</td>\n",
       "      <td>-4.204681</td>\n",
       "      <td>-1.854681</td>\n",
       "    </tr>\n",
       "    <tr>\n",
       "      <th>4</th>\n",
       "      <td>1</td>\n",
       "      <td>13032</td>\n",
       "      <td>3</td>\n",
       "      <td>10</td>\n",
       "      <td>0</td>\n",
       "      <td>0.300049</td>\n",
       "      <td>2.666016</td>\n",
       "      <td>8.000000</td>\n",
       "      <td>21.671875</td>\n",
       "      <td>19.0</td>\n",
       "      <td>6.332031</td>\n",
       "      <td>2.0</td>\n",
       "      <td>0.399902</td>\n",
       "      <td>4.0</td>\n",
       "      <td>10</td>\n",
       "      <td>59</td>\n",
       "      <td>18</td>\n",
       "      <td>5.898438</td>\n",
       "      <td>41.0</td>\n",
       "      <td>0.694824</td>\n",
       "      <td>2.644531</td>\n",
       "      <td>10.539062</td>\n",
       "      <td>20.265625</td>\n",
       "      <td>4</td>\n",
       "      <td>7</td>\n",
       "      <td>12</td>\n",
       "      <td>1286</td>\n",
       "      <td>3751</td>\n",
       "      <td>2465.0</td>\n",
       "      <td>0.657227</td>\n",
       "      <td>2.779297</td>\n",
       "      <td>12.578125</td>\n",
       "      <td>10.617188</td>\n",
       "      <td>5.621094</td>\n",
       "      <td>-1.427823</td>\n",
       "      <td>1.135696</td>\n",
       "      <td>-0.556905</td>\n",
       "      <td>0.342091</td>\n",
       "      <td>-0.601005</td>\n",
       "      <td>-0.615136</td>\n",
       "      <td>-0.050350</td>\n",
       "      <td>0.073746</td>\n",
       "      <td>0.142597</td>\n",
       "      <td>-0.052679</td>\n",
       "      <td>0.113459</td>\n",
       "      <td>0.424049</td>\n",
       "      <td>0.389833</td>\n",
       "      <td>0.891967</td>\n",
       "      <td>-0.061486</td>\n",
       "      <td>-0.556654</td>\n",
       "      <td>0.209457</td>\n",
       "      <td>0.541748</td>\n",
       "      <td>-0.118772</td>\n",
       "      <td>0.085685</td>\n",
       "      <td>0.034883</td>\n",
       "      <td>-0.209712</td>\n",
       "      <td>0.181970</td>\n",
       "      <td>-0.050671</td>\n",
       "      <td>-0.542915</td>\n",
       "      <td>0.172149</td>\n",
       "      <td>-0.120483</td>\n",
       "      <td>0.228805</td>\n",
       "      <td>0.496215</td>\n",
       "      <td>0.128514</td>\n",
       "      <td>-0.555925</td>\n",
       "      <td>-0.206325</td>\n",
       "      <td>0.194411</td>\n",
       "      <td>-0.181513</td>\n",
       "      <td>0.069306</td>\n",
       "      <td>-3.337447</td>\n",
       "      <td>-4.784629</td>\n",
       "      <td>-10.085097</td>\n",
       "      <td>-4.040372</td>\n",
       "      <td>7.933315</td>\n",
       "    </tr>\n",
       "  </tbody>\n",
       "</table>\n",
       "</div>"
      ],
      "text/plain": [
       "   user_id  product_id  ...  orderw2v_3  orderw2v_4\n",
       "0        1         196  ...   -5.645358    3.388948\n",
       "1        1       10258  ...   -6.023494    4.871997\n",
       "2        1       10326  ...   -7.035832    9.212797\n",
       "3        1       12427  ...   -4.204681   -1.854681\n",
       "4        1       13032  ...   -4.040372    7.933315\n",
       "\n",
       "[5 rows x 74 columns]"
      ]
     },
     "execution_count": 13,
     "metadata": {
      "tags": []
     },
     "output_type": "execute_result"
    }
   ],
   "source": [
    "dataframe.head()"
   ]
  },
  {
   "cell_type": "code",
   "execution_count": null,
   "metadata": {
    "colab": {
     "base_uri": "https://localhost:8080/"
    },
    "id": "1LxOz1GYXU9r",
    "outputId": "33dee04e-07c1-4784-cd9a-e0d353a62b73"
   },
   "outputs": [
    {
     "name": "stdout",
     "output_type": "stream",
     "text": [
      "Memory usage after optimization is: 2017.94 MB\n",
      "Decreased by 60.2%\n"
     ]
    }
   ],
   "source": [
    "dataframe=reduce_mem_usage(dataframe)"
   ]
  },
  {
   "cell_type": "code",
   "execution_count": null,
   "metadata": {
    "colab": {
     "base_uri": "https://localhost:8080/"
    },
    "id": "SRxcXIBkX15E",
    "outputId": "40153b4d-93ed-4626-91e6-94e23e60930e"
   },
   "outputs": [
    {
     "data": {
      "text/plain": [
       "0"
      ]
     },
     "execution_count": 15,
     "metadata": {
      "tags": []
     },
     "output_type": "execute_result"
    }
   ],
   "source": [
    "dataframe.isnull().sum().sum()"
   ]
  },
  {
   "cell_type": "markdown",
   "metadata": {
    "id": "H2y6oEXflo3T"
   },
   "source": [
    "SAVE FEATURES DATA"
   ]
  },
  {
   "cell_type": "code",
   "execution_count": null,
   "metadata": {
    "id": "mV-gws9meJNO"
   },
   "outputs": [],
   "source": [
    "pickle.dump(dataframe,open(\"/content/drive/MyDrive/instcart/DATA2/features_data.pickle\" , \"wb\"))"
   ]
  },
  {
   "cell_type": "code",
   "execution_count": 6,
   "metadata": {
    "id": "ahkC2gnlKUDx"
   },
   "outputs": [],
   "source": [
    "features_data = pickle.load(open(\"/content/drive/MyDrive/instcart/DATA2/features_data.pickle\" , \"rb\"))"
   ]
  },
  {
   "cell_type": "markdown",
   "metadata": {
    "id": "b5X4iwDvlzQd"
   },
   "source": [
    "Summary: (i) In EDA we observed that user's give orders between 4 to 100 .So number of orders given by user and total number of products purchased by user's are useful inforamtion .\n",
    "\n",
    "(ii) Many user purchased products on day 0 and 1 and in between 8 to 18 hours ,so we can derived features from these obsevation.\n",
    "\n",
    "(iii)Many products are highly repurchased on weekly and monthly basis.\n",
    "\n",
    "(iv)As we observed many products are highly repurchased in all day of week and all_hour_of_days.\n",
    "\n",
    "(v) Interaction features between user's and products give information about behaviour of user's .\n",
    "\n",
    "(vi) Interaction features give information about which user purchased which products how many time,how many time give reordered for particular products,on which day and which hour it purchase particular product information through mean and sum features ,behaviour of user in recent orders last_5 orders ."
   ]
  },
  {
   "cell_type": "markdown",
   "metadata": {
    "id": "oSl8sATXd0mT"
   },
   "source": [
    "one user may present in prior and or train,test(but not train and test simultaneuosly)"
   ]
  },
  {
   "cell_type": "code",
   "execution_count": 7,
   "metadata": {
    "colab": {
     "base_uri": "https://localhost:8080/"
    },
    "id": "Gbc3yGXPd1dF",
    "outputId": "eb1cff34-e33a-40db-db81-79c3938fac75"
   },
   "outputs": [
    {
     "data": {
      "text/plain": [
       "(206209, 7)"
      ]
     },
     "execution_count": 7,
     "metadata": {
      "tags": []
     },
     "output_type": "execute_result"
    }
   ],
   "source": [
    "orders_train_test = orders_data[(orders_data['eval_set'] == \"test\") | (orders_data['eval_set'] == \"train\")]\n",
    "orders_train_test.shape"
   ]
  },
  {
   "cell_type": "code",
   "execution_count": null,
   "metadata": {
    "colab": {
     "base_uri": "https://localhost:8080/"
    },
    "id": "9SoQuWMoimjK",
    "outputId": "f8441c29-191b-4376-be3f-b188b86232af"
   },
   "outputs": [
    {
     "data": {
      "text/plain": [
       "Index(['order_id', 'user_id', 'eval_set', 'order_number', 'order_dow',\n",
       "       'order_hour_of_day', 'days_since_prior_order'],\n",
       "      dtype='object')"
      ]
     },
     "execution_count": 9,
     "metadata": {
      "tags": []
     },
     "output_type": "execute_result"
    }
   ],
   "source": [
    "orders_train_test.columns"
   ]
  },
  {
   "cell_type": "code",
   "execution_count": 8,
   "metadata": {
    "colab": {
     "base_uri": "https://localhost:8080/",
     "height": 202
    },
    "id": "gof4jyubd4Vl",
    "outputId": "8cfb7f6e-d437-42d8-8ea6-b99e1e5e96a8"
   },
   "outputs": [
    {
     "data": {
      "text/html": [
       "<div>\n",
       "<style scoped>\n",
       "    .dataframe tbody tr th:only-of-type {\n",
       "        vertical-align: middle;\n",
       "    }\n",
       "\n",
       "    .dataframe tbody tr th {\n",
       "        vertical-align: top;\n",
       "    }\n",
       "\n",
       "    .dataframe thead th {\n",
       "        text-align: right;\n",
       "    }\n",
       "</style>\n",
       "<table border=\"1\" class=\"dataframe\">\n",
       "  <thead>\n",
       "    <tr style=\"text-align: right;\">\n",
       "      <th></th>\n",
       "      <th>user_id</th>\n",
       "      <th>eval_set</th>\n",
       "      <th>order_id</th>\n",
       "      <th>order_dow</th>\n",
       "      <th>order_hour_of_day</th>\n",
       "      <th>days_since_prior_order</th>\n",
       "    </tr>\n",
       "  </thead>\n",
       "  <tbody>\n",
       "    <tr>\n",
       "      <th>10</th>\n",
       "      <td>1</td>\n",
       "      <td>train</td>\n",
       "      <td>1187899</td>\n",
       "      <td>4</td>\n",
       "      <td>8</td>\n",
       "      <td>14.0</td>\n",
       "    </tr>\n",
       "    <tr>\n",
       "      <th>25</th>\n",
       "      <td>2</td>\n",
       "      <td>train</td>\n",
       "      <td>1492625</td>\n",
       "      <td>1</td>\n",
       "      <td>11</td>\n",
       "      <td>30.0</td>\n",
       "    </tr>\n",
       "    <tr>\n",
       "      <th>38</th>\n",
       "      <td>3</td>\n",
       "      <td>test</td>\n",
       "      <td>2774568</td>\n",
       "      <td>5</td>\n",
       "      <td>15</td>\n",
       "      <td>11.0</td>\n",
       "    </tr>\n",
       "    <tr>\n",
       "      <th>44</th>\n",
       "      <td>4</td>\n",
       "      <td>test</td>\n",
       "      <td>329954</td>\n",
       "      <td>3</td>\n",
       "      <td>12</td>\n",
       "      <td>30.0</td>\n",
       "    </tr>\n",
       "    <tr>\n",
       "      <th>49</th>\n",
       "      <td>5</td>\n",
       "      <td>train</td>\n",
       "      <td>2196797</td>\n",
       "      <td>0</td>\n",
       "      <td>11</td>\n",
       "      <td>6.0</td>\n",
       "    </tr>\n",
       "  </tbody>\n",
       "</table>\n",
       "</div>"
      ],
      "text/plain": [
       "    user_id eval_set  ...  order_hour_of_day  days_since_prior_order\n",
       "10        1    train  ...                  8                    14.0\n",
       "25        2    train  ...                 11                    30.0\n",
       "38        3     test  ...                 15                    11.0\n",
       "44        4     test  ...                 12                    30.0\n",
       "49        5    train  ...                 11                     6.0\n",
       "\n",
       "[5 rows x 6 columns]"
      ]
     },
     "execution_count": 8,
     "metadata": {
      "tags": []
     },
     "output_type": "execute_result"
    }
   ],
   "source": [
    "orders_train_test  = orders_train_test [['user_id', 'eval_set', 'order_id','order_dow',\n",
    "                  'order_hour_of_day', 'days_since_prior_order']]\n",
    "orders_train_test .head()"
   ]
  },
  {
   "cell_type": "markdown",
   "metadata": {
    "id": "TgpyztPAWODi"
   },
   "source": [
    "Replace order_dow\t,order_hour_of_day,days_since_prior_order  with it's  reorder_ratio's"
   ]
  },
  {
   "cell_type": "code",
   "execution_count": 9,
   "metadata": {
    "colab": {
     "base_uri": "https://localhost:8080/",
     "height": 219
    },
    "id": "SKTorN1rVk1C",
    "outputId": "75542554-e2fa-4d8c-e7c1-c1214b05c9d7"
   },
   "outputs": [
    {
     "name": "stdout",
     "output_type": "stream",
     "text": [
      "(7, 2)\n"
     ]
    },
    {
     "data": {
      "text/html": [
       "<div>\n",
       "<style scoped>\n",
       "    .dataframe tbody tr th:only-of-type {\n",
       "        vertical-align: middle;\n",
       "    }\n",
       "\n",
       "    .dataframe tbody tr th {\n",
       "        vertical-align: top;\n",
       "    }\n",
       "\n",
       "    .dataframe thead th {\n",
       "        text-align: right;\n",
       "    }\n",
       "</style>\n",
       "<table border=\"1\" class=\"dataframe\">\n",
       "  <thead>\n",
       "    <tr style=\"text-align: right;\">\n",
       "      <th></th>\n",
       "      <th>order_dow</th>\n",
       "      <th>dow_reorder_ratio</th>\n",
       "    </tr>\n",
       "  </thead>\n",
       "  <tbody>\n",
       "    <tr>\n",
       "      <th>0</th>\n",
       "      <td>0</td>\n",
       "      <td>0.585276</td>\n",
       "    </tr>\n",
       "    <tr>\n",
       "      <th>1</th>\n",
       "      <td>1</td>\n",
       "      <td>0.603843</td>\n",
       "    </tr>\n",
       "    <tr>\n",
       "      <th>2</th>\n",
       "      <td>2</td>\n",
       "      <td>0.589771</td>\n",
       "    </tr>\n",
       "    <tr>\n",
       "      <th>3</th>\n",
       "      <td>3</td>\n",
       "      <td>0.586272</td>\n",
       "    </tr>\n",
       "    <tr>\n",
       "      <th>4</th>\n",
       "      <td>4</td>\n",
       "      <td>0.590979</td>\n",
       "    </tr>\n",
       "  </tbody>\n",
       "</table>\n",
       "</div>"
      ],
      "text/plain": [
       "   order_dow  dow_reorder_ratio\n",
       "0          0           0.585276\n",
       "1          1           0.603843\n",
       "2          2           0.589771\n",
       "3          3           0.586272\n",
       "4          4           0.590979"
      ]
     },
     "execution_count": 9,
     "metadata": {
      "tags": []
     },
     "output_type": "execute_result"
    }
   ],
   "source": [
    "dow_reorder_ratio= pickle.load(open('/content/drive/MyDrive/instcart/DATA2/dow_reorder_ratio','rb'))\n",
    "print(dow_reorder_ratio.shape)\n",
    "dow_reorder_ratio.head()"
   ]
  },
  {
   "cell_type": "code",
   "execution_count": 10,
   "metadata": {
    "colab": {
     "base_uri": "https://localhost:8080/",
     "height": 219
    },
    "id": "0F1qZbEeWJ7r",
    "outputId": "e4beb122-fac4-403e-c7c1-cd5dcf662883"
   },
   "outputs": [
    {
     "name": "stdout",
     "output_type": "stream",
     "text": [
      "(31, 2)\n"
     ]
    },
    {
     "data": {
      "text/html": [
       "<div>\n",
       "<style scoped>\n",
       "    .dataframe tbody tr th:only-of-type {\n",
       "        vertical-align: middle;\n",
       "    }\n",
       "\n",
       "    .dataframe tbody tr th {\n",
       "        vertical-align: top;\n",
       "    }\n",
       "\n",
       "    .dataframe thead th {\n",
       "        text-align: right;\n",
       "    }\n",
       "</style>\n",
       "<table border=\"1\" class=\"dataframe\">\n",
       "  <thead>\n",
       "    <tr style=\"text-align: right;\">\n",
       "      <th></th>\n",
       "      <th>days_since_prior_order</th>\n",
       "      <th>dsp_reorder_ratio</th>\n",
       "    </tr>\n",
       "  </thead>\n",
       "  <tbody>\n",
       "    <tr>\n",
       "      <th>0</th>\n",
       "      <td>0.0</td>\n",
       "      <td>0.017331</td>\n",
       "    </tr>\n",
       "    <tr>\n",
       "      <th>1</th>\n",
       "      <td>1.0</td>\n",
       "      <td>0.030390</td>\n",
       "    </tr>\n",
       "    <tr>\n",
       "      <th>2</th>\n",
       "      <td>2.0</td>\n",
       "      <td>0.049433</td>\n",
       "    </tr>\n",
       "    <tr>\n",
       "      <th>3</th>\n",
       "      <td>3.0</td>\n",
       "      <td>0.065646</td>\n",
       "    </tr>\n",
       "    <tr>\n",
       "      <th>4</th>\n",
       "      <td>4.0</td>\n",
       "      <td>0.073704</td>\n",
       "    </tr>\n",
       "  </tbody>\n",
       "</table>\n",
       "</div>"
      ],
      "text/plain": [
       "   days_since_prior_order  dsp_reorder_ratio\n",
       "0                     0.0           0.017331\n",
       "1                     1.0           0.030390\n",
       "2                     2.0           0.049433\n",
       "3                     3.0           0.065646\n",
       "4                     4.0           0.073704"
      ]
     },
     "execution_count": 10,
     "metadata": {
      "tags": []
     },
     "output_type": "execute_result"
    }
   ],
   "source": [
    "dsp_reorder_ratio= pickle.load(open('/content/drive/MyDrive/instcart/DATA2/dsp_reorder_ratio','rb'))\n",
    "print(dsp_reorder_ratio.shape)\n",
    "dsp_reorder_ratio.head()"
   ]
  },
  {
   "cell_type": "code",
   "execution_count": 11,
   "metadata": {
    "colab": {
     "base_uri": "https://localhost:8080/",
     "height": 219
    },
    "id": "qedpsbf8WSFZ",
    "outputId": "6adf1fa1-2d8c-4b16-c3da-afe135b5c6f9"
   },
   "outputs": [
    {
     "name": "stdout",
     "output_type": "stream",
     "text": [
      "(24, 2)\n"
     ]
    },
    {
     "data": {
      "text/html": [
       "<div>\n",
       "<style scoped>\n",
       "    .dataframe tbody tr th:only-of-type {\n",
       "        vertical-align: middle;\n",
       "    }\n",
       "\n",
       "    .dataframe tbody tr th {\n",
       "        vertical-align: top;\n",
       "    }\n",
       "\n",
       "    .dataframe thead th {\n",
       "        text-align: right;\n",
       "    }\n",
       "</style>\n",
       "<table border=\"1\" class=\"dataframe\">\n",
       "  <thead>\n",
       "    <tr style=\"text-align: right;\">\n",
       "      <th></th>\n",
       "      <th>order_hour_of_day</th>\n",
       "      <th>hod_reorder_ratio</th>\n",
       "    </tr>\n",
       "  </thead>\n",
       "  <tbody>\n",
       "    <tr>\n",
       "      <th>0</th>\n",
       "      <td>0</td>\n",
       "      <td>0.565500</td>\n",
       "    </tr>\n",
       "    <tr>\n",
       "      <th>1</th>\n",
       "      <td>1</td>\n",
       "      <td>0.557114</td>\n",
       "    </tr>\n",
       "    <tr>\n",
       "      <th>2</th>\n",
       "      <td>2</td>\n",
       "      <td>0.554455</td>\n",
       "    </tr>\n",
       "    <tr>\n",
       "      <th>3</th>\n",
       "      <td>3</td>\n",
       "      <td>0.559498</td>\n",
       "    </tr>\n",
       "    <tr>\n",
       "      <th>4</th>\n",
       "      <td>4</td>\n",
       "      <td>0.571195</td>\n",
       "    </tr>\n",
       "  </tbody>\n",
       "</table>\n",
       "</div>"
      ],
      "text/plain": [
       "   order_hour_of_day  hod_reorder_ratio\n",
       "0                  0           0.565500\n",
       "1                  1           0.557114\n",
       "2                  2           0.554455\n",
       "3                  3           0.559498\n",
       "4                  4           0.571195"
      ]
     },
     "execution_count": 11,
     "metadata": {
      "tags": []
     },
     "output_type": "execute_result"
    }
   ],
   "source": [
    "hod_reorder_ratio= pickle.load(open('/content/drive/MyDrive/instcart/DATA2/hod_reorder_ratio','rb'))\n",
    "print(hod_reorder_ratio.shape)\n",
    "hod_reorder_ratio.head()"
   ]
  },
  {
   "cell_type": "code",
   "execution_count": 12,
   "metadata": {
    "id": "jLuzsqc3orSb"
   },
   "outputs": [],
   "source": [
    "orders_train_test=pd.merge(orders_train_test,dow_reorder_ratio,on='order_dow',how='left')\n",
    "orders_train_test=pd.merge(orders_train_test,dsp_reorder_ratio,on='days_since_prior_order',how='left')\n",
    "orders_train_test=pd.merge(orders_train_test,hod_reorder_ratio,on='order_hour_of_day',how='left')"
   ]
  },
  {
   "cell_type": "code",
   "execution_count": 13,
   "metadata": {
    "colab": {
     "base_uri": "https://localhost:8080/",
     "height": 222
    },
    "id": "b3efDKf7orPP",
    "outputId": "cbeeeada-fe4c-4046-846a-30fe07a12893"
   },
   "outputs": [
    {
     "data": {
      "text/html": [
       "<div>\n",
       "<style scoped>\n",
       "    .dataframe tbody tr th:only-of-type {\n",
       "        vertical-align: middle;\n",
       "    }\n",
       "\n",
       "    .dataframe tbody tr th {\n",
       "        vertical-align: top;\n",
       "    }\n",
       "\n",
       "    .dataframe thead th {\n",
       "        text-align: right;\n",
       "    }\n",
       "</style>\n",
       "<table border=\"1\" class=\"dataframe\">\n",
       "  <thead>\n",
       "    <tr style=\"text-align: right;\">\n",
       "      <th></th>\n",
       "      <th>user_id</th>\n",
       "      <th>eval_set</th>\n",
       "      <th>order_id</th>\n",
       "      <th>order_dow</th>\n",
       "      <th>order_hour_of_day</th>\n",
       "      <th>days_since_prior_order</th>\n",
       "      <th>dow_reorder_ratio</th>\n",
       "      <th>dsp_reorder_ratio</th>\n",
       "      <th>hod_reorder_ratio</th>\n",
       "    </tr>\n",
       "  </thead>\n",
       "  <tbody>\n",
       "    <tr>\n",
       "      <th>0</th>\n",
       "      <td>1</td>\n",
       "      <td>train</td>\n",
       "      <td>1187899</td>\n",
       "      <td>4</td>\n",
       "      <td>8</td>\n",
       "      <td>14.0</td>\n",
       "      <td>0.590979</td>\n",
       "      <td>0.033856</td>\n",
       "      <td>0.631883</td>\n",
       "    </tr>\n",
       "    <tr>\n",
       "      <th>1</th>\n",
       "      <td>2</td>\n",
       "      <td>train</td>\n",
       "      <td>1492625</td>\n",
       "      <td>1</td>\n",
       "      <td>11</td>\n",
       "      <td>30.0</td>\n",
       "      <td>0.603843</td>\n",
       "      <td>0.073130</td>\n",
       "      <td>0.587324</td>\n",
       "    </tr>\n",
       "    <tr>\n",
       "      <th>2</th>\n",
       "      <td>3</td>\n",
       "      <td>test</td>\n",
       "      <td>2774568</td>\n",
       "      <td>5</td>\n",
       "      <td>15</td>\n",
       "      <td>11.0</td>\n",
       "      <td>0.595470</td>\n",
       "      <td>0.027133</td>\n",
       "      <td>0.580738</td>\n",
       "    </tr>\n",
       "    <tr>\n",
       "      <th>3</th>\n",
       "      <td>4</td>\n",
       "      <td>test</td>\n",
       "      <td>329954</td>\n",
       "      <td>3</td>\n",
       "      <td>12</td>\n",
       "      <td>30.0</td>\n",
       "      <td>0.586272</td>\n",
       "      <td>0.073130</td>\n",
       "      <td>0.579308</td>\n",
       "    </tr>\n",
       "    <tr>\n",
       "      <th>4</th>\n",
       "      <td>5</td>\n",
       "      <td>train</td>\n",
       "      <td>2196797</td>\n",
       "      <td>0</td>\n",
       "      <td>11</td>\n",
       "      <td>6.0</td>\n",
       "      <td>0.585276</td>\n",
       "      <td>0.089204</td>\n",
       "      <td>0.587324</td>\n",
       "    </tr>\n",
       "  </tbody>\n",
       "</table>\n",
       "</div>"
      ],
      "text/plain": [
       "   user_id eval_set  ...  dsp_reorder_ratio  hod_reorder_ratio\n",
       "0        1    train  ...           0.033856           0.631883\n",
       "1        2    train  ...           0.073130           0.587324\n",
       "2        3     test  ...           0.027133           0.580738\n",
       "3        4     test  ...           0.073130           0.579308\n",
       "4        5    train  ...           0.089204           0.587324\n",
       "\n",
       "[5 rows x 9 columns]"
      ]
     },
     "execution_count": 13,
     "metadata": {
      "tags": []
     },
     "output_type": "execute_result"
    }
   ],
   "source": [
    "orders_train_test.head()"
   ]
  },
  {
   "cell_type": "code",
   "execution_count": 14,
   "metadata": {
    "colab": {
     "base_uri": "https://localhost:8080/",
     "height": 202
    },
    "id": "wnhgcIt2ogeX",
    "outputId": "e548193a-38cf-4d03-8dd5-cd0543b701b5"
   },
   "outputs": [
    {
     "data": {
      "text/html": [
       "<div>\n",
       "<style scoped>\n",
       "    .dataframe tbody tr th:only-of-type {\n",
       "        vertical-align: middle;\n",
       "    }\n",
       "\n",
       "    .dataframe tbody tr th {\n",
       "        vertical-align: top;\n",
       "    }\n",
       "\n",
       "    .dataframe thead th {\n",
       "        text-align: right;\n",
       "    }\n",
       "</style>\n",
       "<table border=\"1\" class=\"dataframe\">\n",
       "  <thead>\n",
       "    <tr style=\"text-align: right;\">\n",
       "      <th></th>\n",
       "      <th>user_id</th>\n",
       "      <th>eval_set</th>\n",
       "      <th>order_id</th>\n",
       "      <th>dow_reorder_ratio</th>\n",
       "      <th>dsp_reorder_ratio</th>\n",
       "      <th>hod_reorder_ratio</th>\n",
       "    </tr>\n",
       "  </thead>\n",
       "  <tbody>\n",
       "    <tr>\n",
       "      <th>0</th>\n",
       "      <td>1</td>\n",
       "      <td>train</td>\n",
       "      <td>1187899</td>\n",
       "      <td>0.590979</td>\n",
       "      <td>0.033856</td>\n",
       "      <td>0.631883</td>\n",
       "    </tr>\n",
       "    <tr>\n",
       "      <th>1</th>\n",
       "      <td>2</td>\n",
       "      <td>train</td>\n",
       "      <td>1492625</td>\n",
       "      <td>0.603843</td>\n",
       "      <td>0.073130</td>\n",
       "      <td>0.587324</td>\n",
       "    </tr>\n",
       "    <tr>\n",
       "      <th>2</th>\n",
       "      <td>3</td>\n",
       "      <td>test</td>\n",
       "      <td>2774568</td>\n",
       "      <td>0.595470</td>\n",
       "      <td>0.027133</td>\n",
       "      <td>0.580738</td>\n",
       "    </tr>\n",
       "    <tr>\n",
       "      <th>3</th>\n",
       "      <td>4</td>\n",
       "      <td>test</td>\n",
       "      <td>329954</td>\n",
       "      <td>0.586272</td>\n",
       "      <td>0.073130</td>\n",
       "      <td>0.579308</td>\n",
       "    </tr>\n",
       "    <tr>\n",
       "      <th>4</th>\n",
       "      <td>5</td>\n",
       "      <td>train</td>\n",
       "      <td>2196797</td>\n",
       "      <td>0.585276</td>\n",
       "      <td>0.089204</td>\n",
       "      <td>0.587324</td>\n",
       "    </tr>\n",
       "  </tbody>\n",
       "</table>\n",
       "</div>"
      ],
      "text/plain": [
       "   user_id eval_set  ...  dsp_reorder_ratio  hod_reorder_ratio\n",
       "0        1    train  ...           0.033856           0.631883\n",
       "1        2    train  ...           0.073130           0.587324\n",
       "2        3     test  ...           0.027133           0.580738\n",
       "3        4     test  ...           0.073130           0.579308\n",
       "4        5    train  ...           0.089204           0.587324\n",
       "\n",
       "[5 rows x 6 columns]"
      ]
     },
     "execution_count": 14,
     "metadata": {
      "tags": []
     },
     "output_type": "execute_result"
    }
   ],
   "source": [
    "orders_train_test.drop(['order_dow',\t'order_hour_of_day',\t'days_since_prior_order'],axis=1,inplace=True)\n",
    "orders_train_test.head()"
   ]
  },
  {
   "cell_type": "code",
   "execution_count": 15,
   "metadata": {
    "colab": {
     "base_uri": "https://localhost:8080/",
     "height": 239
    },
    "id": "snr6mY3zd4Ql",
    "outputId": "0e555d9c-e4af-4aee-ff76-3950c9cc054a"
   },
   "outputs": [
    {
     "name": "stdout",
     "output_type": "stream",
     "text": [
      "(13307953, 79)\n"
     ]
    },
    {
     "data": {
      "text/html": [
       "<div>\n",
       "<style scoped>\n",
       "    .dataframe tbody tr th:only-of-type {\n",
       "        vertical-align: middle;\n",
       "    }\n",
       "\n",
       "    .dataframe tbody tr th {\n",
       "        vertical-align: top;\n",
       "    }\n",
       "\n",
       "    .dataframe thead th {\n",
       "        text-align: right;\n",
       "    }\n",
       "</style>\n",
       "<table border=\"1\" class=\"dataframe\">\n",
       "  <thead>\n",
       "    <tr style=\"text-align: right;\">\n",
       "      <th></th>\n",
       "      <th>user_id</th>\n",
       "      <th>product_id</th>\n",
       "      <th>up_unique_orders_count</th>\n",
       "      <th>up_total_buy_max</th>\n",
       "      <th>up_orders_diff</th>\n",
       "      <th>up_order_ratio</th>\n",
       "      <th>up_mean_dow</th>\n",
       "      <th>up_mean_hod</th>\n",
       "      <th>up_mean_dsp</th>\n",
       "      <th>up_sum_order_no</th>\n",
       "      <th>up_mean_cart</th>\n",
       "      <th>last_5_count</th>\n",
       "      <th>last_5_ratio</th>\n",
       "      <th>chance_in_last_5</th>\n",
       "      <th>total_no_of_order_by_user</th>\n",
       "      <th>total_no_of_items</th>\n",
       "      <th>total_no_of_unique_items</th>\n",
       "      <th>avg_product_in_order_by_user</th>\n",
       "      <th>num_reorders_by_user</th>\n",
       "      <th>reordered_mean_user</th>\n",
       "      <th>user_dow_mean</th>\n",
       "      <th>user_hod_mean</th>\n",
       "      <th>user_dsp_mean</th>\n",
       "      <th>user_max_order_day</th>\n",
       "      <th>user_max_hod</th>\n",
       "      <th>total_unique_aisle_by_user</th>\n",
       "      <th>p_unique_users</th>\n",
       "      <th>p_total_purchase</th>\n",
       "      <th>p_sum_reordered</th>\n",
       "      <th>p_mean_reordered</th>\n",
       "      <th>p_mean_dow</th>\n",
       "      <th>p_mean_hod</th>\n",
       "      <th>p_mean_dsp</th>\n",
       "      <th>p_mean_cart</th>\n",
       "      <th>pca_product0</th>\n",
       "      <th>pca_product1</th>\n",
       "      <th>pca_product2</th>\n",
       "      <th>pca_product3</th>\n",
       "      <th>pca_product4</th>\n",
       "      <th>pca_product5</th>\n",
       "      <th>pca_product6</th>\n",
       "      <th>pca_product7</th>\n",
       "      <th>pca_product8</th>\n",
       "      <th>pca_product9</th>\n",
       "      <th>pca_product10</th>\n",
       "      <th>pca_product11</th>\n",
       "      <th>pca_product12</th>\n",
       "      <th>pca_product13</th>\n",
       "      <th>pca_product14</th>\n",
       "      <th>pca_product15</th>\n",
       "      <th>pca_product16</th>\n",
       "      <th>pca_product17</th>\n",
       "      <th>pca_product18</th>\n",
       "      <th>pca_product19</th>\n",
       "      <th>pca_product20</th>\n",
       "      <th>pca_product21</th>\n",
       "      <th>pca_product22</th>\n",
       "      <th>pca_product23</th>\n",
       "      <th>pca_product24</th>\n",
       "      <th>pca_product25</th>\n",
       "      <th>pca_product26</th>\n",
       "      <th>pca_product27</th>\n",
       "      <th>pca_product28</th>\n",
       "      <th>pca_product29</th>\n",
       "      <th>pca_product30</th>\n",
       "      <th>pca_product31</th>\n",
       "      <th>pca_product32</th>\n",
       "      <th>pca_product33</th>\n",
       "      <th>pca_product34</th>\n",
       "      <th>orderw2v_0</th>\n",
       "      <th>orderw2v_1</th>\n",
       "      <th>orderw2v_2</th>\n",
       "      <th>orderw2v_3</th>\n",
       "      <th>orderw2v_4</th>\n",
       "      <th>eval_set</th>\n",
       "      <th>order_id</th>\n",
       "      <th>dow_reorder_ratio</th>\n",
       "      <th>dsp_reorder_ratio</th>\n",
       "      <th>hod_reorder_ratio</th>\n",
       "    </tr>\n",
       "  </thead>\n",
       "  <tbody>\n",
       "    <tr>\n",
       "      <th>0</th>\n",
       "      <td>1</td>\n",
       "      <td>196</td>\n",
       "      <td>10</td>\n",
       "      <td>10</td>\n",
       "      <td>0</td>\n",
       "      <td>1.000000</td>\n",
       "      <td>2.500000</td>\n",
       "      <td>10.296875</td>\n",
       "      <td>17.593750</td>\n",
       "      <td>55.0</td>\n",
       "      <td>1.400391</td>\n",
       "      <td>5.0</td>\n",
       "      <td>1.000000</td>\n",
       "      <td>5.0</td>\n",
       "      <td>10</td>\n",
       "      <td>59</td>\n",
       "      <td>18</td>\n",
       "      <td>5.898438</td>\n",
       "      <td>41.0</td>\n",
       "      <td>0.694824</td>\n",
       "      <td>2.644531</td>\n",
       "      <td>10.539062</td>\n",
       "      <td>20.265625</td>\n",
       "      <td>4</td>\n",
       "      <td>7</td>\n",
       "      <td>12</td>\n",
       "      <td>8000</td>\n",
       "      <td>35791</td>\n",
       "      <td>27791.0</td>\n",
       "      <td>0.776367</td>\n",
       "      <td>2.898438</td>\n",
       "      <td>12.523438</td>\n",
       "      <td>11.195312</td>\n",
       "      <td>3.722656</td>\n",
       "      <td>0.001001</td>\n",
       "      <td>2.072266</td>\n",
       "      <td>0.838867</td>\n",
       "      <td>-0.006866</td>\n",
       "      <td>1.401367</td>\n",
       "      <td>-0.055084</td>\n",
       "      <td>0.370850</td>\n",
       "      <td>1.085938</td>\n",
       "      <td>-0.279297</td>\n",
       "      <td>-0.390381</td>\n",
       "      <td>-0.307617</td>\n",
       "      <td>-0.858398</td>\n",
       "      <td>0.331543</td>\n",
       "      <td>0.107239</td>\n",
       "      <td>-0.103210</td>\n",
       "      <td>-0.444336</td>\n",
       "      <td>-0.400391</td>\n",
       "      <td>0.050201</td>\n",
       "      <td>-0.322998</td>\n",
       "      <td>-0.318115</td>\n",
       "      <td>-0.108276</td>\n",
       "      <td>-0.220581</td>\n",
       "      <td>0.019409</td>\n",
       "      <td>-0.258789</td>\n",
       "      <td>0.294434</td>\n",
       "      <td>-0.085693</td>\n",
       "      <td>0.284668</td>\n",
       "      <td>-0.583496</td>\n",
       "      <td>-0.067627</td>\n",
       "      <td>-0.200317</td>\n",
       "      <td>0.154175</td>\n",
       "      <td>0.339355</td>\n",
       "      <td>0.208496</td>\n",
       "      <td>-0.241211</td>\n",
       "      <td>0.081909</td>\n",
       "      <td>-0.414062</td>\n",
       "      <td>-4.488281</td>\n",
       "      <td>-7.871094</td>\n",
       "      <td>-5.644531</td>\n",
       "      <td>3.388672</td>\n",
       "      <td>train</td>\n",
       "      <td>1187899</td>\n",
       "      <td>0.590979</td>\n",
       "      <td>0.033856</td>\n",
       "      <td>0.631883</td>\n",
       "    </tr>\n",
       "    <tr>\n",
       "      <th>1</th>\n",
       "      <td>1</td>\n",
       "      <td>10258</td>\n",
       "      <td>9</td>\n",
       "      <td>10</td>\n",
       "      <td>0</td>\n",
       "      <td>0.899902</td>\n",
       "      <td>2.554688</td>\n",
       "      <td>10.554688</td>\n",
       "      <td>19.562500</td>\n",
       "      <td>54.0</td>\n",
       "      <td>3.333984</td>\n",
       "      <td>5.0</td>\n",
       "      <td>1.000000</td>\n",
       "      <td>5.0</td>\n",
       "      <td>10</td>\n",
       "      <td>59</td>\n",
       "      <td>18</td>\n",
       "      <td>5.898438</td>\n",
       "      <td>41.0</td>\n",
       "      <td>0.694824</td>\n",
       "      <td>2.644531</td>\n",
       "      <td>10.539062</td>\n",
       "      <td>20.265625</td>\n",
       "      <td>4</td>\n",
       "      <td>7</td>\n",
       "      <td>12</td>\n",
       "      <td>557</td>\n",
       "      <td>1946</td>\n",
       "      <td>1389.0</td>\n",
       "      <td>0.713867</td>\n",
       "      <td>2.718750</td>\n",
       "      <td>12.257812</td>\n",
       "      <td>11.101562</td>\n",
       "      <td>4.277344</td>\n",
       "      <td>-1.460938</td>\n",
       "      <td>0.462646</td>\n",
       "      <td>1.068359</td>\n",
       "      <td>0.026642</td>\n",
       "      <td>-1.029297</td>\n",
       "      <td>-0.739258</td>\n",
       "      <td>0.724609</td>\n",
       "      <td>-0.859863</td>\n",
       "      <td>-0.658691</td>\n",
       "      <td>-0.260010</td>\n",
       "      <td>-0.031952</td>\n",
       "      <td>-0.159180</td>\n",
       "      <td>-0.135010</td>\n",
       "      <td>-0.104919</td>\n",
       "      <td>-0.213013</td>\n",
       "      <td>-0.193726</td>\n",
       "      <td>0.163940</td>\n",
       "      <td>0.329834</td>\n",
       "      <td>0.190796</td>\n",
       "      <td>0.213867</td>\n",
       "      <td>0.648438</td>\n",
       "      <td>-0.411865</td>\n",
       "      <td>-0.145874</td>\n",
       "      <td>0.187622</td>\n",
       "      <td>-0.380371</td>\n",
       "      <td>0.127319</td>\n",
       "      <td>0.245972</td>\n",
       "      <td>-0.209717</td>\n",
       "      <td>-0.532715</td>\n",
       "      <td>-0.122986</td>\n",
       "      <td>-0.111877</td>\n",
       "      <td>-0.484619</td>\n",
       "      <td>-0.063232</td>\n",
       "      <td>-0.214600</td>\n",
       "      <td>0.016434</td>\n",
       "      <td>-8.398438</td>\n",
       "      <td>-0.934570</td>\n",
       "      <td>-5.839844</td>\n",
       "      <td>-6.023438</td>\n",
       "      <td>4.871094</td>\n",
       "      <td>train</td>\n",
       "      <td>1187899</td>\n",
       "      <td>0.590979</td>\n",
       "      <td>0.033856</td>\n",
       "      <td>0.631883</td>\n",
       "    </tr>\n",
       "    <tr>\n",
       "      <th>2</th>\n",
       "      <td>1</td>\n",
       "      <td>10326</td>\n",
       "      <td>1</td>\n",
       "      <td>10</td>\n",
       "      <td>5</td>\n",
       "      <td>0.099976</td>\n",
       "      <td>4.000000</td>\n",
       "      <td>15.000000</td>\n",
       "      <td>28.000000</td>\n",
       "      <td>5.0</td>\n",
       "      <td>5.000000</td>\n",
       "      <td>0.0</td>\n",
       "      <td>0.000000</td>\n",
       "      <td>0.0</td>\n",
       "      <td>10</td>\n",
       "      <td>59</td>\n",
       "      <td>18</td>\n",
       "      <td>5.898438</td>\n",
       "      <td>41.0</td>\n",
       "      <td>0.694824</td>\n",
       "      <td>2.644531</td>\n",
       "      <td>10.539062</td>\n",
       "      <td>20.265625</td>\n",
       "      <td>4</td>\n",
       "      <td>7</td>\n",
       "      <td>12</td>\n",
       "      <td>1923</td>\n",
       "      <td>5526</td>\n",
       "      <td>3603.0</td>\n",
       "      <td>0.651855</td>\n",
       "      <td>2.742188</td>\n",
       "      <td>12.898438</td>\n",
       "      <td>11.179688</td>\n",
       "      <td>4.191406</td>\n",
       "      <td>-0.183472</td>\n",
       "      <td>-0.170776</td>\n",
       "      <td>1.206055</td>\n",
       "      <td>-0.441162</td>\n",
       "      <td>-0.380859</td>\n",
       "      <td>-0.460693</td>\n",
       "      <td>1.048828</td>\n",
       "      <td>-0.966309</td>\n",
       "      <td>-0.005268</td>\n",
       "      <td>0.608887</td>\n",
       "      <td>0.739746</td>\n",
       "      <td>-0.158203</td>\n",
       "      <td>-0.484863</td>\n",
       "      <td>-0.277344</td>\n",
       "      <td>-0.034454</td>\n",
       "      <td>0.161011</td>\n",
       "      <td>0.058990</td>\n",
       "      <td>-0.159546</td>\n",
       "      <td>-0.156128</td>\n",
       "      <td>0.013084</td>\n",
       "      <td>-0.178467</td>\n",
       "      <td>0.265625</td>\n",
       "      <td>0.223755</td>\n",
       "      <td>-0.140015</td>\n",
       "      <td>0.224976</td>\n",
       "      <td>0.505371</td>\n",
       "      <td>0.030670</td>\n",
       "      <td>0.145630</td>\n",
       "      <td>-0.010712</td>\n",
       "      <td>0.158691</td>\n",
       "      <td>-0.064453</td>\n",
       "      <td>0.015205</td>\n",
       "      <td>0.067261</td>\n",
       "      <td>-0.154175</td>\n",
       "      <td>-0.061523</td>\n",
       "      <td>-5.710938</td>\n",
       "      <td>1.142578</td>\n",
       "      <td>-3.587891</td>\n",
       "      <td>-7.035156</td>\n",
       "      <td>9.210938</td>\n",
       "      <td>train</td>\n",
       "      <td>1187899</td>\n",
       "      <td>0.590979</td>\n",
       "      <td>0.033856</td>\n",
       "      <td>0.631883</td>\n",
       "    </tr>\n",
       "    <tr>\n",
       "      <th>3</th>\n",
       "      <td>1</td>\n",
       "      <td>12427</td>\n",
       "      <td>10</td>\n",
       "      <td>10</td>\n",
       "      <td>0</td>\n",
       "      <td>1.000000</td>\n",
       "      <td>2.500000</td>\n",
       "      <td>10.296875</td>\n",
       "      <td>17.593750</td>\n",
       "      <td>55.0</td>\n",
       "      <td>3.300781</td>\n",
       "      <td>5.0</td>\n",
       "      <td>1.000000</td>\n",
       "      <td>5.0</td>\n",
       "      <td>10</td>\n",
       "      <td>59</td>\n",
       "      <td>18</td>\n",
       "      <td>5.898438</td>\n",
       "      <td>41.0</td>\n",
       "      <td>0.694824</td>\n",
       "      <td>2.644531</td>\n",
       "      <td>10.539062</td>\n",
       "      <td>20.265625</td>\n",
       "      <td>4</td>\n",
       "      <td>7</td>\n",
       "      <td>12</td>\n",
       "      <td>1679</td>\n",
       "      <td>6476</td>\n",
       "      <td>4797.0</td>\n",
       "      <td>0.740723</td>\n",
       "      <td>2.669922</td>\n",
       "      <td>12.265625</td>\n",
       "      <td>9.953125</td>\n",
       "      <td>4.761719</td>\n",
       "      <td>-0.922852</td>\n",
       "      <td>-0.178223</td>\n",
       "      <td>-0.743164</td>\n",
       "      <td>0.126831</td>\n",
       "      <td>0.587402</td>\n",
       "      <td>-0.961426</td>\n",
       "      <td>-0.135254</td>\n",
       "      <td>0.142456</td>\n",
       "      <td>-0.303955</td>\n",
       "      <td>-0.650391</td>\n",
       "      <td>-0.482910</td>\n",
       "      <td>-0.397949</td>\n",
       "      <td>-0.078857</td>\n",
       "      <td>-0.466064</td>\n",
       "      <td>-0.170288</td>\n",
       "      <td>-0.047974</td>\n",
       "      <td>0.536133</td>\n",
       "      <td>0.126221</td>\n",
       "      <td>-0.590820</td>\n",
       "      <td>0.340088</td>\n",
       "      <td>-0.010735</td>\n",
       "      <td>0.046234</td>\n",
       "      <td>0.372314</td>\n",
       "      <td>-0.065125</td>\n",
       "      <td>-0.021606</td>\n",
       "      <td>0.187256</td>\n",
       "      <td>0.229614</td>\n",
       "      <td>-0.143799</td>\n",
       "      <td>0.372070</td>\n",
       "      <td>0.344238</td>\n",
       "      <td>0.136230</td>\n",
       "      <td>-0.045807</td>\n",
       "      <td>0.010139</td>\n",
       "      <td>0.380127</td>\n",
       "      <td>0.317627</td>\n",
       "      <td>-4.273438</td>\n",
       "      <td>-3.658203</td>\n",
       "      <td>-5.210938</td>\n",
       "      <td>-4.203125</td>\n",
       "      <td>-1.854492</td>\n",
       "      <td>train</td>\n",
       "      <td>1187899</td>\n",
       "      <td>0.590979</td>\n",
       "      <td>0.033856</td>\n",
       "      <td>0.631883</td>\n",
       "    </tr>\n",
       "    <tr>\n",
       "      <th>4</th>\n",
       "      <td>1</td>\n",
       "      <td>13032</td>\n",
       "      <td>3</td>\n",
       "      <td>10</td>\n",
       "      <td>0</td>\n",
       "      <td>0.300049</td>\n",
       "      <td>2.666016</td>\n",
       "      <td>8.000000</td>\n",
       "      <td>21.671875</td>\n",
       "      <td>19.0</td>\n",
       "      <td>6.332031</td>\n",
       "      <td>2.0</td>\n",
       "      <td>0.399902</td>\n",
       "      <td>4.0</td>\n",
       "      <td>10</td>\n",
       "      <td>59</td>\n",
       "      <td>18</td>\n",
       "      <td>5.898438</td>\n",
       "      <td>41.0</td>\n",
       "      <td>0.694824</td>\n",
       "      <td>2.644531</td>\n",
       "      <td>10.539062</td>\n",
       "      <td>20.265625</td>\n",
       "      <td>4</td>\n",
       "      <td>7</td>\n",
       "      <td>12</td>\n",
       "      <td>1286</td>\n",
       "      <td>3751</td>\n",
       "      <td>2465.0</td>\n",
       "      <td>0.657227</td>\n",
       "      <td>2.779297</td>\n",
       "      <td>12.578125</td>\n",
       "      <td>10.617188</td>\n",
       "      <td>5.621094</td>\n",
       "      <td>-1.427734</td>\n",
       "      <td>1.135742</td>\n",
       "      <td>-0.557129</td>\n",
       "      <td>0.342041</td>\n",
       "      <td>-0.601074</td>\n",
       "      <td>-0.615234</td>\n",
       "      <td>-0.050354</td>\n",
       "      <td>0.073730</td>\n",
       "      <td>0.142578</td>\n",
       "      <td>-0.052673</td>\n",
       "      <td>0.113464</td>\n",
       "      <td>0.424072</td>\n",
       "      <td>0.389893</td>\n",
       "      <td>0.892090</td>\n",
       "      <td>-0.061493</td>\n",
       "      <td>-0.556641</td>\n",
       "      <td>0.209473</td>\n",
       "      <td>0.541504</td>\n",
       "      <td>-0.118774</td>\n",
       "      <td>0.085693</td>\n",
       "      <td>0.034882</td>\n",
       "      <td>-0.209717</td>\n",
       "      <td>0.182007</td>\n",
       "      <td>-0.050659</td>\n",
       "      <td>-0.542969</td>\n",
       "      <td>0.172119</td>\n",
       "      <td>-0.120483</td>\n",
       "      <td>0.228760</td>\n",
       "      <td>0.496094</td>\n",
       "      <td>0.128540</td>\n",
       "      <td>-0.556152</td>\n",
       "      <td>-0.206299</td>\n",
       "      <td>0.194458</td>\n",
       "      <td>-0.181519</td>\n",
       "      <td>0.069336</td>\n",
       "      <td>-3.337891</td>\n",
       "      <td>-4.785156</td>\n",
       "      <td>-10.085938</td>\n",
       "      <td>-4.039062</td>\n",
       "      <td>7.933594</td>\n",
       "      <td>train</td>\n",
       "      <td>1187899</td>\n",
       "      <td>0.590979</td>\n",
       "      <td>0.033856</td>\n",
       "      <td>0.631883</td>\n",
       "    </tr>\n",
       "  </tbody>\n",
       "</table>\n",
       "</div>"
      ],
      "text/plain": [
       "   user_id  product_id  ...  dsp_reorder_ratio  hod_reorder_ratio\n",
       "0        1         196  ...           0.033856           0.631883\n",
       "1        1       10258  ...           0.033856           0.631883\n",
       "2        1       10326  ...           0.033856           0.631883\n",
       "3        1       12427  ...           0.033856           0.631883\n",
       "4        1       13032  ...           0.033856           0.631883\n",
       "\n",
       "[5 rows x 79 columns]"
      ]
     },
     "execution_count": 15,
     "metadata": {
      "tags": []
     },
     "output_type": "execute_result"
    }
   ],
   "source": [
    "data = pd.merge(features_data , orders_train_test  , on=\"user_id\" , how=\"left\")\n",
    "print(data.shape)\n",
    "data.head()"
   ]
  },
  {
   "cell_type": "code",
   "execution_count": 16,
   "metadata": {
    "id": "N9USr8adl8sz"
   },
   "outputs": [],
   "source": [
    "del features_data , orders_train_test"
   ]
  },
  {
   "cell_type": "code",
   "execution_count": 17,
   "metadata": {
    "colab": {
     "base_uri": "https://localhost:8080/"
    },
    "id": "OOW-o4H3d4Kd",
    "outputId": "ec902494-8023-49cc-831f-dd2cad0996ea"
   },
   "outputs": [
    {
     "name": "stdout",
     "output_type": "stream",
     "text": [
      "Memory usage after optimization is: 2246.39 MB\n",
      "Decreased by 11.1%\n"
     ]
    }
   ],
   "source": [
    "data=reduce_mem_usage(data)"
   ]
  },
  {
   "cell_type": "code",
   "execution_count": 18,
   "metadata": {
    "colab": {
     "base_uri": "https://localhost:8080/"
    },
    "id": "sbB3JWNdwGAO",
    "outputId": "37f550a8-44eb-41d9-95cc-1cc49c420170"
   },
   "outputs": [
    {
     "name": "stdout",
     "output_type": "stream",
     "text": [
      "number of missing values in data= 0\n"
     ]
    }
   ],
   "source": [
    "print(\"number of missing values in data=\",data.isnull().sum().sum())"
   ]
  },
  {
   "cell_type": "markdown",
   "metadata": {
    "id": "9PVgl5DH1pz2"
   },
   "source": [
    "## Train-Test split"
   ]
  },
  {
   "cell_type": "markdown",
   "metadata": {
    "id": "O6b6b16R1s5d"
   },
   "source": [
    "train data"
   ]
  },
  {
   "cell_type": "code",
   "execution_count": 19,
   "metadata": {
    "colab": {
     "base_uri": "https://localhost:8080/",
     "height": 239
    },
    "id": "QpPsOm-F1kIg",
    "outputId": "475620fa-d151-45ed-ff0e-e545a5148adf"
   },
   "outputs": [
    {
     "name": "stdout",
     "output_type": "stream",
     "text": [
      "(8474661, 79)\n"
     ]
    },
    {
     "data": {
      "text/html": [
       "<div>\n",
       "<style scoped>\n",
       "    .dataframe tbody tr th:only-of-type {\n",
       "        vertical-align: middle;\n",
       "    }\n",
       "\n",
       "    .dataframe tbody tr th {\n",
       "        vertical-align: top;\n",
       "    }\n",
       "\n",
       "    .dataframe thead th {\n",
       "        text-align: right;\n",
       "    }\n",
       "</style>\n",
       "<table border=\"1\" class=\"dataframe\">\n",
       "  <thead>\n",
       "    <tr style=\"text-align: right;\">\n",
       "      <th></th>\n",
       "      <th>user_id</th>\n",
       "      <th>product_id</th>\n",
       "      <th>up_unique_orders_count</th>\n",
       "      <th>up_total_buy_max</th>\n",
       "      <th>up_orders_diff</th>\n",
       "      <th>up_order_ratio</th>\n",
       "      <th>up_mean_dow</th>\n",
       "      <th>up_mean_hod</th>\n",
       "      <th>up_mean_dsp</th>\n",
       "      <th>up_sum_order_no</th>\n",
       "      <th>up_mean_cart</th>\n",
       "      <th>last_5_count</th>\n",
       "      <th>last_5_ratio</th>\n",
       "      <th>chance_in_last_5</th>\n",
       "      <th>total_no_of_order_by_user</th>\n",
       "      <th>total_no_of_items</th>\n",
       "      <th>total_no_of_unique_items</th>\n",
       "      <th>avg_product_in_order_by_user</th>\n",
       "      <th>num_reorders_by_user</th>\n",
       "      <th>reordered_mean_user</th>\n",
       "      <th>user_dow_mean</th>\n",
       "      <th>user_hod_mean</th>\n",
       "      <th>user_dsp_mean</th>\n",
       "      <th>user_max_order_day</th>\n",
       "      <th>user_max_hod</th>\n",
       "      <th>total_unique_aisle_by_user</th>\n",
       "      <th>p_unique_users</th>\n",
       "      <th>p_total_purchase</th>\n",
       "      <th>p_sum_reordered</th>\n",
       "      <th>p_mean_reordered</th>\n",
       "      <th>p_mean_dow</th>\n",
       "      <th>p_mean_hod</th>\n",
       "      <th>p_mean_dsp</th>\n",
       "      <th>p_mean_cart</th>\n",
       "      <th>pca_product0</th>\n",
       "      <th>pca_product1</th>\n",
       "      <th>pca_product2</th>\n",
       "      <th>pca_product3</th>\n",
       "      <th>pca_product4</th>\n",
       "      <th>pca_product5</th>\n",
       "      <th>pca_product6</th>\n",
       "      <th>pca_product7</th>\n",
       "      <th>pca_product8</th>\n",
       "      <th>pca_product9</th>\n",
       "      <th>pca_product10</th>\n",
       "      <th>pca_product11</th>\n",
       "      <th>pca_product12</th>\n",
       "      <th>pca_product13</th>\n",
       "      <th>pca_product14</th>\n",
       "      <th>pca_product15</th>\n",
       "      <th>pca_product16</th>\n",
       "      <th>pca_product17</th>\n",
       "      <th>pca_product18</th>\n",
       "      <th>pca_product19</th>\n",
       "      <th>pca_product20</th>\n",
       "      <th>pca_product21</th>\n",
       "      <th>pca_product22</th>\n",
       "      <th>pca_product23</th>\n",
       "      <th>pca_product24</th>\n",
       "      <th>pca_product25</th>\n",
       "      <th>pca_product26</th>\n",
       "      <th>pca_product27</th>\n",
       "      <th>pca_product28</th>\n",
       "      <th>pca_product29</th>\n",
       "      <th>pca_product30</th>\n",
       "      <th>pca_product31</th>\n",
       "      <th>pca_product32</th>\n",
       "      <th>pca_product33</th>\n",
       "      <th>pca_product34</th>\n",
       "      <th>orderw2v_0</th>\n",
       "      <th>orderw2v_1</th>\n",
       "      <th>orderw2v_2</th>\n",
       "      <th>orderw2v_3</th>\n",
       "      <th>orderw2v_4</th>\n",
       "      <th>eval_set</th>\n",
       "      <th>order_id</th>\n",
       "      <th>dow_reorder_ratio</th>\n",
       "      <th>dsp_reorder_ratio</th>\n",
       "      <th>hod_reorder_ratio</th>\n",
       "    </tr>\n",
       "  </thead>\n",
       "  <tbody>\n",
       "    <tr>\n",
       "      <th>0</th>\n",
       "      <td>1</td>\n",
       "      <td>196</td>\n",
       "      <td>10</td>\n",
       "      <td>10</td>\n",
       "      <td>0</td>\n",
       "      <td>1.000000</td>\n",
       "      <td>2.500000</td>\n",
       "      <td>10.296875</td>\n",
       "      <td>17.593750</td>\n",
       "      <td>55.0</td>\n",
       "      <td>1.400391</td>\n",
       "      <td>5.0</td>\n",
       "      <td>1.000000</td>\n",
       "      <td>5.0</td>\n",
       "      <td>10</td>\n",
       "      <td>59</td>\n",
       "      <td>18</td>\n",
       "      <td>5.898438</td>\n",
       "      <td>41.0</td>\n",
       "      <td>0.694824</td>\n",
       "      <td>2.644531</td>\n",
       "      <td>10.539062</td>\n",
       "      <td>20.265625</td>\n",
       "      <td>4</td>\n",
       "      <td>7</td>\n",
       "      <td>12</td>\n",
       "      <td>8000</td>\n",
       "      <td>35791</td>\n",
       "      <td>27791.0</td>\n",
       "      <td>0.776367</td>\n",
       "      <td>2.898438</td>\n",
       "      <td>12.523438</td>\n",
       "      <td>11.195312</td>\n",
       "      <td>3.722656</td>\n",
       "      <td>0.001001</td>\n",
       "      <td>2.072266</td>\n",
       "      <td>0.838867</td>\n",
       "      <td>-0.006866</td>\n",
       "      <td>1.401367</td>\n",
       "      <td>-0.055084</td>\n",
       "      <td>0.370850</td>\n",
       "      <td>1.085938</td>\n",
       "      <td>-0.279297</td>\n",
       "      <td>-0.390381</td>\n",
       "      <td>-0.307617</td>\n",
       "      <td>-0.858398</td>\n",
       "      <td>0.331543</td>\n",
       "      <td>0.107239</td>\n",
       "      <td>-0.103210</td>\n",
       "      <td>-0.444336</td>\n",
       "      <td>-0.400391</td>\n",
       "      <td>0.050201</td>\n",
       "      <td>-0.322998</td>\n",
       "      <td>-0.318115</td>\n",
       "      <td>-0.108276</td>\n",
       "      <td>-0.220581</td>\n",
       "      <td>0.019409</td>\n",
       "      <td>-0.258789</td>\n",
       "      <td>0.294434</td>\n",
       "      <td>-0.085693</td>\n",
       "      <td>0.284668</td>\n",
       "      <td>-0.583496</td>\n",
       "      <td>-0.067627</td>\n",
       "      <td>-0.200317</td>\n",
       "      <td>0.154175</td>\n",
       "      <td>0.339355</td>\n",
       "      <td>0.208496</td>\n",
       "      <td>-0.241211</td>\n",
       "      <td>0.081909</td>\n",
       "      <td>-0.414062</td>\n",
       "      <td>-4.488281</td>\n",
       "      <td>-7.871094</td>\n",
       "      <td>-5.644531</td>\n",
       "      <td>3.388672</td>\n",
       "      <td>train</td>\n",
       "      <td>1187899</td>\n",
       "      <td>0.59082</td>\n",
       "      <td>0.033844</td>\n",
       "      <td>0.631836</td>\n",
       "    </tr>\n",
       "    <tr>\n",
       "      <th>1</th>\n",
       "      <td>1</td>\n",
       "      <td>10258</td>\n",
       "      <td>9</td>\n",
       "      <td>10</td>\n",
       "      <td>0</td>\n",
       "      <td>0.899902</td>\n",
       "      <td>2.554688</td>\n",
       "      <td>10.554688</td>\n",
       "      <td>19.562500</td>\n",
       "      <td>54.0</td>\n",
       "      <td>3.333984</td>\n",
       "      <td>5.0</td>\n",
       "      <td>1.000000</td>\n",
       "      <td>5.0</td>\n",
       "      <td>10</td>\n",
       "      <td>59</td>\n",
       "      <td>18</td>\n",
       "      <td>5.898438</td>\n",
       "      <td>41.0</td>\n",
       "      <td>0.694824</td>\n",
       "      <td>2.644531</td>\n",
       "      <td>10.539062</td>\n",
       "      <td>20.265625</td>\n",
       "      <td>4</td>\n",
       "      <td>7</td>\n",
       "      <td>12</td>\n",
       "      <td>557</td>\n",
       "      <td>1946</td>\n",
       "      <td>1389.0</td>\n",
       "      <td>0.713867</td>\n",
       "      <td>2.718750</td>\n",
       "      <td>12.257812</td>\n",
       "      <td>11.101562</td>\n",
       "      <td>4.277344</td>\n",
       "      <td>-1.460938</td>\n",
       "      <td>0.462646</td>\n",
       "      <td>1.068359</td>\n",
       "      <td>0.026642</td>\n",
       "      <td>-1.029297</td>\n",
       "      <td>-0.739258</td>\n",
       "      <td>0.724609</td>\n",
       "      <td>-0.859863</td>\n",
       "      <td>-0.658691</td>\n",
       "      <td>-0.260010</td>\n",
       "      <td>-0.031952</td>\n",
       "      <td>-0.159180</td>\n",
       "      <td>-0.135010</td>\n",
       "      <td>-0.104919</td>\n",
       "      <td>-0.213013</td>\n",
       "      <td>-0.193726</td>\n",
       "      <td>0.163940</td>\n",
       "      <td>0.329834</td>\n",
       "      <td>0.190796</td>\n",
       "      <td>0.213867</td>\n",
       "      <td>0.648438</td>\n",
       "      <td>-0.411865</td>\n",
       "      <td>-0.145874</td>\n",
       "      <td>0.187622</td>\n",
       "      <td>-0.380371</td>\n",
       "      <td>0.127319</td>\n",
       "      <td>0.245972</td>\n",
       "      <td>-0.209717</td>\n",
       "      <td>-0.532715</td>\n",
       "      <td>-0.122986</td>\n",
       "      <td>-0.111877</td>\n",
       "      <td>-0.484619</td>\n",
       "      <td>-0.063232</td>\n",
       "      <td>-0.214600</td>\n",
       "      <td>0.016434</td>\n",
       "      <td>-8.398438</td>\n",
       "      <td>-0.934570</td>\n",
       "      <td>-5.839844</td>\n",
       "      <td>-6.023438</td>\n",
       "      <td>4.871094</td>\n",
       "      <td>train</td>\n",
       "      <td>1187899</td>\n",
       "      <td>0.59082</td>\n",
       "      <td>0.033844</td>\n",
       "      <td>0.631836</td>\n",
       "    </tr>\n",
       "    <tr>\n",
       "      <th>2</th>\n",
       "      <td>1</td>\n",
       "      <td>10326</td>\n",
       "      <td>1</td>\n",
       "      <td>10</td>\n",
       "      <td>5</td>\n",
       "      <td>0.099976</td>\n",
       "      <td>4.000000</td>\n",
       "      <td>15.000000</td>\n",
       "      <td>28.000000</td>\n",
       "      <td>5.0</td>\n",
       "      <td>5.000000</td>\n",
       "      <td>0.0</td>\n",
       "      <td>0.000000</td>\n",
       "      <td>0.0</td>\n",
       "      <td>10</td>\n",
       "      <td>59</td>\n",
       "      <td>18</td>\n",
       "      <td>5.898438</td>\n",
       "      <td>41.0</td>\n",
       "      <td>0.694824</td>\n",
       "      <td>2.644531</td>\n",
       "      <td>10.539062</td>\n",
       "      <td>20.265625</td>\n",
       "      <td>4</td>\n",
       "      <td>7</td>\n",
       "      <td>12</td>\n",
       "      <td>1923</td>\n",
       "      <td>5526</td>\n",
       "      <td>3603.0</td>\n",
       "      <td>0.651855</td>\n",
       "      <td>2.742188</td>\n",
       "      <td>12.898438</td>\n",
       "      <td>11.179688</td>\n",
       "      <td>4.191406</td>\n",
       "      <td>-0.183472</td>\n",
       "      <td>-0.170776</td>\n",
       "      <td>1.206055</td>\n",
       "      <td>-0.441162</td>\n",
       "      <td>-0.380859</td>\n",
       "      <td>-0.460693</td>\n",
       "      <td>1.048828</td>\n",
       "      <td>-0.966309</td>\n",
       "      <td>-0.005268</td>\n",
       "      <td>0.608887</td>\n",
       "      <td>0.739746</td>\n",
       "      <td>-0.158203</td>\n",
       "      <td>-0.484863</td>\n",
       "      <td>-0.277344</td>\n",
       "      <td>-0.034454</td>\n",
       "      <td>0.161011</td>\n",
       "      <td>0.058990</td>\n",
       "      <td>-0.159546</td>\n",
       "      <td>-0.156128</td>\n",
       "      <td>0.013084</td>\n",
       "      <td>-0.178467</td>\n",
       "      <td>0.265625</td>\n",
       "      <td>0.223755</td>\n",
       "      <td>-0.140015</td>\n",
       "      <td>0.224976</td>\n",
       "      <td>0.505371</td>\n",
       "      <td>0.030670</td>\n",
       "      <td>0.145630</td>\n",
       "      <td>-0.010712</td>\n",
       "      <td>0.158691</td>\n",
       "      <td>-0.064453</td>\n",
       "      <td>0.015205</td>\n",
       "      <td>0.067261</td>\n",
       "      <td>-0.154175</td>\n",
       "      <td>-0.061523</td>\n",
       "      <td>-5.710938</td>\n",
       "      <td>1.142578</td>\n",
       "      <td>-3.587891</td>\n",
       "      <td>-7.035156</td>\n",
       "      <td>9.210938</td>\n",
       "      <td>train</td>\n",
       "      <td>1187899</td>\n",
       "      <td>0.59082</td>\n",
       "      <td>0.033844</td>\n",
       "      <td>0.631836</td>\n",
       "    </tr>\n",
       "    <tr>\n",
       "      <th>3</th>\n",
       "      <td>1</td>\n",
       "      <td>12427</td>\n",
       "      <td>10</td>\n",
       "      <td>10</td>\n",
       "      <td>0</td>\n",
       "      <td>1.000000</td>\n",
       "      <td>2.500000</td>\n",
       "      <td>10.296875</td>\n",
       "      <td>17.593750</td>\n",
       "      <td>55.0</td>\n",
       "      <td>3.300781</td>\n",
       "      <td>5.0</td>\n",
       "      <td>1.000000</td>\n",
       "      <td>5.0</td>\n",
       "      <td>10</td>\n",
       "      <td>59</td>\n",
       "      <td>18</td>\n",
       "      <td>5.898438</td>\n",
       "      <td>41.0</td>\n",
       "      <td>0.694824</td>\n",
       "      <td>2.644531</td>\n",
       "      <td>10.539062</td>\n",
       "      <td>20.265625</td>\n",
       "      <td>4</td>\n",
       "      <td>7</td>\n",
       "      <td>12</td>\n",
       "      <td>1679</td>\n",
       "      <td>6476</td>\n",
       "      <td>4797.0</td>\n",
       "      <td>0.740723</td>\n",
       "      <td>2.669922</td>\n",
       "      <td>12.265625</td>\n",
       "      <td>9.953125</td>\n",
       "      <td>4.761719</td>\n",
       "      <td>-0.922852</td>\n",
       "      <td>-0.178223</td>\n",
       "      <td>-0.743164</td>\n",
       "      <td>0.126831</td>\n",
       "      <td>0.587402</td>\n",
       "      <td>-0.961426</td>\n",
       "      <td>-0.135254</td>\n",
       "      <td>0.142456</td>\n",
       "      <td>-0.303955</td>\n",
       "      <td>-0.650391</td>\n",
       "      <td>-0.482910</td>\n",
       "      <td>-0.397949</td>\n",
       "      <td>-0.078857</td>\n",
       "      <td>-0.466064</td>\n",
       "      <td>-0.170288</td>\n",
       "      <td>-0.047974</td>\n",
       "      <td>0.536133</td>\n",
       "      <td>0.126221</td>\n",
       "      <td>-0.590820</td>\n",
       "      <td>0.340088</td>\n",
       "      <td>-0.010735</td>\n",
       "      <td>0.046234</td>\n",
       "      <td>0.372314</td>\n",
       "      <td>-0.065125</td>\n",
       "      <td>-0.021606</td>\n",
       "      <td>0.187256</td>\n",
       "      <td>0.229614</td>\n",
       "      <td>-0.143799</td>\n",
       "      <td>0.372070</td>\n",
       "      <td>0.344238</td>\n",
       "      <td>0.136230</td>\n",
       "      <td>-0.045807</td>\n",
       "      <td>0.010139</td>\n",
       "      <td>0.380127</td>\n",
       "      <td>0.317627</td>\n",
       "      <td>-4.273438</td>\n",
       "      <td>-3.658203</td>\n",
       "      <td>-5.210938</td>\n",
       "      <td>-4.203125</td>\n",
       "      <td>-1.854492</td>\n",
       "      <td>train</td>\n",
       "      <td>1187899</td>\n",
       "      <td>0.59082</td>\n",
       "      <td>0.033844</td>\n",
       "      <td>0.631836</td>\n",
       "    </tr>\n",
       "    <tr>\n",
       "      <th>4</th>\n",
       "      <td>1</td>\n",
       "      <td>13032</td>\n",
       "      <td>3</td>\n",
       "      <td>10</td>\n",
       "      <td>0</td>\n",
       "      <td>0.300049</td>\n",
       "      <td>2.666016</td>\n",
       "      <td>8.000000</td>\n",
       "      <td>21.671875</td>\n",
       "      <td>19.0</td>\n",
       "      <td>6.332031</td>\n",
       "      <td>2.0</td>\n",
       "      <td>0.399902</td>\n",
       "      <td>4.0</td>\n",
       "      <td>10</td>\n",
       "      <td>59</td>\n",
       "      <td>18</td>\n",
       "      <td>5.898438</td>\n",
       "      <td>41.0</td>\n",
       "      <td>0.694824</td>\n",
       "      <td>2.644531</td>\n",
       "      <td>10.539062</td>\n",
       "      <td>20.265625</td>\n",
       "      <td>4</td>\n",
       "      <td>7</td>\n",
       "      <td>12</td>\n",
       "      <td>1286</td>\n",
       "      <td>3751</td>\n",
       "      <td>2465.0</td>\n",
       "      <td>0.657227</td>\n",
       "      <td>2.779297</td>\n",
       "      <td>12.578125</td>\n",
       "      <td>10.617188</td>\n",
       "      <td>5.621094</td>\n",
       "      <td>-1.427734</td>\n",
       "      <td>1.135742</td>\n",
       "      <td>-0.557129</td>\n",
       "      <td>0.342041</td>\n",
       "      <td>-0.601074</td>\n",
       "      <td>-0.615234</td>\n",
       "      <td>-0.050354</td>\n",
       "      <td>0.073730</td>\n",
       "      <td>0.142578</td>\n",
       "      <td>-0.052673</td>\n",
       "      <td>0.113464</td>\n",
       "      <td>0.424072</td>\n",
       "      <td>0.389893</td>\n",
       "      <td>0.892090</td>\n",
       "      <td>-0.061493</td>\n",
       "      <td>-0.556641</td>\n",
       "      <td>0.209473</td>\n",
       "      <td>0.541504</td>\n",
       "      <td>-0.118774</td>\n",
       "      <td>0.085693</td>\n",
       "      <td>0.034882</td>\n",
       "      <td>-0.209717</td>\n",
       "      <td>0.182007</td>\n",
       "      <td>-0.050659</td>\n",
       "      <td>-0.542969</td>\n",
       "      <td>0.172119</td>\n",
       "      <td>-0.120483</td>\n",
       "      <td>0.228760</td>\n",
       "      <td>0.496094</td>\n",
       "      <td>0.128540</td>\n",
       "      <td>-0.556152</td>\n",
       "      <td>-0.206299</td>\n",
       "      <td>0.194458</td>\n",
       "      <td>-0.181519</td>\n",
       "      <td>0.069336</td>\n",
       "      <td>-3.337891</td>\n",
       "      <td>-4.785156</td>\n",
       "      <td>-10.085938</td>\n",
       "      <td>-4.039062</td>\n",
       "      <td>7.933594</td>\n",
       "      <td>train</td>\n",
       "      <td>1187899</td>\n",
       "      <td>0.59082</td>\n",
       "      <td>0.033844</td>\n",
       "      <td>0.631836</td>\n",
       "    </tr>\n",
       "  </tbody>\n",
       "</table>\n",
       "</div>"
      ],
      "text/plain": [
       "   user_id  product_id  ...  dsp_reorder_ratio  hod_reorder_ratio\n",
       "0        1         196  ...           0.033844           0.631836\n",
       "1        1       10258  ...           0.033844           0.631836\n",
       "2        1       10326  ...           0.033844           0.631836\n",
       "3        1       12427  ...           0.033844           0.631836\n",
       "4        1       13032  ...           0.033844           0.631836\n",
       "\n",
       "[5 rows x 79 columns]"
      ]
     },
     "execution_count": 19,
     "metadata": {
      "tags": []
     },
     "output_type": "execute_result"
    }
   ],
   "source": [
    "data_train= data[data.eval_set == \"train\"]\n",
    "print(data_train.shape)\n",
    "data_train.head()"
   ]
  },
  {
   "cell_type": "code",
   "execution_count": 20,
   "metadata": {
    "colab": {
     "base_uri": "https://localhost:8080/",
     "height": 239
    },
    "id": "PqM0v38p1kFp",
    "outputId": "88f5da30-b170-458d-ed17-42639637ca58"
   },
   "outputs": [
    {
     "name": "stdout",
     "output_type": "stream",
     "text": [
      "(8474661, 80)\n"
     ]
    },
    {
     "data": {
      "text/html": [
       "<div>\n",
       "<style scoped>\n",
       "    .dataframe tbody tr th:only-of-type {\n",
       "        vertical-align: middle;\n",
       "    }\n",
       "\n",
       "    .dataframe tbody tr th {\n",
       "        vertical-align: top;\n",
       "    }\n",
       "\n",
       "    .dataframe thead th {\n",
       "        text-align: right;\n",
       "    }\n",
       "</style>\n",
       "<table border=\"1\" class=\"dataframe\">\n",
       "  <thead>\n",
       "    <tr style=\"text-align: right;\">\n",
       "      <th></th>\n",
       "      <th>user_id</th>\n",
       "      <th>product_id</th>\n",
       "      <th>up_unique_orders_count</th>\n",
       "      <th>up_total_buy_max</th>\n",
       "      <th>up_orders_diff</th>\n",
       "      <th>up_order_ratio</th>\n",
       "      <th>up_mean_dow</th>\n",
       "      <th>up_mean_hod</th>\n",
       "      <th>up_mean_dsp</th>\n",
       "      <th>up_sum_order_no</th>\n",
       "      <th>up_mean_cart</th>\n",
       "      <th>last_5_count</th>\n",
       "      <th>last_5_ratio</th>\n",
       "      <th>chance_in_last_5</th>\n",
       "      <th>total_no_of_order_by_user</th>\n",
       "      <th>total_no_of_items</th>\n",
       "      <th>total_no_of_unique_items</th>\n",
       "      <th>avg_product_in_order_by_user</th>\n",
       "      <th>num_reorders_by_user</th>\n",
       "      <th>reordered_mean_user</th>\n",
       "      <th>user_dow_mean</th>\n",
       "      <th>user_hod_mean</th>\n",
       "      <th>user_dsp_mean</th>\n",
       "      <th>user_max_order_day</th>\n",
       "      <th>user_max_hod</th>\n",
       "      <th>total_unique_aisle_by_user</th>\n",
       "      <th>p_unique_users</th>\n",
       "      <th>p_total_purchase</th>\n",
       "      <th>p_sum_reordered</th>\n",
       "      <th>p_mean_reordered</th>\n",
       "      <th>p_mean_dow</th>\n",
       "      <th>p_mean_hod</th>\n",
       "      <th>p_mean_dsp</th>\n",
       "      <th>p_mean_cart</th>\n",
       "      <th>pca_product0</th>\n",
       "      <th>pca_product1</th>\n",
       "      <th>pca_product2</th>\n",
       "      <th>pca_product3</th>\n",
       "      <th>pca_product4</th>\n",
       "      <th>pca_product5</th>\n",
       "      <th>pca_product6</th>\n",
       "      <th>pca_product7</th>\n",
       "      <th>pca_product8</th>\n",
       "      <th>pca_product9</th>\n",
       "      <th>pca_product10</th>\n",
       "      <th>pca_product11</th>\n",
       "      <th>pca_product12</th>\n",
       "      <th>pca_product13</th>\n",
       "      <th>pca_product14</th>\n",
       "      <th>pca_product15</th>\n",
       "      <th>pca_product16</th>\n",
       "      <th>pca_product17</th>\n",
       "      <th>pca_product18</th>\n",
       "      <th>pca_product19</th>\n",
       "      <th>pca_product20</th>\n",
       "      <th>pca_product21</th>\n",
       "      <th>pca_product22</th>\n",
       "      <th>pca_product23</th>\n",
       "      <th>pca_product24</th>\n",
       "      <th>pca_product25</th>\n",
       "      <th>pca_product26</th>\n",
       "      <th>pca_product27</th>\n",
       "      <th>pca_product28</th>\n",
       "      <th>pca_product29</th>\n",
       "      <th>pca_product30</th>\n",
       "      <th>pca_product31</th>\n",
       "      <th>pca_product32</th>\n",
       "      <th>pca_product33</th>\n",
       "      <th>pca_product34</th>\n",
       "      <th>orderw2v_0</th>\n",
       "      <th>orderw2v_1</th>\n",
       "      <th>orderw2v_2</th>\n",
       "      <th>orderw2v_3</th>\n",
       "      <th>orderw2v_4</th>\n",
       "      <th>eval_set</th>\n",
       "      <th>order_id</th>\n",
       "      <th>dow_reorder_ratio</th>\n",
       "      <th>dsp_reorder_ratio</th>\n",
       "      <th>hod_reorder_ratio</th>\n",
       "      <th>reordered</th>\n",
       "    </tr>\n",
       "  </thead>\n",
       "  <tbody>\n",
       "    <tr>\n",
       "      <th>0</th>\n",
       "      <td>1</td>\n",
       "      <td>196</td>\n",
       "      <td>10</td>\n",
       "      <td>10</td>\n",
       "      <td>0</td>\n",
       "      <td>1.000000</td>\n",
       "      <td>2.500000</td>\n",
       "      <td>10.296875</td>\n",
       "      <td>17.593750</td>\n",
       "      <td>55.0</td>\n",
       "      <td>1.400391</td>\n",
       "      <td>5.0</td>\n",
       "      <td>1.000000</td>\n",
       "      <td>5.0</td>\n",
       "      <td>10</td>\n",
       "      <td>59</td>\n",
       "      <td>18</td>\n",
       "      <td>5.898438</td>\n",
       "      <td>41.0</td>\n",
       "      <td>0.694824</td>\n",
       "      <td>2.644531</td>\n",
       "      <td>10.539062</td>\n",
       "      <td>20.265625</td>\n",
       "      <td>4</td>\n",
       "      <td>7</td>\n",
       "      <td>12</td>\n",
       "      <td>8000</td>\n",
       "      <td>35791</td>\n",
       "      <td>27791.0</td>\n",
       "      <td>0.776367</td>\n",
       "      <td>2.898438</td>\n",
       "      <td>12.523438</td>\n",
       "      <td>11.195312</td>\n",
       "      <td>3.722656</td>\n",
       "      <td>0.001001</td>\n",
       "      <td>2.072266</td>\n",
       "      <td>0.838867</td>\n",
       "      <td>-0.006866</td>\n",
       "      <td>1.401367</td>\n",
       "      <td>-0.055084</td>\n",
       "      <td>0.370850</td>\n",
       "      <td>1.085938</td>\n",
       "      <td>-0.279297</td>\n",
       "      <td>-0.390381</td>\n",
       "      <td>-0.307617</td>\n",
       "      <td>-0.858398</td>\n",
       "      <td>0.331543</td>\n",
       "      <td>0.107239</td>\n",
       "      <td>-0.103210</td>\n",
       "      <td>-0.444336</td>\n",
       "      <td>-0.400391</td>\n",
       "      <td>0.050201</td>\n",
       "      <td>-0.322998</td>\n",
       "      <td>-0.318115</td>\n",
       "      <td>-0.108276</td>\n",
       "      <td>-0.220581</td>\n",
       "      <td>0.019409</td>\n",
       "      <td>-0.258789</td>\n",
       "      <td>0.294434</td>\n",
       "      <td>-0.085693</td>\n",
       "      <td>0.284668</td>\n",
       "      <td>-0.583496</td>\n",
       "      <td>-0.067627</td>\n",
       "      <td>-0.200317</td>\n",
       "      <td>0.154175</td>\n",
       "      <td>0.339355</td>\n",
       "      <td>0.208496</td>\n",
       "      <td>-0.241211</td>\n",
       "      <td>0.081909</td>\n",
       "      <td>-0.414062</td>\n",
       "      <td>-4.488281</td>\n",
       "      <td>-7.871094</td>\n",
       "      <td>-5.644531</td>\n",
       "      <td>3.388672</td>\n",
       "      <td>train</td>\n",
       "      <td>1187899</td>\n",
       "      <td>0.59082</td>\n",
       "      <td>0.033844</td>\n",
       "      <td>0.631836</td>\n",
       "      <td>1.0</td>\n",
       "    </tr>\n",
       "    <tr>\n",
       "      <th>1</th>\n",
       "      <td>1</td>\n",
       "      <td>10258</td>\n",
       "      <td>9</td>\n",
       "      <td>10</td>\n",
       "      <td>0</td>\n",
       "      <td>0.899902</td>\n",
       "      <td>2.554688</td>\n",
       "      <td>10.554688</td>\n",
       "      <td>19.562500</td>\n",
       "      <td>54.0</td>\n",
       "      <td>3.333984</td>\n",
       "      <td>5.0</td>\n",
       "      <td>1.000000</td>\n",
       "      <td>5.0</td>\n",
       "      <td>10</td>\n",
       "      <td>59</td>\n",
       "      <td>18</td>\n",
       "      <td>5.898438</td>\n",
       "      <td>41.0</td>\n",
       "      <td>0.694824</td>\n",
       "      <td>2.644531</td>\n",
       "      <td>10.539062</td>\n",
       "      <td>20.265625</td>\n",
       "      <td>4</td>\n",
       "      <td>7</td>\n",
       "      <td>12</td>\n",
       "      <td>557</td>\n",
       "      <td>1946</td>\n",
       "      <td>1389.0</td>\n",
       "      <td>0.713867</td>\n",
       "      <td>2.718750</td>\n",
       "      <td>12.257812</td>\n",
       "      <td>11.101562</td>\n",
       "      <td>4.277344</td>\n",
       "      <td>-1.460938</td>\n",
       "      <td>0.462646</td>\n",
       "      <td>1.068359</td>\n",
       "      <td>0.026642</td>\n",
       "      <td>-1.029297</td>\n",
       "      <td>-0.739258</td>\n",
       "      <td>0.724609</td>\n",
       "      <td>-0.859863</td>\n",
       "      <td>-0.658691</td>\n",
       "      <td>-0.260010</td>\n",
       "      <td>-0.031952</td>\n",
       "      <td>-0.159180</td>\n",
       "      <td>-0.135010</td>\n",
       "      <td>-0.104919</td>\n",
       "      <td>-0.213013</td>\n",
       "      <td>-0.193726</td>\n",
       "      <td>0.163940</td>\n",
       "      <td>0.329834</td>\n",
       "      <td>0.190796</td>\n",
       "      <td>0.213867</td>\n",
       "      <td>0.648438</td>\n",
       "      <td>-0.411865</td>\n",
       "      <td>-0.145874</td>\n",
       "      <td>0.187622</td>\n",
       "      <td>-0.380371</td>\n",
       "      <td>0.127319</td>\n",
       "      <td>0.245972</td>\n",
       "      <td>-0.209717</td>\n",
       "      <td>-0.532715</td>\n",
       "      <td>-0.122986</td>\n",
       "      <td>-0.111877</td>\n",
       "      <td>-0.484619</td>\n",
       "      <td>-0.063232</td>\n",
       "      <td>-0.214600</td>\n",
       "      <td>0.016434</td>\n",
       "      <td>-8.398438</td>\n",
       "      <td>-0.934570</td>\n",
       "      <td>-5.839844</td>\n",
       "      <td>-6.023438</td>\n",
       "      <td>4.871094</td>\n",
       "      <td>train</td>\n",
       "      <td>1187899</td>\n",
       "      <td>0.59082</td>\n",
       "      <td>0.033844</td>\n",
       "      <td>0.631836</td>\n",
       "      <td>1.0</td>\n",
       "    </tr>\n",
       "    <tr>\n",
       "      <th>2</th>\n",
       "      <td>1</td>\n",
       "      <td>10326</td>\n",
       "      <td>1</td>\n",
       "      <td>10</td>\n",
       "      <td>5</td>\n",
       "      <td>0.099976</td>\n",
       "      <td>4.000000</td>\n",
       "      <td>15.000000</td>\n",
       "      <td>28.000000</td>\n",
       "      <td>5.0</td>\n",
       "      <td>5.000000</td>\n",
       "      <td>0.0</td>\n",
       "      <td>0.000000</td>\n",
       "      <td>0.0</td>\n",
       "      <td>10</td>\n",
       "      <td>59</td>\n",
       "      <td>18</td>\n",
       "      <td>5.898438</td>\n",
       "      <td>41.0</td>\n",
       "      <td>0.694824</td>\n",
       "      <td>2.644531</td>\n",
       "      <td>10.539062</td>\n",
       "      <td>20.265625</td>\n",
       "      <td>4</td>\n",
       "      <td>7</td>\n",
       "      <td>12</td>\n",
       "      <td>1923</td>\n",
       "      <td>5526</td>\n",
       "      <td>3603.0</td>\n",
       "      <td>0.651855</td>\n",
       "      <td>2.742188</td>\n",
       "      <td>12.898438</td>\n",
       "      <td>11.179688</td>\n",
       "      <td>4.191406</td>\n",
       "      <td>-0.183472</td>\n",
       "      <td>-0.170776</td>\n",
       "      <td>1.206055</td>\n",
       "      <td>-0.441162</td>\n",
       "      <td>-0.380859</td>\n",
       "      <td>-0.460693</td>\n",
       "      <td>1.048828</td>\n",
       "      <td>-0.966309</td>\n",
       "      <td>-0.005268</td>\n",
       "      <td>0.608887</td>\n",
       "      <td>0.739746</td>\n",
       "      <td>-0.158203</td>\n",
       "      <td>-0.484863</td>\n",
       "      <td>-0.277344</td>\n",
       "      <td>-0.034454</td>\n",
       "      <td>0.161011</td>\n",
       "      <td>0.058990</td>\n",
       "      <td>-0.159546</td>\n",
       "      <td>-0.156128</td>\n",
       "      <td>0.013084</td>\n",
       "      <td>-0.178467</td>\n",
       "      <td>0.265625</td>\n",
       "      <td>0.223755</td>\n",
       "      <td>-0.140015</td>\n",
       "      <td>0.224976</td>\n",
       "      <td>0.505371</td>\n",
       "      <td>0.030670</td>\n",
       "      <td>0.145630</td>\n",
       "      <td>-0.010712</td>\n",
       "      <td>0.158691</td>\n",
       "      <td>-0.064453</td>\n",
       "      <td>0.015205</td>\n",
       "      <td>0.067261</td>\n",
       "      <td>-0.154175</td>\n",
       "      <td>-0.061523</td>\n",
       "      <td>-5.710938</td>\n",
       "      <td>1.142578</td>\n",
       "      <td>-3.587891</td>\n",
       "      <td>-7.035156</td>\n",
       "      <td>9.210938</td>\n",
       "      <td>train</td>\n",
       "      <td>1187899</td>\n",
       "      <td>0.59082</td>\n",
       "      <td>0.033844</td>\n",
       "      <td>0.631836</td>\n",
       "      <td>NaN</td>\n",
       "    </tr>\n",
       "    <tr>\n",
       "      <th>3</th>\n",
       "      <td>1</td>\n",
       "      <td>12427</td>\n",
       "      <td>10</td>\n",
       "      <td>10</td>\n",
       "      <td>0</td>\n",
       "      <td>1.000000</td>\n",
       "      <td>2.500000</td>\n",
       "      <td>10.296875</td>\n",
       "      <td>17.593750</td>\n",
       "      <td>55.0</td>\n",
       "      <td>3.300781</td>\n",
       "      <td>5.0</td>\n",
       "      <td>1.000000</td>\n",
       "      <td>5.0</td>\n",
       "      <td>10</td>\n",
       "      <td>59</td>\n",
       "      <td>18</td>\n",
       "      <td>5.898438</td>\n",
       "      <td>41.0</td>\n",
       "      <td>0.694824</td>\n",
       "      <td>2.644531</td>\n",
       "      <td>10.539062</td>\n",
       "      <td>20.265625</td>\n",
       "      <td>4</td>\n",
       "      <td>7</td>\n",
       "      <td>12</td>\n",
       "      <td>1679</td>\n",
       "      <td>6476</td>\n",
       "      <td>4797.0</td>\n",
       "      <td>0.740723</td>\n",
       "      <td>2.669922</td>\n",
       "      <td>12.265625</td>\n",
       "      <td>9.953125</td>\n",
       "      <td>4.761719</td>\n",
       "      <td>-0.922852</td>\n",
       "      <td>-0.178223</td>\n",
       "      <td>-0.743164</td>\n",
       "      <td>0.126831</td>\n",
       "      <td>0.587402</td>\n",
       "      <td>-0.961426</td>\n",
       "      <td>-0.135254</td>\n",
       "      <td>0.142456</td>\n",
       "      <td>-0.303955</td>\n",
       "      <td>-0.650391</td>\n",
       "      <td>-0.482910</td>\n",
       "      <td>-0.397949</td>\n",
       "      <td>-0.078857</td>\n",
       "      <td>-0.466064</td>\n",
       "      <td>-0.170288</td>\n",
       "      <td>-0.047974</td>\n",
       "      <td>0.536133</td>\n",
       "      <td>0.126221</td>\n",
       "      <td>-0.590820</td>\n",
       "      <td>0.340088</td>\n",
       "      <td>-0.010735</td>\n",
       "      <td>0.046234</td>\n",
       "      <td>0.372314</td>\n",
       "      <td>-0.065125</td>\n",
       "      <td>-0.021606</td>\n",
       "      <td>0.187256</td>\n",
       "      <td>0.229614</td>\n",
       "      <td>-0.143799</td>\n",
       "      <td>0.372070</td>\n",
       "      <td>0.344238</td>\n",
       "      <td>0.136230</td>\n",
       "      <td>-0.045807</td>\n",
       "      <td>0.010139</td>\n",
       "      <td>0.380127</td>\n",
       "      <td>0.317627</td>\n",
       "      <td>-4.273438</td>\n",
       "      <td>-3.658203</td>\n",
       "      <td>-5.210938</td>\n",
       "      <td>-4.203125</td>\n",
       "      <td>-1.854492</td>\n",
       "      <td>train</td>\n",
       "      <td>1187899</td>\n",
       "      <td>0.59082</td>\n",
       "      <td>0.033844</td>\n",
       "      <td>0.631836</td>\n",
       "      <td>NaN</td>\n",
       "    </tr>\n",
       "    <tr>\n",
       "      <th>4</th>\n",
       "      <td>1</td>\n",
       "      <td>13032</td>\n",
       "      <td>3</td>\n",
       "      <td>10</td>\n",
       "      <td>0</td>\n",
       "      <td>0.300049</td>\n",
       "      <td>2.666016</td>\n",
       "      <td>8.000000</td>\n",
       "      <td>21.671875</td>\n",
       "      <td>19.0</td>\n",
       "      <td>6.332031</td>\n",
       "      <td>2.0</td>\n",
       "      <td>0.399902</td>\n",
       "      <td>4.0</td>\n",
       "      <td>10</td>\n",
       "      <td>59</td>\n",
       "      <td>18</td>\n",
       "      <td>5.898438</td>\n",
       "      <td>41.0</td>\n",
       "      <td>0.694824</td>\n",
       "      <td>2.644531</td>\n",
       "      <td>10.539062</td>\n",
       "      <td>20.265625</td>\n",
       "      <td>4</td>\n",
       "      <td>7</td>\n",
       "      <td>12</td>\n",
       "      <td>1286</td>\n",
       "      <td>3751</td>\n",
       "      <td>2465.0</td>\n",
       "      <td>0.657227</td>\n",
       "      <td>2.779297</td>\n",
       "      <td>12.578125</td>\n",
       "      <td>10.617188</td>\n",
       "      <td>5.621094</td>\n",
       "      <td>-1.427734</td>\n",
       "      <td>1.135742</td>\n",
       "      <td>-0.557129</td>\n",
       "      <td>0.342041</td>\n",
       "      <td>-0.601074</td>\n",
       "      <td>-0.615234</td>\n",
       "      <td>-0.050354</td>\n",
       "      <td>0.073730</td>\n",
       "      <td>0.142578</td>\n",
       "      <td>-0.052673</td>\n",
       "      <td>0.113464</td>\n",
       "      <td>0.424072</td>\n",
       "      <td>0.389893</td>\n",
       "      <td>0.892090</td>\n",
       "      <td>-0.061493</td>\n",
       "      <td>-0.556641</td>\n",
       "      <td>0.209473</td>\n",
       "      <td>0.541504</td>\n",
       "      <td>-0.118774</td>\n",
       "      <td>0.085693</td>\n",
       "      <td>0.034882</td>\n",
       "      <td>-0.209717</td>\n",
       "      <td>0.182007</td>\n",
       "      <td>-0.050659</td>\n",
       "      <td>-0.542969</td>\n",
       "      <td>0.172119</td>\n",
       "      <td>-0.120483</td>\n",
       "      <td>0.228760</td>\n",
       "      <td>0.496094</td>\n",
       "      <td>0.128540</td>\n",
       "      <td>-0.556152</td>\n",
       "      <td>-0.206299</td>\n",
       "      <td>0.194458</td>\n",
       "      <td>-0.181519</td>\n",
       "      <td>0.069336</td>\n",
       "      <td>-3.337891</td>\n",
       "      <td>-4.785156</td>\n",
       "      <td>-10.085938</td>\n",
       "      <td>-4.039062</td>\n",
       "      <td>7.933594</td>\n",
       "      <td>train</td>\n",
       "      <td>1187899</td>\n",
       "      <td>0.59082</td>\n",
       "      <td>0.033844</td>\n",
       "      <td>0.631836</td>\n",
       "      <td>1.0</td>\n",
       "    </tr>\n",
       "  </tbody>\n",
       "</table>\n",
       "</div>"
      ],
      "text/plain": [
       "   user_id  product_id  ...  hod_reorder_ratio  reordered\n",
       "0        1         196  ...           0.631836        1.0\n",
       "1        1       10258  ...           0.631836        1.0\n",
       "2        1       10326  ...           0.631836        NaN\n",
       "3        1       12427  ...           0.631836        NaN\n",
       "4        1       13032  ...           0.631836        1.0\n",
       "\n",
       "[5 rows x 80 columns]"
      ]
     },
     "execution_count": 20,
     "metadata": {
      "tags": []
     },
     "output_type": "execute_result"
    }
   ],
   "source": [
    "data_train = data_train.merge(order_products_train_data[['product_id', 'order_id', 'reordered']], on=['product_id', 'order_id'], how='left')\n",
    "print(data_train .shape)\n",
    "data_train .head()"
   ]
  },
  {
   "cell_type": "markdown",
   "metadata": {
    "id": "q9k9w84R37k1"
   },
   "source": [
    "check missing values in train_data "
   ]
  },
  {
   "cell_type": "code",
   "execution_count": 21,
   "metadata": {
    "colab": {
     "base_uri": "https://localhost:8080/"
    },
    "id": "9a-D1G061kC1",
    "outputId": "ddeaea6d-6119-40ff-f80b-06c795c80df6"
   },
   "outputs": [
    {
     "data": {
      "text/plain": [
       "7645837"
      ]
     },
     "execution_count": 21,
     "metadata": {
      "tags": []
     },
     "output_type": "execute_result"
    }
   ],
   "source": [
    "data_train.isnull().sum().sum()"
   ]
  },
  {
   "cell_type": "markdown",
   "metadata": {
    "id": "VbFXxd3MWqQh"
   },
   "source": [
    "Fill missing values in  reordereded"
   ]
  },
  {
   "cell_type": "code",
   "execution_count": 22,
   "metadata": {
    "colab": {
     "base_uri": "https://localhost:8080/",
     "height": 253
    },
    "id": "UtqtGOuq1j_m",
    "outputId": "b053c6dc-2dd0-4b99-acee-0a72254b9f56"
   },
   "outputs": [
    {
     "data": {
      "text/html": [
       "<div>\n",
       "<style scoped>\n",
       "    .dataframe tbody tr th:only-of-type {\n",
       "        vertical-align: middle;\n",
       "    }\n",
       "\n",
       "    .dataframe tbody tr th {\n",
       "        vertical-align: top;\n",
       "    }\n",
       "\n",
       "    .dataframe thead th {\n",
       "        text-align: right;\n",
       "    }\n",
       "</style>\n",
       "<table border=\"1\" class=\"dataframe\">\n",
       "  <thead>\n",
       "    <tr style=\"text-align: right;\">\n",
       "      <th></th>\n",
       "      <th></th>\n",
       "      <th>up_unique_orders_count</th>\n",
       "      <th>up_total_buy_max</th>\n",
       "      <th>up_orders_diff</th>\n",
       "      <th>up_order_ratio</th>\n",
       "      <th>up_mean_dow</th>\n",
       "      <th>up_mean_hod</th>\n",
       "      <th>up_mean_dsp</th>\n",
       "      <th>up_sum_order_no</th>\n",
       "      <th>up_mean_cart</th>\n",
       "      <th>last_5_count</th>\n",
       "      <th>last_5_ratio</th>\n",
       "      <th>chance_in_last_5</th>\n",
       "      <th>total_no_of_order_by_user</th>\n",
       "      <th>total_no_of_items</th>\n",
       "      <th>total_no_of_unique_items</th>\n",
       "      <th>avg_product_in_order_by_user</th>\n",
       "      <th>num_reorders_by_user</th>\n",
       "      <th>reordered_mean_user</th>\n",
       "      <th>user_dow_mean</th>\n",
       "      <th>user_hod_mean</th>\n",
       "      <th>user_dsp_mean</th>\n",
       "      <th>user_max_order_day</th>\n",
       "      <th>user_max_hod</th>\n",
       "      <th>total_unique_aisle_by_user</th>\n",
       "      <th>p_unique_users</th>\n",
       "      <th>p_total_purchase</th>\n",
       "      <th>p_sum_reordered</th>\n",
       "      <th>p_mean_reordered</th>\n",
       "      <th>p_mean_dow</th>\n",
       "      <th>p_mean_hod</th>\n",
       "      <th>p_mean_dsp</th>\n",
       "      <th>p_mean_cart</th>\n",
       "      <th>pca_product0</th>\n",
       "      <th>pca_product1</th>\n",
       "      <th>pca_product2</th>\n",
       "      <th>pca_product3</th>\n",
       "      <th>pca_product4</th>\n",
       "      <th>pca_product5</th>\n",
       "      <th>pca_product6</th>\n",
       "      <th>pca_product7</th>\n",
       "      <th>pca_product8</th>\n",
       "      <th>pca_product9</th>\n",
       "      <th>pca_product10</th>\n",
       "      <th>pca_product11</th>\n",
       "      <th>pca_product12</th>\n",
       "      <th>pca_product13</th>\n",
       "      <th>pca_product14</th>\n",
       "      <th>pca_product15</th>\n",
       "      <th>pca_product16</th>\n",
       "      <th>pca_product17</th>\n",
       "      <th>pca_product18</th>\n",
       "      <th>pca_product19</th>\n",
       "      <th>pca_product20</th>\n",
       "      <th>pca_product21</th>\n",
       "      <th>pca_product22</th>\n",
       "      <th>pca_product23</th>\n",
       "      <th>pca_product24</th>\n",
       "      <th>pca_product25</th>\n",
       "      <th>pca_product26</th>\n",
       "      <th>pca_product27</th>\n",
       "      <th>pca_product28</th>\n",
       "      <th>pca_product29</th>\n",
       "      <th>pca_product30</th>\n",
       "      <th>pca_product31</th>\n",
       "      <th>pca_product32</th>\n",
       "      <th>pca_product33</th>\n",
       "      <th>pca_product34</th>\n",
       "      <th>orderw2v_0</th>\n",
       "      <th>orderw2v_1</th>\n",
       "      <th>orderw2v_2</th>\n",
       "      <th>orderw2v_3</th>\n",
       "      <th>orderw2v_4</th>\n",
       "      <th>eval_set</th>\n",
       "      <th>order_id</th>\n",
       "      <th>dow_reorder_ratio</th>\n",
       "      <th>dsp_reorder_ratio</th>\n",
       "      <th>hod_reorder_ratio</th>\n",
       "      <th>reordered</th>\n",
       "    </tr>\n",
       "    <tr>\n",
       "      <th>user_id</th>\n",
       "      <th>product_id</th>\n",
       "      <th></th>\n",
       "      <th></th>\n",
       "      <th></th>\n",
       "      <th></th>\n",
       "      <th></th>\n",
       "      <th></th>\n",
       "      <th></th>\n",
       "      <th></th>\n",
       "      <th></th>\n",
       "      <th></th>\n",
       "      <th></th>\n",
       "      <th></th>\n",
       "      <th></th>\n",
       "      <th></th>\n",
       "      <th></th>\n",
       "      <th></th>\n",
       "      <th></th>\n",
       "      <th></th>\n",
       "      <th></th>\n",
       "      <th></th>\n",
       "      <th></th>\n",
       "      <th></th>\n",
       "      <th></th>\n",
       "      <th></th>\n",
       "      <th></th>\n",
       "      <th></th>\n",
       "      <th></th>\n",
       "      <th></th>\n",
       "      <th></th>\n",
       "      <th></th>\n",
       "      <th></th>\n",
       "      <th></th>\n",
       "      <th></th>\n",
       "      <th></th>\n",
       "      <th></th>\n",
       "      <th></th>\n",
       "      <th></th>\n",
       "      <th></th>\n",
       "      <th></th>\n",
       "      <th></th>\n",
       "      <th></th>\n",
       "      <th></th>\n",
       "      <th></th>\n",
       "      <th></th>\n",
       "      <th></th>\n",
       "      <th></th>\n",
       "      <th></th>\n",
       "      <th></th>\n",
       "      <th></th>\n",
       "      <th></th>\n",
       "      <th></th>\n",
       "      <th></th>\n",
       "      <th></th>\n",
       "      <th></th>\n",
       "      <th></th>\n",
       "      <th></th>\n",
       "      <th></th>\n",
       "      <th></th>\n",
       "      <th></th>\n",
       "      <th></th>\n",
       "      <th></th>\n",
       "      <th></th>\n",
       "      <th></th>\n",
       "      <th></th>\n",
       "      <th></th>\n",
       "      <th></th>\n",
       "      <th></th>\n",
       "      <th></th>\n",
       "      <th></th>\n",
       "      <th></th>\n",
       "      <th></th>\n",
       "      <th></th>\n",
       "      <th></th>\n",
       "      <th></th>\n",
       "      <th></th>\n",
       "      <th></th>\n",
       "      <th></th>\n",
       "      <th></th>\n",
       "    </tr>\n",
       "  </thead>\n",
       "  <tbody>\n",
       "    <tr>\n",
       "      <th rowspan=\"5\" valign=\"top\">1</th>\n",
       "      <th>196</th>\n",
       "      <td>10</td>\n",
       "      <td>10</td>\n",
       "      <td>0</td>\n",
       "      <td>1.000000</td>\n",
       "      <td>2.500000</td>\n",
       "      <td>10.296875</td>\n",
       "      <td>17.593750</td>\n",
       "      <td>55.0</td>\n",
       "      <td>1.400391</td>\n",
       "      <td>5.0</td>\n",
       "      <td>1.000000</td>\n",
       "      <td>5.0</td>\n",
       "      <td>10</td>\n",
       "      <td>59</td>\n",
       "      <td>18</td>\n",
       "      <td>5.898438</td>\n",
       "      <td>41.0</td>\n",
       "      <td>0.694824</td>\n",
       "      <td>2.644531</td>\n",
       "      <td>10.539062</td>\n",
       "      <td>20.265625</td>\n",
       "      <td>4</td>\n",
       "      <td>7</td>\n",
       "      <td>12</td>\n",
       "      <td>8000</td>\n",
       "      <td>35791</td>\n",
       "      <td>27791.0</td>\n",
       "      <td>0.776367</td>\n",
       "      <td>2.898438</td>\n",
       "      <td>12.523438</td>\n",
       "      <td>11.195312</td>\n",
       "      <td>3.722656</td>\n",
       "      <td>0.001001</td>\n",
       "      <td>2.072266</td>\n",
       "      <td>0.838867</td>\n",
       "      <td>-0.006866</td>\n",
       "      <td>1.401367</td>\n",
       "      <td>-0.055084</td>\n",
       "      <td>0.370850</td>\n",
       "      <td>1.085938</td>\n",
       "      <td>-0.279297</td>\n",
       "      <td>-0.390381</td>\n",
       "      <td>-0.307617</td>\n",
       "      <td>-0.858398</td>\n",
       "      <td>0.331543</td>\n",
       "      <td>0.107239</td>\n",
       "      <td>-0.103210</td>\n",
       "      <td>-0.444336</td>\n",
       "      <td>-0.400391</td>\n",
       "      <td>0.050201</td>\n",
       "      <td>-0.322998</td>\n",
       "      <td>-0.318115</td>\n",
       "      <td>-0.108276</td>\n",
       "      <td>-0.220581</td>\n",
       "      <td>0.019409</td>\n",
       "      <td>-0.258789</td>\n",
       "      <td>0.294434</td>\n",
       "      <td>-0.085693</td>\n",
       "      <td>0.284668</td>\n",
       "      <td>-0.583496</td>\n",
       "      <td>-0.067627</td>\n",
       "      <td>-0.200317</td>\n",
       "      <td>0.154175</td>\n",
       "      <td>0.339355</td>\n",
       "      <td>0.208496</td>\n",
       "      <td>-0.241211</td>\n",
       "      <td>0.081909</td>\n",
       "      <td>-0.414062</td>\n",
       "      <td>-4.488281</td>\n",
       "      <td>-7.871094</td>\n",
       "      <td>-5.644531</td>\n",
       "      <td>3.388672</td>\n",
       "      <td>train</td>\n",
       "      <td>1187899</td>\n",
       "      <td>0.59082</td>\n",
       "      <td>0.033844</td>\n",
       "      <td>0.631836</td>\n",
       "      <td>1.0</td>\n",
       "    </tr>\n",
       "    <tr>\n",
       "      <th>10258</th>\n",
       "      <td>9</td>\n",
       "      <td>10</td>\n",
       "      <td>0</td>\n",
       "      <td>0.899902</td>\n",
       "      <td>2.554688</td>\n",
       "      <td>10.554688</td>\n",
       "      <td>19.562500</td>\n",
       "      <td>54.0</td>\n",
       "      <td>3.333984</td>\n",
       "      <td>5.0</td>\n",
       "      <td>1.000000</td>\n",
       "      <td>5.0</td>\n",
       "      <td>10</td>\n",
       "      <td>59</td>\n",
       "      <td>18</td>\n",
       "      <td>5.898438</td>\n",
       "      <td>41.0</td>\n",
       "      <td>0.694824</td>\n",
       "      <td>2.644531</td>\n",
       "      <td>10.539062</td>\n",
       "      <td>20.265625</td>\n",
       "      <td>4</td>\n",
       "      <td>7</td>\n",
       "      <td>12</td>\n",
       "      <td>557</td>\n",
       "      <td>1946</td>\n",
       "      <td>1389.0</td>\n",
       "      <td>0.713867</td>\n",
       "      <td>2.718750</td>\n",
       "      <td>12.257812</td>\n",
       "      <td>11.101562</td>\n",
       "      <td>4.277344</td>\n",
       "      <td>-1.460938</td>\n",
       "      <td>0.462646</td>\n",
       "      <td>1.068359</td>\n",
       "      <td>0.026642</td>\n",
       "      <td>-1.029297</td>\n",
       "      <td>-0.739258</td>\n",
       "      <td>0.724609</td>\n",
       "      <td>-0.859863</td>\n",
       "      <td>-0.658691</td>\n",
       "      <td>-0.260010</td>\n",
       "      <td>-0.031952</td>\n",
       "      <td>-0.159180</td>\n",
       "      <td>-0.135010</td>\n",
       "      <td>-0.104919</td>\n",
       "      <td>-0.213013</td>\n",
       "      <td>-0.193726</td>\n",
       "      <td>0.163940</td>\n",
       "      <td>0.329834</td>\n",
       "      <td>0.190796</td>\n",
       "      <td>0.213867</td>\n",
       "      <td>0.648438</td>\n",
       "      <td>-0.411865</td>\n",
       "      <td>-0.145874</td>\n",
       "      <td>0.187622</td>\n",
       "      <td>-0.380371</td>\n",
       "      <td>0.127319</td>\n",
       "      <td>0.245972</td>\n",
       "      <td>-0.209717</td>\n",
       "      <td>-0.532715</td>\n",
       "      <td>-0.122986</td>\n",
       "      <td>-0.111877</td>\n",
       "      <td>-0.484619</td>\n",
       "      <td>-0.063232</td>\n",
       "      <td>-0.214600</td>\n",
       "      <td>0.016434</td>\n",
       "      <td>-8.398438</td>\n",
       "      <td>-0.934570</td>\n",
       "      <td>-5.839844</td>\n",
       "      <td>-6.023438</td>\n",
       "      <td>4.871094</td>\n",
       "      <td>train</td>\n",
       "      <td>1187899</td>\n",
       "      <td>0.59082</td>\n",
       "      <td>0.033844</td>\n",
       "      <td>0.631836</td>\n",
       "      <td>1.0</td>\n",
       "    </tr>\n",
       "    <tr>\n",
       "      <th>10326</th>\n",
       "      <td>1</td>\n",
       "      <td>10</td>\n",
       "      <td>5</td>\n",
       "      <td>0.099976</td>\n",
       "      <td>4.000000</td>\n",
       "      <td>15.000000</td>\n",
       "      <td>28.000000</td>\n",
       "      <td>5.0</td>\n",
       "      <td>5.000000</td>\n",
       "      <td>0.0</td>\n",
       "      <td>0.000000</td>\n",
       "      <td>0.0</td>\n",
       "      <td>10</td>\n",
       "      <td>59</td>\n",
       "      <td>18</td>\n",
       "      <td>5.898438</td>\n",
       "      <td>41.0</td>\n",
       "      <td>0.694824</td>\n",
       "      <td>2.644531</td>\n",
       "      <td>10.539062</td>\n",
       "      <td>20.265625</td>\n",
       "      <td>4</td>\n",
       "      <td>7</td>\n",
       "      <td>12</td>\n",
       "      <td>1923</td>\n",
       "      <td>5526</td>\n",
       "      <td>3603.0</td>\n",
       "      <td>0.651855</td>\n",
       "      <td>2.742188</td>\n",
       "      <td>12.898438</td>\n",
       "      <td>11.179688</td>\n",
       "      <td>4.191406</td>\n",
       "      <td>-0.183472</td>\n",
       "      <td>-0.170776</td>\n",
       "      <td>1.206055</td>\n",
       "      <td>-0.441162</td>\n",
       "      <td>-0.380859</td>\n",
       "      <td>-0.460693</td>\n",
       "      <td>1.048828</td>\n",
       "      <td>-0.966309</td>\n",
       "      <td>-0.005268</td>\n",
       "      <td>0.608887</td>\n",
       "      <td>0.739746</td>\n",
       "      <td>-0.158203</td>\n",
       "      <td>-0.484863</td>\n",
       "      <td>-0.277344</td>\n",
       "      <td>-0.034454</td>\n",
       "      <td>0.161011</td>\n",
       "      <td>0.058990</td>\n",
       "      <td>-0.159546</td>\n",
       "      <td>-0.156128</td>\n",
       "      <td>0.013084</td>\n",
       "      <td>-0.178467</td>\n",
       "      <td>0.265625</td>\n",
       "      <td>0.223755</td>\n",
       "      <td>-0.140015</td>\n",
       "      <td>0.224976</td>\n",
       "      <td>0.505371</td>\n",
       "      <td>0.030670</td>\n",
       "      <td>0.145630</td>\n",
       "      <td>-0.010712</td>\n",
       "      <td>0.158691</td>\n",
       "      <td>-0.064453</td>\n",
       "      <td>0.015205</td>\n",
       "      <td>0.067261</td>\n",
       "      <td>-0.154175</td>\n",
       "      <td>-0.061523</td>\n",
       "      <td>-5.710938</td>\n",
       "      <td>1.142578</td>\n",
       "      <td>-3.587891</td>\n",
       "      <td>-7.035156</td>\n",
       "      <td>9.210938</td>\n",
       "      <td>train</td>\n",
       "      <td>1187899</td>\n",
       "      <td>0.59082</td>\n",
       "      <td>0.033844</td>\n",
       "      <td>0.631836</td>\n",
       "      <td>0.0</td>\n",
       "    </tr>\n",
       "    <tr>\n",
       "      <th>12427</th>\n",
       "      <td>10</td>\n",
       "      <td>10</td>\n",
       "      <td>0</td>\n",
       "      <td>1.000000</td>\n",
       "      <td>2.500000</td>\n",
       "      <td>10.296875</td>\n",
       "      <td>17.593750</td>\n",
       "      <td>55.0</td>\n",
       "      <td>3.300781</td>\n",
       "      <td>5.0</td>\n",
       "      <td>1.000000</td>\n",
       "      <td>5.0</td>\n",
       "      <td>10</td>\n",
       "      <td>59</td>\n",
       "      <td>18</td>\n",
       "      <td>5.898438</td>\n",
       "      <td>41.0</td>\n",
       "      <td>0.694824</td>\n",
       "      <td>2.644531</td>\n",
       "      <td>10.539062</td>\n",
       "      <td>20.265625</td>\n",
       "      <td>4</td>\n",
       "      <td>7</td>\n",
       "      <td>12</td>\n",
       "      <td>1679</td>\n",
       "      <td>6476</td>\n",
       "      <td>4797.0</td>\n",
       "      <td>0.740723</td>\n",
       "      <td>2.669922</td>\n",
       "      <td>12.265625</td>\n",
       "      <td>9.953125</td>\n",
       "      <td>4.761719</td>\n",
       "      <td>-0.922852</td>\n",
       "      <td>-0.178223</td>\n",
       "      <td>-0.743164</td>\n",
       "      <td>0.126831</td>\n",
       "      <td>0.587402</td>\n",
       "      <td>-0.961426</td>\n",
       "      <td>-0.135254</td>\n",
       "      <td>0.142456</td>\n",
       "      <td>-0.303955</td>\n",
       "      <td>-0.650391</td>\n",
       "      <td>-0.482910</td>\n",
       "      <td>-0.397949</td>\n",
       "      <td>-0.078857</td>\n",
       "      <td>-0.466064</td>\n",
       "      <td>-0.170288</td>\n",
       "      <td>-0.047974</td>\n",
       "      <td>0.536133</td>\n",
       "      <td>0.126221</td>\n",
       "      <td>-0.590820</td>\n",
       "      <td>0.340088</td>\n",
       "      <td>-0.010735</td>\n",
       "      <td>0.046234</td>\n",
       "      <td>0.372314</td>\n",
       "      <td>-0.065125</td>\n",
       "      <td>-0.021606</td>\n",
       "      <td>0.187256</td>\n",
       "      <td>0.229614</td>\n",
       "      <td>-0.143799</td>\n",
       "      <td>0.372070</td>\n",
       "      <td>0.344238</td>\n",
       "      <td>0.136230</td>\n",
       "      <td>-0.045807</td>\n",
       "      <td>0.010139</td>\n",
       "      <td>0.380127</td>\n",
       "      <td>0.317627</td>\n",
       "      <td>-4.273438</td>\n",
       "      <td>-3.658203</td>\n",
       "      <td>-5.210938</td>\n",
       "      <td>-4.203125</td>\n",
       "      <td>-1.854492</td>\n",
       "      <td>train</td>\n",
       "      <td>1187899</td>\n",
       "      <td>0.59082</td>\n",
       "      <td>0.033844</td>\n",
       "      <td>0.631836</td>\n",
       "      <td>0.0</td>\n",
       "    </tr>\n",
       "    <tr>\n",
       "      <th>13032</th>\n",
       "      <td>3</td>\n",
       "      <td>10</td>\n",
       "      <td>0</td>\n",
       "      <td>0.300049</td>\n",
       "      <td>2.666016</td>\n",
       "      <td>8.000000</td>\n",
       "      <td>21.671875</td>\n",
       "      <td>19.0</td>\n",
       "      <td>6.332031</td>\n",
       "      <td>2.0</td>\n",
       "      <td>0.399902</td>\n",
       "      <td>4.0</td>\n",
       "      <td>10</td>\n",
       "      <td>59</td>\n",
       "      <td>18</td>\n",
       "      <td>5.898438</td>\n",
       "      <td>41.0</td>\n",
       "      <td>0.694824</td>\n",
       "      <td>2.644531</td>\n",
       "      <td>10.539062</td>\n",
       "      <td>20.265625</td>\n",
       "      <td>4</td>\n",
       "      <td>7</td>\n",
       "      <td>12</td>\n",
       "      <td>1286</td>\n",
       "      <td>3751</td>\n",
       "      <td>2465.0</td>\n",
       "      <td>0.657227</td>\n",
       "      <td>2.779297</td>\n",
       "      <td>12.578125</td>\n",
       "      <td>10.617188</td>\n",
       "      <td>5.621094</td>\n",
       "      <td>-1.427734</td>\n",
       "      <td>1.135742</td>\n",
       "      <td>-0.557129</td>\n",
       "      <td>0.342041</td>\n",
       "      <td>-0.601074</td>\n",
       "      <td>-0.615234</td>\n",
       "      <td>-0.050354</td>\n",
       "      <td>0.073730</td>\n",
       "      <td>0.142578</td>\n",
       "      <td>-0.052673</td>\n",
       "      <td>0.113464</td>\n",
       "      <td>0.424072</td>\n",
       "      <td>0.389893</td>\n",
       "      <td>0.892090</td>\n",
       "      <td>-0.061493</td>\n",
       "      <td>-0.556641</td>\n",
       "      <td>0.209473</td>\n",
       "      <td>0.541504</td>\n",
       "      <td>-0.118774</td>\n",
       "      <td>0.085693</td>\n",
       "      <td>0.034882</td>\n",
       "      <td>-0.209717</td>\n",
       "      <td>0.182007</td>\n",
       "      <td>-0.050659</td>\n",
       "      <td>-0.542969</td>\n",
       "      <td>0.172119</td>\n",
       "      <td>-0.120483</td>\n",
       "      <td>0.228760</td>\n",
       "      <td>0.496094</td>\n",
       "      <td>0.128540</td>\n",
       "      <td>-0.556152</td>\n",
       "      <td>-0.206299</td>\n",
       "      <td>0.194458</td>\n",
       "      <td>-0.181519</td>\n",
       "      <td>0.069336</td>\n",
       "      <td>-3.337891</td>\n",
       "      <td>-4.785156</td>\n",
       "      <td>-10.085938</td>\n",
       "      <td>-4.039062</td>\n",
       "      <td>7.933594</td>\n",
       "      <td>train</td>\n",
       "      <td>1187899</td>\n",
       "      <td>0.59082</td>\n",
       "      <td>0.033844</td>\n",
       "      <td>0.631836</td>\n",
       "      <td>1.0</td>\n",
       "    </tr>\n",
       "  </tbody>\n",
       "</table>\n",
       "</div>"
      ],
      "text/plain": [
       "                    up_unique_orders_count  ...  reordered\n",
       "user_id product_id                          ...           \n",
       "1       196                             10  ...        1.0\n",
       "        10258                            9  ...        1.0\n",
       "        10326                            1  ...        0.0\n",
       "        12427                           10  ...        0.0\n",
       "        13032                            3  ...        1.0\n",
       "\n",
       "[5 rows x 78 columns]"
      ]
     },
     "execution_count": 22,
     "metadata": {
      "tags": []
     },
     "output_type": "execute_result"
    }
   ],
   "source": [
    "data_train.reordered.fillna(0, inplace=True)\n",
    "#set user_id and product_id as index.\n",
    "data_train= data_train.set_index(['user_id', 'product_id'])\n",
    "data_train.head()"
   ]
  },
  {
   "cell_type": "code",
   "execution_count": 24,
   "metadata": {
    "colab": {
     "base_uri": "https://localhost:8080/"
    },
    "id": "62-S9GHPw87j",
    "outputId": "5eca08b5-dfab-4235-eecc-537dc9c0b521"
   },
   "outputs": [
    {
     "data": {
      "text/plain": [
       "(8474661, 78)"
      ]
     },
     "execution_count": 24,
     "metadata": {
      "tags": []
     },
     "output_type": "execute_result"
    }
   ],
   "source": [
    "data_train.shape"
   ]
  },
  {
   "cell_type": "code",
   "execution_count": 23,
   "metadata": {
    "colab": {
     "base_uri": "https://localhost:8080/"
    },
    "id": "uUNAYXo51j8h",
    "outputId": "30240014-b7b5-4449-a47a-5f6c30a9e9c1"
   },
   "outputs": [
    {
     "name": "stdout",
     "output_type": "stream",
     "text": [
      "Memory usage after optimization is: 1389.66 MB\n",
      "Decreased by 3.4%\n"
     ]
    }
   ],
   "source": [
    "data_train=reduce_mem_usage(data_train)"
   ]
  },
  {
   "cell_type": "code",
   "execution_count": null,
   "metadata": {
    "colab": {
     "base_uri": "https://localhost:8080/"
    },
    "id": "DLTboBkMwF87",
    "outputId": "cbabbde9-ae73-4c92-b303-b7902826409a"
   },
   "outputs": [
    {
     "data": {
      "text/plain": [
       "0"
      ]
     },
     "execution_count": 26,
     "metadata": {
      "tags": []
     },
     "output_type": "execute_result"
    }
   ],
   "source": [
    "data_train.isnull().sum().sum()"
   ]
  },
  {
   "cell_type": "markdown",
   "metadata": {
    "id": "01ekHRbk4xgC"
   },
   "source": [
    "#Test Dataset"
   ]
  },
  {
   "cell_type": "code",
   "execution_count": 25,
   "metadata": {
    "colab": {
     "base_uri": "https://localhost:8080/",
     "height": 239
    },
    "id": "s1Qzq65T4s7k",
    "outputId": "bf71d9f5-c628-4b05-ae62-a110d613b92b"
   },
   "outputs": [
    {
     "name": "stdout",
     "output_type": "stream",
     "text": [
      "(4833292, 79)\n"
     ]
    },
    {
     "data": {
      "text/html": [
       "<div>\n",
       "<style scoped>\n",
       "    .dataframe tbody tr th:only-of-type {\n",
       "        vertical-align: middle;\n",
       "    }\n",
       "\n",
       "    .dataframe tbody tr th {\n",
       "        vertical-align: top;\n",
       "    }\n",
       "\n",
       "    .dataframe thead th {\n",
       "        text-align: right;\n",
       "    }\n",
       "</style>\n",
       "<table border=\"1\" class=\"dataframe\">\n",
       "  <thead>\n",
       "    <tr style=\"text-align: right;\">\n",
       "      <th></th>\n",
       "      <th>user_id</th>\n",
       "      <th>product_id</th>\n",
       "      <th>up_unique_orders_count</th>\n",
       "      <th>up_total_buy_max</th>\n",
       "      <th>up_orders_diff</th>\n",
       "      <th>up_order_ratio</th>\n",
       "      <th>up_mean_dow</th>\n",
       "      <th>up_mean_hod</th>\n",
       "      <th>up_mean_dsp</th>\n",
       "      <th>up_sum_order_no</th>\n",
       "      <th>up_mean_cart</th>\n",
       "      <th>last_5_count</th>\n",
       "      <th>last_5_ratio</th>\n",
       "      <th>chance_in_last_5</th>\n",
       "      <th>total_no_of_order_by_user</th>\n",
       "      <th>total_no_of_items</th>\n",
       "      <th>total_no_of_unique_items</th>\n",
       "      <th>avg_product_in_order_by_user</th>\n",
       "      <th>num_reorders_by_user</th>\n",
       "      <th>reordered_mean_user</th>\n",
       "      <th>user_dow_mean</th>\n",
       "      <th>user_hod_mean</th>\n",
       "      <th>user_dsp_mean</th>\n",
       "      <th>user_max_order_day</th>\n",
       "      <th>user_max_hod</th>\n",
       "      <th>total_unique_aisle_by_user</th>\n",
       "      <th>p_unique_users</th>\n",
       "      <th>p_total_purchase</th>\n",
       "      <th>p_sum_reordered</th>\n",
       "      <th>p_mean_reordered</th>\n",
       "      <th>p_mean_dow</th>\n",
       "      <th>p_mean_hod</th>\n",
       "      <th>p_mean_dsp</th>\n",
       "      <th>p_mean_cart</th>\n",
       "      <th>pca_product0</th>\n",
       "      <th>pca_product1</th>\n",
       "      <th>pca_product2</th>\n",
       "      <th>pca_product3</th>\n",
       "      <th>pca_product4</th>\n",
       "      <th>pca_product5</th>\n",
       "      <th>pca_product6</th>\n",
       "      <th>pca_product7</th>\n",
       "      <th>pca_product8</th>\n",
       "      <th>pca_product9</th>\n",
       "      <th>pca_product10</th>\n",
       "      <th>pca_product11</th>\n",
       "      <th>pca_product12</th>\n",
       "      <th>pca_product13</th>\n",
       "      <th>pca_product14</th>\n",
       "      <th>pca_product15</th>\n",
       "      <th>pca_product16</th>\n",
       "      <th>pca_product17</th>\n",
       "      <th>pca_product18</th>\n",
       "      <th>pca_product19</th>\n",
       "      <th>pca_product20</th>\n",
       "      <th>pca_product21</th>\n",
       "      <th>pca_product22</th>\n",
       "      <th>pca_product23</th>\n",
       "      <th>pca_product24</th>\n",
       "      <th>pca_product25</th>\n",
       "      <th>pca_product26</th>\n",
       "      <th>pca_product27</th>\n",
       "      <th>pca_product28</th>\n",
       "      <th>pca_product29</th>\n",
       "      <th>pca_product30</th>\n",
       "      <th>pca_product31</th>\n",
       "      <th>pca_product32</th>\n",
       "      <th>pca_product33</th>\n",
       "      <th>pca_product34</th>\n",
       "      <th>orderw2v_0</th>\n",
       "      <th>orderw2v_1</th>\n",
       "      <th>orderw2v_2</th>\n",
       "      <th>orderw2v_3</th>\n",
       "      <th>orderw2v_4</th>\n",
       "      <th>eval_set</th>\n",
       "      <th>order_id</th>\n",
       "      <th>dow_reorder_ratio</th>\n",
       "      <th>dsp_reorder_ratio</th>\n",
       "      <th>hod_reorder_ratio</th>\n",
       "    </tr>\n",
       "  </thead>\n",
       "  <tbody>\n",
       "    <tr>\n",
       "      <th>120</th>\n",
       "      <td>3</td>\n",
       "      <td>248</td>\n",
       "      <td>1</td>\n",
       "      <td>10</td>\n",
       "      <td>10</td>\n",
       "      <td>0.083313</td>\n",
       "      <td>3.000000</td>\n",
       "      <td>19.000000</td>\n",
       "      <td>9.000000</td>\n",
       "      <td>2.0</td>\n",
       "      <td>3.000000</td>\n",
       "      <td>0.0</td>\n",
       "      <td>0.000000</td>\n",
       "      <td>0.0</td>\n",
       "      <td>12</td>\n",
       "      <td>88</td>\n",
       "      <td>33</td>\n",
       "      <td>7.332031</td>\n",
       "      <td>55.0</td>\n",
       "      <td>0.625</td>\n",
       "      <td>1.011719</td>\n",
       "      <td>16.359375</td>\n",
       "      <td>11.484375</td>\n",
       "      <td>0</td>\n",
       "      <td>16</td>\n",
       "      <td>16</td>\n",
       "      <td>3821</td>\n",
       "      <td>6371</td>\n",
       "      <td>2550.0</td>\n",
       "      <td>0.400146</td>\n",
       "      <td>2.662109</td>\n",
       "      <td>13.546875</td>\n",
       "      <td>10.304688</td>\n",
       "      <td>10.617188</td>\n",
       "      <td>-1.511719</td>\n",
       "      <td>0.493408</td>\n",
       "      <td>1.338867</td>\n",
       "      <td>-0.070984</td>\n",
       "      <td>-0.933594</td>\n",
       "      <td>-0.351562</td>\n",
       "      <td>0.663574</td>\n",
       "      <td>-0.801270</td>\n",
       "      <td>-0.613281</td>\n",
       "      <td>-0.417480</td>\n",
       "      <td>0.048981</td>\n",
       "      <td>0.014832</td>\n",
       "      <td>0.006821</td>\n",
       "      <td>-0.160645</td>\n",
       "      <td>-0.003719</td>\n",
       "      <td>-0.320068</td>\n",
       "      <td>0.173950</td>\n",
       "      <td>0.494385</td>\n",
       "      <td>-0.016785</td>\n",
       "      <td>0.092590</td>\n",
       "      <td>0.426758</td>\n",
       "      <td>-0.461426</td>\n",
       "      <td>-0.035370</td>\n",
       "      <td>0.149536</td>\n",
       "      <td>-0.275635</td>\n",
       "      <td>0.163330</td>\n",
       "      <td>0.106018</td>\n",
       "      <td>-0.199463</td>\n",
       "      <td>-0.330322</td>\n",
       "      <td>-0.101013</td>\n",
       "      <td>-0.288818</td>\n",
       "      <td>-0.230591</td>\n",
       "      <td>-0.081421</td>\n",
       "      <td>-0.224609</td>\n",
       "      <td>-0.081604</td>\n",
       "      <td>-1.174805</td>\n",
       "      <td>6.691406</td>\n",
       "      <td>5.031250</td>\n",
       "      <td>1.353516</td>\n",
       "      <td>0.725586</td>\n",
       "      <td>test</td>\n",
       "      <td>2774568</td>\n",
       "      <td>0.595703</td>\n",
       "      <td>0.02713</td>\n",
       "      <td>0.580566</td>\n",
       "    </tr>\n",
       "    <tr>\n",
       "      <th>121</th>\n",
       "      <td>3</td>\n",
       "      <td>1005</td>\n",
       "      <td>1</td>\n",
       "      <td>10</td>\n",
       "      <td>2</td>\n",
       "      <td>0.083313</td>\n",
       "      <td>3.000000</td>\n",
       "      <td>16.000000</td>\n",
       "      <td>17.000000</td>\n",
       "      <td>10.0</td>\n",
       "      <td>5.000000</td>\n",
       "      <td>1.0</td>\n",
       "      <td>0.199951</td>\n",
       "      <td>3.0</td>\n",
       "      <td>12</td>\n",
       "      <td>88</td>\n",
       "      <td>33</td>\n",
       "      <td>7.332031</td>\n",
       "      <td>55.0</td>\n",
       "      <td>0.625</td>\n",
       "      <td>1.011719</td>\n",
       "      <td>16.359375</td>\n",
       "      <td>11.484375</td>\n",
       "      <td>0</td>\n",
       "      <td>16</td>\n",
       "      <td>16</td>\n",
       "      <td>259</td>\n",
       "      <td>463</td>\n",
       "      <td>204.0</td>\n",
       "      <td>0.440674</td>\n",
       "      <td>2.853516</td>\n",
       "      <td>12.695312</td>\n",
       "      <td>9.750000</td>\n",
       "      <td>9.500000</td>\n",
       "      <td>0.726562</td>\n",
       "      <td>0.912598</td>\n",
       "      <td>0.748535</td>\n",
       "      <td>0.131592</td>\n",
       "      <td>0.826660</td>\n",
       "      <td>-0.310791</td>\n",
       "      <td>0.714355</td>\n",
       "      <td>0.463623</td>\n",
       "      <td>-0.689941</td>\n",
       "      <td>0.590820</td>\n",
       "      <td>-0.232666</td>\n",
       "      <td>0.312500</td>\n",
       "      <td>-0.189575</td>\n",
       "      <td>0.799316</td>\n",
       "      <td>-0.003971</td>\n",
       "      <td>0.977051</td>\n",
       "      <td>-0.031464</td>\n",
       "      <td>0.074036</td>\n",
       "      <td>0.614258</td>\n",
       "      <td>-0.512695</td>\n",
       "      <td>0.294434</td>\n",
       "      <td>0.146240</td>\n",
       "      <td>0.212646</td>\n",
       "      <td>0.099915</td>\n",
       "      <td>-0.288330</td>\n",
       "      <td>-0.232910</td>\n",
       "      <td>-0.265381</td>\n",
       "      <td>-0.046722</td>\n",
       "      <td>-0.186157</td>\n",
       "      <td>0.081604</td>\n",
       "      <td>-0.091919</td>\n",
       "      <td>0.373535</td>\n",
       "      <td>-0.364502</td>\n",
       "      <td>0.235840</td>\n",
       "      <td>-0.169800</td>\n",
       "      <td>-2.468750</td>\n",
       "      <td>-1.116211</td>\n",
       "      <td>-1.778320</td>\n",
       "      <td>-0.668945</td>\n",
       "      <td>-6.320312</td>\n",
       "      <td>test</td>\n",
       "      <td>2774568</td>\n",
       "      <td>0.595703</td>\n",
       "      <td>0.02713</td>\n",
       "      <td>0.580566</td>\n",
       "    </tr>\n",
       "    <tr>\n",
       "      <th>122</th>\n",
       "      <td>3</td>\n",
       "      <td>1819</td>\n",
       "      <td>3</td>\n",
       "      <td>10</td>\n",
       "      <td>5</td>\n",
       "      <td>0.250000</td>\n",
       "      <td>0.666504</td>\n",
       "      <td>16.328125</td>\n",
       "      <td>11.335938</td>\n",
       "      <td>17.0</td>\n",
       "      <td>2.666016</td>\n",
       "      <td>0.0</td>\n",
       "      <td>0.000000</td>\n",
       "      <td>0.0</td>\n",
       "      <td>12</td>\n",
       "      <td>88</td>\n",
       "      <td>33</td>\n",
       "      <td>7.332031</td>\n",
       "      <td>55.0</td>\n",
       "      <td>0.625</td>\n",
       "      <td>1.011719</td>\n",
       "      <td>16.359375</td>\n",
       "      <td>11.484375</td>\n",
       "      <td>0</td>\n",
       "      <td>16</td>\n",
       "      <td>16</td>\n",
       "      <td>1231</td>\n",
       "      <td>2424</td>\n",
       "      <td>1193.0</td>\n",
       "      <td>0.492188</td>\n",
       "      <td>2.687500</td>\n",
       "      <td>13.429688</td>\n",
       "      <td>9.914062</td>\n",
       "      <td>9.289062</td>\n",
       "      <td>-0.032593</td>\n",
       "      <td>-0.075989</td>\n",
       "      <td>0.090637</td>\n",
       "      <td>0.133423</td>\n",
       "      <td>-0.725586</td>\n",
       "      <td>0.631348</td>\n",
       "      <td>-0.198364</td>\n",
       "      <td>-0.202148</td>\n",
       "      <td>-0.250488</td>\n",
       "      <td>0.325439</td>\n",
       "      <td>-0.119507</td>\n",
       "      <td>0.483154</td>\n",
       "      <td>0.233398</td>\n",
       "      <td>-0.067444</td>\n",
       "      <td>-0.357422</td>\n",
       "      <td>-0.322266</td>\n",
       "      <td>0.155640</td>\n",
       "      <td>-0.200562</td>\n",
       "      <td>-0.368408</td>\n",
       "      <td>-0.039886</td>\n",
       "      <td>-0.190430</td>\n",
       "      <td>-0.288818</td>\n",
       "      <td>-0.296387</td>\n",
       "      <td>-0.210449</td>\n",
       "      <td>-0.168213</td>\n",
       "      <td>-0.494385</td>\n",
       "      <td>0.091248</td>\n",
       "      <td>0.070435</td>\n",
       "      <td>0.076233</td>\n",
       "      <td>0.070740</td>\n",
       "      <td>-0.022873</td>\n",
       "      <td>0.207397</td>\n",
       "      <td>-0.086548</td>\n",
       "      <td>0.230469</td>\n",
       "      <td>0.006802</td>\n",
       "      <td>-2.312500</td>\n",
       "      <td>0.523438</td>\n",
       "      <td>-0.255127</td>\n",
       "      <td>0.660156</td>\n",
       "      <td>-1.281250</td>\n",
       "      <td>test</td>\n",
       "      <td>2774568</td>\n",
       "      <td>0.595703</td>\n",
       "      <td>0.02713</td>\n",
       "      <td>0.580566</td>\n",
       "    </tr>\n",
       "    <tr>\n",
       "      <th>123</th>\n",
       "      <td>3</td>\n",
       "      <td>7503</td>\n",
       "      <td>1</td>\n",
       "      <td>10</td>\n",
       "      <td>9</td>\n",
       "      <td>0.083313</td>\n",
       "      <td>3.000000</td>\n",
       "      <td>16.000000</td>\n",
       "      <td>21.000000</td>\n",
       "      <td>3.0</td>\n",
       "      <td>6.000000</td>\n",
       "      <td>0.0</td>\n",
       "      <td>0.000000</td>\n",
       "      <td>0.0</td>\n",
       "      <td>12</td>\n",
       "      <td>88</td>\n",
       "      <td>33</td>\n",
       "      <td>7.332031</td>\n",
       "      <td>55.0</td>\n",
       "      <td>0.625</td>\n",
       "      <td>1.011719</td>\n",
       "      <td>16.359375</td>\n",
       "      <td>11.484375</td>\n",
       "      <td>0</td>\n",
       "      <td>16</td>\n",
       "      <td>16</td>\n",
       "      <td>5569</td>\n",
       "      <td>12474</td>\n",
       "      <td>6905.0</td>\n",
       "      <td>0.553711</td>\n",
       "      <td>2.662109</td>\n",
       "      <td>13.390625</td>\n",
       "      <td>10.265625</td>\n",
       "      <td>9.546875</td>\n",
       "      <td>-1.205078</td>\n",
       "      <td>0.324463</td>\n",
       "      <td>0.875488</td>\n",
       "      <td>-0.093201</td>\n",
       "      <td>-0.975098</td>\n",
       "      <td>-0.693848</td>\n",
       "      <td>0.783203</td>\n",
       "      <td>-0.744629</td>\n",
       "      <td>-0.654785</td>\n",
       "      <td>-0.154907</td>\n",
       "      <td>0.006756</td>\n",
       "      <td>0.058167</td>\n",
       "      <td>-0.002247</td>\n",
       "      <td>-0.022797</td>\n",
       "      <td>-0.309570</td>\n",
       "      <td>-0.286865</td>\n",
       "      <td>0.061554</td>\n",
       "      <td>0.399414</td>\n",
       "      <td>0.044739</td>\n",
       "      <td>0.082336</td>\n",
       "      <td>0.499756</td>\n",
       "      <td>-0.320068</td>\n",
       "      <td>-0.155396</td>\n",
       "      <td>0.210327</td>\n",
       "      <td>-0.276855</td>\n",
       "      <td>0.039642</td>\n",
       "      <td>0.318115</td>\n",
       "      <td>-0.197632</td>\n",
       "      <td>-0.393799</td>\n",
       "      <td>-0.065002</td>\n",
       "      <td>-0.281006</td>\n",
       "      <td>-0.390137</td>\n",
       "      <td>0.029831</td>\n",
       "      <td>-0.157593</td>\n",
       "      <td>-0.003292</td>\n",
       "      <td>-4.566406</td>\n",
       "      <td>5.214844</td>\n",
       "      <td>3.636719</td>\n",
       "      <td>2.437500</td>\n",
       "      <td>-1.958984</td>\n",
       "      <td>test</td>\n",
       "      <td>2774568</td>\n",
       "      <td>0.595703</td>\n",
       "      <td>0.02713</td>\n",
       "      <td>0.580566</td>\n",
       "    </tr>\n",
       "    <tr>\n",
       "      <th>124</th>\n",
       "      <td>3</td>\n",
       "      <td>8021</td>\n",
       "      <td>1</td>\n",
       "      <td>10</td>\n",
       "      <td>10</td>\n",
       "      <td>0.083313</td>\n",
       "      <td>3.000000</td>\n",
       "      <td>19.000000</td>\n",
       "      <td>9.000000</td>\n",
       "      <td>2.0</td>\n",
       "      <td>5.000000</td>\n",
       "      <td>0.0</td>\n",
       "      <td>0.000000</td>\n",
       "      <td>0.0</td>\n",
       "      <td>12</td>\n",
       "      <td>88</td>\n",
       "      <td>33</td>\n",
       "      <td>7.332031</td>\n",
       "      <td>55.0</td>\n",
       "      <td>0.625</td>\n",
       "      <td>1.011719</td>\n",
       "      <td>16.359375</td>\n",
       "      <td>11.484375</td>\n",
       "      <td>0</td>\n",
       "      <td>16</td>\n",
       "      <td>16</td>\n",
       "      <td>11392</td>\n",
       "      <td>27864</td>\n",
       "      <td>16472.0</td>\n",
       "      <td>0.591309</td>\n",
       "      <td>2.775391</td>\n",
       "      <td>13.476562</td>\n",
       "      <td>10.250000</td>\n",
       "      <td>8.820312</td>\n",
       "      <td>1.593750</td>\n",
       "      <td>-0.315674</td>\n",
       "      <td>-0.515137</td>\n",
       "      <td>1.036133</td>\n",
       "      <td>-0.050751</td>\n",
       "      <td>0.231201</td>\n",
       "      <td>1.711914</td>\n",
       "      <td>0.201782</td>\n",
       "      <td>0.683594</td>\n",
       "      <td>-0.179443</td>\n",
       "      <td>-0.072571</td>\n",
       "      <td>-0.396729</td>\n",
       "      <td>0.002861</td>\n",
       "      <td>-0.201538</td>\n",
       "      <td>0.409668</td>\n",
       "      <td>0.683594</td>\n",
       "      <td>0.087585</td>\n",
       "      <td>-0.103333</td>\n",
       "      <td>-0.140747</td>\n",
       "      <td>-0.159790</td>\n",
       "      <td>0.406738</td>\n",
       "      <td>-0.018143</td>\n",
       "      <td>0.078125</td>\n",
       "      <td>0.019653</td>\n",
       "      <td>-0.082886</td>\n",
       "      <td>-0.152710</td>\n",
       "      <td>0.044647</td>\n",
       "      <td>-0.241821</td>\n",
       "      <td>0.183838</td>\n",
       "      <td>0.163208</td>\n",
       "      <td>0.284424</td>\n",
       "      <td>0.214600</td>\n",
       "      <td>0.022095</td>\n",
       "      <td>-0.246582</td>\n",
       "      <td>0.359131</td>\n",
       "      <td>-6.781250</td>\n",
       "      <td>5.128906</td>\n",
       "      <td>3.466797</td>\n",
       "      <td>3.041016</td>\n",
       "      <td>-1.966797</td>\n",
       "      <td>test</td>\n",
       "      <td>2774568</td>\n",
       "      <td>0.595703</td>\n",
       "      <td>0.02713</td>\n",
       "      <td>0.580566</td>\n",
       "    </tr>\n",
       "  </tbody>\n",
       "</table>\n",
       "</div>"
      ],
      "text/plain": [
       "     user_id  product_id  ...  dsp_reorder_ratio  hod_reorder_ratio\n",
       "120        3         248  ...            0.02713           0.580566\n",
       "121        3        1005  ...            0.02713           0.580566\n",
       "122        3        1819  ...            0.02713           0.580566\n",
       "123        3        7503  ...            0.02713           0.580566\n",
       "124        3        8021  ...            0.02713           0.580566\n",
       "\n",
       "[5 rows x 79 columns]"
      ]
     },
     "execution_count": 25,
     "metadata": {
      "tags": []
     },
     "output_type": "execute_result"
    }
   ],
   "source": [
    "data_test = data[data.eval_set == \"test\"]\n",
    "print(data_test.shape)\n",
    "data_test.head()"
   ]
  },
  {
   "cell_type": "code",
   "execution_count": 26,
   "metadata": {
    "colab": {
     "base_uri": "https://localhost:8080/",
     "height": 270
    },
    "id": "4LddodH04s4T",
    "outputId": "b0f88eda-e6e7-4ceb-80be-c1c79ea6b4ad"
   },
   "outputs": [
    {
     "name": "stdout",
     "output_type": "stream",
     "text": [
      "(4833292, 77)\n"
     ]
    },
    {
     "data": {
      "text/html": [
       "<div>\n",
       "<style scoped>\n",
       "    .dataframe tbody tr th:only-of-type {\n",
       "        vertical-align: middle;\n",
       "    }\n",
       "\n",
       "    .dataframe tbody tr th {\n",
       "        vertical-align: top;\n",
       "    }\n",
       "\n",
       "    .dataframe thead th {\n",
       "        text-align: right;\n",
       "    }\n",
       "</style>\n",
       "<table border=\"1\" class=\"dataframe\">\n",
       "  <thead>\n",
       "    <tr style=\"text-align: right;\">\n",
       "      <th></th>\n",
       "      <th></th>\n",
       "      <th>up_unique_orders_count</th>\n",
       "      <th>up_total_buy_max</th>\n",
       "      <th>up_orders_diff</th>\n",
       "      <th>up_order_ratio</th>\n",
       "      <th>up_mean_dow</th>\n",
       "      <th>up_mean_hod</th>\n",
       "      <th>up_mean_dsp</th>\n",
       "      <th>up_sum_order_no</th>\n",
       "      <th>up_mean_cart</th>\n",
       "      <th>last_5_count</th>\n",
       "      <th>last_5_ratio</th>\n",
       "      <th>chance_in_last_5</th>\n",
       "      <th>total_no_of_order_by_user</th>\n",
       "      <th>total_no_of_items</th>\n",
       "      <th>total_no_of_unique_items</th>\n",
       "      <th>avg_product_in_order_by_user</th>\n",
       "      <th>num_reorders_by_user</th>\n",
       "      <th>reordered_mean_user</th>\n",
       "      <th>user_dow_mean</th>\n",
       "      <th>user_hod_mean</th>\n",
       "      <th>user_dsp_mean</th>\n",
       "      <th>user_max_order_day</th>\n",
       "      <th>user_max_hod</th>\n",
       "      <th>total_unique_aisle_by_user</th>\n",
       "      <th>p_unique_users</th>\n",
       "      <th>p_total_purchase</th>\n",
       "      <th>p_sum_reordered</th>\n",
       "      <th>p_mean_reordered</th>\n",
       "      <th>p_mean_dow</th>\n",
       "      <th>p_mean_hod</th>\n",
       "      <th>p_mean_dsp</th>\n",
       "      <th>p_mean_cart</th>\n",
       "      <th>pca_product0</th>\n",
       "      <th>pca_product1</th>\n",
       "      <th>pca_product2</th>\n",
       "      <th>pca_product3</th>\n",
       "      <th>pca_product4</th>\n",
       "      <th>pca_product5</th>\n",
       "      <th>pca_product6</th>\n",
       "      <th>pca_product7</th>\n",
       "      <th>pca_product8</th>\n",
       "      <th>pca_product9</th>\n",
       "      <th>pca_product10</th>\n",
       "      <th>pca_product11</th>\n",
       "      <th>pca_product12</th>\n",
       "      <th>pca_product13</th>\n",
       "      <th>pca_product14</th>\n",
       "      <th>pca_product15</th>\n",
       "      <th>pca_product16</th>\n",
       "      <th>pca_product17</th>\n",
       "      <th>pca_product18</th>\n",
       "      <th>pca_product19</th>\n",
       "      <th>pca_product20</th>\n",
       "      <th>pca_product21</th>\n",
       "      <th>pca_product22</th>\n",
       "      <th>pca_product23</th>\n",
       "      <th>pca_product24</th>\n",
       "      <th>pca_product25</th>\n",
       "      <th>pca_product26</th>\n",
       "      <th>pca_product27</th>\n",
       "      <th>pca_product28</th>\n",
       "      <th>pca_product29</th>\n",
       "      <th>pca_product30</th>\n",
       "      <th>pca_product31</th>\n",
       "      <th>pca_product32</th>\n",
       "      <th>pca_product33</th>\n",
       "      <th>pca_product34</th>\n",
       "      <th>orderw2v_0</th>\n",
       "      <th>orderw2v_1</th>\n",
       "      <th>orderw2v_2</th>\n",
       "      <th>orderw2v_3</th>\n",
       "      <th>orderw2v_4</th>\n",
       "      <th>eval_set</th>\n",
       "      <th>order_id</th>\n",
       "      <th>dow_reorder_ratio</th>\n",
       "      <th>dsp_reorder_ratio</th>\n",
       "      <th>hod_reorder_ratio</th>\n",
       "    </tr>\n",
       "    <tr>\n",
       "      <th>user_id</th>\n",
       "      <th>product_id</th>\n",
       "      <th></th>\n",
       "      <th></th>\n",
       "      <th></th>\n",
       "      <th></th>\n",
       "      <th></th>\n",
       "      <th></th>\n",
       "      <th></th>\n",
       "      <th></th>\n",
       "      <th></th>\n",
       "      <th></th>\n",
       "      <th></th>\n",
       "      <th></th>\n",
       "      <th></th>\n",
       "      <th></th>\n",
       "      <th></th>\n",
       "      <th></th>\n",
       "      <th></th>\n",
       "      <th></th>\n",
       "      <th></th>\n",
       "      <th></th>\n",
       "      <th></th>\n",
       "      <th></th>\n",
       "      <th></th>\n",
       "      <th></th>\n",
       "      <th></th>\n",
       "      <th></th>\n",
       "      <th></th>\n",
       "      <th></th>\n",
       "      <th></th>\n",
       "      <th></th>\n",
       "      <th></th>\n",
       "      <th></th>\n",
       "      <th></th>\n",
       "      <th></th>\n",
       "      <th></th>\n",
       "      <th></th>\n",
       "      <th></th>\n",
       "      <th></th>\n",
       "      <th></th>\n",
       "      <th></th>\n",
       "      <th></th>\n",
       "      <th></th>\n",
       "      <th></th>\n",
       "      <th></th>\n",
       "      <th></th>\n",
       "      <th></th>\n",
       "      <th></th>\n",
       "      <th></th>\n",
       "      <th></th>\n",
       "      <th></th>\n",
       "      <th></th>\n",
       "      <th></th>\n",
       "      <th></th>\n",
       "      <th></th>\n",
       "      <th></th>\n",
       "      <th></th>\n",
       "      <th></th>\n",
       "      <th></th>\n",
       "      <th></th>\n",
       "      <th></th>\n",
       "      <th></th>\n",
       "      <th></th>\n",
       "      <th></th>\n",
       "      <th></th>\n",
       "      <th></th>\n",
       "      <th></th>\n",
       "      <th></th>\n",
       "      <th></th>\n",
       "      <th></th>\n",
       "      <th></th>\n",
       "      <th></th>\n",
       "      <th></th>\n",
       "      <th></th>\n",
       "      <th></th>\n",
       "      <th></th>\n",
       "      <th></th>\n",
       "      <th></th>\n",
       "    </tr>\n",
       "  </thead>\n",
       "  <tbody>\n",
       "    <tr>\n",
       "      <th rowspan=\"5\" valign=\"top\">3</th>\n",
       "      <th>248</th>\n",
       "      <td>1</td>\n",
       "      <td>10</td>\n",
       "      <td>10</td>\n",
       "      <td>0.083313</td>\n",
       "      <td>3.000000</td>\n",
       "      <td>19.000000</td>\n",
       "      <td>9.000000</td>\n",
       "      <td>2.0</td>\n",
       "      <td>3.000000</td>\n",
       "      <td>0.0</td>\n",
       "      <td>0.000000</td>\n",
       "      <td>0.0</td>\n",
       "      <td>12</td>\n",
       "      <td>88</td>\n",
       "      <td>33</td>\n",
       "      <td>7.332031</td>\n",
       "      <td>55.0</td>\n",
       "      <td>0.625</td>\n",
       "      <td>1.011719</td>\n",
       "      <td>16.359375</td>\n",
       "      <td>11.484375</td>\n",
       "      <td>0</td>\n",
       "      <td>16</td>\n",
       "      <td>16</td>\n",
       "      <td>3821</td>\n",
       "      <td>6371</td>\n",
       "      <td>2550.0</td>\n",
       "      <td>0.400146</td>\n",
       "      <td>2.662109</td>\n",
       "      <td>13.546875</td>\n",
       "      <td>10.304688</td>\n",
       "      <td>10.617188</td>\n",
       "      <td>-1.511719</td>\n",
       "      <td>0.493408</td>\n",
       "      <td>1.338867</td>\n",
       "      <td>-0.070984</td>\n",
       "      <td>-0.933594</td>\n",
       "      <td>-0.351562</td>\n",
       "      <td>0.663574</td>\n",
       "      <td>-0.801270</td>\n",
       "      <td>-0.613281</td>\n",
       "      <td>-0.417480</td>\n",
       "      <td>0.048981</td>\n",
       "      <td>0.014832</td>\n",
       "      <td>0.006821</td>\n",
       "      <td>-0.160645</td>\n",
       "      <td>-0.003719</td>\n",
       "      <td>-0.320068</td>\n",
       "      <td>0.173950</td>\n",
       "      <td>0.494385</td>\n",
       "      <td>-0.016785</td>\n",
       "      <td>0.092590</td>\n",
       "      <td>0.426758</td>\n",
       "      <td>-0.461426</td>\n",
       "      <td>-0.035370</td>\n",
       "      <td>0.149536</td>\n",
       "      <td>-0.275635</td>\n",
       "      <td>0.163330</td>\n",
       "      <td>0.106018</td>\n",
       "      <td>-0.199463</td>\n",
       "      <td>-0.330322</td>\n",
       "      <td>-0.101013</td>\n",
       "      <td>-0.288818</td>\n",
       "      <td>-0.230591</td>\n",
       "      <td>-0.081421</td>\n",
       "      <td>-0.224609</td>\n",
       "      <td>-0.081604</td>\n",
       "      <td>-1.174805</td>\n",
       "      <td>6.691406</td>\n",
       "      <td>5.031250</td>\n",
       "      <td>1.353516</td>\n",
       "      <td>0.725586</td>\n",
       "      <td>test</td>\n",
       "      <td>2774568</td>\n",
       "      <td>0.595703</td>\n",
       "      <td>0.02713</td>\n",
       "      <td>0.580566</td>\n",
       "    </tr>\n",
       "    <tr>\n",
       "      <th>1005</th>\n",
       "      <td>1</td>\n",
       "      <td>10</td>\n",
       "      <td>2</td>\n",
       "      <td>0.083313</td>\n",
       "      <td>3.000000</td>\n",
       "      <td>16.000000</td>\n",
       "      <td>17.000000</td>\n",
       "      <td>10.0</td>\n",
       "      <td>5.000000</td>\n",
       "      <td>1.0</td>\n",
       "      <td>0.199951</td>\n",
       "      <td>3.0</td>\n",
       "      <td>12</td>\n",
       "      <td>88</td>\n",
       "      <td>33</td>\n",
       "      <td>7.332031</td>\n",
       "      <td>55.0</td>\n",
       "      <td>0.625</td>\n",
       "      <td>1.011719</td>\n",
       "      <td>16.359375</td>\n",
       "      <td>11.484375</td>\n",
       "      <td>0</td>\n",
       "      <td>16</td>\n",
       "      <td>16</td>\n",
       "      <td>259</td>\n",
       "      <td>463</td>\n",
       "      <td>204.0</td>\n",
       "      <td>0.440674</td>\n",
       "      <td>2.853516</td>\n",
       "      <td>12.695312</td>\n",
       "      <td>9.750000</td>\n",
       "      <td>9.500000</td>\n",
       "      <td>0.726562</td>\n",
       "      <td>0.912598</td>\n",
       "      <td>0.748535</td>\n",
       "      <td>0.131592</td>\n",
       "      <td>0.826660</td>\n",
       "      <td>-0.310791</td>\n",
       "      <td>0.714355</td>\n",
       "      <td>0.463623</td>\n",
       "      <td>-0.689941</td>\n",
       "      <td>0.590820</td>\n",
       "      <td>-0.232666</td>\n",
       "      <td>0.312500</td>\n",
       "      <td>-0.189575</td>\n",
       "      <td>0.799316</td>\n",
       "      <td>-0.003971</td>\n",
       "      <td>0.977051</td>\n",
       "      <td>-0.031464</td>\n",
       "      <td>0.074036</td>\n",
       "      <td>0.614258</td>\n",
       "      <td>-0.512695</td>\n",
       "      <td>0.294434</td>\n",
       "      <td>0.146240</td>\n",
       "      <td>0.212646</td>\n",
       "      <td>0.099915</td>\n",
       "      <td>-0.288330</td>\n",
       "      <td>-0.232910</td>\n",
       "      <td>-0.265381</td>\n",
       "      <td>-0.046722</td>\n",
       "      <td>-0.186157</td>\n",
       "      <td>0.081604</td>\n",
       "      <td>-0.091919</td>\n",
       "      <td>0.373535</td>\n",
       "      <td>-0.364502</td>\n",
       "      <td>0.235840</td>\n",
       "      <td>-0.169800</td>\n",
       "      <td>-2.468750</td>\n",
       "      <td>-1.116211</td>\n",
       "      <td>-1.778320</td>\n",
       "      <td>-0.668945</td>\n",
       "      <td>-6.320312</td>\n",
       "      <td>test</td>\n",
       "      <td>2774568</td>\n",
       "      <td>0.595703</td>\n",
       "      <td>0.02713</td>\n",
       "      <td>0.580566</td>\n",
       "    </tr>\n",
       "    <tr>\n",
       "      <th>1819</th>\n",
       "      <td>3</td>\n",
       "      <td>10</td>\n",
       "      <td>5</td>\n",
       "      <td>0.250000</td>\n",
       "      <td>0.666504</td>\n",
       "      <td>16.328125</td>\n",
       "      <td>11.335938</td>\n",
       "      <td>17.0</td>\n",
       "      <td>2.666016</td>\n",
       "      <td>0.0</td>\n",
       "      <td>0.000000</td>\n",
       "      <td>0.0</td>\n",
       "      <td>12</td>\n",
       "      <td>88</td>\n",
       "      <td>33</td>\n",
       "      <td>7.332031</td>\n",
       "      <td>55.0</td>\n",
       "      <td>0.625</td>\n",
       "      <td>1.011719</td>\n",
       "      <td>16.359375</td>\n",
       "      <td>11.484375</td>\n",
       "      <td>0</td>\n",
       "      <td>16</td>\n",
       "      <td>16</td>\n",
       "      <td>1231</td>\n",
       "      <td>2424</td>\n",
       "      <td>1193.0</td>\n",
       "      <td>0.492188</td>\n",
       "      <td>2.687500</td>\n",
       "      <td>13.429688</td>\n",
       "      <td>9.914062</td>\n",
       "      <td>9.289062</td>\n",
       "      <td>-0.032593</td>\n",
       "      <td>-0.075989</td>\n",
       "      <td>0.090637</td>\n",
       "      <td>0.133423</td>\n",
       "      <td>-0.725586</td>\n",
       "      <td>0.631348</td>\n",
       "      <td>-0.198364</td>\n",
       "      <td>-0.202148</td>\n",
       "      <td>-0.250488</td>\n",
       "      <td>0.325439</td>\n",
       "      <td>-0.119507</td>\n",
       "      <td>0.483154</td>\n",
       "      <td>0.233398</td>\n",
       "      <td>-0.067444</td>\n",
       "      <td>-0.357422</td>\n",
       "      <td>-0.322266</td>\n",
       "      <td>0.155640</td>\n",
       "      <td>-0.200562</td>\n",
       "      <td>-0.368408</td>\n",
       "      <td>-0.039886</td>\n",
       "      <td>-0.190430</td>\n",
       "      <td>-0.288818</td>\n",
       "      <td>-0.296387</td>\n",
       "      <td>-0.210449</td>\n",
       "      <td>-0.168213</td>\n",
       "      <td>-0.494385</td>\n",
       "      <td>0.091248</td>\n",
       "      <td>0.070435</td>\n",
       "      <td>0.076233</td>\n",
       "      <td>0.070740</td>\n",
       "      <td>-0.022873</td>\n",
       "      <td>0.207397</td>\n",
       "      <td>-0.086548</td>\n",
       "      <td>0.230469</td>\n",
       "      <td>0.006802</td>\n",
       "      <td>-2.312500</td>\n",
       "      <td>0.523438</td>\n",
       "      <td>-0.255127</td>\n",
       "      <td>0.660156</td>\n",
       "      <td>-1.281250</td>\n",
       "      <td>test</td>\n",
       "      <td>2774568</td>\n",
       "      <td>0.595703</td>\n",
       "      <td>0.02713</td>\n",
       "      <td>0.580566</td>\n",
       "    </tr>\n",
       "    <tr>\n",
       "      <th>7503</th>\n",
       "      <td>1</td>\n",
       "      <td>10</td>\n",
       "      <td>9</td>\n",
       "      <td>0.083313</td>\n",
       "      <td>3.000000</td>\n",
       "      <td>16.000000</td>\n",
       "      <td>21.000000</td>\n",
       "      <td>3.0</td>\n",
       "      <td>6.000000</td>\n",
       "      <td>0.0</td>\n",
       "      <td>0.000000</td>\n",
       "      <td>0.0</td>\n",
       "      <td>12</td>\n",
       "      <td>88</td>\n",
       "      <td>33</td>\n",
       "      <td>7.332031</td>\n",
       "      <td>55.0</td>\n",
       "      <td>0.625</td>\n",
       "      <td>1.011719</td>\n",
       "      <td>16.359375</td>\n",
       "      <td>11.484375</td>\n",
       "      <td>0</td>\n",
       "      <td>16</td>\n",
       "      <td>16</td>\n",
       "      <td>5569</td>\n",
       "      <td>12474</td>\n",
       "      <td>6905.0</td>\n",
       "      <td>0.553711</td>\n",
       "      <td>2.662109</td>\n",
       "      <td>13.390625</td>\n",
       "      <td>10.265625</td>\n",
       "      <td>9.546875</td>\n",
       "      <td>-1.205078</td>\n",
       "      <td>0.324463</td>\n",
       "      <td>0.875488</td>\n",
       "      <td>-0.093201</td>\n",
       "      <td>-0.975098</td>\n",
       "      <td>-0.693848</td>\n",
       "      <td>0.783203</td>\n",
       "      <td>-0.744629</td>\n",
       "      <td>-0.654785</td>\n",
       "      <td>-0.154907</td>\n",
       "      <td>0.006756</td>\n",
       "      <td>0.058167</td>\n",
       "      <td>-0.002247</td>\n",
       "      <td>-0.022797</td>\n",
       "      <td>-0.309570</td>\n",
       "      <td>-0.286865</td>\n",
       "      <td>0.061554</td>\n",
       "      <td>0.399414</td>\n",
       "      <td>0.044739</td>\n",
       "      <td>0.082336</td>\n",
       "      <td>0.499756</td>\n",
       "      <td>-0.320068</td>\n",
       "      <td>-0.155396</td>\n",
       "      <td>0.210327</td>\n",
       "      <td>-0.276855</td>\n",
       "      <td>0.039642</td>\n",
       "      <td>0.318115</td>\n",
       "      <td>-0.197632</td>\n",
       "      <td>-0.393799</td>\n",
       "      <td>-0.065002</td>\n",
       "      <td>-0.281006</td>\n",
       "      <td>-0.390137</td>\n",
       "      <td>0.029831</td>\n",
       "      <td>-0.157593</td>\n",
       "      <td>-0.003292</td>\n",
       "      <td>-4.566406</td>\n",
       "      <td>5.214844</td>\n",
       "      <td>3.636719</td>\n",
       "      <td>2.437500</td>\n",
       "      <td>-1.958984</td>\n",
       "      <td>test</td>\n",
       "      <td>2774568</td>\n",
       "      <td>0.595703</td>\n",
       "      <td>0.02713</td>\n",
       "      <td>0.580566</td>\n",
       "    </tr>\n",
       "    <tr>\n",
       "      <th>8021</th>\n",
       "      <td>1</td>\n",
       "      <td>10</td>\n",
       "      <td>10</td>\n",
       "      <td>0.083313</td>\n",
       "      <td>3.000000</td>\n",
       "      <td>19.000000</td>\n",
       "      <td>9.000000</td>\n",
       "      <td>2.0</td>\n",
       "      <td>5.000000</td>\n",
       "      <td>0.0</td>\n",
       "      <td>0.000000</td>\n",
       "      <td>0.0</td>\n",
       "      <td>12</td>\n",
       "      <td>88</td>\n",
       "      <td>33</td>\n",
       "      <td>7.332031</td>\n",
       "      <td>55.0</td>\n",
       "      <td>0.625</td>\n",
       "      <td>1.011719</td>\n",
       "      <td>16.359375</td>\n",
       "      <td>11.484375</td>\n",
       "      <td>0</td>\n",
       "      <td>16</td>\n",
       "      <td>16</td>\n",
       "      <td>11392</td>\n",
       "      <td>27864</td>\n",
       "      <td>16472.0</td>\n",
       "      <td>0.591309</td>\n",
       "      <td>2.775391</td>\n",
       "      <td>13.476562</td>\n",
       "      <td>10.250000</td>\n",
       "      <td>8.820312</td>\n",
       "      <td>1.593750</td>\n",
       "      <td>-0.315674</td>\n",
       "      <td>-0.515137</td>\n",
       "      <td>1.036133</td>\n",
       "      <td>-0.050751</td>\n",
       "      <td>0.231201</td>\n",
       "      <td>1.711914</td>\n",
       "      <td>0.201782</td>\n",
       "      <td>0.683594</td>\n",
       "      <td>-0.179443</td>\n",
       "      <td>-0.072571</td>\n",
       "      <td>-0.396729</td>\n",
       "      <td>0.002861</td>\n",
       "      <td>-0.201538</td>\n",
       "      <td>0.409668</td>\n",
       "      <td>0.683594</td>\n",
       "      <td>0.087585</td>\n",
       "      <td>-0.103333</td>\n",
       "      <td>-0.140747</td>\n",
       "      <td>-0.159790</td>\n",
       "      <td>0.406738</td>\n",
       "      <td>-0.018143</td>\n",
       "      <td>0.078125</td>\n",
       "      <td>0.019653</td>\n",
       "      <td>-0.082886</td>\n",
       "      <td>-0.152710</td>\n",
       "      <td>0.044647</td>\n",
       "      <td>-0.241821</td>\n",
       "      <td>0.183838</td>\n",
       "      <td>0.163208</td>\n",
       "      <td>0.284424</td>\n",
       "      <td>0.214600</td>\n",
       "      <td>0.022095</td>\n",
       "      <td>-0.246582</td>\n",
       "      <td>0.359131</td>\n",
       "      <td>-6.781250</td>\n",
       "      <td>5.128906</td>\n",
       "      <td>3.466797</td>\n",
       "      <td>3.041016</td>\n",
       "      <td>-1.966797</td>\n",
       "      <td>test</td>\n",
       "      <td>2774568</td>\n",
       "      <td>0.595703</td>\n",
       "      <td>0.02713</td>\n",
       "      <td>0.580566</td>\n",
       "    </tr>\n",
       "  </tbody>\n",
       "</table>\n",
       "</div>"
      ],
      "text/plain": [
       "                    up_unique_orders_count  ...  hod_reorder_ratio\n",
       "user_id product_id                          ...                   \n",
       "3       248                              1  ...           0.580566\n",
       "        1005                             1  ...           0.580566\n",
       "        1819                             3  ...           0.580566\n",
       "        7503                             1  ...           0.580566\n",
       "        8021                             1  ...           0.580566\n",
       "\n",
       "[5 rows x 77 columns]"
      ]
     },
     "execution_count": 26,
     "metadata": {
      "tags": []
     },
     "output_type": "execute_result"
    }
   ],
   "source": [
    "data_test = data_test.set_index(['user_id', 'product_id'])\n",
    "print(data_test.shape)\n",
    "data_test.head()"
   ]
  },
  {
   "cell_type": "code",
   "execution_count": 27,
   "metadata": {
    "colab": {
     "base_uri": "https://localhost:8080/"
    },
    "id": "IUBhPzvB49wF",
    "outputId": "2f5ae20f-7af2-4cc8-d5d1-d11e0b6c3b41"
   },
   "outputs": [
    {
     "name": "stdout",
     "output_type": "stream",
     "text": [
      "Memory usage after optimization is: 783.68 MB\n",
      "Decreased by 0.0%\n"
     ]
    }
   ],
   "source": [
    "data_test=reduce_mem_usage(data_test)"
   ]
  },
  {
   "cell_type": "markdown",
   "metadata": {
    "id": "_Pzq6tm-xd6L"
   },
   "source": [
    "Check missing values in data_test"
   ]
  },
  {
   "cell_type": "code",
   "execution_count": 30,
   "metadata": {
    "colab": {
     "base_uri": "https://localhost:8080/"
    },
    "id": "cftLc51mxcQx",
    "outputId": "8d8355f0-9ea8-44ed-c3e2-c65a8b183f69"
   },
   "outputs": [
    {
     "data": {
      "text/plain": [
       "0"
      ]
     },
     "execution_count": 30,
     "metadata": {
      "tags": []
     },
     "output_type": "execute_result"
    }
   ],
   "source": [
    "data_test.isnull().sum().sum()"
   ]
  },
  {
   "cell_type": "code",
   "execution_count": 28,
   "metadata": {
    "colab": {
     "base_uri": "https://localhost:8080/"
    },
    "id": "kxMR6f6D4syp",
    "outputId": "f23ad1df-f0b0-474e-949c-ad5c06e5e554"
   },
   "outputs": [
    {
     "name": "stdout",
     "output_type": "stream",
     "text": [
      "(8474661, 78) (4833292, 77)\n"
     ]
    }
   ],
   "source": [
    "print(data_train.shape , data_test.shape)"
   ]
  },
  {
   "cell_type": "markdown",
   "metadata": {
    "id": "_ViagwrA3tqz"
   },
   "source": [
    "SAVE TRAIN AND TESTA DATA"
   ]
  },
  {
   "cell_type": "code",
   "execution_count": 29,
   "metadata": {
    "id": "Slcxa3iE3m_t"
   },
   "outputs": [],
   "source": [
    "pickle.dump((data_train),open('/content/drive/MyDrive/instcart/DATA2/data_train.pkl','wb'))\n",
    "pickle.dump((data_test),open('/content/drive/MyDrive/instcart/DATA2/data_test.pkl','wb'))"
   ]
  }
 ],
 "metadata": {
  "colab": {
   "collapsed_sections": [],
   "machine_shape": "hm",
   "name": "set2 features.ipynb",
   "provenance": []
  },
  "kernelspec": {
   "display_name": "Python 3",
   "language": "python",
   "name": "python3"
  },
  "language_info": {
   "codemirror_mode": {
    "name": "ipython",
    "version": 3
   },
   "file_extension": ".py",
   "mimetype": "text/x-python",
   "name": "python",
   "nbconvert_exporter": "python",
   "pygments_lexer": "ipython3",
   "version": "3.7.6"
  }
 },
 "nbformat": 4,
 "nbformat_minor": 1
}
